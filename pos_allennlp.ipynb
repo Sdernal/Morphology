{
 "cells": [
  {
   "cell_type": "markdown",
   "metadata": {},
   "source": [
    "# Пример работы с allennlp\n",
    "Здесь мы разберем аналогичную модель, что мы писали на торче."
   ]
  },
  {
   "cell_type": "code",
   "execution_count": 6,
   "metadata": {},
   "outputs": [
    {
     "name": "stdout",
     "output_type": "stream",
     "text": [
      "Found existing installation: allennlp 1.2.2\n",
      "Uninstalling allennlp-1.2.2:\n",
      "  Successfully uninstalled allennlp-1.2.2\n",
      "Collecting allennlp==0.9\n",
      "  Downloading allennlp-0.9.0-py3-none-any.whl (7.6 MB)\n",
      "\u001b[K     |████████████████████████████████| 7.6 MB 1.6 MB/s eta 0:00:01\n",
      "\u001b[?25hRequirement already satisfied: boto3 in /home/mlepekhin/anaconda3/envs/mlepekhin_research/lib/python3.8/site-packages (from allennlp==0.9) (1.14.31)\n",
      "Requirement already satisfied: torch>=1.2.0 in /home/mlepekhin/anaconda3/envs/mlepekhin_research/lib/python3.8/site-packages (from allennlp==0.9) (1.6.0)\n",
      "Requirement already satisfied: jsonnet>=0.10.0 in /home/mlepekhin/anaconda3/envs/mlepekhin_research/lib/python3.8/site-packages (from allennlp==0.9) (0.16.0)\n",
      "Requirement already satisfied: scikit-learn in /home/mlepekhin/anaconda3/envs/mlepekhin_research/lib/python3.8/site-packages (from allennlp==0.9) (0.23.1)\n",
      "Requirement already satisfied: numpy in /home/mlepekhin/anaconda3/envs/mlepekhin_research/lib/python3.8/site-packages (from allennlp==0.9) (1.18.5)\n",
      "Requirement already satisfied: requests>=2.18 in /home/mlepekhin/anaconda3/envs/mlepekhin_research/lib/python3.8/site-packages (from allennlp==0.9) (2.24.0)\n",
      "Requirement already satisfied: tensorboardX>=1.2 in /home/mlepekhin/anaconda3/envs/mlepekhin_research/lib/python3.8/site-packages (from allennlp==0.9) (2.1)\n",
      "Requirement already satisfied: h5py in /home/mlepekhin/anaconda3/envs/mlepekhin_research/lib/python3.8/site-packages (from allennlp==0.9) (2.10.0)\n",
      "Requirement already satisfied: matplotlib>=2.2.3 in /home/mlepekhin/anaconda3/envs/mlepekhin_research/lib/python3.8/site-packages (from allennlp==0.9) (3.2.2)\n",
      "Requirement already satisfied: scipy in /home/mlepekhin/anaconda3/envs/mlepekhin_research/lib/python3.8/site-packages (from allennlp==0.9) (1.5.0)\n",
      "Requirement already satisfied: pytorch-pretrained-bert>=0.6.0 in /home/mlepekhin/anaconda3/envs/mlepekhin_research/lib/python3.8/site-packages (from allennlp==0.9) (0.6.2)\n",
      "Requirement already satisfied: numpydoc>=0.8.0 in /home/mlepekhin/anaconda3/envs/mlepekhin_research/lib/python3.8/site-packages (from allennlp==0.9) (1.1.0)\n",
      "Requirement already satisfied: jsonpickle in /home/mlepekhin/anaconda3/envs/mlepekhin_research/lib/python3.8/site-packages (from allennlp==0.9) (1.4.1)\n",
      "Requirement already satisfied: pytz>=2017.3 in /home/mlepekhin/anaconda3/envs/mlepekhin_research/lib/python3.8/site-packages (from allennlp==0.9) (2020.1)\n",
      "Requirement already satisfied: gevent>=1.3.6 in /home/mlepekhin/anaconda3/envs/mlepekhin_research/lib/python3.8/site-packages (from allennlp==0.9) (20.6.2)\n",
      "Requirement already satisfied: tqdm>=4.19 in /home/mlepekhin/anaconda3/envs/mlepekhin_research/lib/python3.8/site-packages (from allennlp==0.9) (4.47.0)\n",
      "Requirement already satisfied: pytest in /home/mlepekhin/anaconda3/envs/mlepekhin_research/lib/python3.8/site-packages (from allennlp==0.9) (5.4.3)\n",
      "Requirement already satisfied: nltk in /home/mlepekhin/anaconda3/envs/mlepekhin_research/lib/python3.8/site-packages (from allennlp==0.9) (3.5)\n",
      "Requirement already satisfied: overrides in /home/mlepekhin/anaconda3/envs/mlepekhin_research/lib/python3.8/site-packages (from allennlp==0.9) (3.1.0)\n",
      "Requirement already satisfied: flask>=1.0.2 in /home/mlepekhin/anaconda3/envs/mlepekhin_research/lib/python3.8/site-packages (from allennlp==0.9) (1.1.2)\n",
      "Requirement already satisfied: s3transfer<0.4.0,>=0.3.0 in /home/mlepekhin/anaconda3/envs/mlepekhin_research/lib/python3.8/site-packages (from boto3->allennlp==0.9) (0.3.3)\n",
      "Requirement already satisfied: botocore<1.18.0,>=1.17.31 in /home/mlepekhin/anaconda3/envs/mlepekhin_research/lib/python3.8/site-packages (from boto3->allennlp==0.9) (1.17.31)\n",
      "Requirement already satisfied: jmespath<1.0.0,>=0.7.1 in /home/mlepekhin/anaconda3/envs/mlepekhin_research/lib/python3.8/site-packages (from boto3->allennlp==0.9) (0.10.0)\n",
      "Requirement already satisfied: urllib3<1.26,>=1.20 in /home/mlepekhin/anaconda3/envs/mlepekhin_research/lib/python3.8/site-packages (from botocore<1.18.0,>=1.17.31->boto3->allennlp==0.9) (1.25.9)\n",
      "Requirement already satisfied: docutils<0.16,>=0.10 in /home/mlepekhin/anaconda3/envs/mlepekhin_research/lib/python3.8/site-packages (from botocore<1.18.0,>=1.17.31->boto3->allennlp==0.9) (0.15.2)\n",
      "Requirement already satisfied: python-dateutil<3.0.0,>=2.1 in /home/mlepekhin/anaconda3/envs/mlepekhin_research/lib/python3.8/site-packages (from botocore<1.18.0,>=1.17.31->boto3->allennlp==0.9) (2.8.1)\n",
      "Requirement already satisfied: jmespath<1.0.0,>=0.7.1 in /home/mlepekhin/anaconda3/envs/mlepekhin_research/lib/python3.8/site-packages (from boto3->allennlp==0.9) (0.10.0)\n",
      "Collecting conllu==1.3.1\n",
      "  Downloading conllu-1.3.1-py2.py3-none-any.whl (9.3 kB)\n",
      "Collecting editdistance\n",
      "  Downloading editdistance-0.5.3.tar.gz (27 kB)\n",
      "Collecting flaky\n",
      "  Using cached flaky-3.7.0-py2.py3-none-any.whl (22 kB)\n",
      "Requirement already satisfied: Werkzeug>=0.15 in /home/mlepekhin/anaconda3/envs/mlepekhin_research/lib/python3.8/site-packages (from flask>=1.0.2->allennlp==0.9) (1.0.1)\n",
      "Requirement already satisfied: itsdangerous>=0.24 in /home/mlepekhin/anaconda3/envs/mlepekhin_research/lib/python3.8/site-packages (from flask>=1.0.2->allennlp==0.9) (1.1.0)\n",
      "Requirement already satisfied: click>=5.1 in /home/mlepekhin/anaconda3/envs/mlepekhin_research/lib/python3.8/site-packages (from flask>=1.0.2->allennlp==0.9) (7.1.2)\n",
      "Requirement already satisfied: Jinja2>=2.10.1 in /home/mlepekhin/anaconda3/envs/mlepekhin_research/lib/python3.8/site-packages (from flask>=1.0.2->allennlp==0.9) (2.11.2)\n",
      "Collecting flask-cors>=3.0.7\n",
      "  Downloading Flask_Cors-3.0.9-py2.py3-none-any.whl (14 kB)\n",
      "Requirement already satisfied: Six in /home/mlepekhin/anaconda3/envs/mlepekhin_research/lib/python3.8/site-packages (from flask-cors>=3.0.7->allennlp==0.9) (1.15.0)\n",
      "Requirement already satisfied: flask>=1.0.2 in /home/mlepekhin/anaconda3/envs/mlepekhin_research/lib/python3.8/site-packages (from allennlp==0.9) (1.1.2)\n",
      "Collecting ftfy\n",
      "  Using cached ftfy-5.8.tar.gz (64 kB)\n",
      "Requirement already satisfied: wcwidth in /home/mlepekhin/anaconda3/envs/mlepekhin_research/lib/python3.8/site-packages (from ftfy->allennlp==0.9) (0.2.5)\n",
      "Requirement already satisfied: zope.event in /home/mlepekhin/anaconda3/envs/mlepekhin_research/lib/python3.8/site-packages (from gevent>=1.3.6->allennlp==0.9) (4.4)\n",
      "Requirement already satisfied: greenlet>=0.4.16 in /home/mlepekhin/anaconda3/envs/mlepekhin_research/lib/python3.8/site-packages (from gevent>=1.3.6->allennlp==0.9) (0.4.16)\n",
      "Requirement already satisfied: zope.interface in /home/mlepekhin/anaconda3/envs/mlepekhin_research/lib/python3.8/site-packages (from gevent>=1.3.6->allennlp==0.9) (4.7.1)\n",
      "Requirement already satisfied: setuptools in /home/mlepekhin/anaconda3/envs/mlepekhin_research/lib/python3.8/site-packages (from gevent>=1.3.6->allennlp==0.9) (49.2.0.post20200714)\n",
      "Requirement already satisfied: Six in /home/mlepekhin/anaconda3/envs/mlepekhin_research/lib/python3.8/site-packages (from flask-cors>=3.0.7->allennlp==0.9) (1.15.0)\n",
      "Requirement already satisfied: numpy in /home/mlepekhin/anaconda3/envs/mlepekhin_research/lib/python3.8/site-packages (from allennlp==0.9) (1.18.5)\n",
      "Requirement already satisfied: MarkupSafe>=0.23 in /home/mlepekhin/anaconda3/envs/mlepekhin_research/lib/python3.8/site-packages (from Jinja2>=2.10.1->flask>=1.0.2->allennlp==0.9) (1.1.1)\n",
      "Requirement already satisfied: importlib-metadata in /home/mlepekhin/anaconda3/envs/mlepekhin_research/lib/python3.8/site-packages (from jsonpickle->allennlp==0.9) (1.7.0)\n",
      "Requirement already satisfied: zipp>=0.5 in /home/mlepekhin/anaconda3/envs/mlepekhin_research/lib/python3.8/site-packages (from importlib-metadata->jsonpickle->allennlp==0.9) (3.1.0)\n",
      "Requirement already satisfied: cycler>=0.10 in /home/mlepekhin/anaconda3/envs/mlepekhin_research/lib/python3.8/site-packages (from matplotlib>=2.2.3->allennlp==0.9) (0.10.0)\n",
      "Requirement already satisfied: numpy in /home/mlepekhin/anaconda3/envs/mlepekhin_research/lib/python3.8/site-packages (from allennlp==0.9) (1.18.5)\n",
      "Requirement already satisfied: kiwisolver>=1.0.1 in /home/mlepekhin/anaconda3/envs/mlepekhin_research/lib/python3.8/site-packages (from matplotlib>=2.2.3->allennlp==0.9) (1.2.0)\n",
      "Requirement already satisfied: python-dateutil<3.0.0,>=2.1 in /home/mlepekhin/anaconda3/envs/mlepekhin_research/lib/python3.8/site-packages (from botocore<1.18.0,>=1.17.31->boto3->allennlp==0.9) (2.8.1)\n",
      "Requirement already satisfied: pyparsing!=2.0.4,!=2.1.2,!=2.1.6,>=2.0.1 in /home/mlepekhin/anaconda3/envs/mlepekhin_research/lib/python3.8/site-packages (from matplotlib>=2.2.3->allennlp==0.9) (2.4.7)\n",
      "Requirement already satisfied: Six in /home/mlepekhin/anaconda3/envs/mlepekhin_research/lib/python3.8/site-packages (from flask-cors>=3.0.7->allennlp==0.9) (1.15.0)\n"
     ]
    },
    {
     "name": "stdout",
     "output_type": "stream",
     "text": [
      "Requirement already satisfied: joblib in /home/mlepekhin/anaconda3/envs/mlepekhin_research/lib/python3.8/site-packages (from nltk->allennlp==0.9) (0.16.0)\n",
      "Requirement already satisfied: click>=5.1 in /home/mlepekhin/anaconda3/envs/mlepekhin_research/lib/python3.8/site-packages (from flask>=1.0.2->allennlp==0.9) (7.1.2)\n",
      "Requirement already satisfied: tqdm>=4.19 in /home/mlepekhin/anaconda3/envs/mlepekhin_research/lib/python3.8/site-packages (from allennlp==0.9) (4.47.0)\n",
      "Requirement already satisfied: regex in /home/mlepekhin/anaconda3/envs/mlepekhin_research/lib/python3.8/site-packages (from nltk->allennlp==0.9) (2020.6.8)\n",
      "Requirement already satisfied: sphinx>=1.6.5 in /home/mlepekhin/anaconda3/envs/mlepekhin_research/lib/python3.8/site-packages (from numpydoc>=0.8.0->allennlp==0.9) (3.1.2)\n",
      "Requirement already satisfied: Jinja2>=2.10.1 in /home/mlepekhin/anaconda3/envs/mlepekhin_research/lib/python3.8/site-packages (from flask>=1.0.2->allennlp==0.9) (2.11.2)\n",
      "Collecting parsimonious>=0.8.0\n",
      "  Downloading parsimonious-0.8.1.tar.gz (45 kB)\n",
      "\u001b[K     |████████████████████████████████| 45 kB 201 kB/s eta 0:00:011\n",
      "\u001b[?25hRequirement already satisfied: Six in /home/mlepekhin/anaconda3/envs/mlepekhin_research/lib/python3.8/site-packages (from flask-cors>=3.0.7->allennlp==0.9) (1.15.0)\n",
      "Requirement already satisfied: py>=1.5.0 in /home/mlepekhin/anaconda3/envs/mlepekhin_research/lib/python3.8/site-packages (from pytest->allennlp==0.9) (1.9.0)\n",
      "Requirement already satisfied: packaging in /home/mlepekhin/anaconda3/envs/mlepekhin_research/lib/python3.8/site-packages (from pytest->allennlp==0.9) (20.4)\n",
      "Requirement already satisfied: attrs>=17.4.0 in /home/mlepekhin/anaconda3/envs/mlepekhin_research/lib/python3.8/site-packages (from pytest->allennlp==0.9) (19.3.0)\n",
      "Requirement already satisfied: more-itertools>=4.0.0 in /home/mlepekhin/anaconda3/envs/mlepekhin_research/lib/python3.8/site-packages (from pytest->allennlp==0.9) (8.4.0)\n",
      "Requirement already satisfied: pluggy<1.0,>=0.12 in /home/mlepekhin/anaconda3/envs/mlepekhin_research/lib/python3.8/site-packages (from pytest->allennlp==0.9) (0.13.1)\n",
      "Requirement already satisfied: wcwidth in /home/mlepekhin/anaconda3/envs/mlepekhin_research/lib/python3.8/site-packages (from ftfy->allennlp==0.9) (0.2.5)\n",
      "Requirement already satisfied: Six in /home/mlepekhin/anaconda3/envs/mlepekhin_research/lib/python3.8/site-packages (from flask-cors>=3.0.7->allennlp==0.9) (1.15.0)\n",
      "Requirement already satisfied: pyparsing!=2.0.4,!=2.1.2,!=2.1.6,>=2.0.1 in /home/mlepekhin/anaconda3/envs/mlepekhin_research/lib/python3.8/site-packages (from matplotlib>=2.2.3->allennlp==0.9) (2.4.7)\n",
      "Requirement already satisfied: Six in /home/mlepekhin/anaconda3/envs/mlepekhin_research/lib/python3.8/site-packages (from flask-cors>=3.0.7->allennlp==0.9) (1.15.0)\n",
      "Requirement already satisfied: boto3 in /home/mlepekhin/anaconda3/envs/mlepekhin_research/lib/python3.8/site-packages (from allennlp==0.9) (1.14.31)\n",
      "Requirement already satisfied: tqdm>=4.19 in /home/mlepekhin/anaconda3/envs/mlepekhin_research/lib/python3.8/site-packages (from allennlp==0.9) (4.47.0)\n",
      "Requirement already satisfied: numpy in /home/mlepekhin/anaconda3/envs/mlepekhin_research/lib/python3.8/site-packages (from allennlp==0.9) (1.18.5)\n",
      "Requirement already satisfied: requests>=2.18 in /home/mlepekhin/anaconda3/envs/mlepekhin_research/lib/python3.8/site-packages (from allennlp==0.9) (2.24.0)\n",
      "Requirement already satisfied: regex in /home/mlepekhin/anaconda3/envs/mlepekhin_research/lib/python3.8/site-packages (from nltk->allennlp==0.9) (2020.6.8)\n",
      "Requirement already satisfied: torch>=1.2.0 in /home/mlepekhin/anaconda3/envs/mlepekhin_research/lib/python3.8/site-packages (from allennlp==0.9) (1.6.0)\n",
      "Collecting pytorch-transformers==1.1.0\n",
      "  Downloading pytorch_transformers-1.1.0-py3-none-any.whl (158 kB)\n",
      "\u001b[K     |████████████████████████████████| 158 kB 4.9 MB/s eta 0:00:01\n",
      "\u001b[?25hRequirement already satisfied: boto3 in /home/mlepekhin/anaconda3/envs/mlepekhin_research/lib/python3.8/site-packages (from allennlp==0.9) (1.14.31)\n",
      "Requirement already satisfied: torch>=1.2.0 in /home/mlepekhin/anaconda3/envs/mlepekhin_research/lib/python3.8/site-packages (from allennlp==0.9) (1.6.0)\n",
      "Requirement already satisfied: tqdm>=4.19 in /home/mlepekhin/anaconda3/envs/mlepekhin_research/lib/python3.8/site-packages (from allennlp==0.9) (4.47.0)\n",
      "Requirement already satisfied: numpy in /home/mlepekhin/anaconda3/envs/mlepekhin_research/lib/python3.8/site-packages (from allennlp==0.9) (1.18.5)\n",
      "Requirement already satisfied: requests>=2.18 in /home/mlepekhin/anaconda3/envs/mlepekhin_research/lib/python3.8/site-packages (from allennlp==0.9) (2.24.0)\n",
      "Requirement already satisfied: regex in /home/mlepekhin/anaconda3/envs/mlepekhin_research/lib/python3.8/site-packages (from nltk->allennlp==0.9) (2020.6.8)\n",
      "Requirement already satisfied: sentencepiece in /home/mlepekhin/anaconda3/envs/mlepekhin_research/lib/python3.8/site-packages (from pytorch-transformers==1.1.0->allennlp==0.9) (0.1.91)\n",
      "Requirement already satisfied: idna<3,>=2.5 in /home/mlepekhin/anaconda3/envs/mlepekhin_research/lib/python3.8/site-packages (from requests>=2.18->allennlp==0.9) (2.10)\n",
      "Requirement already satisfied: urllib3<1.26,>=1.20 in /home/mlepekhin/anaconda3/envs/mlepekhin_research/lib/python3.8/site-packages (from botocore<1.18.0,>=1.17.31->boto3->allennlp==0.9) (1.25.9)\n",
      "Requirement already satisfied: certifi>=2017.4.17 in /home/mlepekhin/anaconda3/envs/mlepekhin_research/lib/python3.8/site-packages (from requests>=2.18->allennlp==0.9) (2020.6.20)\n",
      "Requirement already satisfied: chardet<4,>=3.0.2 in /home/mlepekhin/anaconda3/envs/mlepekhin_research/lib/python3.8/site-packages (from requests>=2.18->allennlp==0.9) (3.0.4)\n",
      "Collecting responses>=0.7\n",
      "  Using cached responses-0.12.1-py2.py3-none-any.whl (16 kB)\n",
      "Requirement already satisfied: Six in /home/mlepekhin/anaconda3/envs/mlepekhin_research/lib/python3.8/site-packages (from flask-cors>=3.0.7->allennlp==0.9) (1.15.0)\n",
      "Requirement already satisfied: requests>=2.18 in /home/mlepekhin/anaconda3/envs/mlepekhin_research/lib/python3.8/site-packages (from allennlp==0.9) (2.24.0)\n",
      "Requirement already satisfied: botocore<1.18.0,>=1.17.31 in /home/mlepekhin/anaconda3/envs/mlepekhin_research/lib/python3.8/site-packages (from boto3->allennlp==0.9) (1.17.31)\n",
      "Requirement already satisfied: joblib in /home/mlepekhin/anaconda3/envs/mlepekhin_research/lib/python3.8/site-packages (from nltk->allennlp==0.9) (0.16.0)\n",
      "Requirement already satisfied: numpy in /home/mlepekhin/anaconda3/envs/mlepekhin_research/lib/python3.8/site-packages (from allennlp==0.9) (1.18.5)\n",
      "Requirement already satisfied: threadpoolctl>=2.0.0 in /home/mlepekhin/anaconda3/envs/mlepekhin_research/lib/python3.8/site-packages (from scikit-learn->allennlp==0.9) (2.1.0)\n",
      "Requirement already satisfied: scipy in /home/mlepekhin/anaconda3/envs/mlepekhin_research/lib/python3.8/site-packages (from allennlp==0.9) (1.5.0)\n",
      "Requirement already satisfied: numpy in /home/mlepekhin/anaconda3/envs/mlepekhin_research/lib/python3.8/site-packages (from allennlp==0.9) (1.18.5)\n",
      "Collecting spacy<2.2,>=2.1.0\n",
      "  Downloading spacy-2.1.9.tar.gz (30.7 MB)\n",
      "\u001b[K     |████████████████████████████████| 30.7 MB 93 kB/s  eta 0:00:01\n",
      "\u001b[?25h  Installing build dependencies ... \u001b[?25ldone\n",
      "\u001b[?25h  Getting requirements to build wheel ... \u001b[?25ldone\n",
      "\u001b[?25h    Preparing wheel metadata ... \u001b[?25ldone\n",
      "\u001b[?25hRequirement already satisfied: srsly<1.1.0,>=0.0.6 in /home/mlepekhin/anaconda3/envs/mlepekhin_research/lib/python3.8/site-packages (from spacy<2.2,>=2.1.0->allennlp==0.9) (1.0.2)\n",
      "\u001b[33mWARNING: Retrying (Retry(total=4, connect=None, read=None, redirect=None, status=None)) after connection broken by 'ProtocolError('Connection aborted.', ConnectionResetError(104, 'Connection reset by peer'))': /simple/plac/\u001b[0m\n",
      "Requirement already satisfied: cymem<2.1.0,>=2.0.2 in /home/mlepekhin/anaconda3/envs/mlepekhin_research/lib/python3.8/site-packages (from spacy<2.2,>=2.1.0->allennlp==0.9) (2.0.3)\n",
      "Requirement already satisfied: requests>=2.18 in /home/mlepekhin/anaconda3/envs/mlepekhin_research/lib/python3.8/site-packages (from allennlp==0.9) (2.24.0)\n",
      "Requirement already satisfied: numpy in /home/mlepekhin/anaconda3/envs/mlepekhin_research/lib/python3.8/site-packages (from allennlp==0.9) (1.18.5)\n"
     ]
    },
    {
     "name": "stdout",
     "output_type": "stream",
     "text": [
      "Requirement already satisfied: murmurhash<1.1.0,>=0.28.0 in /home/mlepekhin/anaconda3/envs/mlepekhin_research/lib/python3.8/site-packages (from spacy<2.2,>=2.1.0->allennlp==0.9) (1.0.2)\n",
      "Requirement already satisfied: wasabi<1.1.0,>=0.2.0 in /home/mlepekhin/anaconda3/envs/mlepekhin_research/lib/python3.8/site-packages (from spacy<2.2,>=2.1.0->allennlp==0.9) (0.7.1)\n",
      "Collecting blis<0.3.0,>=0.2.2\n",
      "  Using cached blis-0.2.4-cp38-cp38-linux_x86_64.whl\n",
      "Requirement already satisfied: numpy in /home/mlepekhin/anaconda3/envs/mlepekhin_research/lib/python3.8/site-packages (from allennlp==0.9) (1.18.5)\n",
      "Collecting plac<1.0.0,>=0.9.6\n",
      "  Using cached plac-0.9.6-py2.py3-none-any.whl (20 kB)\n",
      "Collecting preshed<2.1.0,>=2.0.1\n",
      "  Using cached preshed-2.0.1-cp38-cp38-linux_x86_64.whl\n",
      "Requirement already satisfied: cymem<2.1.0,>=2.0.2 in /home/mlepekhin/anaconda3/envs/mlepekhin_research/lib/python3.8/site-packages (from spacy<2.2,>=2.1.0->allennlp==0.9) (2.0.3)\n",
      "Requirement already satisfied: requests>=2.18 in /home/mlepekhin/anaconda3/envs/mlepekhin_research/lib/python3.8/site-packages (from allennlp==0.9) (2.24.0)\n",
      "Requirement already satisfied: setuptools in /home/mlepekhin/anaconda3/envs/mlepekhin_research/lib/python3.8/site-packages (from gevent>=1.3.6->allennlp==0.9) (49.2.0.post20200714)\n",
      "Requirement already satisfied: sphinxcontrib-htmlhelp in /home/mlepekhin/anaconda3/envs/mlepekhin_research/lib/python3.8/site-packages (from sphinx>=1.6.5->numpydoc>=0.8.0->allennlp==0.9) (1.0.3)\n",
      "Requirement already satisfied: sphinxcontrib-serializinghtml in /home/mlepekhin/anaconda3/envs/mlepekhin_research/lib/python3.8/site-packages (from sphinx>=1.6.5->numpydoc>=0.8.0->allennlp==0.9) (1.1.4)\n",
      "Requirement already satisfied: sphinxcontrib-applehelp in /home/mlepekhin/anaconda3/envs/mlepekhin_research/lib/python3.8/site-packages (from sphinx>=1.6.5->numpydoc>=0.8.0->allennlp==0.9) (1.0.2)\n",
      "Requirement already satisfied: sphinxcontrib-devhelp in /home/mlepekhin/anaconda3/envs/mlepekhin_research/lib/python3.8/site-packages (from sphinx>=1.6.5->numpydoc>=0.8.0->allennlp==0.9) (1.0.2)\n",
      "Requirement already satisfied: Jinja2>=2.10.1 in /home/mlepekhin/anaconda3/envs/mlepekhin_research/lib/python3.8/site-packages (from flask>=1.0.2->allennlp==0.9) (2.11.2)\n",
      "Requirement already satisfied: docutils<0.16,>=0.10 in /home/mlepekhin/anaconda3/envs/mlepekhin_research/lib/python3.8/site-packages (from botocore<1.18.0,>=1.17.31->boto3->allennlp==0.9) (0.15.2)\n",
      "Requirement already satisfied: sphinxcontrib-jsmath in /home/mlepekhin/anaconda3/envs/mlepekhin_research/lib/python3.8/site-packages (from sphinx>=1.6.5->numpydoc>=0.8.0->allennlp==0.9) (1.0.1)\n",
      "Requirement already satisfied: sphinxcontrib-qthelp in /home/mlepekhin/anaconda3/envs/mlepekhin_research/lib/python3.8/site-packages (from sphinx>=1.6.5->numpydoc>=0.8.0->allennlp==0.9) (1.0.3)\n",
      "Requirement already satisfied: snowballstemmer>=1.1 in /home/mlepekhin/anaconda3/envs/mlepekhin_research/lib/python3.8/site-packages (from sphinx>=1.6.5->numpydoc>=0.8.0->allennlp==0.9) (2.0.0)\n",
      "Requirement already satisfied: imagesize in /home/mlepekhin/anaconda3/envs/mlepekhin_research/lib/python3.8/site-packages (from sphinx>=1.6.5->numpydoc>=0.8.0->allennlp==0.9) (1.2.0)\n",
      "Requirement already satisfied: Pygments>=2.0 in /home/mlepekhin/anaconda3/envs/mlepekhin_research/lib/python3.8/site-packages (from sphinx>=1.6.5->numpydoc>=0.8.0->allennlp==0.9) (2.6.1)\n",
      "Requirement already satisfied: packaging in /home/mlepekhin/anaconda3/envs/mlepekhin_research/lib/python3.8/site-packages (from pytest->allennlp==0.9) (20.4)\n",
      "Requirement already satisfied: alabaster<0.8,>=0.7 in /home/mlepekhin/anaconda3/envs/mlepekhin_research/lib/python3.8/site-packages (from sphinx>=1.6.5->numpydoc>=0.8.0->allennlp==0.9) (0.7.12)\n",
      "Requirement already satisfied: babel>=1.3 in /home/mlepekhin/anaconda3/envs/mlepekhin_research/lib/python3.8/site-packages (from sphinx>=1.6.5->numpydoc>=0.8.0->allennlp==0.9) (2.8.0)\n",
      "Requirement already satisfied: pytz>=2017.3 in /home/mlepekhin/anaconda3/envs/mlepekhin_research/lib/python3.8/site-packages (from allennlp==0.9) (2020.1)\n",
      "Collecting sqlparse>=0.2.4\n",
      "\u001b[33m  WARNING: Retrying (Retry(total=4, connect=None, read=None, redirect=None, status=None)) after connection broken by 'ProtocolError('Connection aborted.', ConnectionResetError(104, 'Connection reset by peer'))': /packages/14/05/6e8eb62ca685b10e34051a80d7ea94b7137369d8c0be5c3b9d9b6e3f5dae/sqlparse-0.4.1-py3-none-any.whl\u001b[0m\n",
      "  Downloading sqlparse-0.4.1-py3-none-any.whl (42 kB)\n",
      "\u001b[K     |████████████████████████████████| 42 kB 48 kB/s  eta 0:00:011\n",
      "\u001b[?25hRequirement already satisfied: numpy in /home/mlepekhin/anaconda3/envs/mlepekhin_research/lib/python3.8/site-packages (from allennlp==0.9) (1.18.5)\n",
      "Requirement already satisfied: Six in /home/mlepekhin/anaconda3/envs/mlepekhin_research/lib/python3.8/site-packages (from flask-cors>=3.0.7->allennlp==0.9) (1.15.0)\n",
      "Requirement already satisfied: protobuf>=3.8.0 in /home/mlepekhin/anaconda3/envs/mlepekhin_research/lib/python3.8/site-packages (from tensorboardX>=1.2->allennlp==0.9) (3.12.2)\n",
      "Requirement already satisfied: setuptools in /home/mlepekhin/anaconda3/envs/mlepekhin_research/lib/python3.8/site-packages (from gevent>=1.3.6->allennlp==0.9) (49.2.0.post20200714)\n",
      "Requirement already satisfied: Six in /home/mlepekhin/anaconda3/envs/mlepekhin_research/lib/python3.8/site-packages (from flask-cors>=3.0.7->allennlp==0.9) (1.15.0)\n",
      "Collecting thinc<7.1.0,>=7.0.8\n",
      "  Using cached thinc-7.0.8-cp38-cp38-linux_x86_64.whl\n",
      "Requirement already satisfied: srsly<1.1.0,>=0.0.6 in /home/mlepekhin/anaconda3/envs/mlepekhin_research/lib/python3.8/site-packages (from spacy<2.2,>=2.1.0->allennlp==0.9) (1.0.2)\n",
      "Requirement already satisfied: cymem<2.1.0,>=2.0.2 in /home/mlepekhin/anaconda3/envs/mlepekhin_research/lib/python3.8/site-packages (from spacy<2.2,>=2.1.0->allennlp==0.9) (2.0.3)\n",
      "Requirement already satisfied: numpy in /home/mlepekhin/anaconda3/envs/mlepekhin_research/lib/python3.8/site-packages (from allennlp==0.9) (1.18.5)\n",
      "Requirement already satisfied: tqdm>=4.19 in /home/mlepekhin/anaconda3/envs/mlepekhin_research/lib/python3.8/site-packages (from allennlp==0.9) (4.47.0)\n",
      "Requirement already satisfied: wasabi<1.1.0,>=0.2.0 in /home/mlepekhin/anaconda3/envs/mlepekhin_research/lib/python3.8/site-packages (from spacy<2.2,>=2.1.0->allennlp==0.9) (0.7.1)\n",
      "Requirement already satisfied: murmurhash<1.1.0,>=0.28.0 in /home/mlepekhin/anaconda3/envs/mlepekhin_research/lib/python3.8/site-packages (from spacy<2.2,>=2.1.0->allennlp==0.9) (1.0.2)\n",
      "Requirement already satisfied: future in /home/mlepekhin/anaconda3/envs/mlepekhin_research/lib/python3.8/site-packages (from torch>=1.2.0->allennlp==0.9) (0.18.2)\n",
      "Requirement already satisfied: numpy in /home/mlepekhin/anaconda3/envs/mlepekhin_research/lib/python3.8/site-packages (from allennlp==0.9) (1.18.5)\n",
      "Collecting unidecode\n",
      "  Using cached Unidecode-1.1.1-py2.py3-none-any.whl (238 kB)\n",
      "Collecting urllib3<1.26,>=1.20\n",
      "  Downloading urllib3-1.25.11-py2.py3-none-any.whl (127 kB)\n",
      "\u001b[K     |████████████████████████████████| 127 kB 2.3 MB/s eta 0:00:01\n",
      "\u001b[?25hCollecting word2number>=1.1\n",
      "  Downloading word2number-1.1.zip (9.7 kB)\n",
      "Requirement already satisfied: setuptools in /home/mlepekhin/anaconda3/envs/mlepekhin_research/lib/python3.8/site-packages (from gevent>=1.3.6->allennlp==0.9) (49.2.0.post20200714)\n",
      "Requirement already satisfied: setuptools in /home/mlepekhin/anaconda3/envs/mlepekhin_research/lib/python3.8/site-packages (from gevent>=1.3.6->allennlp==0.9) (49.2.0.post20200714)\n",
      "Building wheels for collected packages: editdistance, ftfy, parsimonious, spacy, word2number\n",
      "  Building wheel for editdistance (setup.py) ... \u001b[?25ldone\n",
      "\u001b[?25h  Created wheel for editdistance: filename=editdistance-0.5.3-cp38-cp38-linux_x86_64.whl size=250865 sha256=9a333a73c910dc2c1a337b7bca28d3b62113104feea737e529955bb2308e28bc\n",
      "  Stored in directory: /home/mlepekhin/.cache/pip/wheels/30/3f/31/5290eec2de81af55384e72a98e523cd8d487d06fcf5509f13a\n",
      "  Building wheel for ftfy (setup.py) ... \u001b[?25ldone\n",
      "\u001b[?25h  Created wheel for ftfy: filename=ftfy-5.8-py3-none-any.whl size=45612 sha256=49f288e1b52f84bc6e40415e171d11c8b13435b7f0e1151569c09d333f5947c6\n",
      "  Stored in directory: /home/mlepekhin/.cache/pip/wheels/3f/a5/65/684a672b6a26cb8ce3934d155c98d0e23b3dce3d2c0fadae19\n"
     ]
    },
    {
     "name": "stdout",
     "output_type": "stream",
     "text": [
      "  Building wheel for parsimonious (setup.py) ... \u001b[?25ldone\n",
      "\u001b[?25h  Created wheel for parsimonious: filename=parsimonious-0.8.1-py3-none-any.whl size=42709 sha256=3ea9de48a60e3a8e17c5f5ff1541fe9f331222499c2beb673d0de2a13ff29372\n",
      "  Stored in directory: /home/mlepekhin/.cache/pip/wheels/d8/af/19/fb896f509a437aca2dcf62583e84d7fb2cd5b628c1564a609c\n",
      "  Building wheel for spacy (PEP 517) ... \u001b[?25ldone\n",
      "\u001b[?25h  Created wheel for spacy: filename=spacy-2.1.9-cp38-cp38-linux_x86_64.whl size=49692663 sha256=9b4311fda4d5c0946b8584191445364d57d46c8a373bf045bf04523329350b34\n",
      "  Stored in directory: /home/mlepekhin/.cache/pip/wheels/50/c2/73/989e659e83b30a74acdfcb825e632b1a7dc12f39d58fe37dd6\n",
      "  Building wheel for word2number (setup.py) ... \u001b[?25ldone\n",
      "\u001b[?25h  Created wheel for word2number: filename=word2number-1.1-py3-none-any.whl size=5586 sha256=bb1bf1946eab169ae902a5c9aae3f97ba4df2c6d61d5f6127b3a6a5c48c3846c\n",
      "  Stored in directory: /home/mlepekhin/.cache/pip/wheels/cb/f3/5a/d88198fdeb46781ddd7e7f2653061af83e7adb2a076d8886d6\n",
      "Successfully built editdistance ftfy parsimonious spacy word2number\n",
      "Installing collected packages: urllib3, preshed, plac, blis, thinc, word2number, unidecode, sqlparse, spacy, responses, pytorch-transformers, parsimonious, ftfy, flask-cors, flaky, editdistance, conllu, allennlp\n",
      "  Attempting uninstall: urllib3\n",
      "    Found existing installation: urllib3 1.25.9\n",
      "    Uninstalling urllib3-1.25.9:\n",
      "      Successfully uninstalled urllib3-1.25.9\n",
      "  Attempting uninstall: preshed\n",
      "    Found existing installation: preshed 3.0.2\n",
      "    Uninstalling preshed-3.0.2:\n",
      "      Successfully uninstalled preshed-3.0.2\n",
      "  Attempting uninstall: plac\n",
      "    Found existing installation: plac 1.1.3\n",
      "    Uninstalling plac-1.1.3:\n",
      "      Successfully uninstalled plac-1.1.3\n",
      "  Attempting uninstall: blis\n",
      "    Found existing installation: blis 0.4.1\n",
      "    Uninstalling blis-0.4.1:\n",
      "      Successfully uninstalled blis-0.4.1\n",
      "  Attempting uninstall: thinc\n",
      "    Found existing installation: thinc 7.4.0\n",
      "    Uninstalling thinc-7.4.0:\n",
      "      Successfully uninstalled thinc-7.4.0\n",
      "  Attempting uninstall: spacy\n",
      "    Found existing installation: spacy 2.2.4\n",
      "    Uninstalling spacy-2.2.4:\n",
      "      Successfully uninstalled spacy-2.2.4\n",
      "\u001b[31mERROR: pip's dependency resolver does not currently take into account all the packages that are installed. This behaviour is the source of the following dependency conflicts.\n",
      "ktrain 0.18.5 requires tensorflow==2.2.0, which is not installed.\n",
      "ktrain 0.18.5 requires scikit-learn==0.21.3, but you have scikit-learn 0.23.1 which is incompatible.\n",
      "ktrain 0.18.5 requires scipy==1.4.1, but you have scipy 1.5.0 which is incompatible.\n",
      "en-core-web-sm 2.2.5 requires spacy>=2.2.2, but you have spacy 2.1.9 which is incompatible.\u001b[0m\n",
      "Successfully installed allennlp-0.9.0 blis-0.2.4 conllu-1.3.1 editdistance-0.5.3 flaky-3.7.0 flask-cors-3.0.9 ftfy-5.8 parsimonious-0.8.1 plac-0.9.6 preshed-2.0.1 pytorch-transformers-1.1.0 responses-0.12.1 spacy-2.1.9 sqlparse-0.4.1 thinc-7.0.8 unidecode-1.1.1 urllib3-1.25.11 word2number-1.1\n"
     ]
    }
   ],
   "source": [
    "#!pip uninstall -y allennlp\n",
    "#!pip install 'allennlp==0.9'"
   ]
  },
  {
   "cell_type": "code",
   "execution_count": 7,
   "metadata": {},
   "outputs": [],
   "source": [
    "import torch\n",
    "from src_allennlp.model import SimpleTagger\n",
    "from src_allennlp.reader import RuPosReader\n",
    "from allennlp.data.vocabulary import Vocabulary\n",
    "from allennlp.common import Params\n",
    "from allennlp.modules.text_field_embedders import BasicTextFieldEmbedder\n",
    "from allennlp.modules.token_embedders import Embedding\n",
    "from allennlp.modules.seq2seq_encoders import PytorchSeq2SeqWrapper\n",
    "from allennlp.data.iterators import BucketIterator\n",
    "from allennlp.training.trainer import Trainer"
   ]
  },
  {
   "cell_type": "markdown",
   "metadata": {},
   "source": [
    "Из всех импортов тут только два самописных класса - ридер и, собственно, сама модель."
   ]
  },
  {
   "cell_type": "code",
   "execution_count": 8,
   "metadata": {},
   "outputs": [
    {
     "data": {
      "application/vnd.jupyter.widget-view+json": {
       "model_id": "f22216ea894b4732af28c2fc536dfe6e",
       "version_major": 2,
       "version_minor": 0
      },
      "text/plain": [
       "HBox(children=(FloatProgress(value=1.0, bar_style='info', description='reading instances', max=1.0, style=Prog…"
      ]
     },
     "metadata": {},
     "output_type": "display_data"
    },
    {
     "name": "stderr",
     "output_type": "stream",
     "text": [
      "\n"
     ]
    },
    {
     "ename": "FileNotFoundError",
     "evalue": "[Errno 2] No such file or directory: 'data/train.csv'",
     "output_type": "error",
     "traceback": [
      "\u001b[0;31m---------------------------------------------------------------------------\u001b[0m",
      "\u001b[0;31mFileNotFoundError\u001b[0m                         Traceback (most recent call last)",
      "\u001b[0;32m<ipython-input-8-bfb7ede21056>\u001b[0m in \u001b[0;36m<module>\u001b[0;34m\u001b[0m\n\u001b[1;32m      1\u001b[0m \u001b[0mreader\u001b[0m \u001b[0;34m=\u001b[0m \u001b[0mRuPosReader\u001b[0m\u001b[0;34m(\u001b[0m\u001b[0;34m)\u001b[0m\u001b[0;34m\u001b[0m\u001b[0;34m\u001b[0m\u001b[0m\n\u001b[0;32m----> 2\u001b[0;31m \u001b[0mdataset\u001b[0m \u001b[0;34m=\u001b[0m \u001b[0mreader\u001b[0m\u001b[0;34m.\u001b[0m\u001b[0mread\u001b[0m\u001b[0;34m(\u001b[0m\u001b[0;34m'data/train.csv'\u001b[0m\u001b[0;34m)\u001b[0m\u001b[0;34m\u001b[0m\u001b[0;34m\u001b[0m\u001b[0m\n\u001b[0m\u001b[1;32m      3\u001b[0m \u001b[0mvocab\u001b[0m \u001b[0;34m=\u001b[0m \u001b[0mVocabulary\u001b[0m\u001b[0;34m.\u001b[0m\u001b[0mfrom_instances\u001b[0m\u001b[0;34m(\u001b[0m\u001b[0mdataset\u001b[0m\u001b[0;34m,\u001b[0m \u001b[0mpretrained_files\u001b[0m\u001b[0;34m=\u001b[0m\u001b[0;34m{\u001b[0m\u001b[0;34m'tokens'\u001b[0m\u001b[0;34m:\u001b[0m\u001b[0;34m'data/cc.ru.300.vec'\u001b[0m\u001b[0;34m}\u001b[0m\u001b[0;34m,\u001b[0m \u001b[0monly_include_pretrained_words\u001b[0m\u001b[0;34m=\u001b[0m\u001b[0;32mFalse\u001b[0m\u001b[0;34m)\u001b[0m\u001b[0;34m\u001b[0m\u001b[0;34m\u001b[0m\u001b[0m\n\u001b[1;32m      4\u001b[0m \u001b[0mprint\u001b[0m\u001b[0;34m(\u001b[0m\u001b[0mvocab\u001b[0m\u001b[0;34m)\u001b[0m\u001b[0;34m\u001b[0m\u001b[0;34m\u001b[0m\u001b[0m\n\u001b[1;32m      5\u001b[0m \u001b[0mprint\u001b[0m\u001b[0;34m(\u001b[0m\u001b[0mvocab\u001b[0m\u001b[0;34m.\u001b[0m\u001b[0mget_index_to_token_vocabulary\u001b[0m\u001b[0;34m(\u001b[0m\u001b[0;34m'labels'\u001b[0m\u001b[0;34m)\u001b[0m\u001b[0;34m)\u001b[0m\u001b[0;34m\u001b[0m\u001b[0;34m\u001b[0m\u001b[0m\n",
      "\u001b[0;32m~/anaconda3/envs/mlepekhin_research/lib/python3.8/site-packages/allennlp/data/dataset_readers/dataset_reader.py\u001b[0m in \u001b[0;36mread\u001b[0;34m(self, file_path)\u001b[0m\n",
      "\u001b[0;32m~/anaconda3/envs/mlepekhin_research/lib/python3.8/site-packages/tqdm/notebook.py\u001b[0m in \u001b[0;36m__iter__\u001b[0;34m(self, *args, **kwargs)\u001b[0m\n\u001b[1;32m    215\u001b[0m     \u001b[0;32mdef\u001b[0m \u001b[0m__iter__\u001b[0m\u001b[0;34m(\u001b[0m\u001b[0mself\u001b[0m\u001b[0;34m,\u001b[0m \u001b[0;34m*\u001b[0m\u001b[0margs\u001b[0m\u001b[0;34m,\u001b[0m \u001b[0;34m**\u001b[0m\u001b[0mkwargs\u001b[0m\u001b[0;34m)\u001b[0m\u001b[0;34m:\u001b[0m\u001b[0;34m\u001b[0m\u001b[0;34m\u001b[0m\u001b[0m\n\u001b[1;32m    216\u001b[0m         \u001b[0;32mtry\u001b[0m\u001b[0;34m:\u001b[0m\u001b[0;34m\u001b[0m\u001b[0;34m\u001b[0m\u001b[0m\n\u001b[0;32m--> 217\u001b[0;31m             \u001b[0;32mfor\u001b[0m \u001b[0mobj\u001b[0m \u001b[0;32min\u001b[0m \u001b[0msuper\u001b[0m\u001b[0;34m(\u001b[0m\u001b[0mtqdm_notebook\u001b[0m\u001b[0;34m,\u001b[0m \u001b[0mself\u001b[0m\u001b[0;34m)\u001b[0m\u001b[0;34m.\u001b[0m\u001b[0m__iter__\u001b[0m\u001b[0;34m(\u001b[0m\u001b[0;34m*\u001b[0m\u001b[0margs\u001b[0m\u001b[0;34m,\u001b[0m \u001b[0;34m**\u001b[0m\u001b[0mkwargs\u001b[0m\u001b[0;34m)\u001b[0m\u001b[0;34m:\u001b[0m\u001b[0;34m\u001b[0m\u001b[0;34m\u001b[0m\u001b[0m\n\u001b[0m\u001b[1;32m    218\u001b[0m                 \u001b[0;31m# return super(tqdm...) will not catch exception\u001b[0m\u001b[0;34m\u001b[0m\u001b[0;34m\u001b[0m\u001b[0;34m\u001b[0m\u001b[0m\n\u001b[1;32m    219\u001b[0m                 \u001b[0;32myield\u001b[0m \u001b[0mobj\u001b[0m\u001b[0;34m\u001b[0m\u001b[0;34m\u001b[0m\u001b[0m\n",
      "\u001b[0;32m~/anaconda3/envs/mlepekhin_research/lib/python3.8/site-packages/tqdm/std.py\u001b[0m in \u001b[0;36m__iter__\u001b[0;34m(self)\u001b[0m\n\u001b[1;32m   1127\u001b[0m \u001b[0;34m\u001b[0m\u001b[0m\n\u001b[1;32m   1128\u001b[0m         \u001b[0;32mtry\u001b[0m\u001b[0;34m:\u001b[0m\u001b[0;34m\u001b[0m\u001b[0;34m\u001b[0m\u001b[0m\n\u001b[0;32m-> 1129\u001b[0;31m             \u001b[0;32mfor\u001b[0m \u001b[0mobj\u001b[0m \u001b[0;32min\u001b[0m \u001b[0miterable\u001b[0m\u001b[0;34m:\u001b[0m\u001b[0;34m\u001b[0m\u001b[0;34m\u001b[0m\u001b[0m\n\u001b[0m\u001b[1;32m   1130\u001b[0m                 \u001b[0;32myield\u001b[0m \u001b[0mobj\u001b[0m\u001b[0;34m\u001b[0m\u001b[0;34m\u001b[0m\u001b[0m\n\u001b[1;32m   1131\u001b[0m                 \u001b[0;31m# Update and possibly print the progressbar.\u001b[0m\u001b[0;34m\u001b[0m\u001b[0;34m\u001b[0m\u001b[0;34m\u001b[0m\u001b[0m\n",
      "\u001b[0;32m~/Morphology/src_allennlp/reader.py\u001b[0m in \u001b[0;36m_read\u001b[0;34m(self, file_path)\u001b[0m\n\u001b[1;32m     30\u001b[0m \u001b[0;34m\u001b[0m\u001b[0m\n\u001b[1;32m     31\u001b[0m     \u001b[0;32mdef\u001b[0m \u001b[0m_read\u001b[0m\u001b[0;34m(\u001b[0m\u001b[0mself\u001b[0m\u001b[0;34m,\u001b[0m \u001b[0mfile_path\u001b[0m\u001b[0;34m:\u001b[0m \u001b[0mstr\u001b[0m\u001b[0;34m)\u001b[0m \u001b[0;34m->\u001b[0m \u001b[0mIterator\u001b[0m\u001b[0;34m[\u001b[0m\u001b[0mInstance\u001b[0m\u001b[0;34m]\u001b[0m\u001b[0;34m:\u001b[0m\u001b[0;34m\u001b[0m\u001b[0;34m\u001b[0m\u001b[0m\n\u001b[0;32m---> 32\u001b[0;31m         \u001b[0;32mwith\u001b[0m \u001b[0mopen\u001b[0m\u001b[0;34m(\u001b[0m\u001b[0mfile_path\u001b[0m\u001b[0;34m,\u001b[0m \u001b[0;34m'r'\u001b[0m\u001b[0;34m,\u001b[0m \u001b[0mencoding\u001b[0m\u001b[0;34m=\u001b[0m\u001b[0;34m'utf-8'\u001b[0m\u001b[0;34m)\u001b[0m \u001b[0;32mas\u001b[0m \u001b[0mf\u001b[0m\u001b[0;34m:\u001b[0m\u001b[0;34m\u001b[0m\u001b[0;34m\u001b[0m\u001b[0m\n\u001b[0m\u001b[1;32m     33\u001b[0m             \u001b[0mcolumns\u001b[0m \u001b[0;34m=\u001b[0m \u001b[0mnext\u001b[0m\u001b[0;34m(\u001b[0m\u001b[0mf\u001b[0m\u001b[0;34m)\u001b[0m\u001b[0;34m.\u001b[0m\u001b[0mstrip\u001b[0m\u001b[0;34m(\u001b[0m\u001b[0;34m)\u001b[0m\u001b[0;34m.\u001b[0m\u001b[0msplit\u001b[0m\u001b[0;34m(\u001b[0m\u001b[0;34m\"\\t\"\u001b[0m\u001b[0;34m)\u001b[0m  \u001b[0;31m# первая строка для названий колонок\u001b[0m\u001b[0;34m\u001b[0m\u001b[0;34m\u001b[0m\u001b[0m\n\u001b[1;32m     34\u001b[0m             \u001b[0mtokens\u001b[0m\u001b[0;34m,\u001b[0m \u001b[0mlabels\u001b[0m \u001b[0;34m=\u001b[0m \u001b[0;34m[\u001b[0m\u001b[0;34m]\u001b[0m\u001b[0;34m,\u001b[0m \u001b[0;34m[\u001b[0m\u001b[0;34m]\u001b[0m\u001b[0;34m\u001b[0m\u001b[0;34m\u001b[0m\u001b[0m\n",
      "\u001b[0;31mFileNotFoundError\u001b[0m: [Errno 2] No such file or directory: 'data/train.csv'"
     ]
    }
   ],
   "source": [
    "reader = RuPosReader()\n",
    "dataset = reader.read('data/train.csv')\n",
    "vocab = Vocabulary.from_instances(dataset, pretrained_files={'tokens':'data/cc.ru.300.vec'}, only_include_pretrained_words=False)\n",
    "print(vocab)\n",
    "print(vocab.get_index_to_token_vocabulary('labels'))"
   ]
  },
  {
   "cell_type": "markdown",
   "metadata": {},
   "source": [
    "В ячейке выше мы прочитали датасет и сделали из него словарь"
   ]
  },
  {
   "cell_type": "code",
   "execution_count": null,
   "metadata": {},
   "outputs": [],
   "source": [
    "word_emb = 300\n",
    "hidden_dim = 300\n",
    "\n",
    "params = Params({\"pretrained_file\": 'data/cc.ru.300.vec', \"embedding_dim\": word_emb, \"trainable\": False})\n",
    "embedder = BasicTextFieldEmbedder({\"tokens\": Embedding.from_params(vocab, params)})\n",
    "encoder = PytorchSeq2SeqWrapper(torch.nn.GRU(embedder.get_output_dim(), hidden_dim, batch_first=True, bidirectional=True, num_layers=2))\n",
    "model = SimpleTagger(vocab, embedder, encoder)"
   ]
  },
  {
   "cell_type": "markdown",
   "metadata": {},
   "source": [
    "Наша модель состоит из:\n",
    "- эмбеддера, возвращающего векторные представления для каждого токена\n",
    "- энкодера, который представляет собой всё ту же GRU, как и раньше, только всякими неудобными вещами занимется `PytorchSeq2SeqWrapper`.\n",
    "- FeedForward, который уже встроен в модель, но его можно и передать отдельно, предварительно поддержав в самой модели в конструкторе"
   ]
  },
  {
   "cell_type": "code",
   "execution_count": null,
   "metadata": {},
   "outputs": [],
   "source": [
    "train_dataset = dataset[:-1000]\n",
    "dev_dataset = dataset[-1000:]"
   ]
  },
  {
   "cell_type": "markdown",
   "metadata": {},
   "source": [
    "Распиливаем датасет, слайсы здесь работают нормально"
   ]
  },
  {
   "cell_type": "code",
   "execution_count": null,
   "metadata": {},
   "outputs": [],
   "source": [
    "device = torch.device('cuda')\n",
    "model.to(device)\n",
    "optimizer = torch.optim.Adam(model.parameters())\n",
    "iterator = BucketIterator(batch_size=256, sorting_keys=[(\"tokens\", \"num_tokens\")], biggest_batch_first=True)\n",
    "iterator.index_with(vocab)\n",
    "trainer = Trainer(model=model,\n",
    "                  optimizer=optimizer,\n",
    "                  iterator=iterator,\n",
    "                  train_dataset=train_dataset,\n",
    "                  validation_dataset=dev_dataset,\n",
    "                  patience=5,\n",
    "                  num_epochs=20,\n",
    "                  cuda_device=0,\n",
    "                  validation_metric=\"+fscore\")"
   ]
  },
  {
   "cell_type": "markdown",
   "metadata": {},
   "source": [
    "Переносим модель на видеокарту, задаём оптимизатор, итератор с индексированием по словарю и сам тренер. У тренера есть куча удобных параметров, например, сколько эпох учить, через сколько эпох остановиться, если таргетная метрика перестаёт расти на валидации (`patience`) и собственно сама таргетная метрика, по которой будет выбираться лучшая эпоха"
   ]
  },
  {
   "cell_type": "code",
   "execution_count": null,
   "metadata": {},
   "outputs": [],
   "source": [
    "trainer.train()"
   ]
  },
  {
   "cell_type": "markdown",
   "metadata": {},
   "source": [
    "После обучения модели остаётся только предстказать метки классов и можно заворачивать"
   ]
  },
  {
   "cell_type": "code",
   "execution_count": null,
   "metadata": {},
   "outputs": [],
   "source": [
    "model.eval()\n",
    "results = []\n",
    "with torch.no_grad():    \n",
    "    labels =  model.forward_on_instance(dev_dataset[1])['labels']"
   ]
  },
  {
   "cell_type": "markdown",
   "metadata": {},
   "source": [
    "Сам по себе инстанс это что-то похожее на словарь, поэтому чтобы добраться до токенов, нужно немного пройти по словарю"
   ]
  },
  {
   "cell_type": "code",
   "execution_count": null,
   "metadata": {},
   "outputs": [],
   "source": [
    "for token, label in zip(dev_dataset[1]['tokens'].tokens,labels):\n",
    "    print(token, label)"
   ]
  },
  {
   "cell_type": "markdown",
   "metadata": {},
   "source": [
    "Собственно вот и все. Allennlp прекрасен и очень удобен"
   ]
  },
  {
   "cell_type": "code",
   "execution_count": null,
   "metadata": {},
   "outputs": [],
   "source": []
  }
 ],
 "metadata": {
  "kernelspec": {
   "display_name": "Python 3",
   "language": "python",
   "name": "python3"
  }
 },
 "nbformat": 4,
 "nbformat_minor": 4
}
