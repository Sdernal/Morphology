{
 "cells": [
  {
   "cell_type": "markdown",
   "metadata": {},
   "source": [
    "# Морфология 2\n",
    "В данном ноутбуке находится задание на триграммы и словарь. В качестве текста будем использовать томик войны и мира: https://goo.gl/qcVTLE \n",
    "\n",
    "Для начала напомним некоторые полезные инструменты на питоне"
   ]
  },
  {
   "cell_type": "markdown",
   "metadata": {},
   "source": [
    "## 1. Инструменты"
   ]
  },
  {
   "cell_type": "markdown",
   "metadata": {},
   "source": [
    "### 1.1. Регулярные выражения\n",
    "Исчерпывающий пост https://habr.com/ru/post/349860/"
   ]
  },
  {
   "cell_type": "code",
   "execution_count": 3,
   "metadata": {},
   "outputs": [
    {
     "name": "stdout",
     "output_type": "stream",
     "text": [
      "Находим числа в строке:  ['49', '432']\n",
      "Простенький токенизатор:  ['How', 'to', 'split', 'text']\n",
      "Еще один токенизатор:  ['How', 'to', 'split', 'text', 'Again']\n"
     ]
    }
   ],
   "source": [
    "import re\n",
    "\n",
    "# С помощью рег. выражения можно искать, заменять и сентезировать строки по шаблонам\n",
    "# Парочка простых примеров\n",
    "numbers = re.findall(r'\\d+', r'There is some numbers: 49 and 432')\n",
    "print('Находим числа в строке: ', numbers)\n",
    "\n",
    "print('Простенький токенизатор: ', re.sub('[,\\.?!]',' ','How, to? split. text!').split())\n",
    "\n",
    "print('Еще один токенизатор: ', re.split(r'\\W+', 'How, to? split. text! Again'))\n",
    "\n",
    "# в качестве тренировки придумайте свой токенизатор в случае, когда из текста нужно получить только русские слова."
   ]
  },
  {
   "cell_type": "markdown",
   "metadata": {},
   "source": [
    "### 1.2. Чтение файлов\n",
    "Чтобы не мучится самим с кодировками, приведем способ чтения файла корпуса."
   ]
  },
  {
   "cell_type": "code",
   "execution_count": 59,
   "metadata": {},
   "outputs": [],
   "source": [
    "import io\n",
    "wordlilist = None\n",
    "text_file_path = 'wp.txt'\n",
    "with io.open(text_file_path, \"r\") as text_file:\n",
    "    text = text_file.read()\n",
    "    # wordlist = Здесь заиспользуем токенизатор. Также приведем все слова к нижнему регистру."
   ]
  },
  {
   "cell_type": "code",
   "execution_count": null,
   "metadata": {},
   "outputs": [],
   "source": []
  },
  {
   "cell_type": "markdown",
   "metadata": {},
   "source": [
    "### 1.3. ООП\n",
    "В питоне можно создавать свои классы, скорее всего нам понадобится класс для хранения бора"
   ]
  },
  {
   "cell_type": "code",
   "execution_count": 62,
   "metadata": {},
   "outputs": [],
   "source": [
    "class Node:\n",
    "    def __init__(self):\n",
    "        '''\n",
    "        Simple constructor without params\n",
    "        '''\n",
    "        pass\n",
    "    \n",
    "    def method(self, par):\n",
    "        '''\n",
    "        Simple method with one param\n",
    "        '''\n",
    "        pass\n",
    "    \n",
    "# все данные хранятся в self, поэтому он и передается первым аргументом во все методы"
   ]
  },
  {
   "cell_type": "markdown",
   "metadata": {},
   "source": [
    "### 1.4. pyplot\n",
    "Довольно часто приходится построить какие-нибудт графики и гистограммы для изучения данных, с которыми придется работать. Для этого в питоне есть удобнейший модуль для этого - pyplot. Туториал: https://matplotlib.org/3.1.1/tutorials/introductory/pyplot.html"
   ]
  },
  {
   "cell_type": "code",
   "execution_count": 63,
   "metadata": {},
   "outputs": [],
   "source": [
    "#!pip install matplotlib # Установка модуля\n",
    "import matplotlib.pyplot as plt\n",
    "# команда чтобы картинки рисовались прямо в ноутбуке\n",
    "%matplotlib inline "
   ]
  },
  {
   "cell_type": "code",
   "execution_count": 64,
   "metadata": {},
   "outputs": [
    {
     "data": {
      "text/plain": [
       "[<matplotlib.lines.Line2D at 0x7f8114db2450>]"
      ]
     },
     "execution_count": 64,
     "metadata": {},
     "output_type": "execute_result"
    },
    {
     "data": {
      "image/png": "[encoded data removed]",
      "text/plain": [
       "<Figure size 432x288 with 1 Axes>"
      ]
     },
     "metadata": {
      "needs_background": "light"
     },
     "output_type": "display_data"
    }
   ],
   "source": [
    "# Посмотрим на график функции x^2\n",
    "data = [i * i for i in range(100)]\n",
    "plt.plot(data)"
   ]
  },
  {
   "cell_type": "code",
   "execution_count": 65,
   "metadata": {},
   "outputs": [
    {
     "data": {
      "text/plain": [
       "(array([32., 13., 10.,  8.,  8.,  6.,  6.,  6.,  5.,  6.]),\n",
       " array([   0. ,  980.1, 1960.2, 2940.3, 3920.4, 4900.5, 5880.6, 6860.7,\n",
       "        7840.8, 8820.9, 9801. ]),\n",
       " <BarContainer object of 10 artists>)"
      ]
     },
     "execution_count": 65,
     "metadata": {},
     "output_type": "execute_result"
    },
    {
     "data": {
      "image/png": "[encoded data removed]",
      "text/plain": [
       "<Figure size 432x288 with 1 Axes>"
      ]
     },
     "metadata": {
      "needs_background": "light"
     },
     "output_type": "display_data"
    }
   ],
   "source": [
    "# и распределение по значениям\n",
    "plt.hist(data)"
   ]
  },
  {
   "cell_type": "markdown",
   "metadata": {},
   "source": [
    "Также полезная команда для подсчета времения выполнеия в ячейке"
   ]
  },
  {
   "cell_type": "code",
   "execution_count": 66,
   "metadata": {},
   "outputs": [
    {
     "name": "stdout",
     "output_type": "stream",
     "text": [
      "CPU times: user 6.56 s, sys: 734 µs, total: 6.56 s\n",
      "Wall time: 6.56 s\n"
     ]
    }
   ],
   "source": [
    "%%time\n",
    "res = 0\n",
    "for i in range(int(1e8)):\n",
    "    res += 1"
   ]
  },
  {
   "cell_type": "markdown",
   "metadata": {},
   "source": [
    "## 2. Задание\n",
    "Собственно теперь нам потребуется написать подсчет триграмм и бор для словаря, чтобы реализовать простенькую систему исправления ошибок."
   ]
  },
  {
   "cell_type": "markdown",
   "metadata": {},
   "source": [
    "### 2.1. Триграммы\n",
    "Для начала получим словарь триграмма - её кол-во в тексте, не забывая о начале и конце слова.\n",
    "\n",
    "Далее можно построить гистограмму на кол-во вхождений триграмм, и посмотреть самые частые и какая частота у каких-нибудь заведомо странных, например: 'чгк', 'шкя' и подобные. Из полученных данных придумать эвристику, как считать слово с опечаткой. Проверить эвристику по словарю."
   ]
  },
  {
   "cell_type": "code",
   "execution_count": 18,
   "metadata": {},
   "outputs": [],
   "source": [
    "import re\n",
    "\n",
    "def preprocess(text):\n",
    "    text = text.lower()\n",
    "    text = re.sub(r'[^а-яё]', ' ', text)\n",
    "    text = re.sub(r' +', ' ', text)\n",
    "    return text"
   ]
  },
  {
   "cell_type": "code",
   "execution_count": 67,
   "metadata": {},
   "outputs": [],
   "source": [
    "text = preprocess(text)"
   ]
  },
  {
   "cell_type": "code",
   "execution_count": null,
   "metadata": {},
   "outputs": [],
   "source": []
  },
  {
   "cell_type": "code",
   "execution_count": 69,
   "metadata": {},
   "outputs": [],
   "source": [
    "from collections import Counter\n",
    "def create_corpus_trigrams(text, k=3):\n",
    "    '''returns trigrams count dictionary'''\n",
    "    trigrams = []\n",
    "    for i in range(len(text) - k + 1):\n",
    "        cur_trigram = text[i:i+k]\n",
    "        if ' ' not in cur_trigram:\n",
    "            trigrams.append(cur_trigram)\n",
    "    return Counter(trigrams)\n",
    "    \n",
    "\n",
    "def is_error(word, corpus_trigrams, threshold=1, k=3):\n",
    "    '''is the word with mistake'''\n",
    "    word_ngrams = [word[i:i+k] for i in range(len(word) - k + 1)]\n",
    "    ngram_count = [corpus_trigrams[ngram] for ngram in word_ngrams]\n",
    "    return any(map(lambda x: x < threshold, ngram_count))"
   ]
  },
  {
   "cell_type": "code",
   "execution_count": 70,
   "metadata": {},
   "outputs": [],
   "source": [
    "corpus_trigrams = create_corpus_trigrams(text)"
   ]
  },
  {
   "cell_type": "code",
   "execution_count": 71,
   "metadata": {},
   "outputs": [
    {
     "data": {
      "text/plain": [
       "False"
      ]
     },
     "execution_count": 71,
     "metadata": {},
     "output_type": "execute_result"
    }
   ],
   "source": [
    "is_error('поздравляю', corpus_trigrams)"
   ]
  },
  {
   "cell_type": "code",
   "execution_count": 72,
   "metadata": {},
   "outputs": [
    {
     "data": {
      "text/plain": [
       "True"
      ]
     },
     "execution_count": 72,
     "metadata": {},
     "output_type": "execute_result"
    }
   ],
   "source": [
    "is_error('позyравляю', corpus_trigrams)"
   ]
  },
  {
   "cell_type": "markdown",
   "metadata": {},
   "source": [
    "### 2.2. Бор\n",
    "Далее построим бор, с помощью которого будем искать исправления опечатки в слове. Пока только в случае замены и удаления в конце (Если есть желание, то можно и для всех случаев). Также сравнить по времени с поиском в случае замены в исходном слове последних двух символов и поиске в словаре."
   ]
  },
  {
   "cell_type": "code",
   "execution_count": 266,
   "metadata": {},
   "outputs": [],
   "source": [
    "from queue import Queue\n",
    "\n",
    "class Node:\n",
    "    def __init__(self):\n",
    "        self.terminal = False\n",
    "        self.children = {}\n",
    "\n",
    "class Trie:\n",
    "    \n",
    "    def __init__(self, text=None):\n",
    "        self.root = Node()\n",
    "        if text is not None:\n",
    "            self._init_with_text(text)\n",
    "        \n",
    "    def insert(self, word):\n",
    "        node = self.root\n",
    "        for char in word:\n",
    "            if char not in node.children:\n",
    "                node.children[char] = Node()\n",
    "            node = node.children[char]\n",
    "        node.terminal = True\n",
    "    \n",
    "        \n",
    "    def contains(self, word):\n",
    "        node = self.root\n",
    "        for char in word:\n",
    "            if char in node.children:\n",
    "                node = node.children[char]\n",
    "            else:\n",
    "                return False\n",
    "        if node.terminal:\n",
    "            return True\n",
    "        else:\n",
    "            return False\n",
    "    \n",
    "    def _init_with_text(self, text):\n",
    "        words = text.split()\n",
    "        for word in words:\n",
    "            self.insert(word)\n",
    "            \n",
    "    def get_all_words(self):\n",
    "        # sanity check for handwritten dfs implemntation\n",
    "        words = []\n",
    "        stack = []\n",
    "        \n",
    "        stack.append((self.root, []))\n",
    "        while stack:\n",
    "            node, chars = stack.pop()\n",
    "            if node.terminal:\n",
    "                words.append(''.join(chars))\n",
    "            for char in node.children:\n",
    "                stack.append((node.children[char], chars + [char]))\n",
    "        return words\n",
    "    \n",
    "    def get_similar(self, target_word, threshold):\n",
    "        # '' -> char\n",
    "        # char -> char\n",
    "        # char -> ''\n",
    "        result_words = set()\n",
    "        stack = []\n",
    "        \n",
    "        \n",
    "        stack.append(\n",
    "            {\"node\": self.root, \"chars\": [], \"string_idx\": 0, \"errors\": -1}\n",
    "        )\n",
    "        \n",
    "        while stack:\n",
    "            state = stack.pop()\n",
    "\n",
    "            if state[\"errors\"] > threshold:\n",
    "                continue\n",
    "            \n",
    "            if state[\"node\"].terminal:\n",
    "                if abs(len(state[\"chars\"]) - len(target_word)) + state[\"errors\"] < threshold:\n",
    "                    result_words.add(''.join(state[\"chars\"]))\n",
    "            \n",
    "            # char -> ''\n",
    "            stack.append(\n",
    "                {\n",
    "                    \"node\": state[\"node\"],\n",
    "                    \"chars\": state[\"chars\"],\n",
    "                    \"string_idx\": state[\"string_idx\"] + 1, \n",
    "                    \"errors\": state[\"errors\"] + 1,\n",
    "                }\n",
    "            )\n",
    "            \n",
    "            for char in state[\"node\"].children:\n",
    "                if state[\"string_idx\"] < len(target_word) and char == target_word[state[\"string_idx\"]]:\n",
    "                    stack.append(\n",
    "                        {\n",
    "                            \"node\": state[\"node\"].children[char],\n",
    "                            \"chars\": state[\"chars\"] + [char],\n",
    "                            \"string_idx\": state[\"string_idx\"] + 1, \n",
    "                            \"errors\": state[\"errors\"],\n",
    "                        }\n",
    "                    )\n",
    "                else:\n",
    "                    # char -> char\n",
    "                    stack.append(\n",
    "                        {\n",
    "                            \"node\": state[\"node\"].children[char],\n",
    "                            \"chars\": state[\"chars\"] + [char],\n",
    "                            \"string_idx\": state[\"string_idx\"] + 1, \n",
    "                            \"errors\": state[\"errors\"] + 1,\n",
    "                        }\n",
    "                    )\n",
    "                    # '' -> char\n",
    "                    stack.append(\n",
    "                        {\n",
    "                            \"node\": state[\"node\"].children[char],\n",
    "                            \"chars\": state[\"chars\"] + [char],\n",
    "                            \"string_idx\": state[\"string_idx\"], \n",
    "                            \"errors\": state[\"errors\"] + 1,\n",
    "                        }\n",
    "                    )\n",
    "        return result_words\n",
    "            "
   ]
  },
  {
   "cell_type": "code",
   "execution_count": 329,
   "metadata": {},
   "outputs": [
    {
     "data": {
      "text/plain": [
       "True"
      ]
     },
     "execution_count": 329,
     "metadata": {},
     "output_type": "execute_result"
    }
   ],
   "source": [
    "set(text.split()) == set(trie.get_all_words())"
   ]
  },
  {
   "cell_type": "code",
   "execution_count": 330,
   "metadata": {},
   "outputs": [],
   "source": [
    "from copy import copy\n",
    "\n",
    "class NaiveCorrect:\n",
    "    \n",
    "    def __init__(self, text, alphabet='абвгдеёжзийклмнопрстуфхцчшщъыьэюя'):\n",
    "        self.alphabet = alphabet\n",
    "        self.words = set(text.split())\n",
    "        \n",
    "    def get_candidates(self, cur_word, cur_mistakes, max_mistakes, result):\n",
    "        if cur_mistakes <= max_mistakes:\n",
    "            result.add(cur_word)\n",
    "        if cur_mistakes >= max_mistakes:\n",
    "            return\n",
    "        chars = list(cur_word)\n",
    "        for i in range(len(cur_word) + 1):\n",
    "            # char -> ''\n",
    "            if i < len(chars):\n",
    "                temp = copy(chars)\n",
    "                del temp[i]\n",
    "                self.get_candidates(''.join(temp), cur_mistakes + 1, max_mistakes, result)\n",
    "            for char in self.alphabet:\n",
    "                # char -> char\n",
    "                if i < len(chars):\n",
    "                    temp = copy(chars)\n",
    "                    temp[i] = char\n",
    "                    self.get_candidates(''.join(temp), cur_mistakes + 1, max_mistakes, result)\n",
    "                \n",
    "                # '' -> char\n",
    "                self.get_candidates(''.join(chars[:i] + [char] + chars[i:]), cur_mistakes + 1, max_mistakes, result)\n",
    "    \n",
    "    def get_similar(self, target_word, threshold):\n",
    "        candidates = set()\n",
    "        self.get_candidates(target_word, 0, threshold, candidates)\n",
    "        \n",
    "        result = set()\n",
    "        for word in candidates:\n",
    "            if word in self.words:\n",
    "                result.add(word)\n",
    "        \n",
    "        return result"
   ]
  },
  {
   "cell_type": "code",
   "execution_count": 333,
   "metadata": {},
   "outputs": [],
   "source": [
    "naive_correct = NaiveCorrect(text)\n",
    "trie = Trie(text)"
   ]
  },
  {
   "cell_type": "code",
   "execution_count": 351,
   "metadata": {
    "scrolled": true
   },
   "outputs": [
    {
     "name": "stdout",
     "output_type": "stream",
     "text": [
      "CPU times: user 1min 25s, sys: 583 ms, total: 1min 26s\n",
      "Wall time: 1min 26s\n"
     ]
    },
    {
     "data": {
      "text/plain": [
       "{'брак',\n",
       " 'воры',\n",
       " 'горы',\n",
       " 'добр',\n",
       " 'добра',\n",
       " 'добрая',\n",
       " 'добрее',\n",
       " 'добро',\n",
       " 'доброго',\n",
       " 'доброе',\n",
       " 'доброй',\n",
       " 'доброму',\n",
       " 'доброта',\n",
       " 'доброте',\n",
       " 'доброту',\n",
       " 'доброю',\n",
       " 'добры',\n",
       " 'добрые',\n",
       " 'добрый',\n",
       " 'добрым',\n",
       " 'добрыми',\n",
       " 'дорог',\n",
       " 'дурак',\n",
       " 'дуры',\n",
       " 'йорк',\n",
       " 'мокрые',\n",
       " 'моряк',\n",
       " 'образ',\n",
       " 'оброка',\n",
       " 'обряд',\n",
       " 'одобрен',\n",
       " 'одобряю',\n",
       " 'одобряя',\n",
       " 'побыв',\n",
       " 'собак',\n",
       " 'собрав',\n",
       " 'собрал',\n",
       " 'сорок',\n",
       " 'удобным',\n",
       " 'хоры'}"
      ]
     },
     "execution_count": 351,
     "metadata": {},
     "output_type": "execute_result"
    }
   ],
   "source": [
    "%time naive_correct.get_similar(\"добрык\", 3)"
   ]
  },
  {
   "cell_type": "code",
   "execution_count": 350,
   "metadata": {
    "scrolled": true
   },
   "outputs": [
    {
     "name": "stdout",
     "output_type": "stream",
     "text": [
      "CPU times: user 594 ms, sys: 5 µs, total: 594 ms\n",
      "Wall time: 593 ms\n"
     ]
    },
    {
     "data": {
      "text/plain": [
       "{'добр',\n",
       " 'добра',\n",
       " 'добрая',\n",
       " 'добрее',\n",
       " 'добро',\n",
       " 'доброе',\n",
       " 'доброй',\n",
       " 'доброю',\n",
       " 'добры',\n",
       " 'добрые',\n",
       " 'добрый',\n",
       " 'добрым',\n",
       " 'добрыми',\n",
       " 'доводы',\n",
       " 'доктор',\n",
       " 'должны',\n",
       " 'дормир',\n",
       " 'досады',\n",
       " 'дочери',\n",
       " 'дробь',\n",
       " 'заборы',\n",
       " 'кобылы',\n",
       " 'комары',\n",
       " 'костры',\n",
       " 'мокрые',\n",
       " 'ноябре',\n",
       " 'ноября',\n",
       " 'оброка',\n",
       " 'одоб',\n",
       " 'победы',\n",
       " 'собрав',\n",
       " 'собрал',\n",
       " 'удобно'}"
      ]
     },
     "execution_count": 350,
     "metadata": {},
     "output_type": "execute_result"
    }
   ],
   "source": [
    "%time trie.get_similar(\"добрык\", 3)"
   ]
  },
  {
   "cell_type": "code",
   "execution_count": 355,
   "metadata": {},
   "outputs": [],
   "source": [
    "import random\n",
    "\n",
    "def correct_word(word, threshold=1):\n",
    "    '''returns most similar word from dictionary'''\n",
    "    return random.choice(list(trie.get_similar(word, threshold)))\n",
    "    \n",
    "def correct_word_naive(word, threshold=1):\n",
    "    '''correct word using generation'''\n",
    "    return random.choice(list(naive_correct.get_similar(word, threshold)))"
   ]
  },
  {
   "cell_type": "code",
   "execution_count": 364,
   "metadata": {},
   "outputs": [
    {
     "data": {
      "text/plain": [
       "'добрый'"
      ]
     },
     "execution_count": 364,
     "metadata": {},
     "output_type": "execute_result"
    }
   ],
   "source": [
    "correct_word_naive(\"добрык\")"
   ]
  },
  {
   "cell_type": "markdown",
   "metadata": {},
   "source": [
    "### 2.3 Все вместе\n",
    "Теперь соберем поиск и исправление опечаток в одну систему, которая будет принимать текст и править его. Также замерим скорость по сравнению с \"менее наивным подходом\"."
   ]
  },
  {
   "cell_type": "code",
   "execution_count": 375,
   "metadata": {},
   "outputs": [],
   "source": [
    "def correct_mistakes(text):\n",
    "    '''returns corrected text'''\n",
    "    words = text.split()\n",
    "    corrected_words = []\n",
    "    for word in words:\n",
    "        if is_error(word, corpus_trigrams):\n",
    "            corrected_words.append(correct_word(word))\n",
    "        else:\n",
    "            corrected_words.append(word)\n",
    "    return ' '.join(corrected_words)\n",
    "\n",
    "def correct_mistakes_naive(text):\n",
    "    '''returns corrected text using generation'''\n",
    "    words = text.split()\n",
    "    corrected_words = []\n",
    "    for word in words:\n",
    "        if is_error(word, corpus_trigrams):\n",
    "            corrected_words.append(correct_word_naive(word))\n",
    "        else:\n",
    "            correct_word(word)\n",
    "    return ' '.join(corrected_words)"
   ]
  },
  {
   "cell_type": "code",
   "execution_count": 381,
   "metadata": {},
   "outputs": [
    {
     "data": {
      "text/plain": [
       "'добрый вечер'"
      ]
     },
     "execution_count": 381,
     "metadata": {},
     "output_type": "execute_result"
    }
   ],
   "source": [
    "correct_mistakes(\"добрык вехер\")"
   ]
  },
  {
   "cell_type": "code",
   "execution_count": 379,
   "metadata": {},
   "outputs": [
    {
     "data": {
      "text/plain": [
       "'добрый вечер'"
      ]
     },
     "execution_count": 379,
     "metadata": {},
     "output_type": "execute_result"
    }
   ],
   "source": [
    "correct_mistakes_naive(\"добрык вехер\")"
   ]
  },
  {
   "cell_type": "code",
   "execution_count": null,
   "metadata": {},
   "outputs": [],
   "source": []
  }
 ],
 "metadata": {
  "kernelspec": {
   "display_name": "Python 3",
   "language": "python",
   "name": "python3"
  },
  "language_info": {
   "codemirror_mode": {
    "name": "ipython",
    "version": 3
   },
   "file_extension": ".py",
   "mimetype": "text/x-python",
   "name": "python",
   "nbconvert_exporter": "python",
   "pygments_lexer": "ipython3",
   "version": "3.7.9"
  }
 },
 "nbformat": 4,
 "nbformat_minor": 4
}
