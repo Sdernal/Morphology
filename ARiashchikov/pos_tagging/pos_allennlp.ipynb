{
 "cells": [
  {
   "cell_type": "code",
   "execution_count": 18,
   "metadata": {
    "colab": {
     "base_uri": "https://localhost:8080/"
    },
    "id": "7VJ0OjC5IjGq",
    "outputId": "9fdf2aa9-2c77-41ad-c15d-d60b1d770fd5"
   },
   "outputs": [
    {
     "name": "stdout",
     "output_type": "stream",
     "text": [
      "Requirement already up-to-date: kaggle in /usr/local/lib/python3.6/dist-packages (1.5.10)\n",
      "Requirement already satisfied, skipping upgrade: urllib3 in /usr/local/lib/python3.6/dist-packages (from kaggle) (1.24.3)\n",
      "Requirement already satisfied, skipping upgrade: python-slugify in /usr/local/lib/python3.6/dist-packages (from kaggle) (4.0.1)\n",
      "Requirement already satisfied, skipping upgrade: certifi in /usr/local/lib/python3.6/dist-packages (from kaggle) (2020.11.8)\n",
      "Requirement already satisfied, skipping upgrade: tqdm in /usr/local/lib/python3.6/dist-packages (from kaggle) (4.41.1)\n",
      "Requirement already satisfied, skipping upgrade: six>=1.10 in /usr/local/lib/python3.6/dist-packages (from kaggle) (1.15.0)\n",
      "Requirement already satisfied, skipping upgrade: requests in /usr/local/lib/python3.6/dist-packages (from kaggle) (2.23.0)\n",
      "Requirement already satisfied, skipping upgrade: python-dateutil in /usr/local/lib/python3.6/dist-packages (from kaggle) (2.8.1)\n",
      "Requirement already satisfied, skipping upgrade: text-unidecode>=1.3 in /usr/local/lib/python3.6/dist-packages (from python-slugify->kaggle) (1.3)\n",
      "Requirement already satisfied, skipping upgrade: chardet<4,>=3.0.2 in /usr/local/lib/python3.6/dist-packages (from requests->kaggle) (3.0.4)\n",
      "Requirement already satisfied, skipping upgrade: idna<3,>=2.5 in /usr/local/lib/python3.6/dist-packages (from requests->kaggle) (2.10)\n",
      "mkdir: cannot create directory ‘/root/.kaggle’: File exists\n",
      "rupos2018.zip: Skipping, found more recently modified local copy (use --force to force download)\n",
      "Archive:  rupos2018.zip\n",
      "  inflating: data/sample_submission.csv  \n",
      "  inflating: data/test.csv           \n",
      "  inflating: data/train.csv          \n"
     ]
    }
   ],
   "source": [
    "# Скачивание данных с kaggle по гайду: https://www.kaggle.com/general/74235\n",
    "! pip install --upgrade kaggle\n",
    "! mkdir ~/.kaggle\n",
    "! cp kaggle.json ~/.kaggle/\n",
    "! chmod 600 ~/.kaggle/kaggle.json\n",
    "! kaggle competitions download -c rupos2018\n",
    "! mkdir data\n",
    "! unzip rupos2018.zip -d data"
   ]
  },
  {
   "cell_type": "code",
   "execution_count": 20,
   "metadata": {
    "colab": {
     "base_uri": "https://localhost:8080/"
    },
    "id": "FG-5d1NWM-ua",
    "outputId": "ab6495ef-c4c2-4816-daf3-a1baaa0782f9"
   },
   "outputs": [
    {
     "name": "stdout",
     "output_type": "stream",
     "text": [
      "--2020-12-07 17:24:36--  http://service.hucompute.org/embeddings/api/v1/embeddings/fasttext_crawl_cc.ru.300.vec/download\n",
      "Resolving service.hucompute.org (service.hucompute.org)... 141.2.89.20\n",
      "Connecting to service.hucompute.org (service.hucompute.org)|141.2.89.20|:80... connected.\n",
      "HTTP request sent, awaiting response... 200 OK\n",
      "Length: 4536408847 (4.2G) [application/octet-stream]\n",
      "Saving to: ‘cc.ru.300.vec’\n",
      "\n",
      "cc.ru.300.vec       100%[===================>]   4.22G  11.6MB/s    in 6m 25s  \n",
      "\n",
      "2020-12-07 17:31:01 (11.2 MB/s) - ‘cc.ru.300.vec’ saved [4536408847/4536408847]\n",
      "\n"
     ]
    }
   ],
   "source": [
    "# загрузка предобученных эмбеддингов\n",
    "! wget -O cc.ru.300.vec http://service.hucompute.org/embeddings/api/v1/embeddings/fasttext_crawl_cc.ru.300.vec/download"
   ]
  },
  {
   "cell_type": "code",
   "execution_count": 35,
   "metadata": {
    "colab": {
     "base_uri": "https://localhost:8080/",
     "height": 1000
    },
    "id": "Sc7Mpl2aQdRK",
    "outputId": "6fc1c4b2-4fb2-427c-c186-d127aa1f0506"
   },
   "outputs": [
    {
     "name": "stdout",
     "output_type": "stream",
     "text": [
      "Requirement already satisfied: allennlp==0.9.0 in /usr/local/lib/python3.6/dist-packages (0.9.0)\n",
      "Requirement already satisfied: flask>=1.0.2 in /usr/local/lib/python3.6/dist-packages (from allennlp==0.9.0) (1.1.2)\n",
      "Requirement already satisfied: pytest in /usr/local/lib/python3.6/dist-packages (from allennlp==0.9.0) (3.6.4)\n",
      "Requirement already satisfied: tensorboardX>=1.2 in /usr/local/lib/python3.6/dist-packages (from allennlp==0.9.0) (2.1)\n",
      "Requirement already satisfied: parsimonious>=0.8.0 in /usr/local/lib/python3.6/dist-packages (from allennlp==0.9.0) (0.8.1)\n",
      "Requirement already satisfied: requests>=2.18 in /usr/local/lib/python3.6/dist-packages (from allennlp==0.9.0) (2.23.0)\n",
      "Requirement already satisfied: pytorch-pretrained-bert>=0.6.0 in /usr/local/lib/python3.6/dist-packages (from allennlp==0.9.0) (0.6.2)\n",
      "Requirement already satisfied: scikit-learn in /usr/local/lib/python3.6/dist-packages (from allennlp==0.9.0) (0.22.2.post1)\n",
      "Requirement already satisfied: responses>=0.7 in /usr/local/lib/python3.6/dist-packages (from allennlp==0.9.0) (0.12.1)\n",
      "Requirement already satisfied: sqlparse>=0.2.4 in /usr/local/lib/python3.6/dist-packages (from allennlp==0.9.0) (0.4.1)\n",
      "Requirement already satisfied: jsonpickle in /usr/local/lib/python3.6/dist-packages (from allennlp==0.9.0) (1.4.2)\n",
      "Requirement already satisfied: flaky in /usr/local/lib/python3.6/dist-packages (from allennlp==0.9.0) (3.7.0)\n",
      "Requirement already satisfied: pytz>=2017.3 in /usr/local/lib/python3.6/dist-packages (from allennlp==0.9.0) (2018.9)\n",
      "Requirement already satisfied: boto3 in /usr/local/lib/python3.6/dist-packages (from allennlp==0.9.0) (1.16.30)\n",
      "Requirement already satisfied: scipy in /usr/local/lib/python3.6/dist-packages (from allennlp==0.9.0) (1.4.1)\n",
      "Requirement already satisfied: word2number>=1.1 in /usr/local/lib/python3.6/dist-packages (from allennlp==0.9.0) (1.1)\n",
      "Requirement already satisfied: tqdm>=4.19 in /usr/local/lib/python3.6/dist-packages (from allennlp==0.9.0) (4.41.1)\n",
      "Requirement already satisfied: torch>=1.2.0 in /usr/local/lib/python3.6/dist-packages (from allennlp==0.9.0) (1.7.0+cu101)\n",
      "Requirement already satisfied: nltk in /usr/local/lib/python3.6/dist-packages (from allennlp==0.9.0) (3.2.5)\n",
      "Requirement already satisfied: numpydoc>=0.8.0 in /usr/local/lib/python3.6/dist-packages (from allennlp==0.9.0) (1.1.0)\n",
      "Requirement already satisfied: h5py in /usr/local/lib/python3.6/dist-packages (from allennlp==0.9.0) (2.10.0)\n",
      "Requirement already satisfied: flask-cors>=3.0.7 in /usr/local/lib/python3.6/dist-packages (from allennlp==0.9.0) (3.0.9)\n",
      "Requirement already satisfied: unidecode in /usr/local/lib/python3.6/dist-packages (from allennlp==0.9.0) (1.1.1)\n",
      "Requirement already satisfied: overrides in /usr/local/lib/python3.6/dist-packages (from allennlp==0.9.0) (3.1.0)\n",
      "Requirement already satisfied: matplotlib>=2.2.3 in /usr/local/lib/python3.6/dist-packages (from allennlp==0.9.0) (3.2.2)\n",
      "Requirement already satisfied: numpy in /usr/local/lib/python3.6/dist-packages (from allennlp==0.9.0) (1.18.5)\n",
      "Requirement already satisfied: conllu==1.3.1 in /usr/local/lib/python3.6/dist-packages (from allennlp==0.9.0) (1.3.1)\n",
      "Requirement already satisfied: spacy<2.2,>=2.1.0 in /usr/local/lib/python3.6/dist-packages (from allennlp==0.9.0) (2.1.9)\n",
      "Requirement already satisfied: pytorch-transformers==1.1.0 in /usr/local/lib/python3.6/dist-packages (from allennlp==0.9.0) (1.1.0)\n",
      "Requirement already satisfied: gevent>=1.3.6 in /usr/local/lib/python3.6/dist-packages (from allennlp==0.9.0) (20.9.0)\n",
      "Requirement already satisfied: ftfy in /usr/local/lib/python3.6/dist-packages (from allennlp==0.9.0) (5.8)\n",
      "Requirement already satisfied: editdistance in /usr/local/lib/python3.6/dist-packages (from allennlp==0.9.0) (0.5.3)\n",
      "Requirement already satisfied: jsonnet>=0.10.0; sys_platform != \"win32\" in /usr/local/lib/python3.6/dist-packages (from allennlp==0.9.0) (0.17.0)\n",
      "Requirement already satisfied: Werkzeug>=0.15 in /usr/local/lib/python3.6/dist-packages (from flask>=1.0.2->allennlp==0.9.0) (1.0.1)\n",
      "Requirement already satisfied: itsdangerous>=0.24 in /usr/local/lib/python3.6/dist-packages (from flask>=1.0.2->allennlp==0.9.0) (1.1.0)\n",
      "Requirement already satisfied: click>=5.1 in /usr/local/lib/python3.6/dist-packages (from flask>=1.0.2->allennlp==0.9.0) (7.1.2)\n",
      "Requirement already satisfied: Jinja2>=2.10.1 in /usr/local/lib/python3.6/dist-packages (from flask>=1.0.2->allennlp==0.9.0) (2.11.2)\n",
      "Requirement already satisfied: more-itertools>=4.0.0 in /usr/local/lib/python3.6/dist-packages (from pytest->allennlp==0.9.0) (8.6.0)\n",
      "Requirement already satisfied: setuptools in /usr/local/lib/python3.6/dist-packages (from pytest->allennlp==0.9.0) (50.3.2)\n",
      "Requirement already satisfied: six>=1.10.0 in /usr/local/lib/python3.6/dist-packages (from pytest->allennlp==0.9.0) (1.15.0)\n",
      "Requirement already satisfied: py>=1.5.0 in /usr/local/lib/python3.6/dist-packages (from pytest->allennlp==0.9.0) (1.9.0)\n",
      "Requirement already satisfied: atomicwrites>=1.0 in /usr/local/lib/python3.6/dist-packages (from pytest->allennlp==0.9.0) (1.4.0)\n",
      "Requirement already satisfied: pluggy<0.8,>=0.5 in /usr/local/lib/python3.6/dist-packages (from pytest->allennlp==0.9.0) (0.7.1)\n",
      "Requirement already satisfied: attrs>=17.4.0 in /usr/local/lib/python3.6/dist-packages (from pytest->allennlp==0.9.0) (20.3.0)\n",
      "Requirement already satisfied: protobuf>=3.8.0 in /usr/local/lib/python3.6/dist-packages (from tensorboardX>=1.2->allennlp==0.9.0) (3.12.4)\n",
      "Requirement already satisfied: idna<3,>=2.5 in /usr/local/lib/python3.6/dist-packages (from requests>=2.18->allennlp==0.9.0) (2.10)\n",
      "Requirement already satisfied: certifi>=2017.4.17 in /usr/local/lib/python3.6/dist-packages (from requests>=2.18->allennlp==0.9.0) (2020.11.8)\n",
      "Collecting urllib3!=1.25.0,!=1.25.1,<1.26,>=1.21.1\n",
      "\u001b[?25l  Downloading https://files.pythonhosted.org/packages/56/aa/4ef5aa67a9a62505db124a5cb5262332d1d4153462eb8fd89c9fa41e5d92/urllib3-1.25.11-py2.py3-none-any.whl (127kB)\n",
      "\u001b[K     |████████████████████████████████| 133kB 14.3MB/s \n",
      "\u001b[?25hRequirement already satisfied: chardet<4,>=3.0.2 in /usr/local/lib/python3.6/dist-packages (from requests>=2.18->allennlp==0.9.0) (3.0.4)\n",
      "Requirement already satisfied: regex in /usr/local/lib/python3.6/dist-packages (from pytorch-pretrained-bert>=0.6.0->allennlp==0.9.0) (2019.12.20)\n",
      "Requirement already satisfied: joblib>=0.11 in /usr/local/lib/python3.6/dist-packages (from scikit-learn->allennlp==0.9.0) (0.17.0)\n",
      "Requirement already satisfied: importlib-metadata; python_version < \"3.8\" in /usr/local/lib/python3.6/dist-packages (from jsonpickle->allennlp==0.9.0) (2.0.0)\n",
      "Requirement already satisfied: s3transfer<0.4.0,>=0.3.0 in /usr/local/lib/python3.6/dist-packages (from boto3->allennlp==0.9.0) (0.3.3)\n",
      "Requirement already satisfied: botocore<1.20.0,>=1.19.30 in /usr/local/lib/python3.6/dist-packages (from boto3->allennlp==0.9.0) (1.19.30)\n",
      "Requirement already satisfied: jmespath<1.0.0,>=0.7.1 in /usr/local/lib/python3.6/dist-packages (from boto3->allennlp==0.9.0) (0.10.0)\n",
      "Requirement already satisfied: future in /usr/local/lib/python3.6/dist-packages (from torch>=1.2.0->allennlp==0.9.0) (0.16.0)\n",
      "Requirement already satisfied: typing-extensions in /usr/local/lib/python3.6/dist-packages (from torch>=1.2.0->allennlp==0.9.0) (3.7.4.3)\n",
      "Requirement already satisfied: dataclasses in /usr/local/lib/python3.6/dist-packages (from torch>=1.2.0->allennlp==0.9.0) (0.8)\n",
      "Requirement already satisfied: sphinx>=1.6.5 in /usr/local/lib/python3.6/dist-packages (from numpydoc>=0.8.0->allennlp==0.9.0) (1.8.5)\n",
      "Requirement already satisfied: python-dateutil>=2.1 in /usr/local/lib/python3.6/dist-packages (from matplotlib>=2.2.3->allennlp==0.9.0) (2.8.1)\n",
      "Requirement already satisfied: pyparsing!=2.0.4,!=2.1.2,!=2.1.6,>=2.0.1 in /usr/local/lib/python3.6/dist-packages (from matplotlib>=2.2.3->allennlp==0.9.0) (2.4.7)\n",
      "Requirement already satisfied: kiwisolver>=1.0.1 in /usr/local/lib/python3.6/dist-packages (from matplotlib>=2.2.3->allennlp==0.9.0) (1.3.1)\n",
      "Requirement already satisfied: cycler>=0.10 in /usr/local/lib/python3.6/dist-packages (from matplotlib>=2.2.3->allennlp==0.9.0) (0.10.0)\n",
      "Requirement already satisfied: thinc<7.1.0,>=7.0.8 in /usr/local/lib/python3.6/dist-packages (from spacy<2.2,>=2.1.0->allennlp==0.9.0) (7.0.8)\n",
      "Requirement already satisfied: cymem<2.1.0,>=2.0.2 in /usr/local/lib/python3.6/dist-packages (from spacy<2.2,>=2.1.0->allennlp==0.9.0) (2.0.4)\n",
      "Requirement already satisfied: wasabi<1.1.0,>=0.2.0 in /usr/local/lib/python3.6/dist-packages (from spacy<2.2,>=2.1.0->allennlp==0.9.0) (0.8.0)\n",
      "Requirement already satisfied: blis<0.3.0,>=0.2.2 in /usr/local/lib/python3.6/dist-packages (from spacy<2.2,>=2.1.0->allennlp==0.9.0) (0.2.4)\n",
      "Requirement already satisfied: plac<1.0.0,>=0.9.6 in /usr/local/lib/python3.6/dist-packages (from spacy<2.2,>=2.1.0->allennlp==0.9.0) (0.9.6)\n",
      "Requirement already satisfied: srsly<1.1.0,>=0.0.6 in /usr/local/lib/python3.6/dist-packages (from spacy<2.2,>=2.1.0->allennlp==0.9.0) (1.0.4)\n",
      "Requirement already satisfied: murmurhash<1.1.0,>=0.28.0 in /usr/local/lib/python3.6/dist-packages (from spacy<2.2,>=2.1.0->allennlp==0.9.0) (1.0.4)\n",
      "Requirement already satisfied: preshed<2.1.0,>=2.0.1 in /usr/local/lib/python3.6/dist-packages (from spacy<2.2,>=2.1.0->allennlp==0.9.0) (2.0.1)\n",
      "Requirement already satisfied: sentencepiece in /usr/local/lib/python3.6/dist-packages (from pytorch-transformers==1.1.0->allennlp==0.9.0) (0.1.94)\n",
      "Requirement already satisfied: zope.interface in /usr/local/lib/python3.6/dist-packages (from gevent>=1.3.6->allennlp==0.9.0) (5.2.0)\n",
      "Requirement already satisfied: zope.event in /usr/local/lib/python3.6/dist-packages (from gevent>=1.3.6->allennlp==0.9.0) (4.5.0)\n",
      "Requirement already satisfied: greenlet>=0.4.17; platform_python_implementation == \"CPython\" in /usr/local/lib/python3.6/dist-packages (from gevent>=1.3.6->allennlp==0.9.0) (0.4.17)\n",
      "Requirement already satisfied: wcwidth in /usr/local/lib/python3.6/dist-packages (from ftfy->allennlp==0.9.0) (0.2.5)\n",
      "Requirement already satisfied: MarkupSafe>=0.23 in /usr/local/lib/python3.6/dist-packages (from Jinja2>=2.10.1->flask>=1.0.2->allennlp==0.9.0) (1.1.1)\n",
      "Requirement already satisfied: zipp>=0.5 in /usr/local/lib/python3.6/dist-packages (from importlib-metadata; python_version < \"3.8\"->jsonpickle->allennlp==0.9.0) (3.4.0)\n",
      "Requirement already satisfied: docutils>=0.11 in /usr/local/lib/python3.6/dist-packages (from sphinx>=1.6.5->numpydoc>=0.8.0->allennlp==0.9.0) (0.16)\n",
      "Requirement already satisfied: alabaster<0.8,>=0.7 in /usr/local/lib/python3.6/dist-packages (from sphinx>=1.6.5->numpydoc>=0.8.0->allennlp==0.9.0) (0.7.12)\n",
      "Requirement already satisfied: sphinxcontrib-websupport in /usr/local/lib/python3.6/dist-packages (from sphinx>=1.6.5->numpydoc>=0.8.0->allennlp==0.9.0) (1.2.4)\n",
      "Requirement already satisfied: imagesize in /usr/local/lib/python3.6/dist-packages (from sphinx>=1.6.5->numpydoc>=0.8.0->allennlp==0.9.0) (1.2.0)\n",
      "Requirement already satisfied: Pygments>=2.0 in /usr/local/lib/python3.6/dist-packages (from sphinx>=1.6.5->numpydoc>=0.8.0->allennlp==0.9.0) (2.6.1)\n",
      "Requirement already satisfied: babel!=2.0,>=1.3 in /usr/local/lib/python3.6/dist-packages (from sphinx>=1.6.5->numpydoc>=0.8.0->allennlp==0.9.0) (2.9.0)\n",
      "Requirement already satisfied: packaging in /usr/local/lib/python3.6/dist-packages (from sphinx>=1.6.5->numpydoc>=0.8.0->allennlp==0.9.0) (20.4)\n",
      "Requirement already satisfied: snowballstemmer>=1.1 in /usr/local/lib/python3.6/dist-packages (from sphinx>=1.6.5->numpydoc>=0.8.0->allennlp==0.9.0) (2.0.0)\n",
      "Requirement already satisfied: sphinxcontrib-serializinghtml in /usr/local/lib/python3.6/dist-packages (from sphinxcontrib-websupport->sphinx>=1.6.5->numpydoc>=0.8.0->allennlp==0.9.0) (1.1.4)\n",
      "\u001b[31mERROR: datascience 0.10.6 has requirement folium==0.2.1, but you'll have folium 0.8.3 which is incompatible.\u001b[0m\n",
      "Installing collected packages: urllib3\n",
      "  Found existing installation: urllib3 1.26.2\n",
      "    Uninstalling urllib3-1.26.2:\n",
      "      Successfully uninstalled urllib3-1.26.2\n",
      "Successfully installed urllib3-1.25.11\n"
     ]
    },
    {
     "data": {
      "application/vnd.colab-display-data+json": {
       "pip_warning": {
        "packages": [
         "urllib3"
        ]
       }
      }
     },
     "metadata": {
      "tags": []
     },
     "output_type": "display_data"
    }
   ],
   "source": [
    "! pip install allennlp==0.9.0"
   ]
  },
  {
   "cell_type": "markdown",
   "metadata": {
    "id": "Jg-vVIINN5c2"
   },
   "source": [
    "Далее основная часть ноутбука взята с семинарского занятия по allennlp"
   ]
  },
  {
   "cell_type": "code",
   "execution_count": 1,
   "metadata": {
    "id": "zwOCb5Nd8_Ur"
   },
   "outputs": [],
   "source": [
    "import torch\n",
    "from src_allennlp.model import SimpleTagger\n",
    "from src_allennlp.reader import RuPosReader\n",
    "from allennlp.data.vocabulary import Vocabulary\n",
    "from allennlp.common import Params\n",
    "from allennlp.modules.text_field_embedders import BasicTextFieldEmbedder\n",
    "from allennlp.modules.token_embedders import Embedding, TokenCharactersEncoder\n",
    "from allennlp.modules.seq2seq_encoders import PytorchSeq2SeqWrapper\n",
    "from allennlp.modules.seq2vec_encoders import CnnEncoder\n",
    "from allennlp.data.iterators import BucketIterator\n",
    "from allennlp.training.trainer import Trainer"
   ]
  },
  {
   "cell_type": "markdown",
   "metadata": {
    "id": "5yL-1szH8_Ur"
   },
   "source": [
    "Из всех импортов тут только два самописных класса - ридер и, собственно, сама модель."
   ]
  },
  {
   "cell_type": "code",
   "execution_count": 2,
   "metadata": {
    "colab": {
     "base_uri": "https://localhost:8080/"
    },
    "id": "qivRYRd68_Ur",
    "outputId": "8d8e5f71-209c-442b-efa0-1cc5c2e57c85"
   },
   "outputs": [
    {
     "name": "stderr",
     "output_type": "stream",
     "text": [
      "/usr/local/lib/python3.6/dist-packages/allennlp/data/token_indexers/token_characters_indexer.py:56: UserWarning: You are using the default value (0) of `min_padding_length`, which can cause some subtle bugs (more info see https://github.com/allenai/allennlp/issues/1954). Strongly recommend to set a value, usually the maximum size of the convolutional layer size when using CnnEncoder.\n",
      "  UserWarning)\n",
      "48171it [00:04, 11690.76it/s]\n",
      "100%|██████████| 48171/48171 [00:05<00:00, 8801.97it/s]\n",
      "100%|██████████| 2000000/2000000 [00:13<00:00, 149789.24it/s]\n"
     ]
    },
    {
     "name": "stdout",
     "output_type": "stream",
     "text": [
      "Vocabulary with namespaces:\n",
      " \tNon Padded Namespaces: {'*tags', '*labels'}\n",
      " \tNamespace: tokens, Size: 98882 \n",
      " \tNamespace: token_characters, Size: 159 \n",
      " \tNamespace: labels, Size: 17 \n",
      "\n",
      "{0: 'NOUN', 1: 'PUNCT', 2: 'VERB', 3: 'ADJ', 4: 'ADP', 5: 'ADV', 6: 'PROPN', 7: 'PRON', 8: 'CONJ', 9: 'PART', 10: 'DET', 11: 'SCONJ', 12: 'NUM', 13: 'AUX', 14: 'X', 15: 'INTJ', 16: 'SYM'}\n"
     ]
    }
   ],
   "source": [
    "reader = RuPosReader()\n",
    "dataset = reader.read('data/train.csv')\n",
    "vocab = Vocabulary.from_instances(dataset, pretrained_files={'tokens':'./cc.ru.300.vec'}, only_include_pretrained_words=False)\n",
    "print(vocab)\n",
    "print(vocab.get_index_to_token_vocabulary('labels'))"
   ]
  },
  {
   "cell_type": "markdown",
   "metadata": {
    "id": "oF7Rq_BN8_Ur"
   },
   "source": [
    "В ячейке выше мы прочитали датасет и сделали из него словарь"
   ]
  },
  {
   "cell_type": "markdown",
   "metadata": {},
   "source": [
    "Реализована модель из статьи: [End-to-end Sequence Labeling via Bi-directional LSTM-CNNs-CRF](https://arxiv.org/pdf/1603.01354.pdf)"
   ]
  },
  {
   "cell_type": "code",
   "execution_count": 3,
   "metadata": {
    "colab": {
     "base_uri": "https://localhost:8080/"
    },
    "id": "tWbz3eHT8_Ur",
    "outputId": "75d29191-9ad4-43c9-b1be-56ceaf0cc261"
   },
   "outputs": [
    {
     "name": "stderr",
     "output_type": "stream",
     "text": [
      "100%|██████████| 2000000/2000000 [00:22<00:00, 90230.83it/s] \n"
     ]
    }
   ],
   "source": [
    "word_emb_dim = 300\n",
    "char_emb_dim = 50\n",
    "char_repr_dim = 100\n",
    "cnn_encoder_filters_num = 32\n",
    "hidden_dim = 300\n",
    "\n",
    "params = Params({\"pretrained_file\": './cc.ru.300.vec', \"embedding_dim\": word_emb_dim, \"trainable\": False})\n",
    "word_embed = Embedding.from_params(vocab, params)\n",
    "char_embed = Embedding(num_embeddings=vocab.get_vocab_size('token_characters'), embedding_dim=char_emb_dim)\n",
    "chars_cnn_encoder = CnnEncoder(embedding_dim=char_emb_dim, num_filters=cnn_encoder_filters_num, ngram_filter_sizes=(3,3), output_dim=char_repr_dim)\n",
    "token_chars_encoder = TokenCharactersEncoder(char_embed, chars_cnn_encoder)\n",
    "embedder = BasicTextFieldEmbedder({\"tokens\": word_embed, \"chars\": token_chars_encoder})\n",
    "encoder = PytorchSeq2SeqWrapper(torch.nn.LSTM(embedder.get_output_dim(), hidden_dim, batch_first=True, bidirectional=True, num_layers=2))\n",
    "model = SimpleTagger(vocab, embedder, encoder)"
   ]
  },
  {
   "cell_type": "code",
   "execution_count": 4,
   "metadata": {
    "id": "cLfdhX-28_Ur"
   },
   "outputs": [],
   "source": [
    "train_dataset = dataset[:-1000]\n",
    "dev_dataset = dataset[-1000:]"
   ]
  },
  {
   "cell_type": "code",
   "execution_count": 5,
   "metadata": {
    "id": "ygkbTo2-8_Us"
   },
   "outputs": [],
   "source": [
    "device = torch.device('cuda')\n",
    "model.to(device)\n",
    "optimizer = torch.optim.Adam(model.parameters())\n",
    "iterator = BucketIterator(batch_size=256, sorting_keys=[(\"tokens\", \"num_tokens\")], biggest_batch_first=True)\n",
    "iterator.index_with(vocab)\n",
    "trainer = Trainer(model=model,\n",
    "                  optimizer=optimizer,\n",
    "                  iterator=iterator,\n",
    "                  train_dataset=train_dataset,\n",
    "                  validation_dataset=dev_dataset,\n",
    "                  patience=5,\n",
    "                  num_epochs=20,\n",
    "                  cuda_device=0,\n",
    "                  validation_metric=\"+fscore\")"
   ]
  },
  {
   "cell_type": "code",
   "execution_count": 6,
   "metadata": {
    "colab": {
     "base_uri": "https://localhost:8080/"
    },
    "id": "rMepI50ufORJ",
    "outputId": "3a5fdbd8-4dc9-4304-fdb2-aa73fa2ed261"
   },
   "outputs": [
    {
     "name": "stderr",
     "output_type": "stream",
     "text": [
      "accuracy: 0.6111, precision: 0.6111, recall: 0.6111, fscore: 0.6111, loss: 5362.5973 ||: 100%|██████████| 185/185 [00:39<00:00,  4.64it/s]\n",
      "accuracy: 0.8841, precision: 0.8841, recall: 0.8841, fscore: 0.8841, loss: 1533.7587 ||: 100%|██████████| 4/4 [00:00<00:00,  7.81it/s]\n",
      "accuracy: 0.9307, precision: 0.9307, recall: 0.9307, fscore: 0.9307, loss: 996.6652 ||: 100%|██████████| 185/185 [00:30<00:00,  6.02it/s]\n",
      "accuracy: 0.9568, precision: 0.9568, recall: 0.9568, fscore: 0.9568, loss: 591.0114 ||: 100%|██████████| 4/4 [00:00<00:00, 11.99it/s]\n",
      "accuracy: 0.9649, precision: 0.9649, recall: 0.9649, fscore: 0.9649, loss: 511.4359 ||: 100%|██████████| 185/185 [00:30<00:00,  6.09it/s]\n",
      "accuracy: 0.9735, precision: 0.9735, recall: 0.9735, fscore: 0.9735, loss: 361.9126 ||: 100%|██████████| 4/4 [00:00<00:00, 11.04it/s]\n",
      "accuracy: 0.9727, precision: 0.9727, recall: 0.9727, fscore: 0.9727, loss: 387.9391 ||: 100%|██████████| 185/185 [00:30<00:00,  6.03it/s]\n",
      "accuracy: 0.9790, precision: 0.9790, recall: 0.9790, fscore: 0.9790, loss: 293.7406 ||: 100%|██████████| 4/4 [00:00<00:00, 11.62it/s]\n",
      "accuracy: 0.9778, precision: 0.9778, recall: 0.9778, fscore: 0.9778, loss: 312.5763 ||: 100%|██████████| 185/185 [00:30<00:00,  5.97it/s]\n",
      "accuracy: 0.9805, precision: 0.9805, recall: 0.9805, fscore: 0.9805, loss: 264.0039 ||: 100%|██████████| 4/4 [00:00<00:00, 12.26it/s]\n",
      "accuracy: 0.9802, precision: 0.9802, recall: 0.9802, fscore: 0.9802, loss: 272.6977 ||: 100%|██████████| 185/185 [00:31<00:00,  5.83it/s]\n",
      "accuracy: 0.9832, precision: 0.9832, recall: 0.9832, fscore: 0.9832, loss: 233.5930 ||: 100%|██████████| 4/4 [00:00<00:00, 12.25it/s]\n",
      "accuracy: 0.9816, precision: 0.9816, recall: 0.9816, fscore: 0.9816, loss: 250.4157 ||: 100%|██████████| 185/185 [00:31<00:00,  5.89it/s]\n",
      "accuracy: 0.9821, precision: 0.9821, recall: 0.9821, fscore: 0.9821, loss: 238.3416 ||: 100%|██████████| 4/4 [00:00<00:00, 11.58it/s]\n",
      "accuracy: 0.9836, precision: 0.9836, recall: 0.9836, fscore: 0.9836, loss: 219.4837 ||: 100%|██████████| 185/185 [00:31<00:00,  5.95it/s]\n",
      "accuracy: 0.9840, precision: 0.9840, recall: 0.9840, fscore: 0.9840, loss: 218.2284 ||: 100%|██████████| 4/4 [00:00<00:00, 12.03it/s]\n",
      "accuracy: 0.9848, precision: 0.9848, recall: 0.9848, fscore: 0.9848, loss: 201.5563 ||: 100%|██████████| 185/185 [00:31<00:00,  5.93it/s]\n",
      "accuracy: 0.9859, precision: 0.9859, recall: 0.9859, fscore: 0.9859, loss: 213.8479 ||: 100%|██████████| 4/4 [00:00<00:00, 12.54it/s]\n",
      "accuracy: 0.9861, precision: 0.9861, recall: 0.9861, fscore: 0.9861, loss: 183.3695 ||: 100%|██████████| 185/185 [00:31<00:00,  5.94it/s]\n",
      "accuracy: 0.9845, precision: 0.9845, recall: 0.9845, fscore: 0.9845, loss: 214.6028 ||: 100%|██████████| 4/4 [00:00<00:00, 12.76it/s]\n",
      "accuracy: 0.9873, precision: 0.9873, recall: 0.9873, fscore: 0.9873, loss: 166.2884 ||: 100%|██████████| 185/185 [00:31<00:00,  5.86it/s]\n",
      "accuracy: 0.9852, precision: 0.9852, recall: 0.9852, fscore: 0.9852, loss: 194.7579 ||: 100%|██████████| 4/4 [00:00<00:00, 12.40it/s]\n",
      "accuracy: 0.9882, precision: 0.9882, recall: 0.9882, fscore: 0.9882, loss: 151.6026 ||: 100%|██████████| 185/185 [00:32<00:00,  5.77it/s]\n",
      "accuracy: 0.9856, precision: 0.9856, recall: 0.9856, fscore: 0.9856, loss: 202.3794 ||: 100%|██████████| 4/4 [00:00<00:00, 12.28it/s]\n",
      "accuracy: 0.9900, precision: 0.9900, recall: 0.9900, fscore: 0.9900, loss: 129.7798 ||: 100%|██████████| 185/185 [00:31<00:00,  5.92it/s]\n",
      "accuracy: 0.9862, precision: 0.9862, recall: 0.9862, fscore: 0.9862, loss: 196.7890 ||: 100%|██████████| 4/4 [00:00<00:00, 11.89it/s]\n",
      "accuracy: 0.9913, precision: 0.9913, recall: 0.9913, fscore: 0.9913, loss: 113.5195 ||: 100%|██████████| 185/185 [00:31<00:00,  5.92it/s]\n",
      "accuracy: 0.9857, precision: 0.9857, recall: 0.9857, fscore: 0.9857, loss: 206.4112 ||: 100%|██████████| 4/4 [00:00<00:00, 12.12it/s]\n",
      "accuracy: 0.9913, precision: 0.9913, recall: 0.9913, fscore: 0.9913, loss: 111.3955 ||: 100%|██████████| 185/185 [00:31<00:00,  5.90it/s]\n",
      "accuracy: 0.9863, precision: 0.9863, recall: 0.9863, fscore: 0.9863, loss: 199.5904 ||: 100%|██████████| 4/4 [00:00<00:00, 11.70it/s]\n",
      "accuracy: 0.9934, precision: 0.9934, recall: 0.9934, fscore: 0.9934, loss: 84.5927 ||: 100%|██████████| 185/185 [00:31<00:00,  5.84it/s]\n",
      "accuracy: 0.9855, precision: 0.9855, recall: 0.9855, fscore: 0.9855, loss: 216.3395 ||: 100%|██████████| 4/4 [00:00<00:00, 12.16it/s]\n",
      "accuracy: 0.9941, precision: 0.9941, recall: 0.9941, fscore: 0.9941, loss: 74.3580 ||: 100%|██████████| 185/185 [00:31<00:00,  5.89it/s]\n",
      "accuracy: 0.9850, precision: 0.9850, recall: 0.9850, fscore: 0.9850, loss: 226.7105 ||: 100%|██████████| 4/4 [00:00<00:00, 10.71it/s]\n",
      "accuracy: 0.9956, precision: 0.9956, recall: 0.9956, fscore: 0.9956, loss: 56.2294 ||: 100%|██████████| 185/185 [00:31<00:00,  5.79it/s]\n",
      "accuracy: 0.9861, precision: 0.9861, recall: 0.9861, fscore: 0.9861, loss: 231.3810 ||: 100%|██████████| 4/4 [00:00<00:00, 11.76it/s]\n",
      "accuracy: 0.9966, precision: 0.9966, recall: 0.9966, fscore: 0.9966, loss: 44.5164 ||: 100%|██████████| 185/185 [00:31<00:00,  5.90it/s]\n",
      "accuracy: 0.9844, precision: 0.9844, recall: 0.9844, fscore: 0.9844, loss: 274.4749 ||: 100%|██████████| 4/4 [00:00<00:00, 12.18it/s]\n",
      "accuracy: 0.9964, precision: 0.9964, recall: 0.9964, fscore: 0.9964, loss: 45.2900 ||: 100%|██████████| 185/185 [00:31<00:00,  5.86it/s]\n",
      "accuracy: 0.9855, precision: 0.9855, recall: 0.9855, fscore: 0.9855, loss: 252.6904 ||: 100%|██████████| 4/4 [00:00<00:00, 11.68it/s]\n"
     ]
    },
    {
     "data": {
      "text/plain": [
       "{'best_epoch': 14,\n",
       " 'best_validation_accuracy': 0.9862840018441679,\n",
       " 'best_validation_fscore': 0.9862840175628662,\n",
       " 'best_validation_loss': 199.59039306640625,\n",
       " 'best_validation_precision': 0.9862840175628662,\n",
       " 'best_validation_recall': 0.9862840175628662,\n",
       " 'epoch': 18,\n",
       " 'peak_cpu_memory_MB': 3638.384,\n",
       " 'peak_gpu_0_memory_MB': 3043,\n",
       " 'training_accuracy': 0.9965824150373739,\n",
       " 'training_cpu_memory_MB': 3638.384,\n",
       " 'training_duration': '0:10:11.443372',\n",
       " 'training_epochs': 18,\n",
       " 'training_fscore': 0.9965823888778687,\n",
       " 'training_gpu_0_memory_MB': 3043,\n",
       " 'training_loss': 44.51641163181614,\n",
       " 'training_precision': 0.9965823888778687,\n",
       " 'training_recall': 0.9965823888778687,\n",
       " 'training_start_epoch': 0,\n",
       " 'validation_accuracy': 0.9844398340248963,\n",
       " 'validation_fscore': 0.9844398498535156,\n",
       " 'validation_loss': 274.47485542297363,\n",
       " 'validation_precision': 0.9844398498535156,\n",
       " 'validation_recall': 0.9844398498535156}"
      ]
     },
     "execution_count": 6,
     "metadata": {
      "tags": []
     },
     "output_type": "execute_result"
    }
   ],
   "source": [
    "trainer.train()"
   ]
  },
  {
   "cell_type": "code",
   "execution_count": 7,
   "metadata": {
    "id": "amWu7YZF8_Us"
   },
   "outputs": [],
   "source": [
    "model.eval()\n",
    "results = []\n",
    "with torch.no_grad():    \n",
    "    labels =  model.forward_on_instance(dev_dataset[1])['labels']"
   ]
  },
  {
   "cell_type": "code",
   "execution_count": 8,
   "metadata": {
    "colab": {
     "base_uri": "https://localhost:8080/"
    },
    "id": "Phoe5cMM8_Us",
    "outputId": "58d1acc9-5564-430f-9987-26b67a3a4f1a"
   },
   "outputs": [
    {
     "name": "stdout",
     "output_type": "stream",
     "text": [
      "Сегодня ADV\n",
      "Великий ADJ\n",
      "Октябрь PROPN\n",
      "прибавил VERB\n",
      "к ADP\n",
      "своей DET\n",
      "биографии NOUN\n",
      "еще ADV\n",
      "один NUM\n",
      "год NOUN\n",
      ". PUNCT\n"
     ]
    }
   ],
   "source": [
    "for token, label in zip(dev_dataset[1]['tokens'].tokens,labels):\n",
    "    print(token, label)"
   ]
  }
 ],
 "metadata": {
  "accelerator": "GPU",
  "colab": {
   "name": "pos_allennlp.ipynb",
   "provenance": [],
   "toc_visible": true
  },
  "kernelspec": {
   "display_name": "Python 3",
   "language": "python",
   "name": "python3"
  },
  "language_info": {
   "codemirror_mode": {
    "name": "ipython",
    "version": 3
   },
   "file_extension": ".py",
   "mimetype": "text/x-python",
   "name": "python",
   "nbconvert_exporter": "python",
   "pygments_lexer": "ipython3",
   "version": "3.8.1"
  }
 },
 "nbformat": 4,
 "nbformat_minor": 1
}
