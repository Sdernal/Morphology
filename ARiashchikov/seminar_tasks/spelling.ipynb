{
 "cells": [
  {
   "cell_type": "markdown",
   "metadata": {},
   "source": [
    "# Морфология 2\n",
    "В данном ноутбуке находится задание на триграммы и словарь. В качестве текста будем использовать томик войны и мира: https://goo.gl/qcVTLE \n",
    "\n",
    "Для начала напомним некоторые полезные инструменты на питоне"
   ]
  },
  {
   "cell_type": "markdown",
   "metadata": {},
   "source": [
    "## 1. Инструменты"
   ]
  },
  {
   "cell_type": "markdown",
   "metadata": {},
   "source": [
    "### 1.1. Регулярные выражения\n",
    "Исчерпывающий пост https://habr.com/ru/post/349860/"
   ]
  },
  {
   "cell_type": "code",
   "execution_count": 1,
   "metadata": {},
   "outputs": [
    {
     "name": "stdout",
     "output_type": "stream",
     "text": [
      "Находим числа в строке:  ['49', '432']\n",
      "Простенький токенизатор:  ['How', 'to', 'split', 'text']\n",
      "Еще один токенизатор:  ['How', 'to', 'split', 'text', 'Again']\n"
     ]
    }
   ],
   "source": [
    "import re\n",
    "\n",
    "# С помощью рег. выражения можно искать, заменять и сентезировать строки по шаблонам\n",
    "# Парочка простых примеров\n",
    "numbers = re.findall(r'\\d+', r'There is some numbers: 49 and 432')\n",
    "print('Находим числа в строке: ', numbers)\n",
    "\n",
    "print('Простенький токенизатор: ', re.sub('[,\\.?!]',' ','How, to? split. text!').split())\n",
    "\n",
    "print('Еще один токенизатор: ', re.split(r'\\W+', 'How, to? split. text! Again'))\n",
    "\n",
    "# в качестве тренировки придумайте свой токенизатор в случае, когда из текста нужно получить только русские слова."
   ]
  },
  {
   "cell_type": "code",
   "execution_count": 2,
   "metadata": {},
   "outputs": [
    {
     "name": "stdout",
     "output_type": "stream",
     "text": [
      "Русский токенизатор:  ['Пример', 'русского']\n"
     ]
    }
   ],
   "source": [
    "print('Русский токенизатор: ', re.findall(r'[А-Яа-яёЁ]+', 'Пример русского teksta'))"
   ]
  },
  {
   "cell_type": "markdown",
   "metadata": {},
   "source": [
    "### 1.2. Чтение файлов\n",
    "Чтобы не мучится самим с кодировками, приведем способ чтения файла корпуса."
   ]
  },
  {
   "cell_type": "code",
   "execution_count": 3,
   "metadata": {},
   "outputs": [],
   "source": [
    "import io\n",
    "wordlist = None\n",
    "with io.open('./wp.txt', \"r\") as text_file:\n",
    "    text = text_file.read().lower()\n",
    "    wordlist = re.findall(r'[а-яё]+', text)"
   ]
  },
  {
   "cell_type": "markdown",
   "metadata": {},
   "source": [
    "### 1.3. ООП\n",
    "В питоне можно создавать свои классы, скорее всего нам понадобится класс для хранения бора"
   ]
  },
  {
   "cell_type": "code",
   "execution_count": 4,
   "metadata": {},
   "outputs": [],
   "source": [
    "class Node:\n",
    "    def __init__(self):\n",
    "        self.count = 0\n",
    "        self.children = dict()\n",
    "    \n",
    "class Tree:\n",
    "    def __init__(self):\n",
    "        self.root = Node()\n",
    "        \n",
    "    def insert(self, word):\n",
    "        curr_node = self.root\n",
    "        for c in word:\n",
    "            if c in curr_node.children.keys():\n",
    "                curr_node.children[c].count += 1\n",
    "            else:\n",
    "                curr_node.children[c] = Node()\n",
    "            curr_node = curr_node.children[c]\n",
    "\n",
    "    def best_ext(self, word, ext_len):\n",
    "        end_node = self.root\n",
    "        for c in word:\n",
    "            if c not in end_node.children.keys():\n",
    "                return word\n",
    "            end_node = end_node.children[c]\n",
    "        ext, _ = self.__best_path(end_node, ext_len)\n",
    "        return word + ext\n",
    "    \n",
    "    def __best_path(self, node, path_len):\n",
    "        if path_len == 0:\n",
    "            return \"\", node.count\n",
    "        best_sum = 0\n",
    "        best_ext = \"\"\n",
    "        for char, child in node.children.items():\n",
    "            ext, ext_sum = self.__best_path(child, path_len - 1)\n",
    "            curr_sum = ext_sum + node.count\n",
    "            if curr_sum > best_sum:\n",
    "                best_sum = curr_sum\n",
    "                best_ext = char + ext\n",
    "        return best_ext, best_sum\n",
    "    \n",
    "def build_tree(wordlist):\n",
    "    tree = Tree()\n",
    "    for word in wordlist:\n",
    "        tree.insert(word)\n",
    "    return tree\n",
    "\n",
    "tree = build_tree(wordlist)"
   ]
  },
  {
   "cell_type": "markdown",
   "metadata": {},
   "source": [
    "### 1.4. pyplot\n",
    "Довольно часто приходится построить какие-нибудт графики и гистограммы для изучения данных, с которыми придется работать. Для этого в питоне есть удобнейший модуль для этого - pyplot. Туториал: https://matplotlib.org/3.1.1/tutorials/introductory/pyplot.html"
   ]
  },
  {
   "cell_type": "code",
   "execution_count": 5,
   "metadata": {},
   "outputs": [],
   "source": [
    "#!pip install matplotlib # Установка модуля\n",
    "import matplotlib.pyplot as plt\n",
    "# команда чтобы картинки рисовались прямо в ноутбуке\n",
    "%matplotlib inline "
   ]
  },
  {
   "cell_type": "code",
   "execution_count": 6,
   "metadata": {},
   "outputs": [
    {
     "data": {
      "text/plain": [
       "[<matplotlib.lines.Line2D at 0x7fd749450d30>]"
      ]
     },
     "execution_count": 6,
     "metadata": {},
     "output_type": "execute_result"
    },
    {
     "data": {
      "image/png": "[encoded data removed]",
      "text/plain": [
       "<Figure size 432x288 with 1 Axes>"
      ]
     },
     "metadata": {
      "needs_background": "light"
     },
     "output_type": "display_data"
    }
   ],
   "source": [
    "# Посмотрим на график функции x^2\n",
    "data = [i * i for i in range(100)]\n",
    "plt.plot(data)"
   ]
  },
  {
   "cell_type": "code",
   "execution_count": 7,
   "metadata": {},
   "outputs": [
    {
     "data": {
      "text/plain": [
       "(array([32., 13., 10.,  8.,  8.,  6.,  6.,  6.,  5.,  6.]),\n",
       " array([   0. ,  980.1, 1960.2, 2940.3, 3920.4, 4900.5, 5880.6, 6860.7,\n",
       "        7840.8, 8820.9, 9801. ]),\n",
       " <a list of 10 Patch objects>)"
      ]
     },
     "execution_count": 7,
     "metadata": {},
     "output_type": "execute_result"
    },
    {
     "data": {
      "image/png": "[encoded data removed]",
      "text/plain": [
       "<Figure size 432x288 with 1 Axes>"
      ]
     },
     "metadata": {
      "needs_background": "light"
     },
     "output_type": "display_data"
    }
   ],
   "source": [
    "# и распределение по значениям\n",
    "plt.hist(data)"
   ]
  },
  {
   "cell_type": "markdown",
   "metadata": {},
   "source": [
    "Также полезная команда для подсчета времения выполнеия в ячейке"
   ]
  },
  {
   "cell_type": "code",
   "execution_count": 8,
   "metadata": {},
   "outputs": [
    {
     "name": "stdout",
     "output_type": "stream",
     "text": [
      "CPU times: user 7.45 s, sys: 8.48 ms, total: 7.46 s\n",
      "Wall time: 7.46 s\n"
     ]
    }
   ],
   "source": [
    "%%time\n",
    "res = 0\n",
    "for i in range(int(1e8)):\n",
    "    res += 1"
   ]
  },
  {
   "cell_type": "markdown",
   "metadata": {},
   "source": [
    "## 2. Задание\n",
    "Собственно теперь нам потребуется написать подсчет триграмм и бор для словаря, чтобы реализовать простенькую систему исправления ошибок."
   ]
  },
  {
   "cell_type": "markdown",
   "metadata": {},
   "source": [
    "### 2.1. Триграммы\n",
    "Для начала получим словарь триграмма - её кол-во в тексте, не забывая о начале и конце слова.\n",
    "\n",
    "Далее можно построить гистограмму на кол-во вхождений триграмм, и посмотреть самые частые и какая частота у каких-нибудь заведомо странных, например: 'чгк', 'шкя' и подобные. Из полученных данных придумать эвристику, как считать слово с опечаткой. Проверить эвристику по словарю."
   ]
  },
  {
   "cell_type": "code",
   "execution_count": 9,
   "metadata": {},
   "outputs": [],
   "source": [
    "from collections import Counter, defaultdict\n",
    "\n",
    "def corpus_trigrams(word_list):\n",
    "    '''returns trigrams count dictionary'''\n",
    "    trigrams = []\n",
    "    for word in word_list:\n",
    "        padded = f'##{word}##'\n",
    "        trigrams.extend([padded[i:i+3] for i in range(len(padded) - 2)])\n",
    "    return Counter(trigrams)\n",
    "\n",
    "trigrams_freq = corpus_trigrams(wordlist)"
   ]
  },
  {
   "cell_type": "code",
   "execution_count": 10,
   "metadata": {},
   "outputs": [
    {
     "data": {
      "text/plain": [
       "(array([6.147e+03, 4.000e+01, 1.500e+01, 9.000e+00, 2.000e+00, 3.000e+00,\n",
       "        1.000e+00, 5.000e+00, 1.000e+00, 1.000e+00]),\n",
       " array([1.00000e+00, 1.37210e+03, 2.74320e+03, 4.11430e+03, 5.48540e+03,\n",
       "        6.85650e+03, 8.22760e+03, 9.59870e+03, 1.09698e+04, 1.23409e+04,\n",
       "        1.37120e+04]),\n",
       " <a list of 10 Patch objects>)"
      ]
     },
     "execution_count": 10,
     "metadata": {},
     "output_type": "execute_result"
    },
    {
     "data": {
      "image/png": "[encoded data removed]",
      "text/plain": [
       "<Figure size 432x288 with 1 Axes>"
      ]
     },
     "metadata": {
      "needs_background": "light"
     },
     "output_type": "display_data"
    }
   ],
   "source": [
    "plt.hist(trigrams_freq.values())"
   ]
  },
  {
   "cell_type": "code",
   "execution_count": 11,
   "metadata": {},
   "outputs": [
    {
     "name": "stdout",
     "output_type": "stream",
     "text": [
      "0\n",
      "0\n",
      "0.13158740359897173\n"
     ]
    }
   ],
   "source": [
    "print(trigrams_freq['чгк'])\n",
    "print(trigrams_freq['шкя'])\n",
    "print(len(list(filter(lambda v: v == 1, trigrams_freq.values()))) / len(trigrams_freq))"
   ]
  },
  {
   "cell_type": "code",
   "execution_count": 12,
   "metadata": {},
   "outputs": [],
   "source": [
    "# Эвристика - если встречаем хотя бы 2 триграммы, которые больше нигде не встречаются, считаем слово ошибочным\n",
    "def is_error(word):\n",
    "    '''is the word with mistake'''\n",
    "    padded_word = f'##{word}##'\n",
    "    count_susp = 0\n",
    "    word_trigrams = [padded_word[i:i+3] for i in range(len(padded_word) - 2)]\n",
    "    for t in word_trigrams:\n",
    "        if trigrams_freq[t] <= 1:\n",
    "            count_susp += 1\n",
    "            if count_susp == 2:\n",
    "                return True\n",
    "    return False"
   ]
  },
  {
   "cell_type": "code",
   "execution_count": 13,
   "metadata": {},
   "outputs": [
    {
     "name": "stdout",
     "output_type": "stream",
     "text": [
      "['июле', 'отжившим', 'гаугвицу', 'монморанси', 'иерархии', 'ростбиф', 'нимфы', 'геральдических', 'злоупотребления', 'эманципации', 'яффе', 'свяжи', 'июньская', 'бесхарактерными', 'бретёр', 'радзивилов', 'камчатные', 'паузе', 'жанлис', 'взъерошивая', 'яхонтовые', 'экземпляр', 'ъ', 'знаэ', 'манифэ', 'можэ', 'смотрэт', 'бэ', 'зачэм', 'поощрением', 'послэ', 'умэ', 'рэ', 'своэ', 'всэ', 'будэ', 'напыщенно', 'настоящэ', 'человэк', 'вежливостью', 'шкапчиков', 'всём', 'онуфриичем', 'толще', 'алгебры', 'поэзии', 'свежо', 'дюссековой', 'одынцова', 'сафьяном', 'эдак', 'шнапс', 'йорк', 'холопского', 'слёз', 'бакенбардами', 'кааак', 'кроатов', 'рявкнул', 'федешоу', 'пляшущего', 'фараон', 'зашибся', 'фуфайке', 'чикчиры', 'доппелькюмелем', 'полуулыбаясь', 'мундштука', 'лямку', 'ламбахе', 'амштетене', 'ямщику', 'циркуляр', 'врбна', 'лихтенфельс', 'лш', 'маршрутов', 'ауэсперг', 'дилемма', 'эцельсдорфа', 'шлюхой', 'вьюки', 'шрама', 'четырехтысячный', 'алмазным', 'каптенармус', 'эшелонами', 'лемарруа', 'пыхтя', 'оставляяй', 'ысыо', 'двухпудовая', 'подгоняя', 'уцелевшие', 'крякнув', 'скрып', 'заодно', 'лёлины', 'ощутительнее', 'аппетитно', 'крюк', 'буфетчику', 'обжившись', 'сгруппировалось', 'кофточке', 'чепце', 'туфли', 'арифметической', 'обзаведения', 'петизанфан', 'армейщина', 'наизусть', 'дуэли', 'расфранченные', 'флюгера', 'безмолвности', 'шварцернберга', 'сегодняшнего', 'приученная', 'рычаг', 'вимпфен', 'гогенлое', 'пришпршипрш', 'злоязычие', 'аракчеев', 'географии', 'лозунг', 'аааа', 'рррр', 'ё', 'разноцветных', 'новгородского', 'рыцари', 'чешски', 'трепещущую', 'рыбу', 'хаос']\n"
     ]
    }
   ],
   "source": [
    "error_list = []\n",
    "without_errors = []\n",
    "for word in wordlist:\n",
    "    if is_error(word):\n",
    "        error_list.append(word)\n",
    "    else:\n",
    "        without_errors.append(word)\n",
    "print(error_list)"
   ]
  },
  {
   "cell_type": "markdown",
   "metadata": {},
   "source": [
    "### 2.2. Бор\n",
    "Далее построим бор, с помощью которого будем искать исправления опечатки в слове. Пока только в случае замены и удаления в конце (Если есть желание, то можно и для всех случаев). Также сравнить по времени с поиском в случае замены в исходном слове последних двух символов и поиске в словаре."
   ]
  },
  {
   "cell_type": "code",
   "execution_count": 14,
   "metadata": {},
   "outputs": [],
   "source": [
    "def correct_word(word):\n",
    "    '''returns most similar word from dictionary'''\n",
    "    if len(word) <= 2:\n",
    "        return word\n",
    "    return tree.best_ext(word[:-2], 2)\n",
    "    \n",
    "def correct_word_naive(word):\n",
    "    '''correct word using generation'''\n",
    "    alphabet = list(range(ord('а'), ord('я') + 1))\n",
    "    for c1 in alphabet:\n",
    "        for c2 in alphabet:\n",
    "            ext_word = word[:-2] + chr(c1) + chr(c2)\n",
    "            if ext_word in without_errors:\n",
    "                return ext_word\n",
    "    return word"
   ]
  },
  {
   "cell_type": "code",
   "execution_count": 15,
   "metadata": {},
   "outputs": [
    {
     "name": "stdout",
     "output_type": "stream",
     "text": [
      "человек\n",
      "зачем\n",
      "CPU times: user 248 µs, sys: 195 µs, total: 443 µs\n",
      "Wall time: 304 µs\n"
     ]
    }
   ],
   "source": [
    "%%time\n",
    "print(correct_word('человэк'))\n",
    "print(correct_word('зачэм'))"
   ]
  },
  {
   "cell_type": "code",
   "execution_count": 16,
   "metadata": {},
   "outputs": [
    {
     "name": "stdout",
     "output_type": "stream",
     "text": [
      "человек\n",
      "зачем\n",
      "CPU times: user 441 ms, sys: 2.23 ms, total: 444 ms\n",
      "Wall time: 443 ms\n"
     ]
    }
   ],
   "source": [
    "%%time\n",
    "print(correct_word_naive('человэк'))\n",
    "print(correct_word_naive('зачэм'))"
   ]
  },
  {
   "cell_type": "markdown",
   "metadata": {},
   "source": [
    "### 2.3 Все вместе\n",
    "Теперь соберем поиск и исправление опечаток в одну систему, которая будет принимать текст и править его. Также замерим скорость по сравнению с \"менее наивным подходом\"."
   ]
  },
  {
   "cell_type": "code",
   "execution_count": 17,
   "metadata": {},
   "outputs": [],
   "source": [
    "def correct_mistakes(text):\n",
    "    '''returns corrected text'''\n",
    "    word_list = re.findall(r'[а-яё]+', text.lower())\n",
    "    corrected_text = []\n",
    "    for word in word_list:\n",
    "        corrected_text.append(word if not is_error(word) else correct_word(word))\n",
    "    return \" \".join(corrected_text)\n",
    "        \n",
    "\n",
    "def correct_mistakes_naive(text):\n",
    "    '''returns corrected text using generation'''\n",
    "    word_list = re.findall(r'[а-яё]+', text.lower())\n",
    "    corrected_text = []\n",
    "    for word in word_list:\n",
    "        corrected_text.append(word if not is_error(word) else correct_word_naive(word))\n",
    "    return \" \".join(corrected_text)"
   ]
  },
  {
   "cell_type": "code",
   "execution_count": 18,
   "metadata": {},
   "outputs": [
    {
     "name": "stdout",
     "output_type": "stream",
     "text": [
      "CPU times: user 57 µs, sys: 0 ns, total: 57 µs\n",
      "Wall time: 59.8 µs\n"
     ]
    },
    {
     "data": {
      "text/plain": [
       "'похудевший человек'"
      ]
     },
     "execution_count": 18,
     "metadata": {},
     "output_type": "execute_result"
    }
   ],
   "source": [
    "%%time\n",
    "correct_mistakes(\"Похудевшый человэк\")"
   ]
  },
  {
   "cell_type": "code",
   "execution_count": 19,
   "metadata": {},
   "outputs": [
    {
     "name": "stdout",
     "output_type": "stream",
     "text": [
      "CPU times: user 522 ms, sys: 2.35 ms, total: 524 ms\n",
      "Wall time: 523 ms\n"
     ]
    },
    {
     "data": {
      "text/plain": [
       "'похудевший человек'"
      ]
     },
     "execution_count": 19,
     "metadata": {},
     "output_type": "execute_result"
    }
   ],
   "source": [
    "%%time\n",
    "correct_mistakes_naive(\"Похудевшый человэк\")"
   ]
  }
 ],
 "metadata": {
  "kernelspec": {
   "display_name": "Python 3",
   "language": "python",
   "name": "python3"
  },
  "language_info": {
   "codemirror_mode": {
    "name": "ipython",
    "version": 3
   },
   "file_extension": ".py",
   "mimetype": "text/x-python",
   "name": "python",
   "nbconvert_exporter": "python",
   "pygments_lexer": "ipython3",
   "version": "3.8.1"
  }
 },
 "nbformat": 4,
 "nbformat_minor": 4
}
