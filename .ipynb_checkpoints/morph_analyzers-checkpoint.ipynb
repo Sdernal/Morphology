{
 "cells": [
  {
   "cell_type": "markdown",
   "metadata": {},
   "source": [
    "# Морфология 1\n",
    "\n",
    "Здесь мы познакомимся с двумя мофрологическими анализоторами: pymorphy и mystem."
   ]
  },
  {
   "cell_type": "code",
   "execution_count": 1,
   "metadata": {},
   "outputs": [],
   "source": [
    "sample_text = u'Гло́кая ку́здра ште́ко будлану́ла бо́кра и курдя́чит бокрёнка'"
   ]
  },
  {
   "cell_type": "markdown",
   "metadata": {},
   "source": [
    "### 1. MyStem"
   ]
  },
  {
   "cell_type": "code",
   "execution_count": 2,
   "metadata": {},
   "outputs": [
    {
     "name": "stdout",
     "output_type": "stream",
     "text": [
      "Collecting pymystem3\n",
      "  Downloading https://files.pythonhosted.org/packages/4e/c2/56486b7eb180d83363baa2e609fcc2d49280331ad67e348cf8fa456050bf/pymystem3-0.2.0.tar.gz\n",
      "Collecting requests (from pymystem3)\n",
      "  Downloading https://files.pythonhosted.org/packages/45/1e/0c169c6a5381e241ba7404532c16a21d86ab872c9bed8bdcd4c423954103/requests-2.24.0-py2.py3-none-any.whl (61kB)\n",
      "\u001b[K    100% |████████████████████████████████| 71kB 1.1MB/s ta 0:00:01\n",
      "\u001b[?25hCollecting urllib3!=1.25.0,!=1.25.1,<1.26,>=1.21.1 (from requests->pymystem3)\n",
      "  Downloading https://files.pythonhosted.org/packages/9f/f0/a391d1463ebb1b233795cabfc0ef38d3db4442339de68f847026199e69d7/urllib3-1.25.10-py2.py3-none-any.whl (127kB)\n",
      "\u001b[K    100% |████████████████████████████████| 133kB 649kB/s ta 0:00:01\n",
      "\u001b[?25hCollecting idna<3,>=2.5 (from requests->pymystem3)\n",
      "  Downloading https://files.pythonhosted.org/packages/a2/38/928ddce2273eaa564f6f50de919327bf3a00f091b5baba8dfa9460f3a8a8/idna-2.10-py2.py3-none-any.whl (58kB)\n",
      "\u001b[K    100% |████████████████████████████████| 61kB 760kB/s ta 0:00:01\n",
      "\u001b[?25hCollecting certifi>=2017.4.17 (from requests->pymystem3)\n",
      "  Downloading https://files.pythonhosted.org/packages/5e/c4/6c4fe722df5343c33226f0b4e0bb042e4dc13483228b4718baf286f86d87/certifi-2020.6.20-py2.py3-none-any.whl (156kB)\n",
      "\u001b[K    100% |████████████████████████████████| 163kB 421kB/s ta 0:00:01\n",
      "\u001b[?25hCollecting chardet<4,>=3.0.2 (from requests->pymystem3)\n",
      "  Downloading https://files.pythonhosted.org/packages/bc/a9/01ffebfb562e4274b6487b4bb1ddec7ca55ec7510b22e4c51f14098443b8/chardet-3.0.4-py2.py3-none-any.whl (133kB)\n",
      "\u001b[K    100% |████████████████████████████████| 143kB 1.1MB/s ta 0:00:01\n",
      "\u001b[?25hBuilding wheels for collected packages: pymystem3\n",
      "  Running setup.py bdist_wheel for pymystem3 ... \u001b[?25ldone\n",
      "\u001b[?25h  Stored in directory: /home/ilya/.cache/pip/wheels/82/01/43/e79503d64fa9c05403b8dda86ca57cf10290b019140d22ee3a\n",
      "Successfully built pymystem3\n",
      "Installing collected packages: urllib3, idna, certifi, chardet, requests, pymystem3\n",
      "Successfully installed certifi-2020.6.20 chardet-3.0.4 idna-2.10 pymystem3-0.2.0 requests-2.24.0 urllib3-1.25.10\n"
     ]
    }
   ],
   "source": [
    "# поставим модуль если он еще не стоит\n",
    "!pip install pymystem3"
   ]
  },
  {
   "cell_type": "code",
   "execution_count": 3,
   "metadata": {},
   "outputs": [
    {
     "name": "stderr",
     "output_type": "stream",
     "text": [
      "Installing mystem to /home/ilya/.local/bin/mystem from http://download.cdn.yandex.net/mystem/mystem-3.1-linux-64bit.tar.gz\n"
     ]
    }
   ],
   "source": [
    "from pymystem3 import Mystem\n",
    "# инициализация собственно инициализатора\n",
    "mystem_analyzer = Mystem(entire_input=False, disambiguation=False)\n",
    "# entire_output - сохранение всего входа (напр. пробелов)\n",
    "# disambiguation - снятие омонимии"
   ]
  },
  {
   "cell_type": "markdown",
   "metadata": {},
   "source": [
    "Две основные функции Mystem:\n",
    "- Проводить мофрологический анализ\n",
    "- Приводить начальные формы для слов в тексте"
   ]
  },
  {
   "cell_type": "code",
   "execution_count": 4,
   "metadata": {},
   "outputs": [],
   "source": [
    "mystem_result = mystem_analyzer.analyze(sample_text)\n",
    "mystem_lemmas = mystem_analyzer.lemmatize(sample_text)"
   ]
  },
  {
   "cell_type": "code",
   "execution_count": 5,
   "metadata": {},
   "outputs": [
    {
     "name": "stdout",
     "output_type": "stream",
     "text": [
      "Гло́кая ку́здра ште́ко будлану́ла бо́кра и курдя́чит бокрёнка\n",
      "глокая куздра штеко будлануть бокра и курдячить бокренка\n"
     ]
    }
   ],
   "source": [
    "# Посмотрим, что у нас получилось при лемматизации \n",
    "# (да, чтобы вывести юникодные строки на втором питоне приходится так извращаться)\n",
    "print sample_text\n",
    "for word in mystem_lemmas:    \n",
    "    print word,"
   ]
  },
  {
   "cell_type": "code",
   "execution_count": 6,
   "metadata": {},
   "outputs": [
    {
     "name": "stdout",
     "output_type": "stream",
     "text": [
      "Гло́кая\n",
      "\t{u'lex': u'глокая', u'qual': u'bastard', u'wt': 0.3605448292, u'gr': u'S,ед,жен,неод=им'}\n",
      "\t{u'lex': u'глокать', u'qual': u'bastard', u'wt': 0.3605448292, u'gr': u'V,несов=непрош,деепр,пе'}\n",
      "\t{u'lex': u'глокая', u'qual': u'bastard', u'wt': 0.1038369108, u'gr': u'S,жен,од=им,ед'}\n",
      "\t{u'lex': u'глокай', u'qual': u'bastard', u'wt': 0.09304979929, u'gr': u'S,муж,неод=род,ед'}\n",
      "\t{u'lex': u'глокать', u'qual': u'bastard', u'wt': 0.03306575604, u'gr': u'V,несов,нп=непрош,деепр'}\n",
      "\t{u'lex': u'глокий', u'qual': u'bastard', u'wt': 0.01624943977, u'gr': u'A=им,ед,полн,жен'}\n",
      "\t{u'lex': u'глокать', u'qual': u'bastard', u'wt': 0.01512198266, u'gr': u'V,несов,пе=непрош,деепр'}\n",
      "\t{u'lex': u'глокий', u'qual': u'bastard', u'wt': 0.01077529943, u'gr': u'A=им,ед,полн,жен'}\n",
      "\t{u'lex': u'глокать', u'qual': u'bastard', u'wt': 0.006811153662, u'gr': u'V,нп=непрош,деепр,несов'}\n",
      "ку́здра\n",
      "\t{u'lex': u'куздра', u'qual': u'bastard', u'wt': 0.6292693823, u'gr': u'S,ед,жен,неод=им'}\n",
      "\t{u'lex': u'куздра', u'qual': u'bastard', u'wt': 0.3707306177, u'gr': u'S,гео,жен,неод=им,ед'}\n",
      "ште́ко\n",
      "\t{u'lex': u'штеко', u'qual': u'bastard', u'wt': 0.3217673592, u'gr': u'S,имя,мж,од=(пр,мн|пр,ед|вин,мн|вин,ед|дат,мн|дат,ед|род,мн|род,ед|твор,мн|твор,ед|им,мн|им,ед)'}\n",
      "\t{u'lex': u'штеко', u'qual': u'bastard', u'wt': 0.2574119755, u'gr': u'ADV='}\n",
      "\t{u'lex': u'штеко', u'qual': u'bastard', u'wt': 0.1608460987, u'gr': u'S,сред,неод=(пр,мн|пр,ед|вин,мн|вин,ед|дат,мн|дат,ед|род,мн|род,ед|твор,мн|твор,ед|им,мн|им,ед)'}\n",
      "\t{u'lex': u'штеко', u'qual': u'bastard', u'wt': 0.08253134141, u'gr': u'S,сред,неод=(вин,ед|им,ед)'}\n",
      "\t{u'lex': u'штеко', u'qual': u'bastard', u'wt': 0.07936870775, u'gr': u'S,ед,сред,неод=(вин|им)'}\n",
      "\t{u'lex': u'штеко', u'qual': u'bastard', u'wt': 0.03215211714, u'gr': u'S,имя,муж,од=(пр,мн|пр,ед|вин,мн|вин,ед|дат,мн|дат,ед|род,мн|род,ед|твор,мн|твор,ед|им,мн|им,ед)'}\n",
      "\t{u'lex': u'штеко', u'qual': u'bastard', u'wt': 0.03210293606, u'gr': u'S,фам,мж,од=(пр,мн|пр,ед|вин,мн|вин,ед|дат,мн|дат,ед|род,мн|род,ед|твор,мн|твор,ед|им,мн|им,ед)'}\n",
      "\t{u'lex': u'штеко', u'qual': u'bastard', u'wt': 0.03208609722, u'gr': u'S,гео,ед,муж,неод=(пр|вин|дат|род|твор|им)'}\n",
      "\t{u'lex': u'штекий', u'qual': u'bastard', u'wt': 0.001720046713, u'gr': u'A=ед,кр,сред'}\n",
      "\t{u'lex': u'штекий', u'qual': u'bastard', u'wt': 1.332032949e-05, u'gr': u'A=ед,кр,сред'}\n",
      "\t{u'lex': u'штеко', u'qual': u'bastard', u'wt': 0, u'gr': u'S,имя,ед,муж,од=им'}\n",
      "будлану́ла\n",
      "\t{u'lex': u'будлануть', u'qual': u'bastard', u'wt': 0.2884335962, u'gr': u'V,обсц,сов=прош,ед,изъяв,жен'}\n",
      "\t{u'lex': u'будлануть', u'qual': u'bastard', u'wt': 0.2884335962, u'gr': u'V,разг,обсц,сов=прош,ед,изъяв,жен'}\n",
      "\t{u'lex': u'будланула', u'qual': u'bastard', u'wt': 0.09985378522, u'gr': u'S,имя,жен,од=им,ед'}\n",
      "\t{u'lex': u'будлануть', u'qual': u'bastard', u'wt': 0.05695153583, u'gr': u'V,сов,пе=прош,ед,изъяв,жен'}\n",
      "\t{u'lex': u'будлануть', u'qual': u'bastard', u'wt': 0.05212627477, u'gr': u'V,сов,пе=прош,ед,изъяв,жен'}\n",
      "\t{u'lex': u'будлануть', u'qual': u'bastard', u'wt': 0.04770114448, u'gr': u'V,сов,нп=прош,ед,изъяв,жен'}\n",
      "\t{u'lex': u'будлануть', u'qual': u'bastard', u'wt': 0.04683850382, u'gr': u'V,сов,пе=прош,ед,изъяв,жен'}\n",
      "\t{u'lex': u'будланула', u'qual': u'bastard', u'wt': 0.04299689435, u'gr': u'S,жен,неод=им,ед'}\n",
      "\t{u'lex': u'будланул', u'qual': u'bastard', u'wt': 0.03753661836, u'gr': u'S,муж,од=(вин,ед|род,ед)'}\n",
      "\t{u'lex': u'будлануть', u'qual': u'bastard', u'wt': 0.02766311711, u'gr': u'V,сов,нп=прош,ед,изъяв,жен'}\n",
      "\t{u'lex': u'будланывать', u'qual': u'bastard', u'wt': 0.01146493374, u'gr': u'V,пе=прош,ед,изъяв,жен,сов'}\n",
      "бо́кра\n",
      "\t{u'lex': u'бокра', u'qual': u'bastard', u'wt': 0.8898982327, u'gr': u'S,ед,жен,неод=им'}\n",
      "\t{u'lex': u'бокрый', u'qual': u'bastard', u'wt': 0.1101017673, u'gr': u'A=ед,кр,жен'}\n",
      "и\n",
      "\t{u'lex': u'и', u'wt': 0.9999770357, u'gr': u'CONJ='}\n",
      "\t{u'lex': u'и', u'wt': 1.020511514e-05, u'gr': u'INTJ='}\n",
      "\t{u'lex': u'и', u'wt': 6.379604644e-06, u'gr': u'S,сокр=(пр,мн|пр,ед|вин,мн|вин,ед|дат,мн|дат,ед|род,мн|род,ед|твор,мн|твор,ед|им,мн|им,ед)'}\n",
      "\t{u'lex': u'и', u'wt': 6.37957056e-06, u'gr': u'PART='}\n",
      "курдя́чит\n",
      "\t{u'lex': u'курдячить', u'qual': u'bastard', u'wt': 0.5, u'gr': u'V,обсц,сов,пе=непрош,ед,изъяв,3-л'}\n",
      "\t{u'lex': u'курдячить', u'qual': u'bastard', u'wt': 0.5, u'gr': u'V,обсц,несов,пе=непрош,ед,изъяв,3-л'}\n",
      "бокрёнка\n",
      "\t{u'lex': u'бокренка', u'qual': u'bastard', u'wt': 0.2200160995, u'gr': u'S,имя,жен,од=им,ед'}\n",
      "\t{u'lex': u'бокренок', u'qual': u'bastard', u'wt': 0.165166425, u'gr': u'S,муж,неод=род,ед'}\n",
      "\t{u'lex': u'бокренка', u'qual': u'bastard', u'wt': 0.1392542771, u'gr': u'S,жен,од=им,ед'}\n",
      "\t{u'lex': u'бокренка', u'qual': u'bastard', u'wt': 0.1240808471, u'gr': u'S,жен,неод=им,ед'}\n",
      "\t{u'lex': u'бокренок', u'qual': u'bastard', u'wt': 0.1205990358, u'gr': u'S,муж,неод=род,ед'}\n",
      "\t{u'lex': u'бокренок', u'qual': u'bastard', u'wt': 0.09129371203, u'gr': u'S,муж,од=(вин,ед|род,ед)'}\n",
      "\t{u'lex': u'бокренка', u'qual': u'bastard', u'wt': 0.07074299558, u'gr': u'S,имя,мж,од=им,ед'}\n",
      "\t{u'lex': u'бокренк', u'qual': u'bastard', u'wt': 0.06884660791, u'gr': u'S,имя,муж,од=(вин,ед|род,ед)'}\n"
     ]
    }
   ],
   "source": [
    "# Ну и результат морфологического анализа\n",
    "# выведены всевозможные разборы, чтобы оценить масштабы\n",
    "for word in mystem_result:\n",
    "    print word['text']\n",
    "    for res in word['analysis']:\n",
    "        print '\\t', repr(res).decode('unicode_escape')"
   ]
  },
  {
   "cell_type": "markdown",
   "metadata": {},
   "source": [
    "Создадим теперь анализатор со снятием омонимии"
   ]
  },
  {
   "cell_type": "code",
   "execution_count": 7,
   "metadata": {},
   "outputs": [],
   "source": [
    "mystem_analyzer2 = Mystem(entire_input=False, disambiguation=True)"
   ]
  },
  {
   "cell_type": "code",
   "execution_count": 8,
   "metadata": {},
   "outputs": [],
   "source": [
    "mystem_result2 = mystem_analyzer2.analyze(sample_text)\n",
    "mystem_lemmas2 = mystem_analyzer2.lemmatize(sample_text)"
   ]
  },
  {
   "cell_type": "code",
   "execution_count": 9,
   "metadata": {},
   "outputs": [
    {
     "name": "stdout",
     "output_type": "stream",
     "text": [
      "Гло́кая ку́здра ште́ко будлану́ла бо́кра и курдя́чит бокрёнка\n",
      "глокая глокай\n",
      "куздра куздра\n",
      "штеко штеко\n",
      "будлануть будланул\n",
      "бокра бокра\n",
      "и и\n",
      "курдячить курдячить\n",
      "бокренка бокренок\n"
     ]
    }
   ],
   "source": [
    "print sample_text\n",
    "for (word, word2) in zip(mystem_lemmas, mystem_lemmas2):    \n",
    "    print word, word2"
   ]
  },
  {
   "cell_type": "code",
   "execution_count": 10,
   "metadata": {},
   "outputs": [
    {
     "name": "stdout",
     "output_type": "stream",
     "text": [
      "Гло́кая\n",
      "\t{u'lex': u'глокай', u'qual': u'bastard', u'wt': 0.09304979929, u'gr': u'S,муж,неод=род,ед'}\n",
      "ку́здра\n",
      "\t{u'lex': u'куздра', u'qual': u'bastard', u'wt': 0.6292693823, u'gr': u'S,ед,жен,неод=им'}\n",
      "ште́ко\n",
      "\t{u'lex': u'штеко', u'qual': u'bastard', u'wt': 0.2574119755, u'gr': u'ADV='}\n",
      "будлану́ла\n",
      "\t{u'lex': u'будланул', u'qual': u'bastard', u'wt': 0.03753661836, u'gr': u'S,муж,од=(вин,ед|род,ед)'}\n",
      "бо́кра\n",
      "\t{u'lex': u'бокра', u'qual': u'bastard', u'wt': 0.8898982327, u'gr': u'S,ед,жен,неод=им'}\n",
      "и\n",
      "\t{u'lex': u'и', u'wt': 0.9999770357, u'gr': u'CONJ='}\n",
      "курдя́чит\n",
      "\t{u'lex': u'курдячить', u'qual': u'bastard', u'wt': 0.5, u'gr': u'V,обсц,сов,пе=непрош,ед,изъяв,3-л'}\n",
      "бокрёнка\n",
      "\t{u'lex': u'бокренок', u'qual': u'bastard', u'wt': 0.165166425, u'gr': u'S,муж,неод=род,ед'}\n"
     ]
    }
   ],
   "source": [
    "for word in mystem_result2:\n",
    "    print word['text']\n",
    "    for res in word['analysis']:\n",
    "        print '\\t', repr(res).decode('unicode_escape')"
   ]
  },
  {
   "cell_type": "markdown",
   "metadata": {},
   "source": [
    "Проблемы MyStem"
   ]
  },
  {
   "cell_type": "code",
   "execution_count": 11,
   "metadata": {},
   "outputs": [
    {
     "name": "stdout",
     "output_type": "stream",
     "text": [
      "александра иванов пойти в кино\n",
      "александра иванов видеть в кино с кто-то\n",
      "воробей сегодня вставать не с тот нога\n"
     ]
    }
   ],
   "source": [
    "disambiguations = [ 'Александра Иванова пошла в кино',\n",
    "                    'Александра Иванова видели в кино с кем-то',\n",
    "                    'Воробьев сегодня встал не с той ноги']\n",
    "\n",
    "disambiguation_results = []\n",
    "for dis in disambiguations:\n",
    "    disambiguation_results.append(mystem_analyzer2.lemmatize(dis))\n",
    "    \n",
    "for res in disambiguation_results:\n",
    "    for word in res:\n",
    "        print word,\n",
    "    print"
   ]
  },
  {
   "cell_type": "markdown",
   "metadata": {},
   "source": [
    "#### Задание\n",
    "Для того, чтобы наиграться с MyStem, предлагается написать метод, который находит топ n лексем."
   ]
  },
  {
   "cell_type": "code",
   "execution_count": 14,
   "metadata": {},
   "outputs": [],
   "source": [
    "def get_top_words(text, n):\n",
    "    '''\n",
    "    :param text: input text in russian\n",
    "    :param n: number of most common words\n",
    "    :return: list of most common lexemas\n",
    "    '''\n",
    "    mystem_analyzer = Mystem(entire_input=False, disambiguation=True)\n",
    "    lemmas = mystem_analyzer.lemmatize(text)\n",
    "    counter = {}\n",
    "    for lemma in lemmas:\n",
    "        if lemma in counter:\n",
    "            counter[lemma] += 1\n",
    "        else:\n",
    "            counter[lemma] = 1\n",
    "    return sorted(counter, key=counter.get, reverse=True)[:n]"
   ]
  },
  {
   "cell_type": "code",
   "execution_count": 17,
   "metadata": {},
   "outputs": [
    {
     "name": "stdout",
     "output_type": "stream",
     "text": [
      "глокай\n",
      "бокра\n",
      "куздра\n",
      "курдячить\n",
      "бокренок\n"
     ]
    }
   ],
   "source": [
    "lemmas = get_top_words(sample_text, 5)\n",
    "for word in lemmas:    \n",
    "    print word"
   ]
  },
  {
   "cell_type": "markdown",
   "metadata": {},
   "source": [
    "### 2. Pymorphy"
   ]
  },
  {
   "cell_type": "code",
   "execution_count": 18,
   "metadata": {},
   "outputs": [
    {
     "name": "stdout",
     "output_type": "stream",
     "text": [
      "Collecting pymorphy2\n",
      "  Downloading https://files.pythonhosted.org/packages/06/7b/c8482b94ebcce3d105e34676beadae322ae14df07309e9f32847ee5a746d/pymorphy2-0.9.tar.gz (84kB)\n",
      "\u001b[K    100% |████████████████████████████████| 92kB 721kB/s ta 0:00:01\n",
      "\u001b[?25hCollecting dawg-python>=0.7.1 (from pymorphy2)\n",
      "  Downloading https://files.pythonhosted.org/packages/6a/84/ff1ce2071d4c650ec85745766c0047ccc3b5036f1d03559fd46bb38b5eeb/DAWG_Python-0.7.2-py2.py3-none-any.whl\n",
      "Collecting pymorphy2-dicts-ru<3.0,>=2.4 (from pymorphy2)\n",
      "  Downloading https://files.pythonhosted.org/packages/7c/9b/358faaff410f65a4ad159275e897b5956dcb20576c5b8e764b971c1634d7/pymorphy2_dicts_ru-2.4.404381.4453942-py2.py3-none-any.whl (8.0MB)\n",
      "\u001b[K    100% |████████████████████████████████| 8.0MB 85kB/s eta 0:00:011\n",
      "\u001b[?25hCollecting docopt>=0.6 (from pymorphy2)\n",
      "  Downloading https://files.pythonhosted.org/packages/a2/55/8f8cab2afd404cf578136ef2cc5dfb50baa1761b68c9da1fb1e4eed343c9/docopt-0.6.2.tar.gz\n",
      "Collecting backports.functools_lru_cache>=1.0.1 (from pymorphy2)\n",
      "  Downloading https://files.pythonhosted.org/packages/da/d1/080d2bb13773803648281a49e3918f65b31b7beebf009887a529357fd44a/backports.functools_lru_cache-1.6.1-py2.py3-none-any.whl\n",
      "Building wheels for collected packages: pymorphy2, docopt\n",
      "  Running setup.py bdist_wheel for pymorphy2 ... \u001b[?25ldone\n",
      "\u001b[?25h  Stored in directory: /home/ilya/.cache/pip/wheels/df/ec/cb/362bb37604125e17fa5bc8f6d7a6cbbe982069a5918a13a303\n",
      "  Running setup.py bdist_wheel for docopt ... \u001b[?25ldone\n",
      "\u001b[?25h  Stored in directory: /home/ilya/.cache/pip/wheels/9b/04/dd/7daf4150b6d9b12949298737de9431a324d4b797ffd63f526e\n",
      "Successfully built pymorphy2 docopt\n",
      "Installing collected packages: dawg-python, pymorphy2-dicts-ru, docopt, backports.functools-lru-cache, pymorphy2\n",
      "Successfully installed backports.functools-lru-cache-1.6.1 dawg-python-0.7.2 docopt-0.6.2 pymorphy2-0.9 pymorphy2-dicts-ru-2.4.404381.4453942\n",
      "Collecting pymorphy2-dicts-ru\n",
      "  Using cached https://files.pythonhosted.org/packages/7c/9b/358faaff410f65a4ad159275e897b5956dcb20576c5b8e764b971c1634d7/pymorphy2_dicts_ru-2.4.404381.4453942-py2.py3-none-any.whl\n",
      "Installing collected packages: pymorphy2-dicts-ru\n",
      "Successfully installed pymorphy2-dicts-ru-2.4.404381.4453942\n"
     ]
    }
   ],
   "source": [
    "# установка модуля и словарей\n",
    "!pip install pymorphy2\n",
    "!pip install -U pymorphy2-dicts-ru"
   ]
  },
  {
   "cell_type": "code",
   "execution_count": 19,
   "metadata": {},
   "outputs": [],
   "source": [
    "# создание анализатора\n",
    "import pymorphy2\n",
    "morph = pymorphy2.MorphAnalyzer()"
   ]
  },
  {
   "cell_type": "code",
   "execution_count": 20,
   "metadata": {},
   "outputs": [],
   "source": [
    "# sample_text = u'Глокая куздра штеко будланула бокра и кудрячит бокренка'\n",
    "# в отличие от mystem работает пословно\n",
    "pymorphy_results = map(lambda x: morph.parse(x), sample_text.split())"
   ]
  },
  {
   "cell_type": "code",
   "execution_count": 21,
   "metadata": {},
   "outputs": [
    {
     "name": "stdout",
     "output_type": "stream",
     "text": [
      "гло́кая\n",
      "\tгло́кай NOUN,anim,masc,Name sing,gent 0.333342340638\n",
      "\tгло́кай NOUN,anim,masc,Name sing,accs 0.333342340638\n",
      "\tгло́кий ADJF femn,sing,nomn 0.308320047559\n",
      "\tгло́кий NOUN,anim,femn,Sgtm,Surn sing,nomn 0.0214283784149\n",
      "\tгло́кать GRND,impf,intr pres 0.00356689275002\n",
      "ку́здра\n",
      "\tку́здра NOUN,inan,femn,Sgtm,Fixd,Abbr,Geox sing,nomn 0.15\n",
      "\tку́здра NOUN,inan,femn,Sgtm,Fixd,Abbr,Geox sing,gent 0.15\n",
      "\tку́здра NOUN,inan,femn,Sgtm,Fixd,Abbr,Geox sing,datv 0.15\n",
      "\tку́здра NOUN,inan,femn,Sgtm,Fixd,Abbr,Geox sing,accs 0.15\n",
      "\tку́здра NOUN,inan,femn,Sgtm,Fixd,Abbr,Geox sing,ablt 0.15\n",
      "\tку́здра NOUN,inan,femn,Sgtm,Fixd,Abbr,Geox sing,loct 0.15\n",
      "\tку́здра NOUN,inan,femn,Sgtm sing,nomn 0.05\n",
      "\tку́здра NOUN,inan,femn,Sgtm,Geox sing,nomn 0.05\n",
      "ште́ко\n",
      "\tште́ко NOUN,anim,ms-f,Fixd,Surn sing,nomn 0.0799724707502\n",
      "\tште́ко NOUN,anim,ms-f,Fixd,Surn sing,gent 0.0799724707502\n",
      "\tште́ко NOUN,anim,ms-f,Fixd,Surn sing,datv 0.0799724707502\n",
      "\tште́ко NOUN,anim,ms-f,Fixd,Surn sing,accs 0.0799724707502\n",
      "\tште́ко NOUN,anim,ms-f,Fixd,Surn sing,ablt 0.0799724707502\n",
      "\tште́ко NOUN,anim,ms-f,Fixd,Surn sing,loct 0.0799724707502\n",
      "\tште́ко NOUN,anim,ms-f,Fixd,Surn plur,nomn 0.0799724707502\n",
      "\tште́ко NOUN,anim,ms-f,Fixd,Surn plur,gent 0.0799724707502\n",
      "\tште́ко NOUN,anim,ms-f,Fixd,Surn plur,datv 0.0799724707502\n",
      "\tште́ко NOUN,anim,ms-f,Fixd,Surn plur,accs 0.0799724707502\n",
      "\tште́ко NOUN,anim,ms-f,Fixd,Surn plur,ablt 0.0799724707502\n",
      "\tште́ко NOUN,anim,ms-f,Fixd,Surn plur,loct 0.0799724707502\n",
      "\tште́ко ADVB 0.0194081211287\n",
      "\tште́кий ADJS neut,sing 0.00770818995182\n",
      "\tште́ко ADJF,Fixd,Subx,Qual masc,sing,nomn 0.000550584996559\n",
      "\tште́ко ADJF,Fixd,Subx,Qual masc,sing,gent 0.000550584996559\n",
      "\tште́ко ADJF,Fixd,Subx,Qual masc,sing,datv 0.000550584996559\n",
      "\tште́ко ADJF,Fixd,Subx,Qual masc,sing,accs 0.000550584996559\n",
      "\tште́ко ADJF,Fixd,Subx,Qual masc,sing,ablt 0.000550584996559\n",
      "\tште́ко ADJF,Fixd,Subx,Qual masc,sing,loct 0.000550584996559\n",
      "\tште́ко ADJF,Fixd,Subx,Qual femn,sing,nomn 0.000550584996559\n",
      "\tште́ко ADJF,Fixd,Subx,Qual femn,sing,gent 0.000550584996559\n",
      "\tште́ко ADJF,Fixd,Subx,Qual femn,sing,datv 0.000550584996559\n",
      "\tште́ко ADJF,Fixd,Subx,Qual femn,sing,accs 0.000550584996559\n",
      "\tште́ко ADJF,Fixd,Subx,Qual femn,sing,ablt 0.000550584996559\n",
      "\tште́ко ADJF,Fixd,Subx,Qual femn,sing,loct 0.000550584996559\n",
      "\tште́ко ADJF,Fixd,Subx,Qual neut,sing,nomn 0.000550584996559\n",
      "\tште́ко ADJF,Fixd,Subx,Qual neut,sing,gent 0.000550584996559\n",
      "\tште́ко ADJF,Fixd,Subx,Qual neut,sing,datv 0.000550584996559\n",
      "\tште́ко ADJF,Fixd,Subx,Qual neut,sing,accs 0.000550584996559\n",
      "\tште́ко ADJF,Fixd,Subx,Qual neut,sing,ablt 0.000550584996559\n",
      "\tште́ко ADJF,Fixd,Subx,Qual neut,sing,loct 0.000550584996559\n",
      "\tште́ко ADJF,Fixd,Subx,Qual plur,nomn 0.000550584996559\n",
      "\tште́ко ADJF,Fixd,Subx,Qual plur,gent 0.000550584996559\n",
      "\tште́ко ADJF,Fixd,Subx,Qual plur,datv 0.000550584996559\n",
      "\tште́ко ADJF,Fixd,Subx,Qual plur,accs 0.000550584996559\n",
      "\tште́ко ADJF,Fixd,Subx,Qual plur,ablt 0.000550584996559\n",
      "\tште́ко ADJF,Fixd,Subx,Qual plur,loct 0.000550584996559\n",
      "будлану́ла\n",
      "\tбудлану́ть VERB,impf,tran femn,sing,past,indc 0.850738750839\n",
      "\tбудлану́л NOUN,inan,masc sing,gent 0.112659503022\n",
      "\tбудлану́лый ADJS femn,sing 0.0350906648758\n",
      "\tбудлану́ла ADVB 0.00151108126259\n",
      "бо́кра\n",
      "\tбо́кр NOUN,inan,masc sing,gent 0.444444444444\n",
      "\tбо́кра NOUN,inan,femn sing,nomn 0.444444444444\n",
      "\tбо́крый ADJS,Qual femn,sing 0.111111111111\n",
      "и\n",
      "\tи CONJ 0.998468\n",
      "\tи INTJ 0.000204\n",
      "\tи PRCL 0.000102\n",
      "\tи NOUN,anim,masc,Fixd,Abbr sing,nomn 0.000102\n",
      "\tи NOUN,anim,masc,Fixd,Abbr sing,gent 0.000102\n",
      "\tи NOUN,anim,masc,Fixd,Abbr sing,datv 0.000102\n",
      "\tи NOUN,anim,masc,Fixd,Abbr sing,accs 0.000102\n",
      "\tи NOUN,anim,masc,Fixd,Abbr sing,ablt 0.000102\n",
      "\tи NOUN,anim,masc,Fixd,Abbr sing,loct 0.000102\n",
      "\tи NOUN,anim,masc,Fixd,Abbr plur,nomn 0.000102\n",
      "\tи NOUN,anim,masc,Fixd,Abbr plur,gent 0.000102\n",
      "\tи NOUN,anim,masc,Fixd,Abbr plur,datv 0.000102\n",
      "\tи NOUN,anim,masc,Fixd,Abbr plur,accs 0.000102\n",
      "\tи NOUN,anim,masc,Fixd,Abbr plur,ablt 0.000102\n",
      "\tи NOUN,anim,masc,Fixd,Abbr plur,loct 0.000102\n",
      "курдя́чит\n",
      "\tкурдя́чить VERB,perf,tran sing,3per,futr,indc 0.941176470588\n",
      "\tкурдя́читый ADJS,Qual masc,sing 0.00735294117647\n",
      "\tкурдя́чит NOUN,anim,femn,Sgtm,Fixd,Name sing,nomn 0.00735294117647\n",
      "\tкурдя́чит NOUN,anim,femn,Sgtm,Fixd,Name sing,gent 0.00735294117647\n",
      "\tкурдя́чит NOUN,anim,femn,Sgtm,Fixd,Name sing,datv 0.00735294117647\n",
      "\tкурдя́чит NOUN,anim,femn,Sgtm,Fixd,Name sing,accs 0.00735294117647\n",
      "\tкурдя́чит NOUN,anim,femn,Sgtm,Fixd,Name sing,ablt 0.00735294117647\n",
      "\tкурдя́чит NOUN,anim,femn,Sgtm,Fixd,Name sing,loct 0.00735294117647\n",
      "\tкурдя́читый ADJS masc,sing 0.00735294117647\n",
      "бокрёнка\n",
      "\tбокрёнок NOUN,anim,masc sing,gent 0.5\n",
      "\tбокрёнок NOUN,anim,masc sing,accs 0.5\n"
     ]
    }
   ],
   "source": [
    "# собираем результаты и выводим \n",
    "for word_result in pymorphy_results:\n",
    "    print word_result[0].word\n",
    "    for res in word_result:\n",
    "#         print repr(res).decode('unicode_escape')\n",
    "        print '\\t', res.normal_form, res.tag, res.score"
   ]
  },
  {
   "cell_type": "markdown",
   "metadata": {},
   "source": [
    "В отличие от mystem можно получать лексему и склонять слова"
   ]
  },
  {
   "cell_type": "code",
   "execution_count": 25,
   "metadata": {},
   "outputs": [
    {
     "name": "stdout",
     "output_type": "stream",
     "text": [
      " градус NOUN\n",
      "градуса NOUN\n",
      "градусу NOUN\n",
      "градус NOUN\n",
      "градусом NOUN\n",
      "градусе NOUN\n",
      "градусы NOUN\n",
      "градусов NOUN\n",
      "градусам NOUN\n",
      "градусы NOUN\n",
      "градусами NOUN\n",
      "градусах NOUN\n"
     ]
    }
   ],
   "source": [
    "bokr = morph.parse(u'градус')[0]\n",
    "for form in bokr.lexeme:\n",
    "    print form.word, form.tag.POS"
   ]
  },
  {
   "cell_type": "code",
   "execution_count": 23,
   "metadata": {},
   "outputs": [
    {
     "name": "stdout",
     "output_type": "stream",
     "text": [
      " градусе градус градуса градусов\n"
     ]
    }
   ],
   "source": [
    "print bokr.inflect({'loct'}).word,\n",
    "print bokr.make_agree_with_number(1).word,\n",
    "print bokr.make_agree_with_number(2).word,\n",
    "print bokr.make_agree_with_number(5).word"
   ]
  },
  {
   "cell_type": "markdown",
   "metadata": {},
   "source": [
    "#### Задание \n",
    "С помощью pymorphy на тексте получить:\n",
    "- Распределение по частям речи\n",
    "- Для части речи вывести топ n лексем"
   ]
  },
  {
   "cell_type": "code",
   "execution_count": 41,
   "metadata": {},
   "outputs": [],
   "source": [
    "def get_pos_distribution(text, lexemas=None):\n",
    "    '''\n",
    "    :param: text: input text in russian\n",
    "    :param: lexemas: list of interested pos, if None - all are interesting \n",
    "    :return: dict of pos - probability\n",
    "    '''\n",
    "    morph = pymorphy2.MorphAnalyzer()\n",
    "    pymorphy_results = map(lambda x: morph.parse(x), text.split())\n",
    "    parts_of_speech = [i[0].tag.POS for i in pymorphy_results]\n",
    "    counter = {}\n",
    "    for p in parts_of_speech:\n",
    "        if p in counter:\n",
    "            counter[p] += 1\n",
    "        else:\n",
    "            counter[p] = 1.\n",
    "    if lexemas:\n",
    "        counter = {i: counter[i] if i in counter else 0 for i in lexemas}       \n",
    "    return {i: counter[i] / len(parts_of_speech) for i in counter}\n",
    "\n",
    "def get_top_pos_words(text, pos, n):\n",
    "    '''\n",
    "    :param text: input text in russian\n",
    "    :param pos: part of speech \n",
    "    :param n: number of most common words\n",
    "    :return: list of most common lexemas with selected pos\n",
    "    '''\n",
    "    morph = pymorphy2.MorphAnalyzer()\n",
    "    pymorphy_results = map(lambda x: morph.parse(x), text.split())\n",
    "    lemmas = [i[0].word for i in pymorphy_results if i[0].tag.POS == pos]\n",
    "    counter = {}\n",
    "    for lemma in lemmas:\n",
    "        if lemma in counter:\n",
    "            counter[lemma] += 1\n",
    "        else:\n",
    "            counter[lemma] = 1\n",
    "    return sorted(counter, key=counter.get, reverse=True)[:n]"
   ]
  },
  {
   "cell_type": "code",
   "execution_count": 39,
   "metadata": {},
   "outputs": [
    {
     "data": {
      "text/plain": [
       "{u'CONJ': 0.125, u'NOUN': 0.625, u'VERB': 0.25}"
      ]
     },
     "execution_count": 39,
     "metadata": {},
     "output_type": "execute_result"
    }
   ],
   "source": [
    "get_pos_distribution(sample_text)"
   ]
  },
  {
   "cell_type": "code",
   "execution_count": 40,
   "metadata": {},
   "outputs": [
    {
     "data": {
      "text/plain": [
       "{'ADJS': 0, 'NOUN': 0.625}"
      ]
     },
     "execution_count": 40,
     "metadata": {},
     "output_type": "execute_result"
    }
   ],
   "source": [
    "get_pos_distribution(sample_text, ['NOUN', 'ADJS'])"
   ]
  },
  {
   "cell_type": "code",
   "execution_count": 43,
   "metadata": {},
   "outputs": [
    {
     "name": "stdout",
     "output_type": "stream",
     "text": [
      "гло́кая\n",
      "бокрёнка\n"
     ]
    }
   ],
   "source": [
    "lemmas = get_top_pos_words(sample_text, 'NOUN', 2)\n",
    "for word in lemmas:    \n",
    "    print word"
   ]
  }
 ],
 "metadata": {
  "kernelspec": {
   "display_name": "Python 2",
   "language": "python",
   "name": "python2"
  },
  "language_info": {
   "codemirror_mode": {
    "name": "ipython",
    "version": 2
   },
   "file_extension": ".py",
   "mimetype": "text/x-python",
   "name": "python",
   "nbconvert_exporter": "python",
   "pygments_lexer": "ipython2",
   "version": "2.7.13"
  }
 },
 "nbformat": 4,
 "nbformat_minor": 4
}
