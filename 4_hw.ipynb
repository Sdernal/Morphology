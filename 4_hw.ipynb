{
 "cells": [
  {
   "cell_type": "code",
   "execution_count": 2,
   "metadata": {},
   "outputs": [],
   "source": [
    "# для совместимости со вторым питоном\n",
    "from __future__ import print_function\n",
    "import io"
   ]
  },
  {
   "cell_type": "code",
   "execution_count": 3,
   "metadata": {},
   "outputs": [],
   "source": [
    "# Имена файлов с данными.\n",
    "TRAIN_FILENAME = \"data/input/train.csv\"\n",
    "TEST_FILENAME = \"data/input/test.csv\""
   ]
  },
  {
   "cell_type": "code",
   "execution_count": 4,
   "metadata": {},
   "outputs": [],
   "source": [
    "# Считывание файлов.\n",
    "from collections import namedtuple\n",
    "WordForm = namedtuple(\"WordForm\", \"word pos gram\")\n",
    "\n",
    "def get_sentences(filename, is_train):\n",
    "    sentences = []\n",
    "    with io.open(filename, \"r\", encoding='utf-8') as r:\n",
    "        # Пропускаем заголовок\n",
    "        next(r)\n",
    "        sentence = [] # будем заполнять список предложений\n",
    "        for line in r:\n",
    "            # предложения отделены по '\\n'\n",
    "            if len(line.strip()) == 0:\n",
    "                if len(sentence) == 0:\n",
    "                    continue\n",
    "                sentences.append(sentence)\n",
    "                sentence = []\n",
    "                continue\n",
    "            if is_train:\n",
    "                # Формат: индекс\\tномер_в_предложении\\tсловоформа\\tPOS#Грамемы\n",
    "                word = line.strip().split(\"\\t\")[2]\n",
    "                pos = line.strip().split(\"\\t\")[3].split(\"#\")[0]\n",
    "                gram = line.strip().split(\"\\t\")[3].split(\"#\")[1]\n",
    "                sentence.append(WordForm(word, pos, gram))\n",
    "            else:\n",
    "                word = line.strip().split(\"\\t\")[2]\n",
    "                sentence.append(word)\n",
    "        if len(sentence) != 0:\n",
    "            sentences.append(sentence)\n",
    "    return sentences"
   ]
  },
  {
   "cell_type": "code",
   "execution_count": 5,
   "metadata": {},
   "outputs": [],
   "source": [
    "train = get_sentences(TRAIN_FILENAME, True)\n",
    "test = get_sentences(TEST_FILENAME, False)"
   ]
  },
  {
   "cell_type": "code",
   "execution_count": 6,
   "metadata": {},
   "outputs": [
    {
     "name": "stdout",
     "output_type": "stream",
     "text": [
      "А \t CONJ \t _\n",
      "ведь \t PART \t _\n",
      "для \t ADP \t _\n",
      "конкретных \t ADJ \t Case=Gen|Degree=Pos|Number=Plur\n",
      "изделий \t NOUN \t Animacy=Inan|Case=Gen|Gender=Neut|Number=Plur\n",
      "зачастую \t ADV \t Degree=Pos\n",
      "нужен \t ADJ \t Degree=Pos|Gender=Masc|Number=Sing|Variant=Brev\n",
      "монокристалл \t NOUN \t Animacy=Inan|Case=Nom|Gender=Masc|Number=Sing\n",
      "не \t PART \t _\n",
      "только \t PART \t _\n"
     ]
    }
   ],
   "source": [
    "# Выыедем, что получилось\n",
    "for wordform in train[0][:10]:\n",
    "    print(wordform.word, '\\t', wordform.pos, '\\t', wordform.gram)"
   ]
  },
  {
   "cell_type": "code",
   "execution_count": 7,
   "metadata": {},
   "outputs": [],
   "source": [
    "#запомним все уникальные слова и POS-теги в корпусе\n",
    "word_set = set()\n",
    "pos_set = set()\n",
    "for sent in train:\n",
    "    for wordform in sent:\n",
    "        word_set.add(wordform.word.lower())\n",
    "        pos_set.add(wordform.pos)"
   ]
  },
  {
   "cell_type": "code",
   "execution_count": 8,
   "metadata": {},
   "outputs": [
    {
     "name": "stdout",
     "output_type": "stream",
     "text": [
      "полюдье, ревнителями, лексусовским, увеличились, сравнялось, накопил, сбивается, бабами, томографы, освобожденные, \n",
      "{'NOUN', 'ADV', 'PART', 'SYM', 'PROPN', 'ADJ', 'NUM', 'SCONJ', 'CONJ', 'PRON', 'PUNCT', 'DET', 'AUX', 'X', 'VERB', 'INTJ', 'ADP'}\n"
     ]
    }
   ],
   "source": [
    "for word in list(word_set)[:10]: \n",
    "    print(word, end=', ')\n",
    "print()\n",
    "print(pos_set)"
   ]
  },
  {
   "cell_type": "code",
   "execution_count": 9,
   "metadata": {},
   "outputs": [],
   "source": [
    "#Загрузите эмбеддинги c https://nlp.stanford.edu/projects/glove/ или другие, которые вам нравятся и пропишите путь к ним\n",
    "import numpy as np\n",
    "\n",
    "word_embeddings_path = 'data\\glove.6B.50d.txt'\n",
    "word2idx = {}\n",
    "word_embeddings = []\n",
    "embedding_size = None\n",
    "#Загружаем эмбеддинги\n",
    "with io.open(word_embeddings_path, 'r', encoding=\"utf-8\") as f_em:\n",
    "    for line in f_em:\n",
    "        split = line.strip().split(\" \")\n",
    "        # Совсем короткие строки пропускаем\n",
    "        if len(split) <= 2:\n",
    "            continue\n",
    "        # Встретив первую подходящую строку, фиксируем размер эмбеддингов\n",
    "        if embedding_size is None:\n",
    "            embedding_size = len(split) - 1\n",
    "            # Также нициализируем эмбеддинги для паддингов и неизвестных слов\n",
    "            word2idx[\"PADDING_TOKEN\"] = len(word2idx)\n",
    "            word_embeddings.append(np.zeros(embedding_size))\n",
    "\n",
    "            word2idx[\"UNKNOWN_TOKEN\"] = len(word2idx)\n",
    "            word_embeddings.append(np.random.uniform(-0.25, 0.25, embedding_size))\n",
    "        # После этого все эмбеддинги должны быть одинаковой длины\n",
    "        if len(split) - 1 != embedding_size:\n",
    "            continue\n",
    "            \n",
    "        #Если слова нет в корпусе, то не будем для него запоминать эмбеддинг        \n",
    "        if (split[0] not in word_set):\n",
    "            continue\n",
    "        \n",
    "        word_embeddings.append(np.asarray(split[1:], dtype='float32'))\n",
    "        word2idx[split[0]] = len(word2idx)\n",
    "\n",
    "word_embeddings = np.array(word_embeddings, dtype='float32')"
   ]
  },
  {
   "cell_type": "code",
   "execution_count": 10,
   "metadata": {},
   "outputs": [
    {
     "data": {
      "text/plain": [
       "1948"
      ]
     },
     "execution_count": 10,
     "metadata": {},
     "output_type": "execute_result"
    }
   ],
   "source": [
    "len(word_set & set(word2idx.keys()))"
   ]
  },
  {
   "cell_type": "code",
   "execution_count": 11,
   "metadata": {},
   "outputs": [
    {
     "data": {
      "text/plain": [
       "98880"
      ]
     },
     "execution_count": 11,
     "metadata": {},
     "output_type": "execute_result"
    }
   ],
   "source": [
    "len(word_set)"
   ]
  },
  {
   "cell_type": "code",
   "execution_count": 12,
   "metadata": {},
   "outputs": [],
   "source": [
    "word_to_index = {'PAD' : 0, 'UNK' : 1}\n",
    "for word in word_set:\n",
    "    word_to_index[word] = len(word_to_index)"
   ]
  },
  {
   "cell_type": "code",
   "execution_count": 13,
   "metadata": {},
   "outputs": [
    {
     "data": {
      "text/plain": [
       "98882"
      ]
     },
     "execution_count": 13,
     "metadata": {},
     "output_type": "execute_result"
    }
   ],
   "source": [
    "len(word_to_index)"
   ]
  },
  {
   "cell_type": "code",
   "execution_count": 14,
   "metadata": {},
   "outputs": [],
   "source": [
    "pos_to_index = {\"PAD\": 0}\n",
    "index_to_pos = {0: \"PAD\"}\n",
    "for pos in pos_set:\n",
    "    pos_to_index[pos] = len(pos_to_index)\n",
    "    index_to_pos[len(index_to_pos)] = pos"
   ]
  },
  {
   "cell_type": "code",
   "execution_count": 15,
   "metadata": {},
   "outputs": [],
   "source": [
    "# для полносвязной сетки просто захреначим все в один список\n",
    "data_X = []\n",
    "data_Y = []\n",
    "for sent in train:\n",
    "    for wordform in sent:\n",
    "        data_X.append(word_to_index[wordform.word.lower()])\n",
    "        data_Y.append(pos_to_index[wordform.pos])"
   ]
  },
  {
   "cell_type": "code",
   "execution_count": 16,
   "metadata": {},
   "outputs": [],
   "source": [
    "X = []\n",
    "y = []\n",
    "for sent in train:\n",
    "    X.append([word_to_index[w.word.lower()] for w in sent])\n",
    "    y.append([pos_to_index[w.pos] for w in sent])\n",
    "X = np.array(X)\n",
    "y = np.array(y)"
   ]
  },
  {
   "cell_type": "code",
   "execution_count": 17,
   "metadata": {},
   "outputs": [],
   "source": [
    "from sklearn.model_selection import train_test_split\n",
    "\n",
    "X_train, X_test, y_train, y_test = train_test_split(X, y, test_size = 1000 / len(data_X))"
   ]
  },
  {
   "cell_type": "code",
   "execution_count": 18,
   "metadata": {},
   "outputs": [],
   "source": [
    "lens = np.array([len(x) for x in X_train])\n",
    "s_inds = np.argsort(lens)\n",
    "# sorting X by lengths\n",
    "X_train = X_train[s_inds]\n",
    "y_train = y_train[s_inds]"
   ]
  },
  {
   "cell_type": "code",
   "execution_count": 50,
   "metadata": {},
   "outputs": [],
   "source": [
    "def get_batch(X, y, batch_size):\n",
    "    n = np.random.randint(len(X) - batch_size)\n",
    "    inds = np.arange(n, n + batch_size)\n",
    "    np.random.shuffle(inds)\n",
    "    X_sent = X[inds]\n",
    "    y_sent = y[inds]\n",
    "    max_l = np.max([len(x) for x in X_sent])\n",
    "    X_batch = np.array([x + [word_to_index[\"PAD\"]] * (max_l - len(x)) for x in X_sent])\n",
    "    tags = np.array([x + [pos_to_index[\"PAD\"]] * (max_l - len(x)) for x in y_sent])\n",
    "    \n",
    "    y_batch = np.zeros((batch_size, X_batch.shape[1], len(pos_to_index)))\n",
    "    for j, row in enumerate(tags):\n",
    "        for k, pos in enumerate(row):\n",
    "            y_batch[j, k, pos] = 1\n",
    "    return X_batch, y_batch"
   ]
  },
  {
   "cell_type": "code",
   "execution_count": 52,
   "metadata": {},
   "outputs": [
    {
     "data": {
      "text/plain": [
       "(10, 32, 18)"
      ]
     },
     "execution_count": 52,
     "metadata": {},
     "output_type": "execute_result"
    }
   ],
   "source": [
    "a, b = get_batch(X_train, y_train, 10)\n",
    "b.shape"
   ]
  },
  {
   "cell_type": "markdown",
   "metadata": {},
   "source": [
    "# Модель"
   ]
  },
  {
   "cell_type": "code",
   "execution_count": 69,
   "metadata": {},
   "outputs": [],
   "source": [
    "import keras.layers as L\n",
    "from keras.models import Sequential"
   ]
  },
  {
   "cell_type": "code",
   "execution_count": 70,
   "metadata": {},
   "outputs": [],
   "source": [
    "from keras import backend as K\n",
    " \n",
    "def ignore_class_accuracy(to_ignore=0):\n",
    "    def ignore_accuracy(y_true, y_pred):\n",
    "        y_true_class = K.argmax(y_true, axis=-1)\n",
    "        y_pred_class = K.argmax(y_pred, axis=-1)\n",
    " \n",
    "        ignore_mask = K.cast(K.not_equal(y_pred_class, to_ignore), 'int32')\n",
    "        matches = K.cast(K.equal(y_true_class, y_pred_class), 'int32') * ignore_mask\n",
    "        accuracy = K.sum(matches) / K.maximum(K.sum(ignore_mask), 1)\n",
    "        return accuracy\n",
    "    return ignore_accuracy"
   ]
  },
  {
   "cell_type": "code",
   "execution_count": 71,
   "metadata": {},
   "outputs": [
    {
     "name": "stdout",
     "output_type": "stream",
     "text": [
      "_________________________________________________________________\n",
      "Layer (type)                 Output Shape              Param #   \n",
      "=================================================================\n",
      "embedding_16 (Embedding)     (None, None, 50)          4944100   \n",
      "_________________________________________________________________\n",
      "bidirectional_16 (Bidirectio (None, None, 200)         120800    \n",
      "_________________________________________________________________\n",
      "time_distributed_16 (TimeDis (None, None, 18)          3618      \n",
      "_________________________________________________________________\n",
      "activation_9 (Activation)    (None, None, 18)          0         \n",
      "=================================================================\n",
      "Total params: 5,068,518\n",
      "Trainable params: 124,418\n",
      "Non-trainable params: 4,944,100\n",
      "_________________________________________________________________\n"
     ]
    }
   ],
   "source": [
    "model = Sequential([\n",
    "    L.InputLayer(input_shape=(None,)),\n",
    "    L.Embedding(len(word_to_index), 50, trainable=False),\n",
    "    L.Bidirectional(L.LSTM(100, return_sequences=True)),\n",
    "    L.TimeDistributed(L.Dense(len(pos_to_index))),\n",
    "    L.Activation('softmax')\n",
    "])\n",
    "\n",
    "model.compile(optimizer='adam',\n",
    "              loss='categorical_crossentropy', metrics=['accuracy', ignore_class_accuracy(0)])\n",
    "model.summary()"
   ]
  },
  {
   "cell_type": "code",
   "execution_count": 76,
   "metadata": {},
   "outputs": [
    {
     "name": "stdout",
     "output_type": "stream",
     "text": [
      "\n",
      "batch #0, sent length 51\n",
      ".................................................\n",
      "batch #50, sent length 46\n",
      ".................................................\n",
      "batch #100, sent length 56\n",
      ".................................................\n",
      "batch #150, sent length 50\n",
      "................................................."
     ]
    }
   ],
   "source": [
    "batch_size = 64\n",
    "\n",
    "for i in range(200):\n",
    "    features, targets = get_batch(X, y, batch_size)\n",
    "    if i % 50 == 0:\n",
    "        print(f\"\\nbatch #{i}, sent length {features.shape[1]}\")\n",
    "    else:\n",
    "        print(end=\".\")\n",
    "    model.train_on_batch(features, targets)"
   ]
  },
  {
   "cell_type": "code",
   "execution_count": 77,
   "metadata": {},
   "outputs": [
    {
     "name": "stdout",
     "output_type": "stream",
     "text": [
      "(56, 49) (56, 49, 18)\n"
     ]
    },
    {
     "data": {
      "text/plain": [
       "57"
      ]
     },
     "execution_count": 77,
     "metadata": {},
     "output_type": "execute_result"
    }
   ],
   "source": [
    "eva_X, eva_y = get_batch(X_test, y_test, len(X_test) - 1)\n",
    "print(eva_X.shape, eva_y.shape)\n",
    "len(X_test)"
   ]
  },
  {
   "cell_type": "code",
   "execution_count": 78,
   "metadata": {},
   "outputs": [
    {
     "name": "stdout",
     "output_type": "stream",
     "text": [
      "56/56 [==============================] - 0s 3ms/step\n"
     ]
    }
   ],
   "source": [
    "ev = model.evaluate(eva_X, eva_y)"
   ]
  },
  {
   "cell_type": "code",
   "execution_count": 79,
   "metadata": {},
   "outputs": [
    {
     "name": "stdout",
     "output_type": "stream",
     "text": [
      "loss 0.7737555844443185\n",
      "acc 0.7656705634934562\n",
      "ignore_accuracy 0.37185587879676113\n"
     ]
    }
   ],
   "source": [
    "for name, val in zip(model.metrics_names, ev):\n",
    "    print(name, val)"
   ]
  },
  {
   "cell_type": "code",
   "execution_count": null,
   "metadata": {},
   "outputs": [],
   "source": []
  }
 ],
 "metadata": {
  "kernelspec": {
   "display_name": "Python 3",
   "language": "python",
   "name": "python3"
  }
 },
 "nbformat": 4,
 "nbformat_minor": 2
}
