{
 "cells": [
  {
   "cell_type": "code",
   "execution_count": 1,
   "metadata": {},
   "outputs": [],
   "source": [
    "sample_text = u'Гло́кая ку́здра ште́ко будлану́ла бо́кра и курдя́чит бокрёнка'"
   ]
  },
  {
   "cell_type": "code",
   "execution_count": 2,
   "metadata": {},
   "outputs": [
    {
     "name": "stdout",
     "output_type": "stream",
     "text": [
      "Collecting pymystem3\n",
      "  Downloading https://files.pythonhosted.org/packages/00/8c/98b43c5822620458704e187a1666616c1e21a846ede8ffda493aabe11207/pymystem3-0.2.0-py3-none-any.whl\n",
      "Requirement already satisfied: requests in c:\\anac\\lib\\site-packages (from pymystem3) (2.22.0)\n",
      "Requirement already satisfied: idna<2.9,>=2.5 in c:\\anac\\lib\\site-packages (from requests->pymystem3) (2.8)\n",
      "Requirement already satisfied: chardet<3.1.0,>=3.0.2 in c:\\anac\\lib\\site-packages (from requests->pymystem3) (3.0.4)\n",
      "Requirement already satisfied: certifi>=2017.4.17 in c:\\anac\\lib\\site-packages (from requests->pymystem3) (2019.11.28)\n",
      "Requirement already satisfied: urllib3!=1.25.0,!=1.25.1,<1.26,>=1.21.1 in c:\\anac\\lib\\site-packages (from requests->pymystem3) (1.25.7)\n",
      "Installing collected packages: pymystem3\n",
      "Successfully installed pymystem3-0.2.0\n"
     ]
    }
   ],
   "source": [
    "# поставим модуль если он еще не стоит\n",
    "!pip install pymystem3"
   ]
  },
  {
   "cell_type": "code",
   "execution_count": 3,
   "metadata": {},
   "outputs": [
    {
     "name": "stderr",
     "output_type": "stream",
     "text": [
      "Installing mystem to C:\\Users\\Дмитрий/.local/bin\\mystem.exe from http://download.cdn.yandex.net/mystem/mystem-3.1-win-64bit.zip\n"
     ]
    }
   ],
   "source": [
    "from pymystem3 import Mystem\n",
    "# инициализация собственно инициализатора\n",
    "mystem_analyzer = Mystem(entire_input=False, disambiguation=False)\n",
    "# entire_output - сохранение всего входа (напр. пробелов)\n",
    "# disambiguation - снятие омонимии"
   ]
  },
  {
   "cell_type": "code",
   "execution_count": 4,
   "metadata": {},
   "outputs": [],
   "source": [
    "mystem_result = mystem_analyzer.analyze(sample_text)\n",
    "mystem_lemmas = mystem_analyzer.lemmatize(sample_text)"
   ]
  },
  {
   "cell_type": "code",
   "execution_count": 7,
   "metadata": {},
   "outputs": [
    {
     "name": "stdout",
     "output_type": "stream",
     "text": [
      "глокая\n",
      "куздра\n",
      "штеко\n",
      "будлануть\n",
      "бокра\n",
      "и\n",
      "курдячить\n",
      "бокренка\n"
     ]
    }
   ],
   "source": [
    "for word in mystem_lemmas:    \n",
    "    print(word)"
   ]
  },
  {
   "cell_type": "code",
   "execution_count": 8,
   "metadata": {},
   "outputs": [
    {
     "name": "stdout",
     "output_type": "stream",
     "text": [
      "Гло́кая\n",
      "ку́здра\n",
      "ште́ко\n",
      "будлану́ла\n",
      "бо́кра\n",
      "и\n",
      "курдя́чит\n",
      "бокрёнка\n"
     ]
    }
   ],
   "source": [
    "for word in mystem_result:\n",
    "    print(word['text'])"
   ]
  },
  {
   "cell_type": "code",
   "execution_count": 9,
   "metadata": {},
   "outputs": [],
   "source": [
    "mystem_analyzer2 = Mystem(entire_input=False, disambiguation=True)"
   ]
  },
  {
   "cell_type": "code",
   "execution_count": 10,
   "metadata": {},
   "outputs": [],
   "source": [
    "mystem_result2 = mystem_analyzer2.analyze(sample_text)\n",
    "mystem_lemmas2 = mystem_analyzer2.lemmatize(sample_text)"
   ]
  },
  {
   "cell_type": "code",
   "execution_count": 11,
   "metadata": {},
   "outputs": [
    {
     "name": "stdout",
     "output_type": "stream",
     "text": [
      "Гло́кая ку́здра ште́ко будлану́ла бо́кра и курдя́чит бокрёнка\n",
      "глокая глокай\n",
      "куздра куздра\n",
      "штеко штеко\n",
      "будлануть будланул\n",
      "бокра бокра\n",
      "и и\n",
      "курдячить курдячить\n",
      "бокренка бокренок\n"
     ]
    }
   ],
   "source": [
    "print(sample_text)\n",
    "for (word, word2) in zip(mystem_lemmas, mystem_lemmas2):    \n",
    "    print(word, word2)"
   ]
  },
  {
   "cell_type": "code",
   "execution_count": 14,
   "metadata": {},
   "outputs": [
    {
     "name": "stdout",
     "output_type": "stream",
     "text": [
      "александра\n",
      "иванов\n",
      "пойти\n",
      "в\n",
      "кино\n",
      "александра\n",
      "иванов\n",
      "видеть\n",
      "в\n",
      "кино\n",
      "с\n",
      "кто-то\n",
      "воробей\n",
      "сегодня\n",
      "вставать\n",
      "не\n",
      "с\n",
      "тот\n",
      "нога\n"
     ]
    }
   ],
   "source": [
    "disambiguations = [ 'Александра Иванова пошла в кино',\n",
    "                    'Александра Иванова видели в кино с кем-то',\n",
    "                    'Воробьев сегодня встал не с той ноги']\n",
    "\n",
    "disambiguation_results = []\n",
    "for dis in disambiguations:\n",
    "    disambiguation_results.append(mystem_analyzer2.lemmatize(dis))\n",
    "    \n",
    "for res in disambiguation_results:\n",
    "    for word in res:\n",
    "        print(word,)\n",
    "    print"
   ]
  },
  {
   "cell_type": "code",
   "execution_count": 83,
   "metadata": {},
   "outputs": [],
   "source": [
    "#example\n",
    "text = u\"Анна пошла и купила мясо, рыбу, молоко и креветки. Она приготовила жаренное мясо. Потом Анна разобралась с рыбой и креветками.\""
   ]
  },
  {
   "cell_type": "markdown",
   "metadata": {},
   "source": [
    "# Задание\n",
    "Для того, чтобы наиграться с MyStem, предлагается написать метод, который находит топ n лексем."
   ]
  },
  {
   "cell_type": "code",
   "execution_count": 85,
   "metadata": {},
   "outputs": [],
   "source": [
    "def get_top_words(text, n):\n",
    "    mystem_analyzer2 = Mystem(entire_input=False, disambiguation=True)\n",
    "    mystem_lemmas = mystem_analyzer2.lemmatize(text)\n",
    "    lemmas = set(mystem_lemmas)\n",
    "    lemma=[]\n",
    "    \n",
    "    for word in lemmas:\n",
    "        lemma.append([word, mystem_lemmas.count(word)])\n",
    "        mystem_lemmas.remove(word)\n",
    "    lemma.sort(key=lambda i: i[1])\n",
    "    lemma.reverse()\n",
    "    c = []\n",
    "    for i in range(n):\n",
    "        c.append(lemma[i])\n",
    "    return c"
   ]
  },
  {
   "cell_type": "code",
   "execution_count": 87,
   "metadata": {},
   "outputs": [
    {
     "data": {
      "text/plain": [
       "[['и', 3], ['мясо', 2], ['анна', 2], ['креветка', 2]]"
      ]
     },
     "execution_count": 87,
     "metadata": {},
     "output_type": "execute_result"
    }
   ],
   "source": [
    "get_top_words(text, 4)"
   ]
  },
  {
   "cell_type": "code",
   "execution_count": 39,
   "metadata": {},
   "outputs": [
    {
     "name": "stdout",
     "output_type": "stream",
     "text": [
      "Collecting pymorphy2\n",
      "  Downloading https://files.pythonhosted.org/packages/07/57/b2ff2fae3376d4f3c697b9886b64a54b476e1a332c67eee9f88e7f1ae8c9/pymorphy2-0.9.1-py3-none-any.whl (55kB)\n",
      "Collecting dawg-python>=0.7.1\n",
      "  Downloading https://files.pythonhosted.org/packages/6a/84/ff1ce2071d4c650ec85745766c0047ccc3b5036f1d03559fd46bb38b5eeb/DAWG_Python-0.7.2-py2.py3-none-any.whl\n",
      "Collecting pymorphy2-dicts-ru<3.0,>=2.4\n",
      "  Downloading https://files.pythonhosted.org/packages/3a/79/bea0021eeb7eeefde22ef9e96badf174068a2dd20264b9a378f2be1cdd9e/pymorphy2_dicts_ru-2.4.417127.4579844-py2.py3-none-any.whl (8.2MB)\n",
      "Collecting docopt>=0.6\n",
      "  Downloading https://files.pythonhosted.org/packages/a2/55/8f8cab2afd404cf578136ef2cc5dfb50baa1761b68c9da1fb1e4eed343c9/docopt-0.6.2.tar.gz\n",
      "Building wheels for collected packages: docopt\n",
      "  Building wheel for docopt (setup.py): started\n",
      "  Building wheel for docopt (setup.py): finished with status 'done'\n",
      "  Created wheel for docopt: filename=docopt-0.6.2-py2.py3-none-any.whl size=13710 sha256=7d71524b28423cb48d199669e9ec45c92bb6112543ac66741c8899947d7311f4\n",
      "  Stored in directory: C:\\Users\\AACE~1\\AppData\\Local\\pip\\Cache\\wheels\\9b\\04\\dd\\7daf4150b6d9b12949298737de9431a324d4b797ffd63f526e\n",
      "Successfully built docopt\n",
      "Installing collected packages: dawg-python, pymorphy2-dicts-ru, docopt, pymorphy2\n",
      "Successfully installed dawg-python-0.7.2 docopt-0.6.2 pymorphy2-0.9.1 pymorphy2-dicts-ru-2.4.417127.4579844\n",
      "Requirement already up-to-date: pymorphy2-dicts-ru in c:\\anac\\lib\\site-packages (2.4.417127.4579844)\n"
     ]
    }
   ],
   "source": [
    "# установка модуля и словарей\n",
    "!pip install pymorphy2\n",
    "!pip install -U pymorphy2-dicts-ru"
   ]
  },
  {
   "cell_type": "code",
   "execution_count": 53,
   "metadata": {},
   "outputs": [],
   "source": [
    "# создание анализатора\n",
    "import pymorphy2\n",
    "morph = pymorphy2.MorphAnalyzer()"
   ]
  },
  {
   "cell_type": "code",
   "execution_count": 64,
   "metadata": {},
   "outputs": [],
   "source": [
    "# sample_text = u'Глокая куздра штеко будланула бокра и кудрячит бокренка'\n",
    "# в отличие от mystem работает пословно\n",
    "pymorphy_results = map(lambda x: morph.parse(x), sample_text.split())"
   ]
  },
  {
   "cell_type": "code",
   "execution_count": 65,
   "metadata": {},
   "outputs": [
    {
     "name": "stdout",
     "output_type": "stream",
     "text": [
      "гло́кая\n",
      "\t гло́кай NOUN,anim,masc,Name sing,gent 0.3333421575115817 NOUN\n",
      "\t гло́кай NOUN,anim,masc,Name sing,accs 0.3333421575115817 NOUN\n",
      "\t гло́кий ADJF femn,sing,nomn 0.30877564526803436 ADJF\n",
      "\t гло́кий NOUN,anim,femn,Sgtm,Surn sing,nomn 0.021045665122435473 NOUN\n",
      "\t гло́кать GRND,impf,intr pres 0.0034943745863666442 GRND\n",
      "ку́здра\n",
      "\t ку́здра NOUN,inan,femn,Sgtm,Fixd,Abbr,Geox sing,nomn 0.15000000000000002 NOUN\n",
      "\t ку́здра NOUN,inan,femn,Sgtm,Fixd,Abbr,Geox sing,gent 0.15000000000000002 NOUN\n",
      "\t ку́здра NOUN,inan,femn,Sgtm,Fixd,Abbr,Geox sing,datv 0.15000000000000002 NOUN\n",
      "\t ку́здра NOUN,inan,femn,Sgtm,Fixd,Abbr,Geox sing,accs 0.15000000000000002 NOUN\n",
      "\t ку́здра NOUN,inan,femn,Sgtm,Fixd,Abbr,Geox sing,ablt 0.15000000000000002 NOUN\n",
      "\t ку́здра NOUN,inan,femn,Sgtm,Fixd,Abbr,Geox sing,loct 0.15000000000000002 NOUN\n",
      "\t ку́здра NOUN,inan,femn,Sgtm sing,nomn 0.05 NOUN\n",
      "\t ку́здра NOUN,inan,femn,Sgtm,Geox sing,nomn 0.05 NOUN\n",
      "ште́ко\n",
      "\t ште́ко NOUN,anim,ms-f,Fixd,Surn sing,nomn 0.0798025503907856 NOUN\n",
      "\t ште́ко NOUN,anim,ms-f,Fixd,Surn sing,gent 0.0798025503907856 NOUN\n",
      "\t ште́ко NOUN,anim,ms-f,Fixd,Surn sing,datv 0.0798025503907856 NOUN\n",
      "\t ште́ко NOUN,anim,ms-f,Fixd,Surn sing,accs 0.0798025503907856 NOUN\n",
      "\t ште́ко NOUN,anim,ms-f,Fixd,Surn sing,ablt 0.0798025503907856 NOUN\n",
      "\t ште́ко NOUN,anim,ms-f,Fixd,Surn sing,loct 0.0798025503907856 NOUN\n",
      "\t ште́ко NOUN,anim,ms-f,Fixd,Surn plur,nomn 0.0798025503907856 NOUN\n",
      "\t ште́ко NOUN,anim,ms-f,Fixd,Surn plur,gent 0.0798025503907856 NOUN\n",
      "\t ште́ко NOUN,anim,ms-f,Fixd,Surn plur,datv 0.0798025503907856 NOUN\n",
      "\t ште́ко NOUN,anim,ms-f,Fixd,Surn plur,accs 0.0798025503907856 NOUN\n",
      "\t ште́ко NOUN,anim,ms-f,Fixd,Surn plur,ablt 0.0798025503907856 NOUN\n",
      "\t ште́ко NOUN,anim,ms-f,Fixd,Surn plur,loct 0.0798025503907856 NOUN\n",
      "\t ште́ко ADVB 0.021527492115727385 ADVB\n",
      "\t ште́кий ADJS neut,sing 0.007678595913890023 ADJS\n",
      "\t ште́ко ADJF,Fixd,Subx,Qual masc,sing,nomn 0.0005484711367064303 ADJF\n",
      "\t ште́ко ADJF,Fixd,Subx,Qual masc,sing,gent 0.0005484711367064303 ADJF\n",
      "\t ште́ко ADJF,Fixd,Subx,Qual masc,sing,datv 0.0005484711367064303 ADJF\n",
      "\t ште́ко ADJF,Fixd,Subx,Qual masc,sing,accs 0.0005484711367064303 ADJF\n",
      "\t ште́ко ADJF,Fixd,Subx,Qual masc,sing,ablt 0.0005484711367064303 ADJF\n",
      "\t ште́ко ADJF,Fixd,Subx,Qual masc,sing,loct 0.0005484711367064303 ADJF\n",
      "\t ште́ко ADJF,Fixd,Subx,Qual femn,sing,nomn 0.0005484711367064303 ADJF\n",
      "\t ште́ко ADJF,Fixd,Subx,Qual femn,sing,gent 0.0005484711367064303 ADJF\n",
      "\t ште́ко ADJF,Fixd,Subx,Qual femn,sing,datv 0.0005484711367064303 ADJF\n",
      "\t ште́ко ADJF,Fixd,Subx,Qual femn,sing,accs 0.0005484711367064303 ADJF\n",
      "\t ште́ко ADJF,Fixd,Subx,Qual femn,sing,ablt 0.0005484711367064303 ADJF\n",
      "\t ште́ко ADJF,Fixd,Subx,Qual femn,sing,loct 0.0005484711367064303 ADJF\n",
      "\t ште́ко ADJF,Fixd,Subx,Qual neut,sing,nomn 0.0005484711367064303 ADJF\n",
      "\t ште́ко ADJF,Fixd,Subx,Qual neut,sing,gent 0.0005484711367064303 ADJF\n",
      "\t ште́ко ADJF,Fixd,Subx,Qual neut,sing,datv 0.0005484711367064303 ADJF\n",
      "\t ште́ко ADJF,Fixd,Subx,Qual neut,sing,accs 0.0005484711367064303 ADJF\n",
      "\t ште́ко ADJF,Fixd,Subx,Qual neut,sing,ablt 0.0005484711367064303 ADJF\n",
      "\t ште́ко ADJF,Fixd,Subx,Qual neut,sing,loct 0.0005484711367064303 ADJF\n",
      "\t ште́ко ADJF,Fixd,Subx,Qual plur,nomn 0.0005484711367064303 ADJF\n",
      "\t ште́ко ADJF,Fixd,Subx,Qual plur,gent 0.0005484711367064303 ADJF\n",
      "\t ште́ко ADJF,Fixd,Subx,Qual plur,datv 0.0005484711367064303 ADJF\n",
      "\t ште́ко ADJF,Fixd,Subx,Qual plur,accs 0.0005484711367064303 ADJF\n",
      "\t ште́ко ADJF,Fixd,Subx,Qual plur,ablt 0.0005484711367064303 ADJF\n",
      "\t ште́ко ADJF,Fixd,Subx,Qual plur,loct 0.0005484711367064303 ADJF\n",
      "будлану́ла\n",
      "\t будлану́ть VERB,impf,tran femn,sing,past,indc 0.8463337230666443 VERB\n",
      "\t будлану́л NOUN,inan,masc sing,gent 0.11725405044262568 NOUN\n",
      "\t будлану́лый ADJS femn,sing 0.03490896943377317 ADJS\n",
      "\t будлану́ла ADVB 0.0015032570569567395 ADVB\n",
      "бо́кра\n",
      "\t бо́кр NOUN,inan,masc sing,gent 0.45454545454545453 NOUN\n",
      "\t бо́кра NOUN,inan,femn sing,nomn 0.45454545454545453 NOUN\n",
      "\t бо́крый ADJS,Qual femn,sing 0.0909090909090909 ADJS\n",
      "и\n",
      "\t и CONJ 0.998263 CONJ\n",
      "\t и PRCL 0.000306 PRCL\n",
      "\t и INTJ 0.000204 INTJ\n",
      "\t и NOUN,anim,masc,Fixd,Abbr sing,nomn 0.000102 NOUN\n",
      "\t и NOUN,anim,masc,Fixd,Abbr sing,gent 0.000102 NOUN\n",
      "\t и NOUN,anim,masc,Fixd,Abbr sing,datv 0.000102 NOUN\n",
      "\t и NOUN,anim,masc,Fixd,Abbr sing,accs 0.000102 NOUN\n",
      "\t и NOUN,anim,masc,Fixd,Abbr sing,ablt 0.000102 NOUN\n",
      "\t и NOUN,anim,masc,Fixd,Abbr sing,loct 0.000102 NOUN\n",
      "\t и NOUN,anim,masc,Fixd,Abbr plur,nomn 0.000102 NOUN\n",
      "\t и NOUN,anim,masc,Fixd,Abbr plur,gent 0.000102 NOUN\n",
      "\t и NOUN,anim,masc,Fixd,Abbr plur,datv 0.000102 NOUN\n",
      "\t и NOUN,anim,masc,Fixd,Abbr plur,accs 0.000102 NOUN\n",
      "\t и NOUN,anim,masc,Fixd,Abbr plur,ablt 0.000102 NOUN\n",
      "\t и NOUN,anim,masc,Fixd,Abbr plur,loct 0.000102 NOUN\n",
      "курдя́чит\n",
      "\t курдя́чить VERB,perf,tran sing,3per,futr,indc 0.9407407407407409 VERB\n",
      "\t курдя́читый ADJS,Qual masc,sing 0.0074074074074074086 ADJS\n",
      "\t курдя́чит NOUN,anim,femn,Sgtm,Fixd,Name sing,nomn 0.0074074074074074086 NOUN\n",
      "\t курдя́чит NOUN,anim,femn,Sgtm,Fixd,Name sing,gent 0.0074074074074074086 NOUN\n",
      "\t курдя́чит NOUN,anim,femn,Sgtm,Fixd,Name sing,datv 0.0074074074074074086 NOUN\n",
      "\t курдя́чит NOUN,anim,femn,Sgtm,Fixd,Name sing,accs 0.0074074074074074086 NOUN\n",
      "\t курдя́чит NOUN,anim,femn,Sgtm,Fixd,Name sing,ablt 0.0074074074074074086 NOUN\n",
      "\t курдя́чит NOUN,anim,femn,Sgtm,Fixd,Name sing,loct 0.0074074074074074086 NOUN\n",
      "\t курдя́читый ADJS masc,sing 0.0074074074074074086 ADJS\n",
      "бокрёнка\n",
      "\t бокрёнок NOUN,anim,masc sing,gent 0.49999999999999994 NOUN\n",
      "\t бокрёнок NOUN,anim,masc sing,accs 0.49999999999999994 NOUN\n"
     ]
    }
   ],
   "source": [
    "# собираем результаты и выводим \n",
    "for word_result in pymorphy_results:\n",
    "    #print(word_result)\n",
    "    print(word_result[0].word)\n",
    "    for res in word_result:\n",
    "#         print repr(res).decode('unicode_escape')\n",
    "        #print('\\t', res.score)\n",
    "        print('\\t', res.normal_form, res.tag, res.score, res.tag.POS)"
   ]
  },
  {
   "cell_type": "code",
   "execution_count": 46,
   "metadata": {},
   "outputs": [
    {
     "name": "stdout",
     "output_type": "stream",
     "text": [
      "градусе\n",
      "градус\n",
      "градуса\n",
      "градусов\n"
     ]
    }
   ],
   "source": [
    "print(bokr.inflect({'loct'}).word,)\n",
    "print(bokr.make_agree_with_number(1).word,)\n",
    "print(bokr.make_agree_with_number(2).word,)\n",
    "print(bokr.make_agree_with_number(5).word)"
   ]
  },
  {
   "cell_type": "markdown",
   "metadata": {},
   "source": [
    "# Задание\n",
    "С помощью pymorphy на тексте получить:\n",
    "\n",
    "    Распределение по частям речи\n",
    "    Для части речи вывести топ n лексем\n"
   ]
  },
  {
   "cell_type": "code",
   "execution_count": 88,
   "metadata": {},
   "outputs": [],
   "source": [
    "def get_pos_distribution(text, lexemas=None):\n",
    "    \n",
    "    text = text.lower()\n",
    "    morph = pymorphy2.MorphAnalyzer()\n",
    "    pymorphy_results = map(lambda x: morph.parse(x), text.split())\n",
    "    probs = dict()\n",
    "    pos = []\n",
    "    for word_result in pymorphy_results:\n",
    "        for res in word_result:\n",
    "            pos.append(res.tag.POS)\n",
    "    if (lexemas == None):\n",
    "        for word in pos:\n",
    "            if (word not in probs.keys()):\n",
    "                probs[word] = pos.count(word)/len(pos)\n",
    "    else:\n",
    "        for word in lexemas:\n",
    "            if (word not in probs.keys()):\n",
    "                probs[word] = pos.count(word)/len(pos)\n",
    "    \n",
    "    return probs\n",
    "    \n",
    "\n",
    "def get_top_pos_words(text, pos, n):\n",
    "    text = text.lower()\n",
    "    morph = pymorphy2.MorphAnalyzer()\n",
    "    pymorphy_results = map(lambda x: morph.parse(x), text.split())\n",
    "    com_lexem = []\n",
    "    lexem = []\n",
    "    for word_result in pymorphy_results:\n",
    "        for res in word_result:\n",
    "            if (res.tag.POS == pos):\n",
    "                lexem.append(res.normal_form)\n",
    "    for word in set(lexem):\n",
    "        com_lexem.append([word, lexem.count(word)])\n",
    "    com_lexem.sort(key=lambda i: i[1])\n",
    "    com_lexem.reverse()\n",
    "    c = []\n",
    "    for i in range(n):\n",
    "        c.append(com_lexem[i][0])\n",
    "    return c\n",
    "    "
   ]
  },
  {
   "cell_type": "code",
   "execution_count": 98,
   "metadata": {},
   "outputs": [
    {
     "name": "stdout",
     "output_type": "stream",
     "text": [
      "{'NOUN': 0.7252747252747253, 'VERB': 0.04395604395604396, 'ADJS': 0.01098901098901099, 'CONJ': 0.03296703296703297, 'PRCL': 0.04395604395604396, 'INTJ': 0.03296703296703297, None: 0.054945054945054944, 'NPRO': 0.01098901098901099, 'PRTF': 0.02197802197802198, 'ADVB': 0.01098901098901099, 'PREP': 0.01098901098901099}\n",
      "{'NOUN': 0.7252747252747253, 'ADJF': 0.0}\n"
     ]
    }
   ],
   "source": [
    "print(get_pos_distribution(text))\n",
    "print(get_pos_distribution(text, ['NOUN', 'ADJF']))"
   ]
  },
  {
   "cell_type": "code",
   "execution_count": 99,
   "metadata": {},
   "outputs": [
    {
     "name": "stdout",
     "output_type": "stream",
     "text": [
      "['и', 'с', 'молоко']\n"
     ]
    }
   ],
   "source": [
    "print(get_top_pos_words(text, 'NOUN', 3))"
   ]
  }
 ],
 "metadata": {
  "kernelspec": {
   "display_name": "Python 3",
   "language": "python",
   "name": "python3"
  },
  "language_info": {
   "codemirror_mode": {
    "name": "ipython",
    "version": 3
   },
   "file_extension": ".py",
   "mimetype": "text/x-python",
   "name": "python",
   "nbconvert_exporter": "python",
   "pygments_lexer": "ipython3",
   "version": "3.7.3"
  }
 },
 "nbformat": 4,
 "nbformat_minor": 2
}
