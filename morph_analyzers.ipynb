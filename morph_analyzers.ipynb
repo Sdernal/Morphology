{
 "cells": [
  {
   "cell_type": "markdown",
   "metadata": {},
   "source": [
    "# Морфология 1\n",
    "\n",
    "Здесь мы познакомимся с двумя мофрологическими анализоторами: pymorphy и mystem."
   ]
  },
  {
   "cell_type": "code",
   "execution_count": 1,
   "metadata": {},
   "outputs": [],
   "source": [
    "sample_text = u'Гло́кая ку́здра ште́ко будлану́ла бо́кра и курдя́чит бокрёнка'"
   ]
  },
  {
   "cell_type": "markdown",
   "metadata": {},
   "source": [
    "### 1. MyStem"
   ]
  },
  {
   "cell_type": "code",
   "execution_count": 2,
   "metadata": {},
   "outputs": [
    {
     "name": "stdout",
     "output_type": "stream",
     "text": [
      "\u001b[33mDEPRECATION: Python 2.7 will reach the end of its life on January 1st, 2020. Please upgrade your Python as Python 2.7 won't be maintained after that date. A future version of pip will drop support for Python 2.7. More details about Python 2 support in pip, can be found at https://pip.pypa.io/en/latest/development/release-process/#python-2-support\u001b[0m\n",
      "Collecting pymystem3\n",
      "  Downloading https://files.pythonhosted.org/packages/4e/c2/56486b7eb180d83363baa2e609fcc2d49280331ad67e348cf8fa456050bf/pymystem3-0.2.0.tar.gz\n",
      "Requirement already satisfied: requests in /home/mlepekhin/anaconda3/envs/mlepekhin_python2/lib/python2.7/site-packages (from pymystem3) (2.22.0)\n",
      "Requirement already satisfied: chardet<3.1.0,>=3.0.2 in /home/mlepekhin/anaconda3/envs/mlepekhin_python2/lib/python2.7/site-packages (from requests->pymystem3) (3.0.4)\n",
      "Requirement already satisfied: idna<2.9,>=2.5 in /home/mlepekhin/anaconda3/envs/mlepekhin_python2/lib/python2.7/site-packages (from requests->pymystem3) (2.8)\n",
      "Requirement already satisfied: urllib3!=1.25.0,!=1.25.1,<1.26,>=1.21.1 in /home/mlepekhin/anaconda3/envs/mlepekhin_python2/lib/python2.7/site-packages (from requests->pymystem3) (1.24.2)\n",
      "Requirement already satisfied: certifi>=2017.4.17 in /home/mlepekhin/anaconda3/envs/mlepekhin_python2/lib/python2.7/site-packages (from requests->pymystem3) (2019.9.11)\n",
      "Building wheels for collected packages: pymystem3\n",
      "  Building wheel for pymystem3 (setup.py) ... \u001b[?25ldone\n",
      "\u001b[?25h  Created wheel for pymystem3: filename=pymystem3-0.2.0-cp27-none-any.whl size=8890 sha256=a947d6b130cafda49f98152f9a44558e739f6fdd93df9f0abafb61b27cafb861\n",
      "  Stored in directory: /home/mlepekhin/.cache/pip/wheels/82/01/43/e79503d64fa9c05403b8dda86ca57cf10290b019140d22ee3a\n",
      "Successfully built pymystem3\n",
      "Installing collected packages: pymystem3\n",
      "Successfully installed pymystem3-0.2.0\n"
     ]
    }
   ],
   "source": [
    "# поставим модуль если он еще не стоит\n",
    "!pip install pymystem3"
   ]
  },
  {
   "cell_type": "code",
   "execution_count": 3,
   "metadata": {},
   "outputs": [],
   "source": [
    "from pymystem3 import Mystem\n",
    "# инициализация собственно инициализатора\n",
    "mystem_analyzer = Mystem(entire_input=False, disambiguation=False)\n",
    "# entire_output - сохранение всего входа (напр. пробелов)\n",
    "# disambiguation - снятие омонимии"
   ]
  },
  {
   "cell_type": "markdown",
   "metadata": {},
   "source": [
    "Две основные функции Mystem:\n",
    "- Проводить мофрологический анализ\n",
    "- Приводить начальные формы для слов в тексте"
   ]
  },
  {
   "cell_type": "code",
   "execution_count": 4,
   "metadata": {},
   "outputs": [],
   "source": [
    "mystem_result = mystem_analyzer.analyze(sample_text)\n",
    "mystem_lemmas = mystem_analyzer.lemmatize(sample_text)"
   ]
  },
  {
   "cell_type": "code",
   "execution_count": 5,
   "metadata": {},
   "outputs": [
    {
     "name": "stdout",
     "output_type": "stream",
     "text": [
      "Гло́кая ку́здра ште́ко будлану́ла бо́кра и курдя́чит бокрёнка\n",
      "глокая куздра штеко будлануть бокра и курдячить бокренка\n"
     ]
    }
   ],
   "source": [
    "# Посмотрим, что у нас получилось при лемматизации \n",
    "# (да, чтобы вывести юникодные строки на втором питоне приходится так извращаться)\n",
    "print sample_text\n",
    "for word in mystem_lemmas:    \n",
    "    print word,"
   ]
  },
  {
   "cell_type": "code",
   "execution_count": 6,
   "metadata": {},
   "outputs": [
    {
     "name": "stdout",
     "output_type": "stream",
     "text": [
      "Гло́кая\n",
      "\t{u'lex': u'глокая', u'qual': u'bastard', u'wt': 0.3605448292, u'gr': u'S,ед,жен,неод=им'}\n",
      "\t{u'lex': u'глокать', u'qual': u'bastard', u'wt': 0.3605448292, u'gr': u'V,несов=непрош,деепр,пе'}\n",
      "\t{u'lex': u'глокая', u'qual': u'bastard', u'wt': 0.1038369108, u'gr': u'S,жен,од=им,ед'}\n",
      "\t{u'lex': u'глокай', u'qual': u'bastard', u'wt': 0.09304979929, u'gr': u'S,муж,неод=род,ед'}\n",
      "\t{u'lex': u'глокать', u'qual': u'bastard', u'wt': 0.03306575604, u'gr': u'V,несов,нп=непрош,деепр'}\n",
      "\t{u'lex': u'глокий', u'qual': u'bastard', u'wt': 0.01624943977, u'gr': u'A=им,ед,полн,жен'}\n",
      "\t{u'lex': u'глокать', u'qual': u'bastard', u'wt': 0.01512198266, u'gr': u'V,несов,пе=непрош,деепр'}\n",
      "\t{u'lex': u'глокий', u'qual': u'bastard', u'wt': 0.01077529943, u'gr': u'A=им,ед,полн,жен'}\n",
      "\t{u'lex': u'глокать', u'qual': u'bastard', u'wt': 0.006811153662, u'gr': u'V,нп=непрош,деепр,несов'}\n",
      "ку́здра\n",
      "\t{u'lex': u'куздра', u'qual': u'bastard', u'wt': 0.6292693823, u'gr': u'S,ед,жен,неод=им'}\n",
      "\t{u'lex': u'куздра', u'qual': u'bastard', u'wt': 0.3707306177, u'gr': u'S,гео,жен,неод=им,ед'}\n",
      "ште́ко\n",
      "\t{u'lex': u'штеко', u'qual': u'bastard', u'wt': 0.3217673592, u'gr': u'S,имя,мж,од=(пр,мн|пр,ед|вин,мн|вин,ед|дат,мн|дат,ед|род,мн|род,ед|твор,мн|твор,ед|им,мн|им,ед)'}\n",
      "\t{u'lex': u'штеко', u'qual': u'bastard', u'wt': 0.2574119755, u'gr': u'ADV='}\n",
      "\t{u'lex': u'штеко', u'qual': u'bastard', u'wt': 0.1608460987, u'gr': u'S,сред,неод=(пр,мн|пр,ед|вин,мн|вин,ед|дат,мн|дат,ед|род,мн|род,ед|твор,мн|твор,ед|им,мн|им,ед)'}\n",
      "\t{u'lex': u'штеко', u'qual': u'bastard', u'wt': 0.08253134141, u'gr': u'S,сред,неод=(вин,ед|им,ед)'}\n",
      "\t{u'lex': u'штеко', u'qual': u'bastard', u'wt': 0.07936870775, u'gr': u'S,ед,сред,неод=(вин|им)'}\n",
      "\t{u'lex': u'штеко', u'qual': u'bastard', u'wt': 0.03215211714, u'gr': u'S,имя,муж,од=(пр,мн|пр,ед|вин,мн|вин,ед|дат,мн|дат,ед|род,мн|род,ед|твор,мн|твор,ед|им,мн|им,ед)'}\n",
      "\t{u'lex': u'штеко', u'qual': u'bastard', u'wt': 0.03210293606, u'gr': u'S,фам,мж,од=(пр,мн|пр,ед|вин,мн|вин,ед|дат,мн|дат,ед|род,мн|род,ед|твор,мн|твор,ед|им,мн|им,ед)'}\n",
      "\t{u'lex': u'штеко', u'qual': u'bastard', u'wt': 0.03208609722, u'gr': u'S,гео,ед,муж,неод=(пр|вин|дат|род|твор|им)'}\n",
      "\t{u'lex': u'штекий', u'qual': u'bastard', u'wt': 0.001720046713, u'gr': u'A=ед,кр,сред'}\n",
      "\t{u'lex': u'штекий', u'qual': u'bastard', u'wt': 1.332032949e-05, u'gr': u'A=ед,кр,сред'}\n",
      "\t{u'lex': u'штеко', u'qual': u'bastard', u'wt': 0, u'gr': u'S,имя,ед,муж,од=им'}\n",
      "будлану́ла\n",
      "\t{u'lex': u'будлануть', u'qual': u'bastard', u'wt': 0.2884335962, u'gr': u'V,обсц,сов=прош,ед,изъяв,жен'}\n",
      "\t{u'lex': u'будлануть', u'qual': u'bastard', u'wt': 0.2884335962, u'gr': u'V,разг,обсц,сов=прош,ед,изъяв,жен'}\n",
      "\t{u'lex': u'будланула', u'qual': u'bastard', u'wt': 0.09985378522, u'gr': u'S,имя,жен,од=им,ед'}\n",
      "\t{u'lex': u'будлануть', u'qual': u'bastard', u'wt': 0.05695153583, u'gr': u'V,сов,пе=прош,ед,изъяв,жен'}\n",
      "\t{u'lex': u'будлануть', u'qual': u'bastard', u'wt': 0.05212627477, u'gr': u'V,сов,пе=прош,ед,изъяв,жен'}\n",
      "\t{u'lex': u'будлануть', u'qual': u'bastard', u'wt': 0.04770114448, u'gr': u'V,сов,нп=прош,ед,изъяв,жен'}\n",
      "\t{u'lex': u'будлануть', u'qual': u'bastard', u'wt': 0.04683850382, u'gr': u'V,сов,пе=прош,ед,изъяв,жен'}\n",
      "\t{u'lex': u'будланула', u'qual': u'bastard', u'wt': 0.04299689435, u'gr': u'S,жен,неод=им,ед'}\n",
      "\t{u'lex': u'будланул', u'qual': u'bastard', u'wt': 0.03753661836, u'gr': u'S,муж,од=(вин,ед|род,ед)'}\n",
      "\t{u'lex': u'будлануть', u'qual': u'bastard', u'wt': 0.02766311711, u'gr': u'V,сов,нп=прош,ед,изъяв,жен'}\n",
      "\t{u'lex': u'будланывать', u'qual': u'bastard', u'wt': 0.01146493374, u'gr': u'V,пе=прош,ед,изъяв,жен,сов'}\n",
      "бо́кра\n",
      "\t{u'lex': u'бокра', u'qual': u'bastard', u'wt': 0.8898982327, u'gr': u'S,ед,жен,неод=им'}\n",
      "\t{u'lex': u'бокрый', u'qual': u'bastard', u'wt': 0.1101017673, u'gr': u'A=ед,кр,жен'}\n",
      "и\n",
      "\t{u'lex': u'и', u'wt': 0.9999770357, u'gr': u'CONJ='}\n",
      "\t{u'lex': u'и', u'wt': 1.020511514e-05, u'gr': u'INTJ='}\n",
      "\t{u'lex': u'и', u'wt': 6.379604644e-06, u'gr': u'S,сокр=(пр,мн|пр,ед|вин,мн|вин,ед|дат,мн|дат,ед|род,мн|род,ед|твор,мн|твор,ед|им,мн|им,ед)'}\n",
      "\t{u'lex': u'и', u'wt': 6.37957056e-06, u'gr': u'PART='}\n",
      "курдя́чит\n",
      "\t{u'lex': u'курдячить', u'qual': u'bastard', u'wt': 0.5, u'gr': u'V,обсц,сов,пе=непрош,ед,изъяв,3-л'}\n",
      "\t{u'lex': u'курдячить', u'qual': u'bastard', u'wt': 0.5, u'gr': u'V,обсц,несов,пе=непрош,ед,изъяв,3-л'}\n",
      "бокрёнка\n",
      "\t{u'lex': u'бокренка', u'qual': u'bastard', u'wt': 0.2200160995, u'gr': u'S,имя,жен,од=им,ед'}\n",
      "\t{u'lex': u'бокренок', u'qual': u'bastard', u'wt': 0.165166425, u'gr': u'S,муж,неод=род,ед'}\n",
      "\t{u'lex': u'бокренка', u'qual': u'bastard', u'wt': 0.1392542771, u'gr': u'S,жен,од=им,ед'}\n",
      "\t{u'lex': u'бокренка', u'qual': u'bastard', u'wt': 0.1240808471, u'gr': u'S,жен,неод=им,ед'}\n",
      "\t{u'lex': u'бокренок', u'qual': u'bastard', u'wt': 0.1205990358, u'gr': u'S,муж,неод=род,ед'}\n",
      "\t{u'lex': u'бокренок', u'qual': u'bastard', u'wt': 0.09129371203, u'gr': u'S,муж,од=(вин,ед|род,ед)'}\n",
      "\t{u'lex': u'бокренка', u'qual': u'bastard', u'wt': 0.07074299558, u'gr': u'S,имя,мж,од=им,ед'}\n",
      "\t{u'lex': u'бокренк', u'qual': u'bastard', u'wt': 0.06884660791, u'gr': u'S,имя,муж,од=(вин,ед|род,ед)'}\n"
     ]
    }
   ],
   "source": [
    "# Ну и результат морфологического анализа\n",
    "# выведены всевозможные разборы, чтобы оценить масшатбы\n",
    "for word in mystem_result:\n",
    "    print word['text']\n",
    "    for res in word['analysis']:\n",
    "        print '\\t', repr(res).decode('unicode_escape')"
   ]
  },
  {
   "cell_type": "markdown",
   "metadata": {},
   "source": [
    "Создадим теперь анализатор со снятием омонимии"
   ]
  },
  {
   "cell_type": "code",
   "execution_count": 7,
   "metadata": {},
   "outputs": [],
   "source": [
    "mystem_analyzer2 = Mystem(entire_input=False, disambiguation=True)"
   ]
  },
  {
   "cell_type": "code",
   "execution_count": 8,
   "metadata": {},
   "outputs": [],
   "source": [
    "mystem_result2 = mystem_analyzer2.analyze(sample_text)\n",
    "mystem_lemmas2 = mystem_analyzer2.lemmatize(sample_text)"
   ]
  },
  {
   "cell_type": "code",
   "execution_count": 9,
   "metadata": {},
   "outputs": [
    {
     "name": "stdout",
     "output_type": "stream",
     "text": [
      "Гло́кая ку́здра ште́ко будлану́ла бо́кра и курдя́чит бокрёнка\n",
      "глокая глокай\n",
      "куздра куздра\n",
      "штеко штеко\n",
      "будлануть будланул\n",
      "бокра бокра\n",
      "и и\n",
      "курдячить курдячить\n",
      "бокренка бокренок\n"
     ]
    }
   ],
   "source": [
    "print sample_text\n",
    "for (word, word2) in zip(mystem_lemmas, mystem_lemmas2):    \n",
    "    print word, word2"
   ]
  },
  {
   "cell_type": "code",
   "execution_count": 10,
   "metadata": {},
   "outputs": [
    {
     "name": "stdout",
     "output_type": "stream",
     "text": [
      "Гло́кая\n",
      "\t{u'lex': u'глокай', u'qual': u'bastard', u'wt': 0.09304979929, u'gr': u'S,муж,неод=род,ед'}\n",
      "ку́здра\n",
      "\t{u'lex': u'куздра', u'qual': u'bastard', u'wt': 0.6292693823, u'gr': u'S,ед,жен,неод=им'}\n",
      "ште́ко\n",
      "\t{u'lex': u'штеко', u'qual': u'bastard', u'wt': 0.2574119755, u'gr': u'ADV='}\n",
      "будлану́ла\n",
      "\t{u'lex': u'будланул', u'qual': u'bastard', u'wt': 0.03753661836, u'gr': u'S,муж,од=(вин,ед|род,ед)'}\n",
      "бо́кра\n",
      "\t{u'lex': u'бокра', u'qual': u'bastard', u'wt': 0.8898982327, u'gr': u'S,ед,жен,неод=им'}\n",
      "и\n",
      "\t{u'lex': u'и', u'wt': 0.9999770357, u'gr': u'CONJ='}\n",
      "курдя́чит\n",
      "\t{u'lex': u'курдячить', u'qual': u'bastard', u'wt': 0.5, u'gr': u'V,обсц,сов,пе=непрош,ед,изъяв,3-л'}\n",
      "бокрёнка\n",
      "\t{u'lex': u'бокренок', u'qual': u'bastard', u'wt': 0.165166425, u'gr': u'S,муж,неод=род,ед'}\n"
     ]
    }
   ],
   "source": [
    "for word in mystem_result2:\n",
    "    print word['text']\n",
    "    for res in word['analysis']:\n",
    "        print '\\t', repr(res).decode('unicode_escape')"
   ]
  },
  {
   "cell_type": "markdown",
   "metadata": {},
   "source": [
    "Проблемы MyStem"
   ]
  },
  {
   "cell_type": "code",
   "execution_count": 44,
   "metadata": {},
   "outputs": [
    {
     "name": "stdout",
     "output_type": "stream",
     "text": [
      "александра иванов пойти в кино\n",
      "александра иванов видеть в кино с кто-то\n",
      "воробей сегодня вставать не с тот нога\n"
     ]
    }
   ],
   "source": [
    "disambiguations = [ 'Александра Иванова пошла в кино',\n",
    "                    'Александра Иванова видели в кино с кем-то',\n",
    "                    'Воробьев сегодня встал не с той ноги']\n",
    "\n",
    "disambiguation_results = []\n",
    "for dis in disambiguations:\n",
    "    disambiguation_results.append(mystem_analyzer2.lemmatize(dis))\n",
    "    \n",
    "for res in disambiguation_results:\n",
    "    for word in res:\n",
    "        print word,\n",
    "    print"
   ]
  },
  {
   "cell_type": "markdown",
   "metadata": {},
   "source": [
    "#### Задание\n",
    "Для того, чтобы наиграться с MyStem, предлагается написать метод, который находит топ n лексем."
   ]
  },
  {
   "cell_type": "code",
   "execution_count": 22,
   "metadata": {},
   "outputs": [],
   "source": [
    "from collections import Counter\n",
    "\n",
    "def get_top_words(text, n):\n",
    "    '''\n",
    "    :param text: input text in russian\n",
    "    :param n: number of most common words\n",
    "    :return: list of most common lexemas\n",
    "    '''\n",
    "    \n",
    "    counter = Counter()\n",
    "    analysis = mystem_analyzer2.lemmatize(text.lower())\n",
    "    \n",
    "    for word in analysis:\n",
    "        counter[word] += 1\n",
    "    return [lexeme for (lexeme, _) in counter.most_common(n)]"
   ]
  },
  {
   "cell_type": "code",
   "execution_count": 23,
   "metadata": {},
   "outputs": [
    {
     "name": "stdout",
     "output_type": "stream",
     "text": [
      "бокра куздра\n"
     ]
    }
   ],
   "source": [
    "top_words = get_top_words(sample_text, 2)\n",
    "for word in top_words:\n",
    "    print word,"
   ]
  },
  {
   "cell_type": "code",
   "execution_count": 56,
   "metadata": {},
   "outputs": [],
   "source": [
    "another_text = u'''В преддверии Хэллоуина американцы, а вслед за ними и жители других англоязычных стран,\n",
    "стали вырезать лицо президента США Дональда Трампа на тыквах.\n",
    "Такие «фонари» называют «трампкин». Это каламбур \n",
    "из слов Трамп и pumpkin (англ. тыква). На самом деле «трампкины» появились еще в 2016 году, \n",
    "когда Трамп только баллотировался на пост президента, но достигли настоящего размаха лишь сейчас, \n",
    "сообщает Daily Mail.\n",
    "Творцы «трампкинов» воссоздают выражение лица 45-го президента США и его прическу, а другие шутят, \n",
    "что оранжевые тыквы немного напоминают его цвет лица.'''"
   ]
  },
  {
   "cell_type": "code",
   "execution_count": 29,
   "metadata": {},
   "outputs": [
    {
     "name": "stdout",
     "output_type": "stream",
     "text": [
      "на президент трампкин тыква трамп\n"
     ]
    }
   ],
   "source": [
    "top_words = get_top_words(another_text, 5)\n",
    "for word in top_words:\n",
    "    print word,"
   ]
  },
  {
   "cell_type": "markdown",
   "metadata": {},
   "source": [
    "### 2. Pymorphy"
   ]
  },
  {
   "cell_type": "code",
   "execution_count": 30,
   "metadata": {},
   "outputs": [
    {
     "name": "stdout",
     "output_type": "stream",
     "text": [
      "\u001b[33mDEPRECATION: Python 2.7 will reach the end of its life on January 1st, 2020. Please upgrade your Python as Python 2.7 won't be maintained after that date. A future version of pip will drop support for Python 2.7. More details about Python 2 support in pip, can be found at https://pip.pypa.io/en/latest/development/release-process/#python-2-support\u001b[0m\n",
      "Collecting pymorphy2\n",
      "\u001b[?25l  Downloading https://files.pythonhosted.org/packages/0a/39/27bf729ea7c9d0d9dadba9ae46d521f7c5a75aa2a867dd0b63c35ec3f0b4/pymorphy2-0.9.1.tar.gz (84kB)\n",
      "\u001b[K     |████████████████████████████████| 92kB 862kB/s eta 0:00:011\n",
      "\u001b[?25hCollecting dawg-python>=0.7.1 (from pymorphy2)\n",
      "  Using cached https://files.pythonhosted.org/packages/6a/84/ff1ce2071d4c650ec85745766c0047ccc3b5036f1d03559fd46bb38b5eeb/DAWG_Python-0.7.2-py2.py3-none-any.whl\n",
      "Collecting pymorphy2-dicts-ru<3.0,>=2.4 (from pymorphy2)\n",
      "\u001b[?25l  Downloading https://files.pythonhosted.org/packages/3a/79/bea0021eeb7eeefde22ef9e96badf174068a2dd20264b9a378f2be1cdd9e/pymorphy2_dicts_ru-2.4.417127.4579844-py2.py3-none-any.whl (8.2MB)\n",
      "\u001b[K     |████████████████████████████████| 8.2MB 2.7MB/s eta 0:00:01\n",
      "\u001b[?25hCollecting docopt>=0.6 (from pymorphy2)\n",
      "  Using cached https://files.pythonhosted.org/packages/a2/55/8f8cab2afd404cf578136ef2cc5dfb50baa1761b68c9da1fb1e4eed343c9/docopt-0.6.2.tar.gz\n",
      "Requirement already satisfied: backports.functools_lru_cache>=1.0.1 in /home/mlepekhin/anaconda3/envs/mlepekhin_python2/lib/python2.7/site-packages (from pymorphy2) (1.5)\n",
      "Building wheels for collected packages: pymorphy2, docopt\n",
      "  Building wheel for pymorphy2 (setup.py) ... \u001b[?25ldone\n",
      "\u001b[?25h  Created wheel for pymorphy2: filename=pymorphy2-0.9.1-cp27-none-any.whl size=55522 sha256=5240f50a118e9c1a215dbecf2deb764ef675506c4f0227f97849d77332f975c1\n",
      "  Stored in directory: /home/mlepekhin/.cache/pip/wheels/08/85/01/1701b886a9c35129b4a66543f81e8edba72bab20485fd7e53b\n",
      "  Building wheel for docopt (setup.py) ... \u001b[?25ldone\n",
      "\u001b[?25h  Created wheel for docopt: filename=docopt-0.6.2-py2.py3-none-any.whl size=13704 sha256=615ceb272ea6ee0402876988582fe5c2092a131a38ab8637570dcdccb4c578bf\n",
      "  Stored in directory: /home/mlepekhin/.cache/pip/wheels/9b/04/dd/7daf4150b6d9b12949298737de9431a324d4b797ffd63f526e\n",
      "Successfully built pymorphy2 docopt\n",
      "Installing collected packages: dawg-python, pymorphy2-dicts-ru, docopt, pymorphy2\n",
      "Successfully installed dawg-python-0.7.2 docopt-0.6.2 pymorphy2-0.9.1 pymorphy2-dicts-ru-2.4.417127.4579844\n",
      "\u001b[33mDEPRECATION: Python 2.7 will reach the end of its life on January 1st, 2020. Please upgrade your Python as Python 2.7 won't be maintained after that date. A future version of pip will drop support for Python 2.7. More details about Python 2 support in pip, can be found at https://pip.pypa.io/en/latest/development/release-process/#python-2-support\u001b[0m\n",
      "Requirement already up-to-date: pymorphy2-dicts-ru in /home/mlepekhin/anaconda3/envs/mlepekhin_python2/lib/python2.7/site-packages (2.4.417127.4579844)\n"
     ]
    }
   ],
   "source": [
    "# установка модуля и словарей\n",
    "!pip install pymorphy2\n",
    "!pip install -U pymorphy2-dicts-ru"
   ]
  },
  {
   "cell_type": "code",
   "execution_count": 31,
   "metadata": {},
   "outputs": [],
   "source": [
    "# создание анализатора\n",
    "import pymorphy2\n",
    "morph = pymorphy2.MorphAnalyzer()"
   ]
  },
  {
   "cell_type": "code",
   "execution_count": 32,
   "metadata": {},
   "outputs": [],
   "source": [
    "# sample_text = u'Глокая куздра штеко будланула бокра и кудрячит бокренка'\n",
    "# в отличие от mystem работает пословно\n",
    "pymorphy_results = map(lambda x: morph.parse(x), sample_text.split())"
   ]
  },
  {
   "cell_type": "code",
   "execution_count": 33,
   "metadata": {},
   "outputs": [
    {
     "name": "stdout",
     "output_type": "stream",
     "text": [
      "гло́кая\n",
      "\tгло́кай NOUN,anim,masc,Name sing,gent 0.333342157512\n",
      "\tгло́кай NOUN,anim,masc,Name sing,accs 0.333342157512\n",
      "\tгло́кий ADJF femn,sing,nomn 0.308775645268\n",
      "\tгло́кий NOUN,anim,femn,Sgtm,Surn sing,nomn 0.0210456651224\n",
      "\tгло́кать GRND,impf,intr pres 0.00349437458637\n",
      "ку́здра\n",
      "\tку́здра NOUN,inan,femn,Sgtm,Fixd,Abbr,Geox sing,nomn 0.15\n",
      "\tку́здра NOUN,inan,femn,Sgtm,Fixd,Abbr,Geox sing,gent 0.15\n",
      "\tку́здра NOUN,inan,femn,Sgtm,Fixd,Abbr,Geox sing,datv 0.15\n",
      "\tку́здра NOUN,inan,femn,Sgtm,Fixd,Abbr,Geox sing,accs 0.15\n",
      "\tку́здра NOUN,inan,femn,Sgtm,Fixd,Abbr,Geox sing,ablt 0.15\n",
      "\tку́здра NOUN,inan,femn,Sgtm,Fixd,Abbr,Geox sing,loct 0.15\n",
      "\tку́здра NOUN,inan,femn,Sgtm sing,nomn 0.05\n",
      "\tку́здра NOUN,inan,femn,Sgtm,Geox sing,nomn 0.05\n",
      "ште́ко\n",
      "\tште́ко NOUN,anim,ms-f,Fixd,Surn sing,nomn 0.0798025503908\n",
      "\tште́ко NOUN,anim,ms-f,Fixd,Surn sing,gent 0.0798025503908\n",
      "\tште́ко NOUN,anim,ms-f,Fixd,Surn sing,datv 0.0798025503908\n",
      "\tште́ко NOUN,anim,ms-f,Fixd,Surn sing,accs 0.0798025503908\n",
      "\tште́ко NOUN,anim,ms-f,Fixd,Surn sing,ablt 0.0798025503908\n",
      "\tште́ко NOUN,anim,ms-f,Fixd,Surn sing,loct 0.0798025503908\n",
      "\tште́ко NOUN,anim,ms-f,Fixd,Surn plur,nomn 0.0798025503908\n",
      "\tште́ко NOUN,anim,ms-f,Fixd,Surn plur,gent 0.0798025503908\n",
      "\tште́ко NOUN,anim,ms-f,Fixd,Surn plur,datv 0.0798025503908\n",
      "\tште́ко NOUN,anim,ms-f,Fixd,Surn plur,accs 0.0798025503908\n",
      "\tште́ко NOUN,anim,ms-f,Fixd,Surn plur,ablt 0.0798025503908\n",
      "\tште́ко NOUN,anim,ms-f,Fixd,Surn plur,loct 0.0798025503908\n",
      "\tште́ко ADVB 0.0215274921157\n",
      "\tште́кий ADJS neut,sing 0.00767859591389\n",
      "\tште́ко ADJF,Fixd,Subx,Qual masc,sing,nomn 0.000548471136706\n",
      "\tште́ко ADJF,Fixd,Subx,Qual masc,sing,gent 0.000548471136706\n",
      "\tште́ко ADJF,Fixd,Subx,Qual masc,sing,datv 0.000548471136706\n",
      "\tште́ко ADJF,Fixd,Subx,Qual masc,sing,accs 0.000548471136706\n",
      "\tште́ко ADJF,Fixd,Subx,Qual masc,sing,ablt 0.000548471136706\n",
      "\tште́ко ADJF,Fixd,Subx,Qual masc,sing,loct 0.000548471136706\n",
      "\tште́ко ADJF,Fixd,Subx,Qual femn,sing,nomn 0.000548471136706\n",
      "\tште́ко ADJF,Fixd,Subx,Qual femn,sing,gent 0.000548471136706\n",
      "\tште́ко ADJF,Fixd,Subx,Qual femn,sing,datv 0.000548471136706\n",
      "\tште́ко ADJF,Fixd,Subx,Qual femn,sing,accs 0.000548471136706\n",
      "\tште́ко ADJF,Fixd,Subx,Qual femn,sing,ablt 0.000548471136706\n",
      "\tште́ко ADJF,Fixd,Subx,Qual femn,sing,loct 0.000548471136706\n",
      "\tште́ко ADJF,Fixd,Subx,Qual neut,sing,nomn 0.000548471136706\n",
      "\tште́ко ADJF,Fixd,Subx,Qual neut,sing,gent 0.000548471136706\n",
      "\tште́ко ADJF,Fixd,Subx,Qual neut,sing,datv 0.000548471136706\n",
      "\tште́ко ADJF,Fixd,Subx,Qual neut,sing,accs 0.000548471136706\n",
      "\tште́ко ADJF,Fixd,Subx,Qual neut,sing,ablt 0.000548471136706\n",
      "\tште́ко ADJF,Fixd,Subx,Qual neut,sing,loct 0.000548471136706\n",
      "\tште́ко ADJF,Fixd,Subx,Qual plur,nomn 0.000548471136706\n",
      "\tште́ко ADJF,Fixd,Subx,Qual plur,gent 0.000548471136706\n",
      "\tште́ко ADJF,Fixd,Subx,Qual plur,datv 0.000548471136706\n",
      "\tште́ко ADJF,Fixd,Subx,Qual plur,accs 0.000548471136706\n",
      "\tште́ко ADJF,Fixd,Subx,Qual plur,ablt 0.000548471136706\n",
      "\tште́ко ADJF,Fixd,Subx,Qual plur,loct 0.000548471136706\n",
      "будлану́ла\n",
      "\tбудлану́ть VERB,impf,tran femn,sing,past,indc 0.846333723067\n",
      "\tбудлану́л NOUN,inan,masc sing,gent 0.117254050443\n",
      "\tбудлану́лый ADJS femn,sing 0.0349089694338\n",
      "\tбудлану́ла ADVB 0.00150325705696\n",
      "бо́кра\n",
      "\tбо́кр NOUN,inan,masc sing,gent 0.454545454545\n",
      "\tбо́кра NOUN,inan,femn sing,nomn 0.454545454545\n",
      "\tбо́крый ADJS,Qual femn,sing 0.0909090909091\n",
      "и\n",
      "\tи CONJ 0.998263\n",
      "\tи PRCL 0.000306\n",
      "\tи INTJ 0.000204\n",
      "\tи NOUN,anim,masc,Fixd,Abbr sing,nomn 0.000102\n",
      "\tи NOUN,anim,masc,Fixd,Abbr sing,gent 0.000102\n",
      "\tи NOUN,anim,masc,Fixd,Abbr sing,datv 0.000102\n",
      "\tи NOUN,anim,masc,Fixd,Abbr sing,accs 0.000102\n",
      "\tи NOUN,anim,masc,Fixd,Abbr sing,ablt 0.000102\n",
      "\tи NOUN,anim,masc,Fixd,Abbr sing,loct 0.000102\n",
      "\tи NOUN,anim,masc,Fixd,Abbr plur,nomn 0.000102\n",
      "\tи NOUN,anim,masc,Fixd,Abbr plur,gent 0.000102\n",
      "\tи NOUN,anim,masc,Fixd,Abbr plur,datv 0.000102\n",
      "\tи NOUN,anim,masc,Fixd,Abbr plur,accs 0.000102\n",
      "\tи NOUN,anim,masc,Fixd,Abbr plur,ablt 0.000102\n",
      "\tи NOUN,anim,masc,Fixd,Abbr plur,loct 0.000102\n",
      "курдя́чит\n",
      "\tкурдя́чить VERB,perf,tran sing,3per,futr,indc 0.940740740741\n",
      "\tкурдя́читый ADJS,Qual masc,sing 0.00740740740741\n",
      "\tкурдя́чит NOUN,anim,femn,Sgtm,Fixd,Name sing,nomn 0.00740740740741\n",
      "\tкурдя́чит NOUN,anim,femn,Sgtm,Fixd,Name sing,gent 0.00740740740741\n",
      "\tкурдя́чит NOUN,anim,femn,Sgtm,Fixd,Name sing,datv 0.00740740740741\n",
      "\tкурдя́чит NOUN,anim,femn,Sgtm,Fixd,Name sing,accs 0.00740740740741\n",
      "\tкурдя́чит NOUN,anim,femn,Sgtm,Fixd,Name sing,ablt 0.00740740740741\n",
      "\tкурдя́чит NOUN,anim,femn,Sgtm,Fixd,Name sing,loct 0.00740740740741\n",
      "\tкурдя́читый ADJS masc,sing 0.00740740740741\n",
      "бокрёнка\n",
      "\tбокрёнок NOUN,anim,masc sing,gent 0.5\n",
      "\tбокрёнок NOUN,anim,masc sing,accs 0.5\n"
     ]
    }
   ],
   "source": [
    "# собираем результаты и выводим \n",
    "for word_result in pymorphy_results:\n",
    "    print word_result[0].word\n",
    "    for res in word_result:\n",
    "#         print repr(res).decode('unicode_escape')\n",
    "        print '\\t', res.normal_form, res.tag, res.score"
   ]
  },
  {
   "cell_type": "markdown",
   "metadata": {},
   "source": [
    "В отличие от mystem можно получать лексему и склонять слова"
   ]
  },
  {
   "cell_type": "code",
   "execution_count": 36,
   "metadata": {},
   "outputs": [
    {
     "name": "stdout",
     "output_type": "stream",
     "text": [
      "градус NOUN\n",
      "градуса NOUN\n",
      "градусу NOUN\n",
      "градус NOUN\n",
      "градусом NOUN\n",
      "градусе NOUN\n",
      "градусы NOUN\n",
      "градусов NOUN\n",
      "градусам NOUN\n",
      "градусы NOUN\n",
      "градусами NOUN\n",
      "градусах NOUN\n"
     ]
    }
   ],
   "source": [
    "bokr = morph.parse(u'градус')[0]\n",
    "for form in bokr.lexeme:\n",
    "    print form.word, form.tag.POS"
   ]
  },
  {
   "cell_type": "code",
   "execution_count": 37,
   "metadata": {},
   "outputs": [
    {
     "name": "stdout",
     "output_type": "stream",
     "text": [
      "градусе градус градуса градусов\n"
     ]
    }
   ],
   "source": [
    "print bokr.inflect({'loct'}).word,\n",
    "print bokr.make_agree_with_number(1).word,\n",
    "print bokr.make_agree_with_number(2).word,\n",
    "print bokr.make_agree_with_number(5).word"
   ]
  },
  {
   "cell_type": "markdown",
   "metadata": {},
   "source": [
    "#### Задание \n",
    "С помощью pymorphy на тексте получить:\n",
    "- Распределение по частям речи\n",
    "- Для части речи вывести топ n лексем"
   ]
  },
  {
   "cell_type": "code",
   "execution_count": 47,
   "metadata": {},
   "outputs": [],
   "source": [
    "def get_pos_distribution(text, lexemas=None):\n",
    "    '''\n",
    "    :param: text: input text in russian\n",
    "    :param: lexemas: list of interested pos, if None - all are interesting \n",
    "    :return: dict of pos - probability\n",
    "    '''\n",
    "    \n",
    "    counter = Counter()\n",
    "    total_count = 0\n",
    "    \n",
    "    for word in text.split():\n",
    "        counter[morph.parse(word)[0].tag.POS] += 1\n",
    "        total_count += 1\n",
    "    return dict([(item, count / float(total_count)) for item, count in counter.items()])\n",
    "        \n",
    "    \n",
    "\n",
    "def get_top_pos_words(text, pos, n):\n",
    "    '''\n",
    "    :param text: input text in russian\n",
    "    :param pos: part of speech \n",
    "    :param n: number of most common words\n",
    "    :return: list of most common lexemas with selected pos\n",
    "    '''\n",
    "    \n",
    "    counter = Counter()\n",
    "    \n",
    "    for word in text.split():\n",
    "        parsed_word = morph.parse(word)[0]\n",
    "        if parsed_word.tag.POS == pos:\n",
    "            counter[parsed_word.lexeme[0].word] += 1\n",
    "    return [word for word, count in counter.most_common(n)]"
   ]
  },
  {
   "cell_type": "code",
   "execution_count": 50,
   "metadata": {},
   "outputs": [
    {
     "data": {
      "text/plain": [
       "{u'CONJ': 0.125, u'NOUN': 0.625, u'VERB': 0.25}"
      ]
     },
     "execution_count": 50,
     "metadata": {},
     "output_type": "execute_result"
    }
   ],
   "source": [
    "get_pos_distribution(sample_text)"
   ]
  },
  {
   "cell_type": "code",
   "execution_count": 53,
   "metadata": {},
   "outputs": [
    {
     "name": "stdout",
     "output_type": "stream",
     "text": [
      "бокрёнок ку́здра бо́кр ште́ко гло́кай\n"
     ]
    }
   ],
   "source": [
    "for word in get_top_pos_words(sample_text, 'NOUN', 5):\n",
    "    print word,"
   ]
  },
  {
   "cell_type": "code",
   "execution_count": 54,
   "metadata": {},
   "outputs": [
    {
     "name": "stdout",
     "output_type": "stream",
     "text": [
      "курдя́чить будлану́ть\n"
     ]
    }
   ],
   "source": [
    "for word in get_top_pos_words(sample_text, 'VERB', 5):\n",
    "    print word,"
   ]
  },
  {
   "cell_type": "code",
   "execution_count": 61,
   "metadata": {},
   "outputs": [
    {
     "name": "stdout",
     "output_type": "stream",
     "text": [
      "и\n"
     ]
    }
   ],
   "source": [
    "for word in get_top_pos_words(sample_text, 'CONJ', 5):\n",
    "    print word,"
   ]
  },
  {
   "cell_type": "code",
   "execution_count": 60,
   "metadata": {},
   "outputs": [
    {
     "data": {
      "text/plain": [
       "{None: 0.23170731707317074,\n",
       " u'ADJF': 0.08536585365853659,\n",
       " u'ADVB': 0.036585365853658534,\n",
       " u'CONJ': 0.0975609756097561,\n",
       " u'INFN': 0.012195121951219513,\n",
       " u'NOUN': 0.2804878048780488,\n",
       " u'NPRO': 0.036585365853658534,\n",
       " u'PRCL': 0.024390243902439025,\n",
       " u'PREP': 0.0975609756097561,\n",
       " u'VERB': 0.0975609756097561}"
      ]
     },
     "execution_count": 60,
     "metadata": {},
     "output_type": "execute_result"
    }
   ],
   "source": [
    "get_pos_distribution(another_text)"
   ]
  },
  {
   "cell_type": "code",
   "execution_count": 58,
   "metadata": {},
   "outputs": [
    {
     "name": "stdout",
     "output_type": "stream",
     "text": [
      "трамп президент лицо сша размах каламбур преддверие хэллоуин слово житель\n"
     ]
    }
   ],
   "source": [
    "for word in get_top_pos_words(another_text, 'NOUN', 10):\n",
    "    print word,"
   ]
  },
  {
   "cell_type": "code",
   "execution_count": 59,
   "metadata": {},
   "outputs": [
    {
     "name": "stdout",
     "output_type": "stream",
     "text": [
      "появиться называть воссоздавать баллотироваться достигнуть сообщать стать напоминать\n"
     ]
    }
   ],
   "source": [
    "for word in get_top_pos_words(another_text, 'VERB', 10):\n",
    "    print word,"
   ]
  },
  {
   "cell_type": "code",
   "execution_count": null,
   "metadata": {},
   "outputs": [],
   "source": []
  }
 ],
 "metadata": {
  "kernelspec": {
   "display_name": "Python 2",
   "language": "python",
   "name": "python2"
  },
  "language_info": {
   "codemirror_mode": {
    "name": "ipython",
    "version": 2
   },
   "file_extension": ".py",
   "mimetype": "text/x-python",
   "name": "python",
   "nbconvert_exporter": "python",
   "pygments_lexer": "ipython2",
   "version": "2.7.16"
  }
 },
 "nbformat": 4,
 "nbformat_minor": 4
}
