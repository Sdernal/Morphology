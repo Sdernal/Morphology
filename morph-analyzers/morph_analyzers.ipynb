{
 "cells": [
  {
   "cell_type": "markdown",
   "metadata": {},
   "source": [
    "# Морфология 1\n",
    "\n",
    "Здесь мы познакомимся с двумя мофрологическими анализоторами: pymorphy и mystem."
   ]
  },
  {
   "cell_type": "code",
   "execution_count": 1,
   "metadata": {},
   "outputs": [],
   "source": [
    "sample_text = u'Гло́кая ку́здра ште́ко будлану́ла бо́кра и курдя́чит бокрёнка'"
   ]
  },
  {
   "cell_type": "markdown",
   "metadata": {},
   "source": [
    "### 1. MyStem"
   ]
  },
  {
   "cell_type": "code",
   "execution_count": 2,
   "metadata": {},
   "outputs": [
    {
     "output_type": "stream",
     "name": "stdout",
     "text": [
      "Collecting pymystem3\n",
      "  Downloading https://files.pythonhosted.org/packages/00/8c/98b43c5822620458704e187a1666616c1e21a846ede8ffda493aabe11207/pymystem3-0.2.0-py3-none-any.whl\n",
      "Requirement already satisfied: requests in /Users/danildmitriev/anaconda3/lib/python3.7/site-packages (from pymystem3) (2.22.0)\n",
      "Requirement already satisfied: certifi>=2017.4.17 in /Users/danildmitriev/anaconda3/lib/python3.7/site-packages (from requests->pymystem3) (2020.6.20)\n",
      "Requirement already satisfied: idna<2.9,>=2.5 in /Users/danildmitriev/anaconda3/lib/python3.7/site-packages (from requests->pymystem3) (2.8)\n",
      "Requirement already satisfied: chardet<3.1.0,>=3.0.2 in /Users/danildmitriev/anaconda3/lib/python3.7/site-packages (from requests->pymystem3) (3.0.4)\n",
      "Requirement already satisfied: urllib3!=1.25.0,!=1.25.1,<1.26,>=1.21.1 in /Users/danildmitriev/anaconda3/lib/python3.7/site-packages (from requests->pymystem3) (1.24.2)\n",
      "Installing collected packages: pymystem3\n",
      "Successfully installed pymystem3-0.2.0\n"
     ]
    }
   ],
   "source": [
    "# поставим модуль если он еще не стоит\n",
    "!pip install pymystem3"
   ]
  },
  {
   "cell_type": "code",
   "execution_count": 3,
   "metadata": {},
   "outputs": [
    {
     "output_type": "stream",
     "name": "stderr",
     "text": [
      "Installing mystem to /Users/danildmitriev/.local/bin/mystem from http://download.cdn.yandex.net/mystem/mystem-3.1-macosx.tar.gz\n"
     ]
    }
   ],
   "source": [
    "from pymystem3 import Mystem\n",
    "# инициализация собственно инициализатора\n",
    "mystem_analyzer = Mystem(entire_input=False, disambiguation=False)\n",
    "# entire_output - сохранение всего входа (напр. пробелов)\n",
    "# disambiguation - снятие омонимии"
   ]
  },
  {
   "cell_type": "markdown",
   "metadata": {},
   "source": [
    "Две основные функции Mystem:\n",
    "- Проводить мофрологический анализ\n",
    "- Приводить начальные формы для слов в тексте"
   ]
  },
  {
   "cell_type": "code",
   "execution_count": 4,
   "metadata": {},
   "outputs": [],
   "source": [
    "mystem_result = mystem_analyzer.analyze(sample_text)\n",
    "mystem_lemmas = mystem_analyzer.lemmatize(sample_text)"
   ]
  },
  {
   "cell_type": "code",
   "execution_count": 5,
   "metadata": {},
   "outputs": [
    {
     "output_type": "stream",
     "name": "stdout",
     "text": [
      "Гло́кая ку́здра ште́ко будлану́ла бо́кра и курдя́чит бокрёнка\nглокая\nкуздра\nштеко\nбудлануть\nбокра\nи\nкурдячить\nбокренка\n"
     ]
    }
   ],
   "source": [
    "# Посмотрим, что у нас получилось при лемматизации \n",
    "# (да, чтобы вывести юникодные строки на втором питоне приходится так извращаться)\n",
    "print(sample_text)\n",
    "for word in mystem_lemmas:    \n",
    "    print(word)"
   ]
  },
  {
   "cell_type": "code",
   "execution_count": 6,
   "metadata": {},
   "outputs": [
    {
     "output_type": "stream",
     "name": "stdout",
     "text": [
      "Гло́кая\n\t {'lex': 'глокая', 'wt': 0.3605448292, 'qual': 'bastard', 'gr': 'S,ед,жен,неод=им'}\n\t {'lex': 'глокать', 'wt': 0.3605448292, 'qual': 'bastard', 'gr': 'V,несов=непрош,деепр,пе'}\n\t {'lex': 'глокая', 'wt': 0.1038369108, 'qual': 'bastard', 'gr': 'S,жен,од=им,ед'}\n\t {'lex': 'глокай', 'wt': 0.09304979929, 'qual': 'bastard', 'gr': 'S,муж,неод=род,ед'}\n\t {'lex': 'глокать', 'wt': 0.03306575604, 'qual': 'bastard', 'gr': 'V,несов,нп=непрош,деепр'}\n\t {'lex': 'глокий', 'wt': 0.01624943977, 'qual': 'bastard', 'gr': 'A=им,ед,полн,жен'}\n\t {'lex': 'глокать', 'wt': 0.01512198266, 'qual': 'bastard', 'gr': 'V,несов,пе=непрош,деепр'}\n\t {'lex': 'глокий', 'wt': 0.01077529943, 'qual': 'bastard', 'gr': 'A=им,ед,полн,жен'}\n\t {'lex': 'глокать', 'wt': 0.006811153662, 'qual': 'bastard', 'gr': 'V,нп=непрош,деепр,несов'}\nку́здра\n\t {'lex': 'куздра', 'wt': 0.6292693823, 'qual': 'bastard', 'gr': 'S,ед,жен,неод=им'}\n\t {'lex': 'куздра', 'wt': 0.3707306177, 'qual': 'bastard', 'gr': 'S,гео,жен,неод=им,ед'}\nште́ко\n\t {'lex': 'штеко', 'wt': 0.3217673592, 'qual': 'bastard', 'gr': 'S,имя,мж,од=(пр,мн|пр,ед|вин,мн|вин,ед|дат,мн|дат,ед|род,мн|род,ед|твор,мн|твор,ед|им,мн|им,ед)'}\n\t {'lex': 'штеко', 'wt': 0.2574119755, 'qual': 'bastard', 'gr': 'ADV='}\n\t {'lex': 'штеко', 'wt': 0.1608460987, 'qual': 'bastard', 'gr': 'S,сред,неод=(пр,мн|пр,ед|вин,мн|вин,ед|дат,мн|дат,ед|род,мн|род,ед|твор,мн|твор,ед|им,мн|им,ед)'}\n\t {'lex': 'штеко', 'wt': 0.08253134141, 'qual': 'bastard', 'gr': 'S,сред,неод=(вин,ед|им,ед)'}\n\t {'lex': 'штеко', 'wt': 0.07936870775, 'qual': 'bastard', 'gr': 'S,ед,сред,неод=(вин|им)'}\n\t {'lex': 'штеко', 'wt': 0.03215211714, 'qual': 'bastard', 'gr': 'S,имя,муж,од=(пр,мн|пр,ед|вин,мн|вин,ед|дат,мн|дат,ед|род,мн|род,ед|твор,мн|твор,ед|им,мн|им,ед)'}\n\t {'lex': 'штеко', 'wt': 0.03210293606, 'qual': 'bastard', 'gr': 'S,фам,мж,од=(пр,мн|пр,ед|вин,мн|вин,ед|дат,мн|дат,ед|род,мн|род,ед|твор,мн|твор,ед|им,мн|им,ед)'}\n\t {'lex': 'штеко', 'wt': 0.03208609722, 'qual': 'bastard', 'gr': 'S,гео,ед,муж,неод=(пр|вин|дат|род|твор|им)'}\n\t {'lex': 'штекий', 'wt': 0.001720046713, 'qual': 'bastard', 'gr': 'A=ед,кр,сред'}\n\t {'lex': 'штекий', 'wt': 1.332032949e-05, 'qual': 'bastard', 'gr': 'A=ед,кр,сред'}\n\t {'lex': 'штеко', 'wt': 0, 'qual': 'bastard', 'gr': 'S,имя,ед,муж,од=им'}\nбудлану́ла\n\t {'lex': 'будлануть', 'wt': 0.2884335962, 'qual': 'bastard', 'gr': 'V,обсц,сов=прош,ед,изъяв,жен'}\n\t {'lex': 'будлануть', 'wt': 0.2884335962, 'qual': 'bastard', 'gr': 'V,разг,обсц,сов=прош,ед,изъяв,жен'}\n\t {'lex': 'будланула', 'wt': 0.09985378522, 'qual': 'bastard', 'gr': 'S,имя,жен,од=им,ед'}\n\t {'lex': 'будлануть', 'wt': 0.05695153583, 'qual': 'bastard', 'gr': 'V,сов,пе=прош,ед,изъяв,жен'}\n\t {'lex': 'будлануть', 'wt': 0.05212627477, 'qual': 'bastard', 'gr': 'V,сов,пе=прош,ед,изъяв,жен'}\n\t {'lex': 'будлануть', 'wt': 0.04770114448, 'qual': 'bastard', 'gr': 'V,сов,нп=прош,ед,изъяв,жен'}\n\t {'lex': 'будлануть', 'wt': 0.04683850382, 'qual': 'bastard', 'gr': 'V,сов,пе=прош,ед,изъяв,жен'}\n\t {'lex': 'будланула', 'wt': 0.04299689435, 'qual': 'bastard', 'gr': 'S,жен,неод=им,ед'}\n\t {'lex': 'будланул', 'wt': 0.03753661836, 'qual': 'bastard', 'gr': 'S,муж,од=(вин,ед|род,ед)'}\n\t {'lex': 'будлануть', 'wt': 0.02766311711, 'qual': 'bastard', 'gr': 'V,сов,нп=прош,ед,изъяв,жен'}\n\t {'lex': 'будланывать', 'wt': 0.01146493374, 'qual': 'bastard', 'gr': 'V,пе=прош,ед,изъяв,жен,сов'}\nбо́кра\n\t {'lex': 'бокра', 'wt': 0.8898982327, 'qual': 'bastard', 'gr': 'S,ед,жен,неод=им'}\n\t {'lex': 'бокрый', 'wt': 0.1101017673, 'qual': 'bastard', 'gr': 'A=ед,кр,жен'}\nи\n\t {'lex': 'и', 'wt': 0.9999770357, 'gr': 'CONJ='}\n\t {'lex': 'и', 'wt': 1.020511514e-05, 'gr': 'INTJ='}\n\t {'lex': 'и', 'wt': 6.379604644e-06, 'gr': 'S,сокр=(пр,мн|пр,ед|вин,мн|вин,ед|дат,мн|дат,ед|род,мн|род,ед|твор,мн|твор,ед|им,мн|им,ед)'}\n\t {'lex': 'и', 'wt': 6.37957056e-06, 'gr': 'PART='}\nкурдя́чит\n\t {'lex': 'курдячить', 'wt': 0.5, 'qual': 'bastard', 'gr': 'V,обсц,сов,пе=непрош,ед,изъяв,3-л'}\n\t {'lex': 'курдячить', 'wt': 0.5, 'qual': 'bastard', 'gr': 'V,обсц,несов,пе=непрош,ед,изъяв,3-л'}\nбокрёнка\n\t {'lex': 'бокренка', 'wt': 0.2200160995, 'qual': 'bastard', 'gr': 'S,имя,жен,од=им,ед'}\n\t {'lex': 'бокренок', 'wt': 0.165166425, 'qual': 'bastard', 'gr': 'S,муж,неод=род,ед'}\n\t {'lex': 'бокренка', 'wt': 0.1392542771, 'qual': 'bastard', 'gr': 'S,жен,од=им,ед'}\n\t {'lex': 'бокренка', 'wt': 0.1240808471, 'qual': 'bastard', 'gr': 'S,жен,неод=им,ед'}\n\t {'lex': 'бокренок', 'wt': 0.1205990358, 'qual': 'bastard', 'gr': 'S,муж,неод=род,ед'}\n\t {'lex': 'бокренок', 'wt': 0.09129371203, 'qual': 'bastard', 'gr': 'S,муж,од=(вин,ед|род,ед)'}\n\t {'lex': 'бокренка', 'wt': 0.07074299558, 'qual': 'bastard', 'gr': 'S,имя,мж,од=им,ед'}\n\t {'lex': 'бокренк', 'wt': 0.06884660791, 'qual': 'bastard', 'gr': 'S,имя,муж,од=(вин,ед|род,ед)'}\n"
     ]
    }
   ],
   "source": [
    "# Ну и результат морфологического анализа\n",
    "# выведены всевозможные разборы, чтобы оценить масшатбы\n",
    "for word in mystem_result:\n",
    "    print(word['text'])\n",
    "    for res in word['analysis']:\n",
    "        print('\\t', repr(res))"
   ]
  },
  {
   "cell_type": "markdown",
   "metadata": {},
   "source": [
    "Создадим теперь анализатор со снятием омонимии"
   ]
  },
  {
   "cell_type": "code",
   "execution_count": 7,
   "metadata": {},
   "outputs": [],
   "source": [
    "mystem_analyzer2 = Mystem(entire_input=False, disambiguation=True)"
   ]
  },
  {
   "cell_type": "code",
   "execution_count": 8,
   "metadata": {},
   "outputs": [],
   "source": [
    "mystem_result2 = mystem_analyzer2.analyze(sample_text)\n",
    "mystem_lemmas2 = mystem_analyzer2.lemmatize(sample_text)"
   ]
  },
  {
   "cell_type": "code",
   "execution_count": 9,
   "metadata": {},
   "outputs": [
    {
     "output_type": "stream",
     "name": "stdout",
     "text": [
      "Гло́кая ку́здра ште́ко будлану́ла бо́кра и курдя́чит бокрёнка\nглокая глокай\nкуздра куздра\nштеко штеко\nбудлануть будланул\nбокра бокра\nи и\nкурдячить курдячить\nбокренка бокренок\n"
     ]
    }
   ],
   "source": [
    "print(sample_text)\n",
    "for (word, word2) in zip(mystem_lemmas, mystem_lemmas2):    \n",
    "    print(word, word2)"
   ]
  },
  {
   "cell_type": "code",
   "execution_count": 10,
   "metadata": {},
   "outputs": [
    {
     "output_type": "stream",
     "name": "stdout",
     "text": [
      "Гло́кая\n\t {'lex': 'глокай', 'wt': 0.09304979929, 'qual': 'bastard', 'gr': 'S,муж,неод=род,ед'}\nку́здра\n\t {'lex': 'куздра', 'wt': 0.6292693823, 'qual': 'bastard', 'gr': 'S,ед,жен,неод=им'}\nште́ко\n\t {'lex': 'штеко', 'wt': 0.2574119755, 'qual': 'bastard', 'gr': 'ADV='}\nбудлану́ла\n\t {'lex': 'будланул', 'wt': 0.03753661836, 'qual': 'bastard', 'gr': 'S,муж,од=(вин,ед|род,ед)'}\nбо́кра\n\t {'lex': 'бокра', 'wt': 0.8898982327, 'qual': 'bastard', 'gr': 'S,ед,жен,неод=им'}\nи\n\t {'lex': 'и', 'wt': 0.9999770357, 'gr': 'CONJ='}\nкурдя́чит\n\t {'lex': 'курдячить', 'wt': 0.5, 'qual': 'bastard', 'gr': 'V,обсц,сов,пе=непрош,ед,изъяв,3-л'}\nбокрёнка\n\t {'lex': 'бокренок', 'wt': 0.165166425, 'qual': 'bastard', 'gr': 'S,муж,неод=род,ед'}\n"
     ]
    }
   ],
   "source": [
    "for word in mystem_result2:\n",
    "    print(word['text'])\n",
    "    for res in word['analysis']:\n",
    "        print('\\t', repr(res))"
   ]
  },
  {
   "cell_type": "markdown",
   "metadata": {},
   "source": [
    "Проблемы MyStem"
   ]
  },
  {
   "cell_type": "code",
   "execution_count": 11,
   "metadata": {},
   "outputs": [
    {
     "output_type": "stream",
     "name": "stdout",
     "text": [
      "александра\nиванов\nпойти\nв\nкино\n\nалександра\nиванов\nвидеть\nв\nкино\nс\nкто-то\n\nворобей\nсегодня\nвставать\nне\nс\nтот\nнога\n\n"
     ]
    }
   ],
   "source": [
    "disambiguations = ['Александра Иванова пошла в кино',\n",
    "                   'Александра Иванова видели в кино с кем-то',\n",
    "                   'Воробьев сегодня встал не с той ноги']\n",
    "\n",
    "disambiguation_results = []\n",
    "for dis in disambiguations:\n",
    "    disambiguation_results.append(mystem_analyzer2.lemmatize(dis))\n",
    "    \n",
    "for res in disambiguation_results:\n",
    "    for word in res:\n",
    "        print(word)\n",
    "    print()"
   ]
  },
  {
   "cell_type": "markdown",
   "metadata": {},
   "source": [
    "#### Задание\n",
    "Для того, чтобы наиграться с MyStem, предлагается написать метод, который находит топ n лексем."
   ]
  },
  {
   "cell_type": "code",
   "execution_count": 20,
   "metadata": {},
   "outputs": [],
   "source": [
    "def get_top_words(text, n):\n",
    "    '''\n",
    "    :param text: input text in russian\n",
    "    :param n: number of most common words\n",
    "    :return: list of most common lexemas\n",
    "    '''\n",
    "    analyzer = Mystem(entire_input=False, disambiguation=True)\n",
    "    lemma_text = analyzer.lemmatize(text)\n",
    "    \n",
    "    lemm_dict = {}\n",
    "    \n",
    "    for lemma in lemma_text:\n",
    "        if lemma in lemm_dict:\n",
    "            lemm_dict[lemma] += 1\n",
    "        else:\n",
    "            lemm_dict[lemma] = 1\n",
    "    \n",
    "    return sorted(lemm_dict, key=lemm_dict.get, reverse=True)[:n]"
   ]
  },
  {
   "cell_type": "code",
   "execution_count": 21,
   "metadata": {},
   "outputs": [
    {
     "output_type": "stream",
     "name": "stdout",
     "text": [
      "глокай куздра штеко будланул бокра\n"
     ]
    }
   ],
   "source": [
    "print(*get_top_words(sample_text, 5))"
   ]
  },
  {
   "cell_type": "markdown",
   "metadata": {},
   "source": [
    "### 2. Pymorphy"
   ]
  },
  {
   "cell_type": "code",
   "execution_count": 22,
   "metadata": {},
   "outputs": [],
   "source": [
    "# установка модуля и словарей\n",
    "!pip install -q pymorphy2\n",
    "!pip install -U -q pymorphy2-dicts-ru"
   ]
  },
  {
   "cell_type": "code",
   "execution_count": 23,
   "metadata": {},
   "outputs": [],
   "source": [
    "# создание анализатора\n",
    "import pymorphy2\n",
    "morph = pymorphy2.MorphAnalyzer()"
   ]
  },
  {
   "cell_type": "code",
   "execution_count": 24,
   "metadata": {},
   "outputs": [],
   "source": [
    "# sample_text = u'Глокая куздра штеко будланула бокра и кудрячит бокренка'\n",
    "# в отличие от mystem работает пословно\n",
    "pymorphy_results = map(lambda x: morph.parse(x), sample_text.split())"
   ]
  },
  {
   "cell_type": "code",
   "execution_count": 25,
   "metadata": {},
   "outputs": [
    {
     "output_type": "stream",
     "name": "stdout",
     "text": [
      "гло́кая\n\t гло́кай NOUN,anim,masc,Name sing,gent 0.3333421575115817\n\t гло́кай NOUN,anim,masc,Name sing,accs 0.3333421575115817\n\t гло́кий ADJF femn,sing,nomn 0.30877564526803436\n\t гло́кий NOUN,anim,femn,Sgtm,Surn sing,nomn 0.021045665122435473\n\t гло́кать GRND,impf,intr pres 0.0034943745863666442\nку́здра\n\t ку́здра NOUN,inan,femn,Sgtm,Fixd,Abbr,Geox sing,nomn 0.15000000000000002\n\t ку́здра NOUN,inan,femn,Sgtm,Fixd,Abbr,Geox sing,gent 0.15000000000000002\n\t ку́здра NOUN,inan,femn,Sgtm,Fixd,Abbr,Geox sing,datv 0.15000000000000002\n\t ку́здра NOUN,inan,femn,Sgtm,Fixd,Abbr,Geox sing,accs 0.15000000000000002\n\t ку́здра NOUN,inan,femn,Sgtm,Fixd,Abbr,Geox sing,ablt 0.15000000000000002\n\t ку́здра NOUN,inan,femn,Sgtm,Fixd,Abbr,Geox sing,loct 0.15000000000000002\n\t ку́здра NOUN,inan,femn,Sgtm sing,nomn 0.05\n\t ку́здра NOUN,inan,femn,Sgtm,Geox sing,nomn 0.05\nште́ко\n\t ште́ко NOUN,anim,ms-f,Fixd,Surn sing,nomn 0.0798025503907856\n\t ште́ко NOUN,anim,ms-f,Fixd,Surn sing,gent 0.0798025503907856\n\t ште́ко NOUN,anim,ms-f,Fixd,Surn sing,datv 0.0798025503907856\n\t ште́ко NOUN,anim,ms-f,Fixd,Surn sing,accs 0.0798025503907856\n\t ште́ко NOUN,anim,ms-f,Fixd,Surn sing,ablt 0.0798025503907856\n\t ште́ко NOUN,anim,ms-f,Fixd,Surn sing,loct 0.0798025503907856\n\t ште́ко NOUN,anim,ms-f,Fixd,Surn plur,nomn 0.0798025503907856\n\t ште́ко NOUN,anim,ms-f,Fixd,Surn plur,gent 0.0798025503907856\n\t ште́ко NOUN,anim,ms-f,Fixd,Surn plur,datv 0.0798025503907856\n\t ште́ко NOUN,anim,ms-f,Fixd,Surn plur,accs 0.0798025503907856\n\t ште́ко NOUN,anim,ms-f,Fixd,Surn plur,ablt 0.0798025503907856\n\t ште́ко NOUN,anim,ms-f,Fixd,Surn plur,loct 0.0798025503907856\n\t ште́ко ADVB 0.021527492115727385\n\t ште́кий ADJS neut,sing 0.007678595913890023\n\t ште́ко ADJF,Fixd,Subx,Qual masc,sing,nomn 0.0005484711367064303\n\t ште́ко ADJF,Fixd,Subx,Qual masc,sing,gent 0.0005484711367064303\n\t ште́ко ADJF,Fixd,Subx,Qual masc,sing,datv 0.0005484711367064303\n\t ште́ко ADJF,Fixd,Subx,Qual masc,sing,accs 0.0005484711367064303\n\t ште́ко ADJF,Fixd,Subx,Qual masc,sing,ablt 0.0005484711367064303\n\t ште́ко ADJF,Fixd,Subx,Qual masc,sing,loct 0.0005484711367064303\n\t ште́ко ADJF,Fixd,Subx,Qual femn,sing,nomn 0.0005484711367064303\n\t ште́ко ADJF,Fixd,Subx,Qual femn,sing,gent 0.0005484711367064303\n\t ште́ко ADJF,Fixd,Subx,Qual femn,sing,datv 0.0005484711367064303\n\t ште́ко ADJF,Fixd,Subx,Qual femn,sing,accs 0.0005484711367064303\n\t ште́ко ADJF,Fixd,Subx,Qual femn,sing,ablt 0.0005484711367064303\n\t ште́ко ADJF,Fixd,Subx,Qual femn,sing,loct 0.0005484711367064303\n\t ште́ко ADJF,Fixd,Subx,Qual neut,sing,nomn 0.0005484711367064303\n\t ште́ко ADJF,Fixd,Subx,Qual neut,sing,gent 0.0005484711367064303\n\t ште́ко ADJF,Fixd,Subx,Qual neut,sing,datv 0.0005484711367064303\n\t ште́ко ADJF,Fixd,Subx,Qual neut,sing,accs 0.0005484711367064303\n\t ште́ко ADJF,Fixd,Subx,Qual neut,sing,ablt 0.0005484711367064303\n\t ште́ко ADJF,Fixd,Subx,Qual neut,sing,loct 0.0005484711367064303\n\t ште́ко ADJF,Fixd,Subx,Qual plur,nomn 0.0005484711367064303\n\t ште́ко ADJF,Fixd,Subx,Qual plur,gent 0.0005484711367064303\n\t ште́ко ADJF,Fixd,Subx,Qual plur,datv 0.0005484711367064303\n\t ште́ко ADJF,Fixd,Subx,Qual plur,accs 0.0005484711367064303\n\t ште́ко ADJF,Fixd,Subx,Qual plur,ablt 0.0005484711367064303\n\t ште́ко ADJF,Fixd,Subx,Qual plur,loct 0.0005484711367064303\nбудлану́ла\n\t будлану́ть VERB,impf,tran femn,sing,past,indc 0.8463337230666443\n\t будлану́л NOUN,inan,masc sing,gent 0.11725405044262568\n\t будлану́лый ADJS femn,sing 0.03490896943377317\n\t будлану́ла ADVB 0.0015032570569567395\nбо́кра\n\t бо́кр NOUN,inan,masc sing,gent 0.45454545454545453\n\t бо́кра NOUN,inan,femn sing,nomn 0.45454545454545453\n\t бо́крый ADJS,Qual femn,sing 0.0909090909090909\nи\n\t и CONJ 0.998263\n\t и PRCL 0.000306\n\t и INTJ 0.000204\n\t и NOUN,anim,masc,Fixd,Abbr sing,nomn 0.000102\n\t и NOUN,anim,masc,Fixd,Abbr sing,gent 0.000102\n\t и NOUN,anim,masc,Fixd,Abbr sing,datv 0.000102\n\t и NOUN,anim,masc,Fixd,Abbr sing,accs 0.000102\n\t и NOUN,anim,masc,Fixd,Abbr sing,ablt 0.000102\n\t и NOUN,anim,masc,Fixd,Abbr sing,loct 0.000102\n\t и NOUN,anim,masc,Fixd,Abbr plur,nomn 0.000102\n\t и NOUN,anim,masc,Fixd,Abbr plur,gent 0.000102\n\t и NOUN,anim,masc,Fixd,Abbr plur,datv 0.000102\n\t и NOUN,anim,masc,Fixd,Abbr plur,accs 0.000102\n\t и NOUN,anim,masc,Fixd,Abbr plur,ablt 0.000102\n\t и NOUN,anim,masc,Fixd,Abbr plur,loct 0.000102\nкурдя́чит\n\t курдя́чить VERB,perf,tran sing,3per,futr,indc 0.9407407407407409\n\t курдя́читый ADJS,Qual masc,sing 0.0074074074074074086\n\t курдя́чит NOUN,anim,femn,Sgtm,Fixd,Name sing,nomn 0.0074074074074074086\n\t курдя́чит NOUN,anim,femn,Sgtm,Fixd,Name sing,gent 0.0074074074074074086\n\t курдя́чит NOUN,anim,femn,Sgtm,Fixd,Name sing,datv 0.0074074074074074086\n\t курдя́чит NOUN,anim,femn,Sgtm,Fixd,Name sing,accs 0.0074074074074074086\n\t курдя́чит NOUN,anim,femn,Sgtm,Fixd,Name sing,ablt 0.0074074074074074086\n\t курдя́чит NOUN,anim,femn,Sgtm,Fixd,Name sing,loct 0.0074074074074074086\n\t курдя́читый ADJS masc,sing 0.0074074074074074086\nбокрёнка\n\t бокрёнок NOUN,anim,masc sing,gent 0.49999999999999994\n\t бокрёнок NOUN,anim,masc sing,accs 0.49999999999999994\n"
     ]
    }
   ],
   "source": [
    "# собираем результаты и выводим \n",
    "for word_result in pymorphy_results:\n",
    "    print(word_result[0].word)\n",
    "    for res in word_result:\n",
    "        print('\\t', res.normal_form, res.tag, res.score)"
   ]
  },
  {
   "cell_type": "markdown",
   "metadata": {},
   "source": [
    "В отличие от mystem можно получать лексему и склонять слова"
   ]
  },
  {
   "cell_type": "code",
   "execution_count": 26,
   "metadata": {},
   "outputs": [
    {
     "output_type": "stream",
     "name": "stdout",
     "text": [
      "градус NOUN\nградуса NOUN\nградусу NOUN\nградус NOUN\nградусом NOUN\nградусе NOUN\nградусы NOUN\nградусов NOUN\nградусам NOUN\nградусы NOUN\nградусами NOUN\nградусах NOUN\n"
     ]
    }
   ],
   "source": [
    "bokr = morph.parse(u'градус')[0]\n",
    "for form in bokr.lexeme:\n",
    "    print(form.word, form.tag.POS)"
   ]
  },
  {
   "cell_type": "code",
   "execution_count": 27,
   "metadata": {},
   "outputs": [
    {
     "output_type": "stream",
     "name": "stdout",
     "text": [
      "градусе\nградус\nградуса\nградусов\n"
     ]
    }
   ],
   "source": [
    "print(bokr.inflect({'loct'}).word)\n",
    "print(bokr.make_agree_with_number(1).word)\n",
    "print(bokr.make_agree_with_number(2).word)\n",
    "print(bokr.make_agree_with_number(5).word)"
   ]
  },
  {
   "cell_type": "markdown",
   "metadata": {},
   "source": [
    "#### Задание \n",
    "С помощью pymorphy на тексте получить:\n",
    "- Распределение по частям речи\n",
    "- Для части речи вывести топ n лексем"
   ]
  },
  {
   "cell_type": "code",
   "execution_count": 34,
   "metadata": {},
   "outputs": [],
   "source": [
    "def get_pos_distribution(text, lexemas=None):\n",
    "    '''\n",
    "    :param: text: input text in russian\n",
    "    :param: lexemas: list of interested pos, if None - all are interesting \n",
    "    :return: dict of pos - probability\n",
    "    '''\n",
    "    analyzer = pymorphy2.MorphAnalyzer()\n",
    "\n",
    "    results = [analyzer.parse(i) for i in text.split()]\n",
    "    pos_tags = [i[0].tag.POS for i in results]\n",
    "\n",
    "    pos_tag_dict = {}\n",
    "\n",
    "    for pos in pos_tags:\n",
    "        if pos in pos_tag_dict:\n",
    "            pos_tag_dict[pos] += 1\n",
    "        else:\n",
    "            pos_tag_dict[pos] = 1\n",
    "    \n",
    "    if lexemas:\n",
    "        pos_tag_dict = {i: pos_tag_dict[i] if i in pos_tag_dict else 0 for i in lexemas}\n",
    "\n",
    "    return {i: pos_tag_dict[i] / len(pos_tags) for i in pos_tag_dict}\n",
    "        \n",
    "\n",
    "def get_top_pos_words(text, pos, n):\n",
    "    '''\n",
    "    :param text: input text in russian\n",
    "    :param pos: part of speech \n",
    "    :param n: number of most common words\n",
    "    :return: list of most common lexemas with selected pos\n",
    "    '''\n",
    "    analyzer = pymorphy2.MorphAnalyzer()\n",
    "\n",
    "    results = [analyzer.parse(i) for i in text.split()]\n",
    "\n",
    "    pos_tags = [word[0].word for word in results if (word[0].tag.POS == pos)] \n",
    "    pos_tag_dict = {}\n",
    "\n",
    "    for pos in pos_tags:\n",
    "        if pos in pos_tag_dict:\n",
    "            pos_tag_dict[pos] += 1\n",
    "        else:\n",
    "            pos_tag_dict[pos] = 1\n",
    "\n",
    "    return sorted(pos_tag_dict, key=pos_tag_dict.get, reverse=True)[:n]    "
   ]
  },
  {
   "cell_type": "code",
   "execution_count": 35,
   "metadata": {},
   "outputs": [
    {
     "output_type": "execute_result",
     "data": {
      "text/plain": [
       "{'NOUN': 0.625, 'VERB': 0.25, 'CONJ': 0.125}"
      ]
     },
     "metadata": {},
     "execution_count": 35
    }
   ],
   "source": [
    "get_pos_distribution(sample_text)"
   ]
  },
  {
   "cell_type": "code",
   "execution_count": 47,
   "metadata": {},
   "outputs": [
    {
     "output_type": "execute_result",
     "data": {
      "text/plain": [
       "['будлану́ла', 'курдя́чит']"
      ]
     },
     "metadata": {},
     "execution_count": 47
    }
   ],
   "source": [
    "get_top_pos_words(sample_text, 'VERB', 2)"
   ]
  },
  {
   "cell_type": "code",
   "execution_count": null,
   "metadata": {},
   "outputs": [],
   "source": []
  }
 ],
 "metadata": {
  "kernelspec": {
   "display_name": "Python 3",
   "language": "python",
   "name": "python3"
  },
  "language_info": {
   "codemirror_mode": {
    "name": "ipython",
    "version": 3
   },
   "file_extension": ".py",
   "mimetype": "text/x-python",
   "name": "python",
   "nbconvert_exporter": "python",
   "pygments_lexer": "ipython3",
   "version": "3.7.3-final"
  },
  "latex_envs": {
   "LaTeX_envs_menu_present": true,
   "autoclose": false,
   "autocomplete": true,
   "bibliofile": "biblio.bib",
   "cite_by": "apalike",
   "current_citInitial": 1,
   "eqLabelWithNumbers": true,
   "eqNumInitial": 1,
   "hotkeys": {
    "equation": "Ctrl-E",
    "itemize": "Ctrl-I"
   },
   "labels_anchors": false,
   "latex_user_defs": false,
   "report_style_numbering": false,
   "user_envs_cfg": false
  },
  "varInspector": {
   "cols": {
    "lenName": 16,
    "lenType": 16,
    "lenVar": 40
   },
   "kernels_config": {
    "python": {
     "delete_cmd_postfix": "",
     "delete_cmd_prefix": "del ",
     "library": "var_list.py",
     "varRefreshCmd": "print(var_dic_list())"
    },
    "r": {
     "delete_cmd_postfix": ") ",
     "delete_cmd_prefix": "rm(",
     "library": "var_list.r",
     "varRefreshCmd": "cat(var_dic_list()) "
    }
   },
   "types_to_exclude": [
    "module",
    "function",
    "builtin_function_or_method",
    "instance",
    "_Feature"
   ],
   "window_display": false
  }
 },
 "nbformat": 4,
 "nbformat_minor": 4
}