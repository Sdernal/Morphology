{
 "cells": [
  {
   "cell_type": "markdown",
   "metadata": {},
   "source": [
    "# BiLSTM approach for POS-tagging task based on this paper https://arxiv.org/abs/1805.08237"
   ]
  },
  {
   "cell_type": "code",
   "execution_count": 5,
   "metadata": {},
   "outputs": [
    {
     "name": "stdout",
     "output_type": "stream",
     "text": [
      "\u001b[33mWARNING: The directory '/.cache/pip' or its parent directory is not owned or is not writable by the current user. The cache has been disabled. Check the permissions and owner of that directory. If executing pip with sudo, you may want sudo's -H flag.\u001b[0m\n",
      "Defaulting to user installation because normal site-packages is not writeable\n",
      "Collecting conllu\n",
      "  Downloading conllu-4.2.1-py2.py3-none-any.whl (14 kB)\n",
      "Installing collected packages: conllu\n",
      "Successfully installed conllu-4.2.1\n",
      "\u001b[33mWARNING: You are using pip version 20.2.3; however, version 20.3 is available.\n",
      "You should consider upgrading via the '/usr/bin/python3 -m pip install --upgrade pip' command.\u001b[0m\n"
     ]
    }
   ],
   "source": [
    "# !pip install conllu\n"
   ]
  },
  {
   "cell_type": "code",
   "execution_count": 1,
   "metadata": {},
   "outputs": [],
   "source": [
    "import conllu\n",
    "with open(\"data/UD_Russian-SynTagRus/ru_syntagrus-ud-train.conllu\", 'r') as f:\n",
    "    data = f.read()\n",
    "sentences = conllu.parse(data)"
   ]
  },
  {
   "cell_type": "code",
   "execution_count": 2,
   "metadata": {},
   "outputs": [],
   "source": [
    "def get_pos_tags(sentences):\n",
    "    tags = set()\n",
    "    for sentence in sentences:\n",
    "        for word in sentence:\n",
    "            tags.add(word['upos'])\n",
    "    return tags"
   ]
  },
  {
   "cell_type": "code",
   "execution_count": 3,
   "metadata": {},
   "outputs": [],
   "source": [
    "tags = get_pos_tags(sentences)"
   ]
  },
  {
   "cell_type": "code",
   "execution_count": 4,
   "metadata": {},
   "outputs": [],
   "source": [
    "tag_to_idx = {tag: i for i, tag in enumerate(tags)}\n",
    "idx_to_tag = {i: tag for i, tag in enumerate(tags)}"
   ]
  },
  {
   "cell_type": "code",
   "execution_count": 5,
   "metadata": {},
   "outputs": [],
   "source": [
    "def preprocess(string):\n",
    "    string = string.lower()\n",
    "    return string"
   ]
  },
  {
   "cell_type": "code",
   "execution_count": 6,
   "metadata": {},
   "outputs": [],
   "source": [
    "list_dataset = []\n",
    "chars = set()\n",
    "\n",
    "for sentence in sentences:\n",
    "    cur_sent = []\n",
    "    for word in sentence:\n",
    "        preprocessed_word = preprocess(word['form'])\n",
    "        chars = chars.union(set(preprocessed_word))\n",
    "        cur_sent.append((preprocessed_word, tag_to_idx[word['upos']]))\n",
    "    list_dataset.append(cur_sent)"
   ]
  },
  {
   "cell_type": "code",
   "execution_count": 7,
   "metadata": {},
   "outputs": [],
   "source": [
    "char_to_idx = {char: idx + 2 for idx, char in enumerate(chars)}\n",
    "idx_to_char = {idx + 2: char for idx, char in enumerate(chars)}\n",
    "\n",
    "char_to_idx['<pad>'] = 0\n",
    "char_to_idx['|'] = 1\n",
    "idx_to_char[0] = '<pad>'\n",
    "idx_to_char[1] = '|'"
   ]
  },
  {
   "cell_type": "code",
   "execution_count": 8,
   "metadata": {},
   "outputs": [],
   "source": [
    "from sklearn.model_selection import train_test_split\n",
    "\n",
    "train, test = train_test_split(list_dataset, test_size=0.2) "
   ]
  },
  {
   "cell_type": "code",
   "execution_count": 9,
   "metadata": {},
   "outputs": [],
   "source": [
    "import torch\n",
    "import torch.nn as nn\n",
    "import torch.nn.functional as F"
   ]
  },
  {
   "cell_type": "code",
   "execution_count": null,
   "metadata": {},
   "outputs": [],
   "source": []
  },
  {
   "cell_type": "code",
   "execution_count": 10,
   "metadata": {},
   "outputs": [],
   "source": [
    "def seq_loss(inp, lens, labels):\n",
    "    total_loss = 0\n",
    "    for i in range(len(inp)):\n",
    "        total_loss += F.cross_entropy(inp[i, :lens[i], :], labels[i][:lens[i]], reduction='sum')\n",
    "    return total_loss / sum(lens)"
   ]
  },
  {
   "cell_type": "code",
   "execution_count": 11,
   "metadata": {},
   "outputs": [],
   "source": [
    "def calc_accuracy(inp_inds, output, true_labels):\n",
    "    mask = (inp_inds != 0)\n",
    "    total_preds = mask.sum()\n",
    "    correct = ((output.argmax(dim=2) == true_labels) * mask).sum()\n",
    "    return correct.float() / total_preds.item()"
   ]
  },
  {
   "cell_type": "code",
   "execution_count": 12,
   "metadata": {},
   "outputs": [
    {
     "name": "stderr",
     "output_type": "stream",
     "text": [
      "/.local/lib/python3.6/site-packages/torch/cuda/__init__.py:52: UserWarning: CUDA initialization: Found no NVIDIA driver on your system. Please check that you have an NVIDIA GPU and installed a driver from http://www.nvidia.com/Download/index.aspx (Triggered internally at  /pytorch/c10/cuda/CUDAFunctions.cpp:100.)\n",
      "  return torch._C._cuda_getDeviceCount() > 0\n"
     ]
    }
   ],
   "source": [
    "word_mlp_proj_size = 256\n",
    "char_mlp_proj_size = 256\n",
    "device = 'cuda:0' if torch.cuda.is_available() else 'cpu'\n",
    "params = {\n",
    "    \"meta_model_params\" :{\n",
    "        \"input_size\": word_mlp_proj_size + char_mlp_proj_size,\n",
    "        \"hidden_dim\": 512,\n",
    "        \"output_proj_size\": len(tags),\n",
    "        \"device\": device,\n",
    "    },\n",
    "    \"word_model_params\": {\n",
    "        \"hidden_dim\": 256,\n",
    "        \"dataset\": train,\n",
    "        \"output_proj\": len(tags),\n",
    "        \"device\": device,\n",
    "        \"mlp_proj_size\": word_mlp_proj_size,\n",
    "        \"num_layers\": 1,\n",
    "        \"dropout\": 0.0,\n",
    "    },\n",
    "    \"char_model_params\": {\n",
    "        \"emb_dim\": 100,\n",
    "        \"num_embs\": len(char_to_idx),\n",
    "        \"hidden_dim\": 256,\n",
    "        \"output_proj\": len(tags),\n",
    "        \"device\": device,\n",
    "        \"mlp_proj_size\": char_mlp_proj_size,\n",
    "        \"num_layers\": 1,\n",
    "        \"dropout\": 0.0,\n",
    "    }\n",
    "}"
   ]
  },
  {
   "cell_type": "code",
   "execution_count": 13,
   "metadata": {},
   "outputs": [
    {
     "name": "stderr",
     "output_type": "stream",
     "text": [
      "100%|██████████| 249946/249946 [00:22<00:00, 11304.51it/s]\n"
     ]
    }
   ],
   "source": [
    "from meta_wrapper import MetaWrapper\n",
    "model = MetaWrapper(params).to(device)"
   ]
  },
  {
   "cell_type": "code",
   "execution_count": 21,
   "metadata": {},
   "outputs": [
    {
     "data": {
      "text/plain": [
       "1010310"
      ]
     },
     "execution_count": 21,
     "metadata": {},
     "output_type": "execute_result"
    }
   ],
   "source": [
    "sum(p.numel() for p in model.char_model.parameters())"
   ]
  },
  {
   "cell_type": "code",
   "execution_count": 20,
   "metadata": {},
   "outputs": [
    {
     "data": {
      "text/plain": [
       "CharBiLSTM(\n",
       "  (emb_layer): CharEmbeddings(\n",
       "    (emb_layer): Embedding(101, 100, padding_idx=0)\n",
       "  )\n",
       "  (rnn): LSTM(100, 256, batch_first=True, bidirectional=True)\n",
       "  (mlp): Linear(in_features=1024, out_features=256, bias=True)\n",
       "  (relu): ReLU()\n",
       "  (output_proj): Linear(in_features=256, out_features=18, bias=True)\n",
       ")"
      ]
     },
     "execution_count": 20,
     "metadata": {},
     "output_type": "execute_result"
    }
   ],
   "source": [
    "model.char_model"
   ]
  },
  {
   "cell_type": "code",
   "execution_count": 18,
   "metadata": {},
   "outputs": [],
   "source": [
    "from dataset import PosTagDataset, create_dataloader\n",
    "\n",
    "train_dataset = PosTagDataset(train, model.word_model.emb_layer.token_to_idx, char_to_idx)\n",
    "train_dataloader = create_dataloader(train_dataset, 64, device)\n",
    "\n",
    "test_dataset = PosTagDataset(test, model.word_model.emb_layer.token_to_idx, char_to_idx)\n",
    "test_dataloader = create_dataloader(test_dataset, 64, device)"
   ]
  },
  {
   "cell_type": "code",
   "execution_count": 19,
   "metadata": {},
   "outputs": [],
   "source": [
    "from torch.optim import lr_scheduler\n",
    "\n",
    "optimizers = {\n",
    "    \"char\": torch.optim.Adam(model.char_model.parameters()),\n",
    "    \"word\": torch.optim.Adam(model.word_model.parameters()),\n",
    "    \"meta\": torch.optim.Adam(model.meta_model.parameters()),\n",
    "}\n",
    "\n",
    "schedulers = {\n",
    "    \"char\": lr_scheduler.StepLR(optimizers[\"char\"], step_size=1, gamma=0.2),\n",
    "    \"word\": lr_scheduler.StepLR(optimizers[\"word\"], step_size=1, gamma=0.2),\n",
    "    \"meta\": lr_scheduler.StepLR(optimizers[\"meta\"], step_size=1, gamma=0.2),\n",
    "}\n",
    "\n",
    "\n",
    "NUM_EPOCHS = 4\n",
    "model_names = [\"word\", \"char\", \"meta\"]"
   ]
  },
  {
   "cell_type": "code",
   "execution_count": 20,
   "metadata": {},
   "outputs": [],
   "source": [
    "def validate_model(model, test_loader):\n",
    "    model.eval()\n",
    "    losses = {\n",
    "        \"char\": [],\n",
    "        \"word\": [],\n",
    "        \"meta\": [],\n",
    "    }\n",
    "    accs = {\n",
    "        \"char\": [],\n",
    "        \"word\": [],\n",
    "        \"meta\": [],\n",
    "    }\n",
    "    loss = {\n",
    "        \"char\": None,\n",
    "        \"word\": None,\n",
    "        \"meta\": None,\n",
    "    }\n",
    "    acc = {\n",
    "        \"char\": None,\n",
    "        \"word\": None,\n",
    "        \"meta\": None,\n",
    "    }\n",
    "    \n",
    "    for batch in tqdm(test_dataloader):\n",
    "        outputs = model(batch)\n",
    "        with torch.no_grad():\n",
    "            for model_name in model_names:\n",
    "                loss[model_name] = seq_loss(\n",
    "                    outputs[model_name][\"logits\"], \n",
    "                    outputs[model_name]['lens'], \n",
    "                    batch['labels'].to(device)\n",
    "                )\n",
    "\n",
    "                acc[model_name] = calc_accuracy(\n",
    "                    batch['word_idx'][0].to(device), \n",
    "                    outputs[model_name]['logits'], \n",
    "                    batch['labels'].to(device)\n",
    "                )\n",
    "\n",
    "                losses[model_name].append(loss[model_name].item())\n",
    "                accs[model_name].append(float(acc[model_name]))\n",
    "\n",
    "        \n",
    "    for model_name in model_names:\n",
    "        print(f\"epoch {i} is finished, average {model_name} test loss = {sum(losses[model_name]) / len(losses[model_name])}\")\n",
    "        print(f\"epoch {i} is finished, average {model_name} test acc = {sum(accs[model_name]) / len(accs[model_name])}\\n\")"
   ]
  },
  {
   "cell_type": "code",
   "execution_count": 21,
   "metadata": {},
   "outputs": [
    {
     "name": "stderr",
     "output_type": "stream",
     "text": [
      "1it [00:00,  3.14it/s]"
     ]
    },
    {
     "name": "stdout",
     "output_type": "stream",
     "text": [
      "epoch 0 word loss 0 = 2.8860397338867188\n",
      "epoch 0 word acc 0 = 0.04123711585998535\n",
      "\n",
      "epoch 0 char loss 0 = 1.4469842910766602\n",
      "epoch 0 char acc 0 = 0.05060918629169464\n",
      "\n",
      "epoch 0 meta loss 0 = 2.8989334106445312\n",
      "epoch 0 meta acc 0 = 0.0\n",
      "\n"
     ]
    },
    {
     "name": "stderr",
     "output_type": "stream",
     "text": [
      "61it [00:20,  3.08it/s]"
     ]
    },
    {
     "name": "stdout",
     "output_type": "stream",
     "text": [
      "epoch 0 word loss 60 = 0.9315916299819946\n",
      "epoch 0 word acc 60 = 0.690009355545044\n",
      "\n",
      "epoch 0 char loss 60 = 0.562557578086853\n",
      "epoch 0 char acc 60 = 0.8039215803146362\n",
      "\n",
      "epoch 0 meta loss 60 = 0.6424059867858887\n",
      "epoch 0 meta acc 60 = 0.7889822721481323\n",
      "\n"
     ]
    },
    {
     "name": "stderr",
     "output_type": "stream",
     "text": [
      "121it [00:39,  2.99it/s]"
     ]
    },
    {
     "name": "stdout",
     "output_type": "stream",
     "text": [
      "epoch 0 word loss 120 = 0.6233770847320557\n",
      "epoch 0 word acc 120 = 0.7854113578796387\n",
      "\n",
      "epoch 0 char loss 120 = 0.14559319615364075\n",
      "epoch 0 char acc 120 = 0.889737069606781\n",
      "\n",
      "epoch 0 meta loss 120 = 0.29520100355148315\n",
      "epoch 0 meta acc 120 = 0.9041560888290405\n",
      "\n"
     ]
    },
    {
     "name": "stderr",
     "output_type": "stream",
     "text": [
      "181it [00:59,  3.04it/s]"
     ]
    },
    {
     "name": "stdout",
     "output_type": "stream",
     "text": [
      "epoch 0 word loss 180 = 0.5347510576248169\n",
      "epoch 0 word acc 180 = 0.8077245950698853\n",
      "\n",
      "epoch 0 char loss 180 = 0.060523033142089844\n",
      "epoch 0 char acc 180 = 0.9059613347053528\n",
      "\n",
      "epoch 0 meta loss 180 = 0.24784500896930695\n",
      "epoch 0 meta acc 180 = 0.9084802269935608\n",
      "\n"
     ]
    },
    {
     "name": "stderr",
     "output_type": "stream",
     "text": [
      "241it [01:18,  2.95it/s]"
     ]
    },
    {
     "name": "stdout",
     "output_type": "stream",
     "text": [
      "epoch 0 word loss 240 = 0.4391714334487915\n",
      "epoch 0 word acc 240 = 0.8475147485733032\n",
      "\n",
      "epoch 0 char loss 240 = 0.04567859694361687\n",
      "epoch 0 char acc 240 = 0.9326031804084778\n",
      "\n",
      "epoch 0 meta loss 240 = 0.16703535616397858\n",
      "epoch 0 meta acc 240 = 0.9494524002075195\n",
      "\n"
     ]
    },
    {
     "name": "stderr",
     "output_type": "stream",
     "text": [
      "301it [01:38,  3.22it/s]"
     ]
    },
    {
     "name": "stdout",
     "output_type": "stream",
     "text": [
      "epoch 0 word loss 300 = 0.37362587451934814\n",
      "epoch 0 word acc 300 = 0.8592455983161926\n",
      "\n",
      "epoch 0 char loss 300 = 0.04084160923957825\n",
      "epoch 0 char acc 300 = 0.9346826076507568\n",
      "\n",
      "epoch 0 meta loss 300 = 0.1498807668685913\n",
      "epoch 0 meta acc 300 = 0.9429622292518616\n",
      "\n"
     ]
    },
    {
     "name": "stderr",
     "output_type": "stream",
     "text": [
      "361it [01:57,  3.07it/s]"
     ]
    },
    {
     "name": "stdout",
     "output_type": "stream",
     "text": [
      "epoch 0 word loss 360 = 0.39332276582717896\n",
      "epoch 0 word acc 360 = 0.8648648858070374\n",
      "\n",
      "epoch 0 char loss 360 = 0.03388373181223869\n",
      "epoch 0 char acc 360 = 0.9356120824813843\n",
      "\n",
      "epoch 0 meta loss 360 = 0.1556592583656311\n",
      "epoch 0 meta acc 360 = 0.9459459781646729\n",
      "\n"
     ]
    },
    {
     "name": "stderr",
     "output_type": "stream",
     "text": [
      "421it [02:16,  3.26it/s]"
     ]
    },
    {
     "name": "stdout",
     "output_type": "stream",
     "text": [
      "epoch 0 word loss 420 = 0.3352274000644684\n",
      "epoch 0 word acc 420 = 0.8909090757369995\n",
      "\n",
      "epoch 0 char loss 420 = 0.0241301991045475\n",
      "epoch 0 char acc 420 = 0.9511961340904236\n",
      "\n",
      "epoch 0 meta loss 420 = 0.11792057752609253\n",
      "epoch 0 meta acc 420 = 0.9588516354560852\n",
      "\n"
     ]
    },
    {
     "name": "stderr",
     "output_type": "stream",
     "text": [
      "481it [02:36,  3.06it/s]"
     ]
    },
    {
     "name": "stdout",
     "output_type": "stream",
     "text": [
      "epoch 0 word loss 480 = 0.3508620858192444\n",
      "epoch 0 word acc 480 = 0.8767693638801575\n",
      "\n",
      "epoch 0 char loss 480 = 0.03299188241362572\n",
      "epoch 0 char acc 480 = 0.9383846521377563\n",
      "\n",
      "epoch 0 meta loss 480 = 0.13894784450531006\n",
      "epoch 0 meta acc 480 = 0.9550374746322632\n",
      "\n"
     ]
    },
    {
     "name": "stderr",
     "output_type": "stream",
     "text": [
      "541it [02:55,  3.27it/s]"
     ]
    },
    {
     "name": "stdout",
     "output_type": "stream",
     "text": [
      "epoch 0 word loss 540 = 0.3336697518825531\n",
      "epoch 0 word acc 540 = 0.8841733336448669\n",
      "\n",
      "epoch 0 char loss 540 = 0.02317030541598797\n",
      "epoch 0 char acc 540 = 0.9504863023757935\n",
      "\n",
      "epoch 0 meta loss 540 = 0.11938761919736862\n",
      "epoch 0 meta acc 540 = 0.9566755294799805\n",
      "\n"
     ]
    },
    {
     "name": "stderr",
     "output_type": "stream",
     "text": [
      "601it [03:15,  3.10it/s]"
     ]
    },
    {
     "name": "stdout",
     "output_type": "stream",
     "text": [
      "epoch 0 word loss 600 = 0.3376283049583435\n",
      "epoch 0 word acc 600 = 0.8830715417861938\n",
      "\n",
      "epoch 0 char loss 600 = 0.021997207775712013\n",
      "epoch 0 char acc 600 = 0.9528796076774597\n",
      "\n",
      "epoch 0 meta loss 600 = 0.10255423933267593\n",
      "epoch 0 meta acc 600 = 0.9659686088562012\n",
      "\n"
     ]
    },
    {
     "name": "stderr",
     "output_type": "stream",
     "text": [
      "611it [03:18,  3.08it/s]\n",
      "  1%|          | 1/153 [00:00<00:27,  5.47it/s]"
     ]
    },
    {
     "name": "stdout",
     "output_type": "stream",
     "text": [
      "epoch 0 is finished, average word train loss = 0.5487163450489653\n",
      "epoch 0 is finished, average word train acc = 0.8170077418344501\n",
      "\n",
      "epoch 0 is finished, average char train loss = 0.1613487086385342\n",
      "epoch 0 is finished, average char train acc = 0.8971498734675921\n",
      "\n",
      "epoch 0 is finished, average meta train loss = 0.31145132882993076\n",
      "epoch 0 is finished, average meta train acc = 0.900757515318265\n",
      "\n"
     ]
    },
    {
     "name": "stderr",
     "output_type": "stream",
     "text": [
      "100%|██████████| 153/153 [00:30<00:00,  5.08it/s]\n",
      "0it [00:00, ?it/s]"
     ]
    },
    {
     "name": "stdout",
     "output_type": "stream",
     "text": [
      "epoch 0 is finished, average word test loss = 0.28702539858085657\n",
      "epoch 0 is finished, average word test acc = 0.9012181073232414\n",
      "\n",
      "epoch 0 is finished, average char test loss = 0.022888081878715872\n",
      "epoch 0 is finished, average char test acc = 0.9574401927929298\n",
      "\n",
      "epoch 0 is finished, average meta test loss = 0.10652227982196932\n",
      "epoch 0 is finished, average meta test acc = 0.9634053395464529\n",
      "\n"
     ]
    },
    {
     "name": "stderr",
     "output_type": "stream",
     "text": [
      "\r",
      "1it [00:00,  2.90it/s]"
     ]
    },
    {
     "name": "stdout",
     "output_type": "stream",
     "text": [
      "epoch 1 word loss 0 = 0.21767856180667877\n",
      "epoch 1 word acc 0 = 0.9255039691925049\n",
      "\n",
      "epoch 1 char loss 0 = 0.022026732563972473\n",
      "epoch 1 char acc 0 = 0.9570552110671997\n",
      "\n",
      "epoch 1 meta loss 0 = 0.09054446220397949\n",
      "epoch 1 meta acc 0 = 0.9719544053077698\n",
      "\n"
     ]
    },
    {
     "name": "stderr",
     "output_type": "stream",
     "text": [
      "61it [00:19,  3.31it/s]"
     ]
    },
    {
     "name": "stdout",
     "output_type": "stream",
     "text": [
      "epoch 1 word loss 60 = 0.21705324947834015\n",
      "epoch 1 word acc 60 = 0.9210526347160339\n",
      "\n",
      "epoch 1 char loss 60 = 0.019173959270119667\n",
      "epoch 1 char acc 60 = 0.9664247035980225\n",
      "\n",
      "epoch 1 meta loss 60 = 0.08562713116407394\n",
      "epoch 1 meta acc 60 = 0.9700544476509094\n",
      "\n"
     ]
    },
    {
     "name": "stderr",
     "output_type": "stream",
     "text": [
      "121it [00:38,  3.16it/s]"
     ]
    },
    {
     "name": "stdout",
     "output_type": "stream",
     "text": [
      "epoch 1 word loss 120 = 0.19127105176448822\n",
      "epoch 1 word acc 120 = 0.9402546286582947\n",
      "\n",
      "epoch 1 char loss 120 = 0.01873830333352089\n",
      "epoch 1 char acc 120 = 0.9676787257194519\n",
      "\n",
      "epoch 1 meta loss 120 = 0.0679168775677681\n",
      "epoch 1 meta acc 120 = 0.9784524440765381\n",
      "\n"
     ]
    },
    {
     "name": "stderr",
     "output_type": "stream",
     "text": [
      "181it [00:58,  2.70it/s]"
     ]
    },
    {
     "name": "stdout",
     "output_type": "stream",
     "text": [
      "epoch 1 word loss 180 = 0.15155720710754395\n",
      "epoch 1 word acc 180 = 0.9496586918830872\n",
      "\n",
      "epoch 1 char loss 180 = 0.017898548394441605\n",
      "epoch 1 char acc 180 = 0.9641637802124023\n",
      "\n",
      "epoch 1 meta loss 180 = 0.0650239959359169\n",
      "epoch 1 meta acc 180 = 0.9752559661865234\n",
      "\n"
     ]
    },
    {
     "name": "stderr",
     "output_type": "stream",
     "text": [
      "241it [01:22,  2.53it/s]"
     ]
    },
    {
     "name": "stdout",
     "output_type": "stream",
     "text": [
      "epoch 1 word loss 240 = 0.1705487221479416\n",
      "epoch 1 word acc 240 = 0.944547176361084\n",
      "\n",
      "epoch 1 char loss 240 = 0.014592845924198627\n",
      "epoch 1 char acc 240 = 0.9704251289367676\n",
      "\n",
      "epoch 1 meta loss 240 = 0.06669257581233978\n",
      "epoch 1 meta acc 240 = 0.972273588180542\n",
      "\n"
     ]
    },
    {
     "name": "stderr",
     "output_type": "stream",
     "text": [
      "301it [01:47,  2.56it/s]"
     ]
    },
    {
     "name": "stdout",
     "output_type": "stream",
     "text": [
      "epoch 1 word loss 300 = 0.23046860098838806\n",
      "epoch 1 word acc 300 = 0.9244897365570068\n",
      "\n",
      "epoch 1 char loss 300 = 0.024014871567487717\n",
      "epoch 1 char acc 300 = 0.9479591250419617\n",
      "\n",
      "epoch 1 meta loss 300 = 0.10806451737880707\n",
      "epoch 1 meta acc 300 = 0.9561223983764648\n",
      "\n"
     ]
    },
    {
     "name": "stderr",
     "output_type": "stream",
     "text": [
      "361it [02:09,  3.12it/s]"
     ]
    },
    {
     "name": "stdout",
     "output_type": "stream",
     "text": [
      "epoch 1 word loss 360 = 0.16683994233608246\n",
      "epoch 1 word acc 360 = 0.949327826499939\n",
      "\n",
      "epoch 1 char loss 360 = 0.015390127897262573\n",
      "epoch 1 char acc 360 = 0.9720785617828369\n",
      "\n",
      "epoch 1 meta loss 360 = 0.06400205940008163\n",
      "epoch 1 meta acc 360 = 0.9813857078552246\n",
      "\n"
     ]
    },
    {
     "name": "stderr",
     "output_type": "stream",
     "text": [
      "421it [02:29,  3.03it/s]"
     ]
    },
    {
     "name": "stdout",
     "output_type": "stream",
     "text": [
      "epoch 1 word loss 420 = 0.15794603526592255\n",
      "epoch 1 word acc 420 = 0.9506382942199707\n",
      "\n",
      "epoch 1 char loss 420 = 0.012349516153335571\n",
      "epoch 1 char acc 420 = 0.9821276664733887\n",
      "\n",
      "epoch 1 meta loss 420 = 0.05549665167927742\n",
      "epoch 1 meta acc 420 = 0.9804255366325378\n",
      "\n"
     ]
    },
    {
     "name": "stderr",
     "output_type": "stream",
     "text": [
      "481it [02:48,  3.14it/s]"
     ]
    },
    {
     "name": "stdout",
     "output_type": "stream",
     "text": [
      "epoch 1 word loss 480 = 0.14805974066257477\n",
      "epoch 1 word acc 480 = 0.9580223560333252\n",
      "\n",
      "epoch 1 char loss 480 = 0.01612941175699234\n",
      "epoch 1 char acc 480 = 0.9701492190361023\n",
      "\n",
      "epoch 1 meta loss 480 = 0.06627914309501648\n",
      "epoch 1 meta acc 480 = 0.9785447716712952\n",
      "\n"
     ]
    },
    {
     "name": "stderr",
     "output_type": "stream",
     "text": [
      "541it [03:08,  3.20it/s]"
     ]
    },
    {
     "name": "stdout",
     "output_type": "stream",
     "text": [
      "epoch 1 word loss 540 = 0.1425352543592453\n",
      "epoch 1 word acc 540 = 0.9532538652420044\n",
      "\n",
      "epoch 1 char loss 540 = 0.016468487679958344\n",
      "epoch 1 char acc 540 = 0.9660861492156982\n",
      "\n",
      "epoch 1 meta loss 540 = 0.0707816332578659\n",
      "epoch 1 meta acc 540 = 0.9743354320526123\n",
      "\n"
     ]
    },
    {
     "name": "stderr",
     "output_type": "stream",
     "text": [
      "601it [03:28,  3.22it/s]"
     ]
    },
    {
     "name": "stdout",
     "output_type": "stream",
     "text": [
      "epoch 1 word loss 600 = 0.17242494225502014\n",
      "epoch 1 word acc 600 = 0.938071072101593\n",
      "\n",
      "epoch 1 char loss 600 = 0.017618808895349503\n",
      "epoch 1 char acc 600 = 0.9634518027305603\n",
      "\n",
      "epoch 1 meta loss 600 = 0.08495132625102997\n",
      "epoch 1 meta acc 600 = 0.9715736508369446\n",
      "\n"
     ]
    },
    {
     "name": "stderr",
     "output_type": "stream",
     "text": [
      "611it [03:31,  2.90it/s]\n",
      "  1%|          | 1/153 [00:00<00:25,  5.85it/s]"
     ]
    },
    {
     "name": "stdout",
     "output_type": "stream",
     "text": [
      "epoch 1 is finished, average word train loss = 0.17756052073792428\n",
      "epoch 1 is finished, average word train acc = 0.9430364584961811\n",
      "\n",
      "epoch 1 is finished, average char train loss = 0.017198064396502344\n",
      "epoch 1 is finished, average char train acc = 0.9672100149863285\n",
      "\n",
      "epoch 1 is finished, average meta train loss = 0.0712164133610341\n",
      "epoch 1 is finished, average meta train acc = 0.9757365454628503\n",
      "\n"
     ]
    },
    {
     "name": "stderr",
     "output_type": "stream",
     "text": [
      "100%|██████████| 153/153 [00:30<00:00,  5.09it/s]\n",
      "0it [00:00, ?it/s]"
     ]
    },
    {
     "name": "stdout",
     "output_type": "stream",
     "text": [
      "epoch 1 is finished, average word test loss = 0.23718287469514834\n",
      "epoch 1 is finished, average word test acc = 0.9193230590789147\n",
      "\n",
      "epoch 1 is finished, average char test loss = 0.016909481135799605\n",
      "epoch 1 is finished, average char test acc = 0.9671969651396758\n",
      "\n",
      "epoch 1 is finished, average meta test loss = 0.07873441924164498\n",
      "epoch 1 is finished, average meta test acc = 0.9726456177780052\n",
      "\n"
     ]
    },
    {
     "name": "stderr",
     "output_type": "stream",
     "text": [
      "\r",
      "1it [00:00,  2.99it/s]"
     ]
    },
    {
     "name": "stdout",
     "output_type": "stream",
     "text": [
      "epoch 2 word loss 0 = 0.1205528974533081\n",
      "epoch 2 word acc 0 = 0.9624454379081726\n",
      "\n",
      "epoch 2 char loss 0 = 0.01454832497984171\n",
      "epoch 2 char acc 0 = 0.9746724963188171\n",
      "\n",
      "epoch 2 meta loss 0 = 0.051835671067237854\n",
      "epoch 2 meta acc 0 = 0.9772925972938538\n",
      "\n"
     ]
    },
    {
     "name": "stderr",
     "output_type": "stream",
     "text": [
      "61it [00:19,  3.13it/s]"
     ]
    },
    {
     "name": "stdout",
     "output_type": "stream",
     "text": [
      "epoch 2 word loss 60 = 0.13532480597496033\n",
      "epoch 2 word acc 60 = 0.9561403393745422\n",
      "\n",
      "epoch 2 char loss 60 = 0.014232080429792404\n",
      "epoch 2 char acc 60 = 0.971734881401062\n",
      "\n",
      "epoch 2 meta loss 60 = 0.051813360303640366\n",
      "epoch 2 meta acc 60 = 0.983430802822113\n",
      "\n"
     ]
    },
    {
     "name": "stderr",
     "output_type": "stream",
     "text": [
      "121it [00:39,  2.73it/s]"
     ]
    },
    {
     "name": "stdout",
     "output_type": "stream",
     "text": [
      "epoch 2 word loss 120 = 0.11995988339185715\n",
      "epoch 2 word acc 120 = 0.9716908931732178\n",
      "\n",
      "epoch 2 char loss 120 = 0.01117401197552681\n",
      "epoch 2 char acc 120 = 0.979341983795166\n",
      "\n",
      "epoch 2 meta loss 120 = 0.04319433867931366\n",
      "epoch 2 meta acc 120 = 0.9885233640670776\n",
      "\n"
     ]
    },
    {
     "name": "stderr",
     "output_type": "stream",
     "text": [
      "181it [00:58,  3.11it/s]"
     ]
    },
    {
     "name": "stdout",
     "output_type": "stream",
     "text": [
      "epoch 2 word loss 180 = 0.12367833405733109\n",
      "epoch 2 word acc 180 = 0.9666666984558105\n",
      "\n",
      "epoch 2 char loss 180 = 0.014212144538760185\n",
      "epoch 2 char acc 180 = 0.9711712002754211\n",
      "\n",
      "epoch 2 meta loss 180 = 0.05395438149571419\n",
      "epoch 2 meta acc 180 = 0.9801802039146423\n",
      "\n"
     ]
    },
    {
     "name": "stderr",
     "output_type": "stream",
     "text": [
      "241it [01:18,  3.22it/s]"
     ]
    },
    {
     "name": "stdout",
     "output_type": "stream",
     "text": [
      "epoch 2 word loss 240 = 0.11969070136547089\n",
      "epoch 2 word acc 240 = 0.9643861651420593\n",
      "\n",
      "epoch 2 char loss 240 = 0.013108585961163044\n",
      "epoch 2 char acc 240 = 0.9709466099739075\n",
      "\n",
      "epoch 2 meta loss 240 = 0.051442187279462814\n",
      "epoch 2 meta acc 240 = 0.9793814420700073\n",
      "\n"
     ]
    },
    {
     "name": "stderr",
     "output_type": "stream",
     "text": [
      "301it [01:37,  3.08it/s]"
     ]
    },
    {
     "name": "stdout",
     "output_type": "stream",
     "text": [
      "epoch 2 word loss 300 = 0.10032252222299576\n",
      "epoch 2 word acc 300 = 0.9723801612854004\n",
      "\n",
      "epoch 2 char loss 300 = 0.008882532827556133\n",
      "epoch 2 char acc 300 = 0.9861900806427002\n",
      "\n",
      "epoch 2 meta loss 300 = 0.03335941955447197\n",
      "epoch 2 meta acc 300 = 0.9886271357536316\n",
      "\n"
     ]
    },
    {
     "name": "stderr",
     "output_type": "stream",
     "text": [
      "361it [01:57,  3.01it/s]"
     ]
    },
    {
     "name": "stdout",
     "output_type": "stream",
     "text": [
      "epoch 2 word loss 360 = 0.09506697952747345\n",
      "epoch 2 word acc 360 = 0.9718649387359619\n",
      "\n",
      "epoch 2 char loss 360 = 0.010619488544762135\n",
      "epoch 2 char acc 360 = 0.9823151230812073\n",
      "\n",
      "epoch 2 meta loss 360 = 0.03775573521852493\n",
      "epoch 2 meta acc 360 = 0.9871382713317871\n",
      "\n"
     ]
    },
    {
     "name": "stderr",
     "output_type": "stream",
     "text": [
      "421it [02:16,  2.95it/s]"
     ]
    },
    {
     "name": "stdout",
     "output_type": "stream",
     "text": [
      "epoch 2 word loss 420 = 0.12938617169857025\n",
      "epoch 2 word acc 420 = 0.9618979096412659\n",
      "\n",
      "epoch 2 char loss 420 = 0.012910236604511738\n",
      "epoch 2 char acc 420 = 0.9755571484565735\n",
      "\n",
      "epoch 2 meta loss 420 = 0.04828938841819763\n",
      "epoch 2 meta acc 420 = 0.9820273518562317\n",
      "\n"
     ]
    },
    {
     "name": "stderr",
     "output_type": "stream",
     "text": [
      "481it [02:36,  3.15it/s]"
     ]
    },
    {
     "name": "stdout",
     "output_type": "stream",
     "text": [
      "epoch 2 word loss 480 = 0.11801371723413467\n",
      "epoch 2 word acc 480 = 0.9643527269363403\n",
      "\n",
      "epoch 2 char loss 480 = 0.011773031204938889\n",
      "epoch 2 char acc 480 = 0.9793621301651001\n",
      "\n",
      "epoch 2 meta loss 480 = 0.04815899580717087\n",
      "epoch 2 meta acc 480 = 0.9821763634681702\n",
      "\n"
     ]
    },
    {
     "name": "stderr",
     "output_type": "stream",
     "text": [
      "541it [02:55,  2.99it/s]"
     ]
    },
    {
     "name": "stdout",
     "output_type": "stream",
     "text": [
      "epoch 2 word loss 540 = 0.11158145219087601\n",
      "epoch 2 word acc 540 = 0.9670996069908142\n",
      "\n",
      "epoch 2 char loss 540 = 0.015222154557704926\n",
      "epoch 2 char acc 540 = 0.9688311815261841\n",
      "\n",
      "epoch 2 meta loss 540 = 0.050513800233602524\n",
      "epoch 2 meta acc 540 = 0.9835498332977295\n",
      "\n"
     ]
    },
    {
     "name": "stderr",
     "output_type": "stream",
     "text": [
      "601it [03:15,  3.19it/s]"
     ]
    },
    {
     "name": "stdout",
     "output_type": "stream",
     "text": [
      "epoch 2 word loss 600 = 0.11751706898212433\n",
      "epoch 2 word acc 600 = 0.9625884890556335\n",
      "\n",
      "epoch 2 char loss 600 = 0.01375450287014246\n",
      "epoch 2 char acc 600 = 0.973710834980011\n",
      "\n",
      "epoch 2 meta loss 600 = 0.056778136640787125\n",
      "epoch 2 meta acc 600 = 0.9797775745391846\n",
      "\n"
     ]
    },
    {
     "name": "stderr",
     "output_type": "stream",
     "text": [
      "611it [03:18,  3.08it/s]\n",
      "  0%|          | 0/153 [00:00<?, ?it/s]"
     ]
    },
    {
     "name": "stdout",
     "output_type": "stream",
     "text": [
      "epoch 2 is finished, average word train loss = 0.12764216643649895\n",
      "epoch 2 is finished, average word train acc = 0.9614881709242413\n",
      "\n",
      "epoch 2 is finished, average char train loss = 0.014393527133911604\n",
      "epoch 2 is finished, average char train acc = 0.9724992878503378\n",
      "\n",
      "epoch 2 is finished, average meta train loss = 0.05481290502043871\n",
      "epoch 2 is finished, average meta train acc = 0.9813093602559766\n",
      "\n"
     ]
    },
    {
     "name": "stderr",
     "output_type": "stream",
     "text": [
      "100%|██████████| 153/153 [00:30<00:00,  5.08it/s]\n",
      "0it [00:00, ?it/s]"
     ]
    },
    {
     "name": "stdout",
     "output_type": "stream",
     "text": [
      "epoch 2 is finished, average word test loss = 0.23595935593243517\n",
      "epoch 2 is finished, average word test acc = 0.9208919682533913\n",
      "\n",
      "epoch 2 is finished, average char test loss = 0.01596490827577761\n",
      "epoch 2 is finished, average char test acc = 0.9687526494848961\n",
      "\n",
      "epoch 2 is finished, average meta test loss = 0.07672096124174548\n",
      "epoch 2 is finished, average meta test acc = 0.9735243519147238\n",
      "\n"
     ]
    },
    {
     "name": "stderr",
     "output_type": "stream",
     "text": [
      "\r",
      "1it [00:00,  2.86it/s]"
     ]
    },
    {
     "name": "stdout",
     "output_type": "stream",
     "text": [
      "epoch 3 word loss 0 = 0.11097750812768936\n",
      "epoch 3 word acc 0 = 0.9683257937431335\n",
      "\n",
      "epoch 3 char loss 0 = 0.013833433389663696\n",
      "epoch 3 char acc 0 = 0.9728506803512573\n",
      "\n",
      "epoch 3 meta loss 0 = 0.04565587267279625\n",
      "epoch 3 meta acc 0 = 0.9849170446395874\n",
      "\n"
     ]
    },
    {
     "name": "stderr",
     "output_type": "stream",
     "text": [
      "61it [00:19,  3.13it/s]"
     ]
    },
    {
     "name": "stdout",
     "output_type": "stream",
     "text": [
      "epoch 3 word loss 60 = 0.09677862375974655\n",
      "epoch 3 word acc 60 = 0.9721946120262146\n",
      "\n",
      "epoch 3 char loss 60 = 0.012216903269290924\n",
      "epoch 3 char acc 60 = 0.976166844367981\n",
      "\n",
      "epoch 3 meta loss 60 = 0.046059612184762955\n",
      "epoch 3 meta acc 60 = 0.9811320900917053\n",
      "\n"
     ]
    },
    {
     "name": "stderr",
     "output_type": "stream",
     "text": [
      "121it [00:39,  3.06it/s]"
     ]
    },
    {
     "name": "stdout",
     "output_type": "stream",
     "text": [
      "epoch 3 word loss 120 = 0.11268269270658493\n",
      "epoch 3 word acc 120 = 0.9680684804916382\n",
      "\n",
      "epoch 3 char loss 120 = 0.012140097096562386\n",
      "epoch 3 char acc 120 = 0.9766354560852051\n",
      "\n",
      "epoch 3 meta loss 120 = 0.04188806191086769\n",
      "epoch 3 meta acc 120 = 0.9875389337539673\n",
      "\n"
     ]
    },
    {
     "name": "stderr",
     "output_type": "stream",
     "text": [
      "181it [00:58,  3.10it/s]"
     ]
    },
    {
     "name": "stdout",
     "output_type": "stream",
     "text": [
      "epoch 3 word loss 180 = 0.12350314855575562\n",
      "epoch 3 word acc 180 = 0.9655781388282776\n",
      "\n",
      "epoch 3 char loss 180 = 0.012353509664535522\n",
      "epoch 3 char acc 180 = 0.9761694669723511\n",
      "\n",
      "epoch 3 meta loss 180 = 0.039754703640937805\n",
      "epoch 3 meta acc 180 = 0.9867607951164246\n",
      "\n"
     ]
    },
    {
     "name": "stderr",
     "output_type": "stream",
     "text": [
      "241it [01:17,  3.06it/s]"
     ]
    },
    {
     "name": "stdout",
     "output_type": "stream",
     "text": [
      "epoch 3 word loss 240 = 0.11014840751886368\n",
      "epoch 3 word acc 240 = 0.9659367203712463\n",
      "\n",
      "epoch 3 char loss 240 = 0.012584030628204346\n",
      "epoch 3 char acc 240 = 0.9789131879806519\n",
      "\n",
      "epoch 3 meta loss 240 = 0.04338362067937851\n",
      "epoch 3 meta acc 240 = 0.9886455535888672\n",
      "\n"
     ]
    },
    {
     "name": "stderr",
     "output_type": "stream",
     "text": [
      "301it [01:37,  3.18it/s]"
     ]
    },
    {
     "name": "stdout",
     "output_type": "stream",
     "text": [
      "epoch 3 word loss 300 = 0.11022290587425232\n",
      "epoch 3 word acc 300 = 0.9641434550285339\n",
      "\n",
      "epoch 3 char loss 300 = 0.011751827783882618\n",
      "epoch 3 char acc 300 = 0.9780876636505127\n",
      "\n",
      "epoch 3 meta loss 300 = 0.038973912596702576\n",
      "epoch 3 meta acc 300 = 0.9850597977638245\n",
      "\n"
     ]
    },
    {
     "name": "stderr",
     "output_type": "stream",
     "text": [
      "361it [01:56,  3.04it/s]"
     ]
    },
    {
     "name": "stdout",
     "output_type": "stream",
     "text": [
      "epoch 3 word loss 360 = 0.1524733453989029\n",
      "epoch 3 word acc 360 = 0.9624329209327698\n",
      "\n",
      "epoch 3 char loss 360 = 0.013996864669024944\n",
      "epoch 3 char acc 360 = 0.9695885181427002\n",
      "\n",
      "epoch 3 meta loss 360 = 0.05345655605196953\n",
      "epoch 3 meta acc 360 = 0.9776386022567749\n",
      "\n"
     ]
    },
    {
     "name": "stderr",
     "output_type": "stream",
     "text": [
      "421it [02:16,  3.20it/s]"
     ]
    },
    {
     "name": "stdout",
     "output_type": "stream",
     "text": [
      "epoch 3 word loss 420 = 0.10513348132371902\n",
      "epoch 3 word acc 420 = 0.9696707129478455\n",
      "\n",
      "epoch 3 char loss 420 = 0.012903694994747639\n",
      "epoch 3 char acc 420 = 0.9714038372039795\n",
      "\n",
      "epoch 3 meta loss 420 = 0.05032317712903023\n",
      "epoch 3 meta acc 420 = 0.9826689958572388\n",
      "\n"
     ]
    },
    {
     "name": "stderr",
     "output_type": "stream",
     "text": [
      "481it [02:35,  3.13it/s]"
     ]
    },
    {
     "name": "stdout",
     "output_type": "stream",
     "text": [
      "epoch 3 word loss 480 = 0.12933966517448425\n",
      "epoch 3 word acc 480 = 0.961376965045929\n",
      "\n",
      "epoch 3 char loss 480 = 0.01379797887057066\n",
      "epoch 3 char acc 480 = 0.971452534198761\n",
      "\n",
      "epoch 3 meta loss 480 = 0.04751523584127426\n",
      "epoch 3 meta acc 480 = 0.982367753982544\n",
      "\n"
     ]
    },
    {
     "name": "stderr",
     "output_type": "stream",
     "text": [
      "541it [02:55,  3.15it/s]"
     ]
    },
    {
     "name": "stdout",
     "output_type": "stream",
     "text": [
      "epoch 3 word loss 540 = 0.110652856528759\n",
      "epoch 3 word acc 540 = 0.9644013047218323\n",
      "\n",
      "epoch 3 char loss 540 = 0.01604500040411949\n",
      "epoch 3 char acc 540 = 0.9708738327026367\n",
      "\n",
      "epoch 3 meta loss 540 = 0.05345979705452919\n",
      "epoch 3 meta acc 540 = 0.9838188290596008\n",
      "\n"
     ]
    },
    {
     "name": "stderr",
     "output_type": "stream",
     "text": [
      "601it [03:15,  2.97it/s]"
     ]
    },
    {
     "name": "stdout",
     "output_type": "stream",
     "text": [
      "epoch 3 word loss 600 = 0.11416357010602951\n",
      "epoch 3 word acc 600 = 0.9641847014427185\n",
      "\n",
      "epoch 3 char loss 600 = 0.011961620301008224\n",
      "epoch 3 char acc 600 = 0.9726672768592834\n",
      "\n",
      "epoch 3 meta loss 600 = 0.05134877562522888\n",
      "epoch 3 meta acc 600 = 0.9811498522758484\n",
      "\n"
     ]
    },
    {
     "name": "stderr",
     "output_type": "stream",
     "text": [
      "611it [03:17,  3.09it/s]\n",
      "  0%|          | 0/153 [00:00<?, ?it/s]"
     ]
    },
    {
     "name": "stdout",
     "output_type": "stream",
     "text": [
      "epoch 3 is finished, average word train loss = 0.11708184292634458\n",
      "epoch 3 is finished, average word train acc = 0.965270262498122\n",
      "\n",
      "epoch 3 is finished, average char train loss = 0.01371854423421836\n",
      "epoch 3 is finished, average char train acc = 0.9740405403650724\n",
      "\n",
      "epoch 3 is finished, average meta train loss = 0.0507697811206946\n",
      "epoch 3 is finished, average meta train acc = 0.9827208975528149\n",
      "\n"
     ]
    },
    {
     "name": "stderr",
     "output_type": "stream",
     "text": [
      "100%|██████████| 153/153 [00:30<00:00,  5.08it/s]"
     ]
    },
    {
     "name": "stdout",
     "output_type": "stream",
     "text": [
      "epoch 3 is finished, average word test loss = 0.23388894710665434\n",
      "epoch 3 is finished, average word test acc = 0.9214384622044034\n",
      "\n",
      "epoch 3 is finished, average char test loss = 0.015820627563383455\n",
      "epoch 3 is finished, average char test acc = 0.9690123512074839\n",
      "\n",
      "epoch 3 is finished, average meta test loss = 0.07615234430124557\n",
      "epoch 3 is finished, average meta test acc = 0.9736163249981948\n",
      "\n"
     ]
    },
    {
     "name": "stderr",
     "output_type": "stream",
     "text": [
      "\n"
     ]
    }
   ],
   "source": [
    "from tqdm import tqdm\n",
    "\n",
    "for i in range(NUM_EPOCHS):\n",
    "    losses = {\n",
    "        \"char\": [],\n",
    "        \"word\": [],\n",
    "        \"meta\": [],\n",
    "    }\n",
    "    accs = {\n",
    "        \"char\": [],\n",
    "        \"word\": [],\n",
    "        \"meta\": [],\n",
    "    }\n",
    "    loss = {\n",
    "        \"char\": None,\n",
    "        \"word\": None,\n",
    "        \"meta\": None,\n",
    "    }\n",
    "    acc = {\n",
    "        \"char\": None,\n",
    "        \"word\": None,\n",
    "        \"meta\": None,\n",
    "    }\n",
    "    model.train()\n",
    "    for j, batch in tqdm(enumerate(train_dataloader)):\n",
    "        for optimizer in optimizers.values():\n",
    "            optimizer.zero_grad()\n",
    "        outputs = model(batch)\n",
    "        for model_name in model_names:\n",
    "            loss[model_name] = seq_loss(\n",
    "                outputs[model_name][\"logits\"], \n",
    "                outputs[model_name]['lens'], \n",
    "                batch['labels'].to(device)\n",
    "            )\n",
    "            loss[model_name].backward()\n",
    "            optimizers[model_name].step()\n",
    "            \n",
    "            acc[model_name] = calc_accuracy(\n",
    "                batch['word_idx'][0].to(device), \n",
    "                outputs[model_name]['logits'], \n",
    "                batch['labels'].to(device)\n",
    "            )\n",
    "            \n",
    "            losses[model_name].append(loss[model_name].item())\n",
    "            accs[model_name].append(float(acc[model_name]))\n",
    "            \n",
    "        \n",
    "        if j % 60 == 0:\n",
    "            for model_name in model_names:\n",
    "                print(f\"epoch {i} {model_name} loss {j} = {loss[model_name].item()}\")\n",
    "                print(f\"epoch {i} {model_name} acc {j} = {acc[model_name].item()}\\n\")\n",
    "    for model_name in model_names:\n",
    "        schedulers[model_name].step()\n",
    "        print(f\"epoch {i} is finished, average {model_name} train loss = {sum(losses[model_name]) / len(losses[model_name])}\")\n",
    "        print(f\"epoch {i} is finished, average {model_name} train acc = {sum(accs[model_name]) / len(accs[model_name])}\\n\")\n",
    "    \n",
    "    validate_model(model, test_dataloader)"
   ]
  },
  {
   "cell_type": "code",
   "execution_count": null,
   "metadata": {},
   "outputs": [],
   "source": []
  }
 ],
 "metadata": {
  "kernelspec": {
   "display_name": "Python 3",
   "language": "python",
   "name": "python3"
  },
  "language_info": {
   "codemirror_mode": {
    "name": "ipython",
    "version": 3
   },
   "file_extension": ".py",
   "mimetype": "text/x-python",
   "name": "python",
   "nbconvert_exporter": "python",
   "pygments_lexer": "ipython3",
   "version": "3.7.9"
  }
 },
 "nbformat": 4,
 "nbformat_minor": 4
}
