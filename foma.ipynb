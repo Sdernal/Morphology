{
 "cells": [
  {
   "cell_type": "markdown",
   "metadata": {},
   "source": [
    "### Задание 1\n",
    "\n",
    "Написать преобразователь, который ставит слова cat и bus в единственное и множественное число.\n",
    "<code>\n",
    "cat[Sg] -> cat\n",
    "bus[Sg] -> bus\n",
    "cat[Pl] -> cats\n",
    "bus[Pl] -> buses\n",
    "</code>"
   ]
  },
  {
   "cell_type": "markdown",
   "metadata": {},
   "source": [
    "```bash\n",
    "define input [[c a t]|[b u s]] [[\"[Pl]\":[0 \"+\" 0 s]]|[\"[Sg]\":0]];\n",
    "define pluralize \"+\" -> e || s _ s   .o.  \"+\" -> 0;\n",
    "regex input .o. pluralize;\n",
    "```"
   ]
  },
  {
   "cell_type": "markdown",
   "metadata": {},
   "source": [
    "### Задание 2\n",
    "\n",
    "Написать преобразователь для синтеза существительных множественного числа как в презентации."
   ]
  },
  {
   "cell_type": "markdown",
   "metadata": {},
   "source": [
    "```bash\n",
    "define input [[t o r c h]|[a l l y]|[c a t]|[g o o s e]|[f o r m u l a]] [[\"[Pl]\":[0 \"+\" 0 s]]|[\"[Sg]\":0]];\n",
    "\n",
    "define addEs \"+\" -> e || s | c h | s h | z | x _ s; \n",
    "define addIes y \"+\" -> i e || _ s;\n",
    "define addS \"+\" -> 0 ||  b | c | d | f | g | j | k | l | m | n | p | r | t | v | w _ s;\n",
    "define except1 o o -> e e || g _ s e \"+\" .o. \"+\" s -> 0 || g e e s e;\n",
    "define except2 [..] -> e || l a _;\n",
    "\n",
    "regex input .o. addEs .o. addIes .o. addS .o. except1 .o. except2;\n",
    "```"
   ]
  }
 ],
 "metadata": {
  "kernelspec": {
   "display_name": "Python 3",
   "language": "python",
   "name": "python3"
  },
  "language_info": {
   "codemirror_mode": {
    "name": "ipython",
    "version": 3
   },
   "file_extension": ".py",
   "mimetype": "text/x-python",
   "name": "python",
   "nbconvert_exporter": "python",
   "pygments_lexer": "ipython3",
   "version": "3.9.0"
  }
 },
 "nbformat": 4,
 "nbformat_minor": 4
}
