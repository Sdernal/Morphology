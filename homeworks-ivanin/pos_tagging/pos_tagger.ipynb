{
 "cells": [
  {
   "cell_type": "code",
   "execution_count": 11,
   "metadata": {},
   "outputs": [],
   "source": [
    "!pip install allennlp==0.9.0"
   ]
  },
  {
   "cell_type": "code",
   "execution_count": null,
   "metadata": {},
   "outputs": [],
   "source": [
    "!mkdir data"
   ]
  },
  {
   "cell_type": "code",
   "execution_count": null,
   "metadata": {},
   "outputs": [],
   "source": [
    "!wget 'data/ud-treebanks-v2.3/UD_English-EWT/en_ewt-ud-train.conllu'\n",
    "!mv en_ewt-ud-train.conllu data/en_ewt-ud-train.conllu\n",
    "!wget 'data/ud-treebanks-v2.3/UD_English-EWT/en_ewt-ud-dev.conllu'\n",
    "!mv en_ewt-ud-dev.conllu data/en_ewt-ud-dev.conllu\n",
    "!wget 'data/ud-treebanks-v2.3/UD_English-EWT/en_ewt-ud-test.conllu'\n",
    "!mv en_ewt-ud-test.conllu data/en_ewt-ud-test.conllu"
   ]
  },
  {
   "cell_type": "code",
   "execution_count": 1,
   "metadata": {},
   "outputs": [],
   "source": [
    "for file in [\"train\", \"dev\", \"test\"]:\n",
    "    with open(f'data/en_ewt-ud-{file}.conllu') as f:\n",
    "        data = f.readlines()\n",
    "    outlines = []\n",
    "    for line in data:\n",
    "        if line[0] == '#':\n",
    "            continue\n",
    "        if line[0] == '\\n':\n",
    "            outlines.append(line)\n",
    "        else:\n",
    "            arr = line.split('\\t')\n",
    "            outlines.append(f\"{arr[1]}\\t{arr[3]}\\tNone\\tNone\\n\")\n",
    "    with open(f'data/{file}.pos', 'w') as f:\n",
    "        f.writelines(outlines)"
   ]
  },
  {
   "cell_type": "code",
   "execution_count": 14,
   "metadata": {},
   "outputs": [],
   "source": [
    "!allennlp train -s log simple_tagger_pos.json"
   ]
  },
  {
   "cell_type": "code",
   "execution_count": 1,
   "metadata": {},
   "outputs": [
    {
     "name": "stderr",
     "output_type": "stream",
     "text": [
      "_jsonnet not loaded, treating C:\\Users\\allok\\AppData\\Local\\Temp\\tmp8naf111b\\config.json as json\n"
     ]
    }
   ],
   "source": [
    "from tqdm import tqdm as tqdm\n",
    "from allennlp.data import DatasetReader\n",
    "from allennlp.models.archival import load_archive\n",
    "\n",
    "pos_tagger = load_archive('log/model.tar.gz', 0)"
   ]
  },
  {
   "cell_type": "code",
   "execution_count": 4,
   "metadata": {},
   "outputs": [
    {
     "name": "stderr",
     "output_type": "stream",
     "text": [
      "C:\\Users\\allok\\anaconda3\\envs\\nlp\\lib\\site-packages\\allennlp\\data\\token_indexers\\token_characters_indexer.py:56: UserWarning: You are using the default value (0) of `min_padding_length`, which can cause some subtle bugs (more info see https://github.com/allenai/allennlp/issues/1954). Strongly recommend to set a value, usually the maximum size of the convolutional layer size when using CnnEncoder.\n",
      "  UserWarning)\n"
     ]
    }
   ],
   "source": [
    "pos_tagger.model.eval()\n",
    "dataset_reader_params = pos_tagger.config[\"dataset_reader\"]\n",
    "dataset_reader = DatasetReader.from_params(dataset_reader_params)"
   ]
  },
  {
   "cell_type": "code",
   "execution_count": 2,
   "metadata": {},
   "outputs": [],
   "source": [
    "sentence = \"In God we trust !\"\n",
    "with open(\"test.txt\", \"w\") as f:\n",
    "    for word in sentence.split():\n",
    "        f.write(f\"{word}\\tPUNCT\\tNone\\tNone\\n\")"
   ]
  },
  {
   "cell_type": "code",
   "execution_count": 6,
   "metadata": {},
   "outputs": [
    {
     "name": "stderr",
     "output_type": "stream",
     "text": [
      "1it [00:00, ?it/s]\n"
     ]
    }
   ],
   "source": [
    "test = dataset_reader.read(\"test.txt\")\n",
    "result = pos_tagger.model.forward_on_instance(test[0])"
   ]
  },
  {
   "cell_type": "code",
   "execution_count": 7,
   "metadata": {},
   "outputs": [
    {
     "data": {
      "text/plain": [
       "['In', 'God', 'we', 'trust', '!']"
      ]
     },
     "execution_count": 7,
     "metadata": {},
     "output_type": "execute_result"
    }
   ],
   "source": [
    "result['words']"
   ]
  },
  {
   "cell_type": "code",
   "execution_count": 8,
   "metadata": {},
   "outputs": [
    {
     "data": {
      "text/plain": [
       "['ADP', 'PROPN', 'PRON', 'VERB', 'PUNCT']"
      ]
     },
     "execution_count": 8,
     "metadata": {},
     "output_type": "execute_result"
    }
   ],
   "source": [
    "result['tags']"
   ]
  },
  {
   "cell_type": "code",
   "execution_count": null,
   "metadata": {},
   "outputs": [],
   "source": []
  }
 ],
 "metadata": {
  "kernelspec": {
   "display_name": "Python (nlp)",
   "language": "python",
   "name": "ex"
  },
  "language_info": {
   "codemirror_mode": {
    "name": "ipython",
    "version": 3
   },
   "file_extension": ".py",
   "mimetype": "text/x-python",
   "name": "python",
   "nbconvert_exporter": "python",
   "pygments_lexer": "ipython3",
   "version": "3.7.1"
  }
 },
 "nbformat": 4,
 "nbformat_minor": 4
}
