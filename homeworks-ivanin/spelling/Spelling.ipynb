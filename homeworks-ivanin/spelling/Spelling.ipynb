{
 "cells": [
  {
   "cell_type": "markdown",
   "metadata": {},
   "source": [
    "# Морфология 2\n",
    "В данном ноутбуке находится задание на триграммы и словарь. В качестве текста будем использовать томик войны и мира: https://goo.gl/qcVTLE \n",
    "\n",
    "Для начала напомним некоторые полезные инструменты на питоне"
   ]
  },
  {
   "cell_type": "markdown",
   "metadata": {},
   "source": [
    "## 1. Инструменты"
   ]
  },
  {
   "cell_type": "markdown",
   "metadata": {},
   "source": [
    "### 1.1. Регулярные выражения\n",
    "Исчерпывающий пост https://habr.com/ru/post/349860/"
   ]
  },
  {
   "cell_type": "code",
   "execution_count": 114,
   "metadata": {},
   "outputs": [
    {
     "name": "stdout",
     "output_type": "stream",
     "text": [
      "Находим числа в строке:  ['49', '432']\n",
      "Простенький токенизатор:  ['How', 'to', 'split', 'text']\n",
      "Еще один токенизатор:  ['How', 'to', 'split', 'text', 'Again']\n",
      "Русский токенизатор: ['Русский', 'алфавит']\n"
     ]
    }
   ],
   "source": [
    "import re\n",
    "import numpy as np\n",
    "from collections import Counter\n",
    "import itertools\n",
    "from itertools import product\n",
    "\n",
    "\n",
    "# С помощью рег. выражения можно искать, заменять и сентезировать строки по шаблонам\n",
    "# Парочка простых примеров\n",
    "numbers = re.findall(r'\\d+', r'There is some numbers: 49 and 432')\n",
    "print (u'Находим числа в строке: ', numbers)\n",
    "\n",
    "print ( u'Простенький токенизатор: ', re.sub('[,\\.?!]',' ','How, to? split. text!').split())\n",
    "\n",
    "print (u'Еще один токенизатор: ', re.split(r'\\W+', 'How, to? split. text! Again'))\n",
    "\n",
    "# в качестве тренировки придумайте свой токенизатор в случае, когда из текста нужно получить только русские слова.\n",
    "print(u'Русский токенизатор:', re.sub(r'[^А-я]', ' ', 'Русский алфавит english 12345 -&!?').split())"
   ]
  },
  {
   "cell_type": "markdown",
   "metadata": {},
   "source": [
    "### 1.2. Чтение файлов\n",
    "Чтобы не мучится самим с кодировками, приведем способ чтения файла корпуса."
   ]
  },
  {
   "cell_type": "code",
   "execution_count": 77,
   "metadata": {},
   "outputs": [],
   "source": [
    "import io\n",
    "wordlilist = None\n",
    "with io.open('wp.txt', \"r\", encoding='utf-8') as text_file:\n",
    "    text = text_file.read()\n",
    "    wordlist = re.sub(r'[^А-я]', ' ', text.lower()).split()"
   ]
  },
  {
   "cell_type": "markdown",
   "metadata": {},
   "source": [
    "### 1.3. ООП\n",
    "В питоне можно создавать свои классы, скорее всего нам понадобится класс для хранения бора"
   ]
  },
  {
   "cell_type": "code",
   "execution_count": 96,
   "metadata": {},
   "outputs": [],
   "source": [
    "class Node:\n",
    "\n",
    "    def __init__(self, char):\n",
    "        self.char = char\n",
    "        self.children = {}\n",
    "        \n",
    "        self.end_flg = False\n",
    "\n",
    "class Trie(object):\n",
    "    def __init__(self):\n",
    "        self.root = Node(\"\")\n",
    "    \n",
    "    def insert(self, word):\n",
    "        node = self.root\n",
    "        \n",
    "        for char in word:\n",
    "            if char in node.children:\n",
    "                node = node.children[char]\n",
    "            else:\n",
    "                new_node = Node(char)\n",
    "                node.children[char] = new_node\n",
    "                node = new_node\n",
    "        \n",
    "        node.end_flg = True\n",
    "\n",
    "    def depth_search(self, node, curr_word, word, counter, mistakes):\n",
    "        \n",
    "        if counter + 1 > len(word):\n",
    "            return\n",
    "         \n",
    "        curr_word = curr_word + node.char\n",
    "        if word[counter] != node.char:\n",
    "            mistakes += 1\n",
    "\n",
    "        counter += 1\n",
    "            \n",
    "        if node.end_flg:\n",
    "            compl_mist=0\n",
    "            if len(word) > len(curr_word):\n",
    "                compl_mist += mistakes + len(word) - len(curr_word)\n",
    "            else:\n",
    "                compl_mist = mistakes\n",
    "                \n",
    "            self.output.append([curr_word, compl_mist])\n",
    "        for child in node.children.values():\n",
    "            self.depth_search(child, curr_word, word, counter, mistakes)\n",
    "        \n",
    "    def correction(self, word):\n",
    "        '''\n",
    "        word: word to correct form\n",
    "        '''\n",
    "        self.output = []\n",
    "\n",
    "        for child in self.root.children.values():\n",
    "            self.depth_search(child, '', word, 0, 0)\n",
    "            \n",
    "        retult_arr = np.array(self.output)\n",
    "        if retult_arr.shape[0]== 0:\n",
    "            return retult_arr\n",
    "        else:\n",
    "            retult_arr = retult_arr[retult_arr[:,1].argsort()]\n",
    "            \n",
    "            return retult_arr"
   ]
  },
  {
   "cell_type": "code",
   "execution_count": 97,
   "metadata": {},
   "outputs": [
    {
     "data": {
      "text/plain": [
       "array(['лошадь', '2'], dtype='<U6')"
      ]
     },
     "execution_count": 97,
     "metadata": {},
     "output_type": "execute_result"
    }
   ],
   "source": [
    "# test on a simple example\n",
    "t = Trie()\n",
    "t.insert(\"лошадь\")\n",
    "t.insert(\"лодка\")\n",
    "t.insert(\"слон\")\n",
    "t.insert(\"лодья\")\n",
    "t.correction(\"лошадка\")[0]"
   ]
  },
  {
   "cell_type": "markdown",
   "metadata": {},
   "source": [
    "### 1.4. pyplot\n",
    "Довольно часто приходится построить какие-нибудт графики и гистограммы для изучения данных, с которыми придется работать. Для этого в питоне есть удобнейший модуль для этого - pyplot. Туториал: https://matplotlib.org/3.1.1/tutorials/introductory/pyplot.html"
   ]
  },
  {
   "cell_type": "code",
   "execution_count": 13,
   "metadata": {},
   "outputs": [],
   "source": [
    "#!pip install matplotlib # Установка модуля\n",
    "import matplotlib.pyplot as plt\n",
    "# команда чтобы картинки рисовались прямо в ноутбуке\n",
    "%matplotlib inline "
   ]
  },
  {
   "cell_type": "code",
   "execution_count": 14,
   "metadata": {},
   "outputs": [
    {
     "data": {
      "text/plain": [
       "[<matplotlib.lines.Line2D at 0x17994c262c8>]"
      ]
     },
     "execution_count": 14,
     "metadata": {},
     "output_type": "execute_result"
    },
    {
     "data": {
      "image/png": "[encoded data removed]",
      "text/plain": [
       "<Figure size 432x288 with 1 Axes>"
      ]
     },
     "metadata": {
      "needs_background": "light"
     },
     "output_type": "display_data"
    }
   ],
   "source": [
    "# Посмотрим на график функции x^2\n",
    "data = [i * i for i in range(100)]\n",
    "plt.plot(data)"
   ]
  },
  {
   "cell_type": "code",
   "execution_count": 15,
   "metadata": {},
   "outputs": [
    {
     "data": {
      "text/plain": [
       "(array([32., 13., 10.,  8.,  8.,  6.,  6.,  6.,  5.,  6.]),\n",
       " array([   0. ,  980.1, 1960.2, 2940.3, 3920.4, 4900.5, 5880.6, 6860.7,\n",
       "        7840.8, 8820.9, 9801. ]),\n",
       " <BarContainer object of 10 artists>)"
      ]
     },
     "execution_count": 15,
     "metadata": {},
     "output_type": "execute_result"
    },
    {
     "data": {
      "image/png": "[encoded data removed]",
      "text/plain": [
       "<Figure size 432x288 with 1 Axes>"
      ]
     },
     "metadata": {
      "needs_background": "light"
     },
     "output_type": "display_data"
    }
   ],
   "source": [
    "# и распределение по значениям\n",
    "plt.hist(data)"
   ]
  },
  {
   "cell_type": "markdown",
   "metadata": {},
   "source": [
    "Также полезная команда для подсчета времения выполнеия в ячейке"
   ]
  },
  {
   "cell_type": "code",
   "execution_count": 16,
   "metadata": {},
   "outputs": [
    {
     "name": "stdout",
     "output_type": "stream",
     "text": [
      "Wall time: 8.6 s\n"
     ]
    }
   ],
   "source": [
    "%%time\n",
    "res = 0\n",
    "for i in range(int(1e8)):\n",
    "    res += 1"
   ]
  },
  {
   "cell_type": "markdown",
   "metadata": {},
   "source": [
    "## 2. Задание\n",
    "Собственно теперь нам потребуется написать подсчет триграмм и бор для словаря, чтобы реализовать простенькую систему исправления ошибок."
   ]
  },
  {
   "cell_type": "markdown",
   "metadata": {},
   "source": [
    "### 2.1. Триграммы\n",
    "Для начала получим словарь триграмма - её кол-во в тексте, не забывая о начале и конце слова.\n",
    "\n",
    "Далее можно построить гистограмму на кол-во вхождений триграмм, и посмотреть самые частые и какая частота у каких-нибудь заведомо странных, например: 'чгк', 'шкя' и подобные. Из полученных данных придумать эвристику, как считать слово с опечаткой. Проверить эвристику по словарю."
   ]
  },
  {
   "cell_type": "code",
   "execution_count": 32,
   "metadata": {},
   "outputs": [],
   "source": [
    "def corpus_trigrams(word_list):\n",
    "    '''returns trigrams count dictionary'''\n",
    "    gram_arr = []\n",
    "\n",
    "    for i in range(len(word_list)):\n",
    "        gram_arr.append(word_list[i][0])\n",
    "        gram_arr.append(word_list[i][:2])\n",
    "        \n",
    "        for j in range (len(word_list[i])):\n",
    "            gram_arr.append( word_list[i][j:j+3])\n",
    "\n",
    "    result = dict(Counter(gram_arr))\n",
    "    return result"
   ]
  },
  {
   "cell_type": "code",
   "execution_count": 33,
   "metadata": {},
   "outputs": [],
   "source": [
    "simple_test = ['кактус', 'матрешка']"
   ]
  },
  {
   "cell_type": "code",
   "execution_count": 34,
   "metadata": {},
   "outputs": [
    {
     "data": {
      "text/plain": [
       "{'к': 1,\n",
       " 'ка': 2,\n",
       " 'как': 1,\n",
       " 'акт': 1,\n",
       " 'кту': 1,\n",
       " 'тус': 1,\n",
       " 'ус': 1,\n",
       " 'с': 1,\n",
       " 'м': 1,\n",
       " 'ма': 1,\n",
       " 'мат': 1,\n",
       " 'атр': 1,\n",
       " 'тре': 1,\n",
       " 'реш': 1,\n",
       " 'ешк': 1,\n",
       " 'шка': 1,\n",
       " 'а': 1}"
      ]
     },
     "execution_count": 34,
     "metadata": {},
     "output_type": "execute_result"
    }
   ],
   "source": [
    "corpus_trigrams(simple_test)"
   ]
  },
  {
   "cell_type": "code",
   "execution_count": 35,
   "metadata": {},
   "outputs": [],
   "source": [
    "dict_war_trigramm = corpus_trigrams(wordlist)"
   ]
  },
  {
   "cell_type": "code",
   "execution_count": 48,
   "metadata": {},
   "outputs": [],
   "source": [
    "def proc_dict(word_dict):\n",
    "    '''Delete 10% of most rare three-grams.'''\n",
    "    num_elem = int(0.1 * len(word_dict))\n",
    "    sorted_word_dict = {k: v for k, v in sorted(word_dict.items(), key=lambda item: item[1])}\n",
    "    \n",
    "    res_dict = {}\n",
    "    \n",
    "    for key in sorted_word_dict:\n",
    "        num_elem -= 1\n",
    "        if num_elem<0:\n",
    "            res_dict[key] = word_dict[key]\n",
    "            \n",
    "    return res_dict"
   ]
  },
  {
   "cell_type": "code",
   "execution_count": 49,
   "metadata": {},
   "outputs": [],
   "source": [
    "dict_war_trigramm_proc = proc_dict(dict_war_trigramm)"
   ]
  },
  {
   "cell_type": "code",
   "execution_count": 59,
   "metadata": {},
   "outputs": [],
   "source": [
    "def is_error(word):\n",
    "    '''is the word with mistake'''\n",
    "    \n",
    "    for j in range (len(word)):\n",
    "        tgram = word[j:j+3]\n",
    "        if tgram not in dict_war_trigramm_proc:\n",
    "            return True\n",
    "    return False"
   ]
  },
  {
   "cell_type": "code",
   "execution_count": 60,
   "metadata": {},
   "outputs": [
    {
     "data": {
      "text/plain": [
       "False"
      ]
     },
     "execution_count": 60,
     "metadata": {},
     "output_type": "execute_result"
    }
   ],
   "source": [
    "is_error('ложка')"
   ]
  },
  {
   "cell_type": "code",
   "execution_count": 61,
   "metadata": {},
   "outputs": [
    {
     "data": {
      "text/plain": [
       "True"
      ]
     },
     "execution_count": 61,
     "metadata": {},
     "output_type": "execute_result"
    }
   ],
   "source": [
    "is_error('лошка')"
   ]
  },
  {
   "cell_type": "markdown",
   "metadata": {},
   "source": [
    "### 2.2. Бор\n",
    "Далее построим бор, с помощью которого будем искать исправления опечатки в слове. Пока только в случае замены и удаления в конце (Если есть желание, то можно и для всех случаев). Также сравнить по времени с поиском в случае замены в исходном слове последних двух символов и поиске в словаре."
   ]
  },
  {
   "cell_type": "code",
   "execution_count": 98,
   "metadata": {},
   "outputs": [],
   "source": [
    "trie_dict = Trie()\n",
    "\n",
    "for word in wordlist:\n",
    "    trie_dict.insert(word)"
   ]
  },
  {
   "cell_type": "code",
   "execution_count": 101,
   "metadata": {},
   "outputs": [],
   "source": [
    "def correct_word(word):\n",
    "    '''returns most similar word from dictionary'''\n",
    "    result = trie_dict.correction(word)[0][0]\n",
    "    return result "
   ]
  },
  {
   "cell_type": "code",
   "execution_count": 106,
   "metadata": {},
   "outputs": [
    {
     "data": {
      "text/plain": [
       "'лишь'"
      ]
     },
     "execution_count": 106,
     "metadata": {},
     "output_type": "execute_result"
    }
   ],
   "source": [
    "correct_word('лошь') # понятно, что в данном случае ошибка скорее всего была в слове \"ложь\", но так как мы не уитывали\n",
    "                    # дополнительные параметры, то такой вариант тоже приемлем"
   ]
  },
  {
   "cell_type": "code",
   "execution_count": 107,
   "metadata": {},
   "outputs": [
    {
     "data": {
      "text/plain": [
       "'солнце'"
      ]
     },
     "execution_count": 107,
     "metadata": {},
     "output_type": "execute_result"
    }
   ],
   "source": [
    "correct_word('салнце') "
   ]
  },
  {
   "cell_type": "code",
   "execution_count": 109,
   "metadata": {},
   "outputs": [
    {
     "data": {
      "text/plain": [
       "1072"
      ]
     },
     "execution_count": 109,
     "metadata": {},
     "output_type": "execute_result"
    }
   ],
   "source": [
    "a = ord('а')\n",
    "a"
   ]
  },
  {
   "cell_type": "code",
   "execution_count": 111,
   "metadata": {},
   "outputs": [
    {
     "data": {
      "text/plain": [
       "'абвгдежзийклмнопрстуфхцчшщъыьэюя'"
      ]
     },
     "execution_count": 111,
     "metadata": {},
     "output_type": "execute_result"
    }
   ],
   "source": [
    "alp_str = ''.join([chr(i) for i in range(a,a+32)])\n",
    "alp_str"
   ]
  },
  {
   "cell_type": "code",
   "execution_count": 115,
   "metadata": {},
   "outputs": [],
   "source": [
    "   def correct_word_naive(word):\n",
    "    '''correct word using generation'''\n",
    "        \n",
    "    abc = 'абвгдежзийклмнопрстуфхцчшщъыьэюя'\n",
    "    combinations = [''.join(i) for i in product(alp_str, repeat = 2)]\n",
    "    words_to_check = []\n",
    "    for comb in combinations:\n",
    "        cur_word = word[:-2] + comb\n",
    "        if cur_word in wordlist:\n",
    "            return cur_word"
   ]
  },
  {
   "cell_type": "code",
   "execution_count": 119,
   "metadata": {},
   "outputs": [
    {
     "data": {
      "text/plain": [
       "'дождя'"
      ]
     },
     "execution_count": 119,
     "metadata": {},
     "output_type": "execute_result"
    }
   ],
   "source": [
    "correct_word_naive('дожyi')"
   ]
  },
  {
   "cell_type": "markdown",
   "metadata": {},
   "source": [
    "### 2.3 Все вместе\n",
    "Теперь соберем поиск и исправление опечаток в одну систему, которая будет принимать текст и править его. Также замерим скорость по сравнению с \"менее наивным подходом\"."
   ]
  },
  {
   "cell_type": "code",
   "execution_count": 125,
   "metadata": {},
   "outputs": [],
   "source": [
    "def correct_mistakes(text):\n",
    "    '''returns corrected text'''\n",
    "    text = text\n",
    "    text_arr = re.sub(r'[^А-я]', ' ', text.lower()).split()\n",
    "    correct_text = []\n",
    "    for i in range(len(text_arr)):\n",
    "        correct_text.append(correct_word(text_arr[i]))\n",
    "        \n",
    "    return ' '.join(correct_text)\n",
    "\n",
    "def correct_mistakes_naive(text):\n",
    "    '''returns corrected text using generation'''\n",
    "    text_arr = re.sub(r'[^А-я]', ' ', text.lower()).split()\n",
    "    correct_text = []\n",
    "    for i in range(len(text_arr)):\n",
    "        correct_text.append(correct_word_naive(text_arr[i]))        \n",
    "    return ' '.join(correct_text)"
   ]
  },
  {
   "cell_type": "code",
   "execution_count": 129,
   "metadata": {},
   "outputs": [],
   "source": [
    "simple_test = 'Дожшь, нево, солнсе'"
   ]
  },
  {
   "cell_type": "code",
   "execution_count": 130,
   "metadata": {},
   "outputs": [
    {
     "name": "stdout",
     "output_type": "stream",
     "text": [
      "Wall time: 88 ms\n"
     ]
    },
    {
     "data": {
      "text/plain": [
       "'поешь ново солнце'"
      ]
     },
     "execution_count": 130,
     "metadata": {},
     "output_type": "execute_result"
    }
   ],
   "source": [
    "%%time\n",
    "correct_mistakes(simple_test)"
   ]
  },
  {
   "cell_type": "code",
   "execution_count": 131,
   "metadata": {},
   "outputs": [
    {
     "name": "stdout",
     "output_type": "stream",
     "text": [
      "Wall time: 2.91 s\n"
     ]
    },
    {
     "data": {
      "text/plain": [
       "'дождя неба солнца'"
      ]
     },
     "execution_count": 131,
     "metadata": {},
     "output_type": "execute_result"
    }
   ],
   "source": [
    "%%time\n",
    "correct_mistakes_naive(simple_test)"
   ]
  },
  {
   "cell_type": "code",
   "execution_count": null,
   "metadata": {},
   "outputs": [],
   "source": []
  }
 ],
 "metadata": {
  "kernelspec": {
   "display_name": "Python 3",
   "language": "python",
   "name": "python3"
  },
  "language_info": {
   "codemirror_mode": {
    "name": "ipython",
    "version": 3
   },
   "file_extension": ".py",
   "mimetype": "text/x-python",
   "name": "python",
   "nbconvert_exporter": "python",
   "pygments_lexer": "ipython3",
   "version": "3.8.3"
  }
 },
 "nbformat": 4,
 "nbformat_minor": 4
}
