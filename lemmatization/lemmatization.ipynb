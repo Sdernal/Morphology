{
  "nbformat": 4,
  "nbformat_minor": 0,
  "metadata": {
    "colab": {
      "name": "ABBYY_lemmatization.ipynb",
      "provenance": [],
      "collapsed_sections": [],
      "toc_visible": true
    },
    "kernelspec": {
      "name": "python3",
      "display_name": "Python 3"
    },
    "accelerator": "GPU"
  },
  "cells": [
    {
      "cell_type": "code",
      "metadata": {
        "id": "Pd3J2HY_qH-j",
        "colab": {
          "base_uri": "https://localhost:8080/"
        },
        "outputId": "1863363b-4dd3-40f8-f54a-4d92590d6cb5"
      },
      "source": [
        "import torch\n",
        "from torch import nn\n",
        "from torch import optim\n",
        "\n",
        "import numpy as np\n",
        "from numpy import random\n",
        "import re\n",
        "import time\n",
        "\n",
        "!pip install conllu\n",
        "import conllu"
      ],
      "execution_count": null,
      "outputs": [
        {
          "output_type": "stream",
          "text": [
            "Collecting conllu\n",
            "  Downloading https://files.pythonhosted.org/packages/e4/81/6a0166de55990d32ac4dd8375c83d918486ea2a3ef9036f39620f5bf7f94/conllu-4.3-py2.py3-none-any.whl\n",
            "Installing collected packages: conllu\n",
            "Successfully installed conllu-4.3\n"
          ],
          "name": "stdout"
        }
      ]
    },
    {
      "cell_type": "code",
      "metadata": {
        "id": "jhpBo-WmIo2M"
      },
      "source": [
        "import matplotlib\n",
        "matplotlib.rcParams.update({'figure.figsize': (16, 12), 'font.size': 14})\n",
        "import matplotlib.pyplot as plt\n",
        "%matplotlib inline\n",
        "from IPython.display import clear_output"
      ],
      "execution_count": null,
      "outputs": []
    },
    {
      "cell_type": "markdown",
      "metadata": {
        "id": "XKjrEjE7bYsW"
      },
      "source": [
        "# Model Implementation"
      ]
    },
    {
      "cell_type": "markdown",
      "metadata": {
        "id": "R1BxMlgmkKJo"
      },
      "source": [
        "За основу взята модель из статьи [UNIVERSAL LEMMATIZER: A SEQUENCE TO SEQUENCE MODEL FOR LEMMATIZING UNIVERSAL DEPENDENCIES TREEBANKS](https://arxiv.org/pdf/1902.00972.pdf)."
      ]
    },
    {
      "cell_type": "code",
      "metadata": {
        "id": "wTkFfZLR2Gye"
      },
      "source": [
        "class Masking(nn.Module):\n",
        "  def __init__(self, list_of_characters, max_len=20):\n",
        "    self.chars = list(list_of_characters)\n",
        "    self.size_vocab = len(self.chars) + 1\n",
        "    self.max_len = max_len\n",
        "  \n",
        "  def split_elem(self, input_string):\n",
        "    return [i for i in input_string]\n",
        "  \n",
        "  def mask_elem(self, input_string):\n",
        "    chars = self.split_elem(input_string)\n",
        "    chars = chars[:self.max_len]\n",
        "    res = np.zeros(self.max_len) + len(self.chars)\n",
        "    for ind, char in enumerate(chars):\n",
        "      try:\n",
        "        ind_char = self.chars.index(char)\n",
        "      except:\n",
        "        ind_char = len(self.chars)\n",
        "      res[ind] = ind_char\n",
        "    return res\n",
        "  \n",
        "  def mask_batch(self, strings):\n",
        "    res = []\n",
        "    for input_string in strings:\n",
        "      res += [self.mask_elem(input_string)]\n",
        "    res = np.array(res)\n",
        "    res = torch.tensor(res).to(torch.int64)\n",
        "    return res\n",
        "  \n",
        "  def unmask_elem(self, ind_list):\n",
        "    out = \"\"\n",
        "    for ind in ind_list:\n",
        "      if ind < len(self.chars):\n",
        "        out += self.chars[int(ind)]\n",
        "    return out\n",
        "\n",
        "  def unmask_batch(self, input_lists):\n",
        "    res = []\n",
        "    for ind_list in input_lists:\n",
        "      res += [self.unmask_elem(ind_list)]\n",
        "    return res"
      ],
      "execution_count": null,
      "outputs": []
    },
    {
      "cell_type": "code",
      "metadata": {
        "id": "pwkeY60k6HLx"
      },
      "source": [
        "class Encoder(nn.Module):\n",
        "    def __init__(self, input_dim, emb_dim, hid_dim, n_layers,\n",
        "                 dropout=0.2,\n",
        "                 bidirectional=True):\n",
        "        super().__init__()\n",
        "        \n",
        "        self.input_dim = input_dim\n",
        "        self.emb_dim = emb_dim\n",
        "        self.hid_dim = hid_dim\n",
        "        self.n_layers = n_layers\n",
        "        \n",
        "        self.embedding = nn.Embedding(input_dim, emb_dim)\n",
        "        self.rnn = nn.LSTM(emb_dim,\n",
        "                           hid_dim,\n",
        "                           n_layers,\n",
        "                           dropout=dropout,\n",
        "                           bidirectional=bidirectional)\n",
        "        self.dropout = nn.Dropout(p=dropout)\n",
        "        \n",
        "    def forward(self, src):\n",
        "        embedded = self.dropout(self.embedding(src))\n",
        "        output, (hidden, cell) = self.rnn(embedded)\n",
        "        return output, (hidden, cell)\n",
        "    \n",
        "    \n",
        "class DecoderWithAttention(nn.Module):\n",
        "    def __init__(self, output_dim, emb_dim, enc_hid_dim, dec_hid_dim, n_layers,\n",
        "                 dropout,\n",
        "                 attention, device):\n",
        "        super().__init__()\n",
        "\n",
        "        self.emb_dim = emb_dim\n",
        "        self.enc_hid_dim = enc_hid_dim\n",
        "        self.dec_hid_dim = dec_hid_dim\n",
        "        self.output_dim = output_dim\n",
        "        self.attention = attention\n",
        "        \n",
        "        self.embedding = nn.Embedding(output_dim, emb_dim)\n",
        "        self.rnn = nn.LSTM(emb_dim + 2 * self.enc_hid_dim,\n",
        "                           dec_hid_dim,\n",
        "                           n_layers ,\n",
        "                           dropout=dropout,\n",
        "                           bidirectional=False)\n",
        "        \n",
        "        self.out = nn.Linear(dec_hid_dim, output_dim)\n",
        "        self.device = device\n",
        "        \n",
        "        self.dropout = nn.Dropout(dropout)\n",
        "        \n",
        "    def forward(self, input, hidden, encoder_outputs, prev_out):\n",
        "        input = input.unsqueeze(0)\n",
        "        embedded = self.dropout(self.embedding(input))\n",
        "\n",
        "        if prev_out is None:\n",
        "          prev_out = torch.zeros(size=(1, input.shape[1], 2 * self.enc_hid_dim))\n",
        "        prev_out = prev_out.to(self.device)\n",
        "        emb = torch.cat([prev_out, embedded], dim=-1)\n",
        "        output, hidden = self.rnn(emb, hidden)\n",
        "        \n",
        "        attn = self.attention(output, encoder_outputs)\n",
        "        prev_out = attn\n",
        "        attn_emb = torch.cat([attn, output], dim=-1)\n",
        "        prediction = self.out(output.squeeze(0))\n",
        "        return prediction, hidden, prev_out\n",
        "\n",
        "class Seq2Seq(nn.Module):\n",
        "    def __init__(self, encoder, decoder, device):\n",
        "        super().__init__()\n",
        "        self.encoder = encoder\n",
        "        self.decoder = decoder\n",
        "        self.device = device\n",
        "        self.start = None\n",
        "\n",
        "        \n",
        "    def forward(self, src, trg=None, teacher_forcing_ratio = 0):\n",
        "        src = src.permute(1, 0)\n",
        "        if trg is not None:\n",
        "          trg = trg.permute(1, 0)\n",
        "        batch_size = src.shape[1]\n",
        "        max_len = src.shape[0]\n",
        "        trg_vocab_size = self.decoder.output_dim\n",
        "\n",
        "        outputs = torch.zeros(max_len, batch_size, trg_vocab_size).to(self.device)\n",
        "        \n",
        "        enc_states, hidden = self.encoder(src)\n",
        "        \n",
        "        if trg is not None:\n",
        "          input = trg[0,:]\n",
        "          self.start = input\n",
        "        else:\n",
        "          input = torch.zeros(batch_size).to(torch.int64).to(self.device)\n",
        "        prev_out = None\n",
        "        \n",
        "        for t in range(1, max_len):\n",
        "            output, hidden, prev_out = self.decoder(input, hidden, enc_states, prev_out)\n",
        "            outputs[t] = output\n",
        "            teacher_force = random.random() < teacher_forcing_ratio\n",
        "            top1 = output.max(1)[1]\n",
        "            input = (trg[t] if teacher_force else top1)\n",
        "        return outputs"
      ],
      "execution_count": null,
      "outputs": []
    },
    {
      "cell_type": "code",
      "metadata": {
        "id": "G6zyX7B1LYtU"
      },
      "source": [
        "class Attention(nn.Module):\n",
        "    def __init__(self, enc_dim, dec_dim, dim, attention_type='general'):\n",
        "        super(Attention, self).__init__()\n",
        "\n",
        "        if attention_type not in ['dot', 'general']:\n",
        "            raise ValueError('Invalid attention type selected.')\n",
        "\n",
        "        self.attention_type = attention_type\n",
        "        if self.attention_type == 'general':\n",
        "            self.linear_in = nn.Linear(dim, 1, bias=False)\n",
        "\n",
        "        self.linear_out = nn.Linear(2 * enc_dim + dec_dim, dim, bias=False)\n",
        "        self.softmax = nn.Softmax(dim=-1)\n",
        "        self.tanh = nn.Tanh()\n",
        "\n",
        "    def forward(self, query, context):\n",
        "        batch_size, output_len, dimensions = query.size()\n",
        "        query_len = context.size(1)\n",
        "\n",
        "        scores = None\n",
        "        for i in range(len(context)):\n",
        "          z = torch.cat([query[0], context[i]], dim=-1)\n",
        "          z = self.linear_out(z)\n",
        "          score_new = self.linear_in(self.tanh(z))\n",
        "          if scores is None:\n",
        "            scores = score_new\n",
        "          else:\n",
        "            scores = torch.cat([scores, score_new], dim=-1)\n",
        "        a_t = self.softmax(scores)\n",
        "        output = None\n",
        "        for i in range(len(context)):\n",
        "          cur = context[i] * a_t[:, i].view(-1, 1)\n",
        "          if output is None:\n",
        "            output = cur\n",
        "          else:\n",
        "            output += cur\n",
        "        return output.view(1, output.shape[0], output.shape[1])"
      ],
      "execution_count": null,
      "outputs": []
    },
    {
      "cell_type": "code",
      "metadata": {
        "id": "Ap6n8V6DLhvY"
      },
      "source": [
        "def train(model, train_src, train_trg, batch_size, optimizer, criterion, clip, device, train_history=None, valid_history=None):\n",
        "    model.train()\n",
        "    model.to(device)\n",
        "    \n",
        "    epoch_loss = 0\n",
        "    history = []\n",
        "    indexes = [i for i in range(len(train_src))]\n",
        "    indexes = np.random.permutation(indexes)\n",
        "    indexes = np.array_split(indexes, len(indexes) // batch_size)\n",
        "    for i, idx in enumerate(indexes):\n",
        "        src = train_src[idx].to(device)\n",
        "        trg = train_trg[idx].to(device)\n",
        "        \n",
        "        optimizer.zero_grad()\n",
        "        \n",
        "        output = model(src, trg).to(device)\n",
        "        output = output.view(-1, output.shape[-1])\n",
        "        trg = trg.view(-1)\n",
        "        \n",
        "        loss = criterion(output, trg)\n",
        "        loss.backward()        \n",
        "        torch.nn.utils.clip_grad_norm_(model.parameters(), clip)\n",
        "        optimizer.step()\n",
        "\n",
        "        epoch_loss += loss.item()\n",
        "        history.append(loss.cpu().data.numpy())\n",
        "        if (i+1)%10==0:\n",
        "            fig, ax = plt.subplots(nrows=1, ncols=2, figsize=(12, 8))\n",
        "\n",
        "            clear_output(True)\n",
        "            ax[0].plot(history, label='train loss')\n",
        "            ax[0].set_xlabel('Batch')\n",
        "            ax[0].set_title('Train loss')\n",
        "            if train_history is not None:\n",
        "                ax[1].plot(train_history, label='general train history')\n",
        "                ax[1].set_xlabel('Epoch')\n",
        "            if valid_history is not None:\n",
        "                ax[1].plot(valid_history, label='general valid history')\n",
        "            plt.legend()\n",
        "            \n",
        "            plt.show()        \n",
        "    return epoch_loss / len(indexes)\n",
        "  \n",
        "def evaluate(model, val_src, val_trg, batch_size, device, criterion):\n",
        "    \n",
        "    model.eval()\n",
        "    \n",
        "    epoch_loss = 0\n",
        "    \n",
        "    history = []\n",
        "    \n",
        "    with torch.no_grad():\n",
        "            indexes = [i for i in range(len(val_trg))]\n",
        "            indexes = np.random.permutation(indexes)\n",
        "            indexes = np.array_split(indexes, len(indexes) // batch_size)\n",
        "            for idx in indexes:\n",
        "                src = val_src[idx].to(device)\n",
        "                trg = val_trg[idx].to(device)\n",
        "                output = model(src, None, 0)\n",
        "                output = output[1:].view(-1, output.shape[-1])\n",
        "                trg = trg[:, 1:].contiguous()\n",
        "                trg = trg.view(-1)\n",
        "                loss = criterion(output, trg)\n",
        "                epoch_loss += loss.item()\n",
        "    return epoch_loss / len(indexes)\n",
        "\n",
        "def epoch_time(start_time, end_time):\n",
        "    elapsed_time = end_time - start_time\n",
        "    elapsed_mins = int(elapsed_time / 60)\n",
        "    elapsed_secs = int(elapsed_time - (elapsed_mins * 60))\n",
        "    return elapsed_mins, elapsed_secs"
      ],
      "execution_count": null,
      "outputs": []
    },
    {
      "cell_type": "markdown",
      "metadata": {
        "id": "ZbBC7dIabdGV"
      },
      "source": [
        "# Dataset Preprocessing"
      ]
    },
    {
      "cell_type": "code",
      "metadata": {
        "id": "vbdqNL7LfAiB",
        "colab": {
          "base_uri": "https://localhost:8080/"
        },
        "outputId": "716b3c8d-db37-4496-94ca-4641b7181765"
      },
      "source": [
        "with open(\"ru_syntagrus-ud-dev.conllu\", 'r') as f:\n",
        "    data = f.read()\n",
        "train_sentences = conllu.parse(data)\n",
        "len(train_sentences)"
      ],
      "execution_count": null,
      "outputs": [
        {
          "output_type": "execute_result",
          "data": {
            "text/plain": [
              "6584"
            ]
          },
          "metadata": {
            "tags": []
          },
          "execution_count": 7
        }
      ]
    },
    {
      "cell_type": "code",
      "metadata": {
        "id": "bbCQ8zSQV7TK"
      },
      "source": [
        "START_TOKEN = \"<\"\n",
        "END_TOKEN = \">\"\n",
        "rus_re = re.compile(r'[а-яА-ЯёЁ]+')\n",
        "def extract_sequence(target, sentence, morph=False, use_context=True):\n",
        "  out = []\n",
        "  for ind, token in enumerate(sentence):\n",
        "    if rus_re.fullmatch(token['form']):\n",
        "      if ind == target:\n",
        "        out += [START_TOKEN]\n",
        "        out += [i for i in token[\"form\"].lower()]\n",
        "        out += [END_TOKEN]\n",
        "      elif use_context:\n",
        "        out += [i for i in token[\"form\"].lower()]\n",
        "      if ind < len(sentence) and use_context:\n",
        "        out += [\" \"]\n",
        "  if morph:\n",
        "    out += [\".\"]\n",
        "    if \"feats\" in sentence[target] and sentence[target][\"feats\"] is not None:\n",
        "      for key in sentence[target][\"feats\"]:\n",
        "        out += [key+\"=\"+sentence[target][\"feats\"][key]]\n",
        "    if \"upos\" in sentence[target] and sentence[target][\"upos\"] is not None:\n",
        "      out += [\"upos\" + sentence[target][\"upos\"]]\n",
        "  return out\n",
        "\n",
        "def get_dataset(sentences, use_context=True, morph=False):\n",
        "  src = []\n",
        "  trg = []\n",
        "  for sentence in sentences:\n",
        "    for ind, token in enumerate(sentence):\n",
        "      if rus_re.fullmatch(token['form']) and token['lemma'] is not None:\n",
        "        src.append(extract_sequence(ind, sentence, morph=morph, use_context=use_context))\n",
        "        trg.append([i for i in token['lemma'].lower()])\n",
        "  return src, trg"
      ],
      "execution_count": null,
      "outputs": []
    },
    {
      "cell_type": "markdown",
      "metadata": {
        "id": "hXPaolyq-KDY"
      },
      "source": [
        "Будем учить лемму на основе словоформы."
      ]
    },
    {
      "cell_type": "code",
      "metadata": {
        "id": "FwOyDXvG3h0g"
      },
      "source": [
        "src, trg = get_dataset(train_sentences[:20000], use_context=True, morph=False)\n",
        "src1, trg1 = [], []\n",
        "for ind, i in enumerate(src):\n",
        "  if len(i) <= 80:\n",
        "    src1.append(i)\n",
        "    trg1.append(trg[ind])\n",
        "src, trg = src1, trg1"
      ],
      "execution_count": null,
      "outputs": []
    },
    {
      "cell_type": "code",
      "metadata": {
        "id": "83vaTJkk3jM6"
      },
      "source": [
        "list_of_chars = [\"<s>\"] + list(np.unique(list(set().union(*(src + trg))) ))\n",
        "trg = [[\"<s>\"] + i for i in trg]"
      ],
      "execution_count": null,
      "outputs": []
    },
    {
      "cell_type": "code",
      "metadata": {
        "colab": {
          "base_uri": "https://localhost:8080/"
        },
        "id": "hswHynYm9EWW",
        "outputId": "3342dd02-a03d-45ca-b722-0b8b3aa83ed4"
      },
      "source": [
        "mask = Masking(list_of_chars, max_len=80)\n",
        "train_src = mask.mask_batch(src)\n",
        "train_trg = mask.mask_batch(trg)\n",
        "train_src.shape, mask.size_vocab"
      ],
      "execution_count": null,
      "outputs": [
        {
          "output_type": "execute_result",
          "data": {
            "text/plain": [
              "(torch.Size([21385, 80]), 39)"
            ]
          },
          "metadata": {
            "tags": []
          },
          "execution_count": 14
        }
      ]
    },
    {
      "cell_type": "code",
      "metadata": {
        "id": "KCZIUvIW-l9Z"
      },
      "source": [
        "input_dim = mask.size_vocab\n",
        "emb_dim = 100\n",
        "enc_hid_dim = 100\n",
        "n_layers = 2\n",
        "output_dim = mask.size_vocab\n",
        "dec_hid_dim = enc_hid_dim\n",
        "\n",
        "device = torch.device(\"cuda:0\")\n",
        "attention = Attention(enc_hid_dim, dec_hid_dim, 100)\n",
        "encoder = Encoder(input_dim, emb_dim, hid_dim=enc_hid_dim, n_layers=n_layers,\n",
        "                 dropout=0.1,\n",
        "                 bidirectional=True)\n",
        "decoder = DecoderWithAttention(output_dim, emb_dim, enc_hid_dim=enc_hid_dim,\n",
        "                               n_layers=n_layers * 2,\n",
        "                               dec_hid_dim=dec_hid_dim,\n",
        "                               dropout=0.1,\n",
        "                               attention=attention, device=device)\n",
        "lemmatizer = Seq2Seq(encoder, decoder, device).to(device)"
      ],
      "execution_count": 20,
      "outputs": []
    },
    {
      "cell_type": "code",
      "metadata": {
        "id": "NeDdtAbl-vTH"
      },
      "source": [
        "criterion = nn.CrossEntropyLoss()\n",
        "\n",
        "BATCH_SIZE = 128\n",
        "optimizer = optim.Adam(lemmatizer.parameters(), lr=1e-3)"
      ],
      "execution_count": 21,
      "outputs": []
    },
    {
      "cell_type": "markdown",
      "metadata": {
        "id": "qMtg8x6njkzg"
      },
      "source": [
        "Выберем последние 2000 сэмплов за тест, а 3000 сэмплов перед этим на валидацию."
      ]
    },
    {
      "cell_type": "code",
      "metadata": {
        "colab": {
          "base_uri": "https://localhost:8080/",
          "height": 513
        },
        "id": "n1EsFH_Z9RNg",
        "outputId": "35541f3d-f161-4143-860f-d97714c65b5d"
      },
      "source": [
        "%matplotlib inline\n",
        "train_history = []\n",
        "valid_history = []\n",
        "\n",
        "N_EPOCHS = 3\n",
        "CLIP = 1\n",
        "\n",
        "best_valid_loss = float('inf')\n",
        "valid_loss = 0\n",
        "for epoch in range(N_EPOCHS):\n",
        "    \n",
        "    start_time = time.time()\n",
        "    \n",
        "    train_loss = train(lemmatizer, train_src[:-5000], train_trg[:-5000], BATCH_SIZE, optimizer, criterion, CLIP, device, train_history, valid_history)\n",
        "    \n",
        "    end_time = time.time()\n",
        "    \n",
        "    epoch_mins, epoch_secs = epoch_time(start_time, end_time)\n",
        "    valid_loss = evaluate(lemmatizer, train_src[-5000:-2000], train_trg[-5000:-2000], BATCH_SIZE, device, criterion)\n",
        "\n",
        "    if valid_loss < best_valid_loss:\n",
        "        best_valid_loss = valid_loss\n",
        "        torch.save(lemmatizer.state_dict(), 'model.pt')\n",
        "    \n",
        "    train_history.append(train_loss)\n",
        "    valid_history.append(valid_loss)\n",
        "    print(f'Epoch: {epoch+1:02} | Time: {epoch_mins}m {epoch_secs}s')\n",
        "    print(f'\\tTrain Loss: {train_loss:.3f} | Train PPL: {np.exp(train_loss):7.3f}')\n",
        "    print(f'\\t Val. Loss: {valid_loss:.3f} |  Val. PPL: {np.exp(valid_loss):7.3f}')"
      ],
      "execution_count": null,
      "outputs": [
        {
          "output_type": "display_data",
          "data": {
            "image/png": "[encoded data removed]",
            "text/plain": [
              "<Figure size 864x576 with 2 Axes>"
            ]
          },
          "metadata": {
            "tags": [],
            "needs_background": "light"
          }
        }
      ]
    },
    {
      "cell_type": "code",
      "metadata": {
        "id": "0QL3DmFS3RJt"
      },
      "source": [
        ""
      ],
      "execution_count": null,
      "outputs": []
    }
  ]
}