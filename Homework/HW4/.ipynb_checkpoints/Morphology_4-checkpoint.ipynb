{
 "cells": [
  {
   "cell_type": "code",
   "execution_count": 0,
   "metadata": {
    "colab": {},
    "colab_type": "code",
    "id": "8vrG-pHHBKW5"
   },
   "outputs": [],
   "source": [
    "import pandas as pd\n",
    "import numpy as np"
   ]
  },
  {
   "cell_type": "code",
   "execution_count": 0,
   "metadata": {
    "colab": {},
    "colab_type": "code",
    "id": "TIv906W_BKYI"
   },
   "outputs": [],
   "source": [
    "from collections import namedtuple\n",
    "WordPos = namedtuple(\"WordPos\", \"word pos\")\n",
    "\n",
    "def get_sentences(filename, is_train=True):\n",
    "    sentences = []\n",
    "    with open(filename, \"r\", encoding='utf-8') as r:\n",
    "        next(r)\n",
    "        sentence = []\n",
    "        for line in r:\n",
    "            if len(line.strip()) == 0:\n",
    "                if len(sentence) == 0:\n",
    "                    continue\n",
    "                sentences.append(sentence)\n",
    "                sentence = []\n",
    "                continue\n",
    "            if is_train:\n",
    "                word = line.strip().split(\"\\t\")[2]\n",
    "                pos = line.strip().split(\"\\t\")[3].split(\"#\")[0]\n",
    "                sentence.append(WordPos(word, pos))\n",
    "        if len(sentence) != 0:\n",
    "            sentences.append(sentence)\n",
    "    return sentences\n",
    "\n",
    "all_sentences = get_sentences('train.csv')"
   ]
  },
  {
   "cell_type": "code",
   "execution_count": 0,
   "metadata": {
    "colab": {},
    "colab_type": "code",
    "id": "5YNKBjAUBKYl",
    "scrolled": true
   },
   "outputs": [],
   "source": [
    "data = []\n",
    "\n",
    "num_tag = 0\n",
    "num_word = 0\n",
    "word_to_ix = {}\n",
    "tag_to_ix = {}\n",
    "\n",
    "for i in range(len(all_sentences)):\n",
    "    sent_tag = []\n",
    "    sent_word = []\n",
    "    for j in range(len(all_sentences[i])):\n",
    "        word = all_sentences[i][j][0].lower()\n",
    "        tag = all_sentences[i][j][1]\n",
    "        sent_word.append(word)\n",
    "        sent_tag.append(tag)\n",
    "        if word not in word_to_ix:\n",
    "            word_to_ix[word] = num_word\n",
    "            num_word += 1\n",
    "        if tag not in tag_to_ix:\n",
    "            tag_to_ix[tag] = num_tag\n",
    "            num_tag += 1\n",
    "    data.append((sent_word, sent_tag))"
   ]
  },
  {
   "cell_type": "code",
   "execution_count": 65,
   "metadata": {
    "colab": {
     "base_uri": "https://localhost:8080/",
     "height": 34
    },
    "colab_type": "code",
    "id": "78N6mPqWBKY1",
    "outputId": "ef7e4175-82e8-4f68-83f9-7a89d0aabdf5",
    "scrolled": true
   },
   "outputs": [
    {
     "name": "stdout",
     "output_type": "stream",
     "text": [
      "[43353, 2409, 2409]\n"
     ]
    }
   ],
   "source": [
    "size = len(data)\n",
    "train_data = data[:int(size * 0.9)]\n",
    "valid_data = data[int(size * 0.9):int(size * 0.95)]\n",
    "test_data = data[int(size * 0.95):]\n",
    "print(list(map(len, [train_data, valid_data, test_data])))"
   ]
  },
  {
   "cell_type": "code",
   "execution_count": 0,
   "metadata": {
    "colab": {},
    "colab_type": "code",
    "id": "dVc6XfyXBKZ0"
   },
   "outputs": [],
   "source": [
    "import torch\n",
    "import torch.nn as nn\n",
    "import torch.nn.functional as F\n",
    "import torch.optim as optim\n",
    "from torchtext.data import Field, BucketIterator\n",
    "import torchtext\n",
    "import random\n",
    "\n",
    "SEED = 1234\n",
    "\n",
    "random.seed(SEED)\n",
    "torch.manual_seed(SEED)\n",
    "torch.backends.cudnn.deterministic = True"
   ]
  },
  {
   "cell_type": "code",
   "execution_count": 0,
   "metadata": {
    "colab": {},
    "colab_type": "code",
    "id": "Bcyi0GUARUYy"
   },
   "outputs": [],
   "source": [
    "SRC = Field()\n",
    "TAG = Field()\n",
    "device = torch.device('cuda' if torch.cuda.is_available() else 'cpu')\n",
    "\n",
    "# my_data = torchtext.data.Dataset(data, fields=(('src', SRC), ('tag', TAG)))\n",
    "# train, test, valid = torchtext.data.Iterator.splits((train_data, valid_data, test_data), batch_sizes=(32, 32, 32),\n",
    "#                                                     sort_key=lambda x: len(x.SRC), device=device)"
   ]
  },
  {
   "cell_type": "code",
   "execution_count": 0,
   "metadata": {
    "colab": {},
    "colab_type": "code",
    "id": "If-k9IZ6RUY4"
   },
   "outputs": [],
   "source": [
    "text = [sent for sent, tags in train_data]\n",
    "tags = [tags for sent, tags in train_data]\n",
    "\n",
    "SRC.build_vocab(text, min_freq=10)\n",
    "TAG.build_vocab(tags)"
   ]
  },
  {
   "cell_type": "code",
   "execution_count": 69,
   "metadata": {
    "colab": {
     "base_uri": "https://localhost:8080/",
     "height": 34
    },
    "colab_type": "code",
    "id": "zGm9X4qGRUY-",
    "outputId": "3426e0ab-9fd7-4350-beea-3a22ff8da979",
    "scrolled": false
   },
   "outputs": [
    {
     "data": {
      "text/plain": [
       "(['<unk>', '<pad>', ',', '.', 'в', 'и', '\"', '-', 'на', 'не'], 8061)"
      ]
     },
     "execution_count": 69,
     "metadata": {
      "tags": []
     },
     "output_type": "execute_result"
    }
   ],
   "source": [
    "SRC.vocab.itos[:10], len(SRC.vocab.itos)"
   ]
  },
  {
   "cell_type": "code",
   "execution_count": 70,
   "metadata": {
    "colab": {
     "base_uri": "https://localhost:8080/",
     "height": 364
    },
    "colab_type": "code",
    "id": "DEOzUVIFRUZH",
    "outputId": "c7aecd38-0a70-4353-f61f-338a3e673505",
    "scrolled": false
   },
   "outputs": [
    {
     "data": {
      "text/plain": [
       "(['<unk>',\n",
       "  '<pad>',\n",
       "  'NOUN',\n",
       "  'PUNCT',\n",
       "  'VERB',\n",
       "  'ADJ',\n",
       "  'ADP',\n",
       "  'ADV',\n",
       "  'PROPN',\n",
       "  'PRON',\n",
       "  'CONJ',\n",
       "  'PART',\n",
       "  'DET',\n",
       "  'SCONJ',\n",
       "  'NUM',\n",
       "  'AUX',\n",
       "  'X',\n",
       "  'INTJ',\n",
       "  'SYM'],\n",
       " 19)"
      ]
     },
     "execution_count": 70,
     "metadata": {
      "tags": []
     },
     "output_type": "execute_result"
    }
   ],
   "source": [
    "TAG.vocab.itos, len(TAG.vocab.itos)"
   ]
  },
  {
   "cell_type": "code",
   "execution_count": 0,
   "metadata": {
    "colab": {},
    "colab_type": "code",
    "id": "vt8AeghCBKat"
   },
   "outputs": [],
   "source": [
    "class PosTagger(nn.Module):\n",
    "\n",
    "    def __init__(self, embedding_dim, hidden_dim, vocab_size, tagset_size):\n",
    "        super().__init__()\n",
    "        \n",
    "        \n",
    "        self.hidden_dim = hidden_dim\n",
    "        self.embeddings = nn.Embedding(vocab_size, embedding_dim)\n",
    "\n",
    "        self.rnn = nn.LSTM(embedding_dim, hidden_dim)\n",
    "        self.tag = nn.Linear(hidden_dim, tagset_size)\n",
    "\n",
    "    def forward(self, sent):\n",
    "        embedded = self.embeddings(sent)\n",
    "        output, _ = self.rnn(embedded.view(len(sent), 1, -1))\n",
    "        tag = self.tag(output.view(len(sent), -1))\n",
    "        tag_scores = F.log_softmax(tag, dim=1)\n",
    "        \n",
    "        return tag_scores"
   ]
  },
  {
   "cell_type": "code",
   "execution_count": 0,
   "metadata": {
    "colab": {},
    "colab_type": "code",
    "id": "cLYqusTORUZW",
    "scrolled": true
   },
   "outputs": [],
   "source": [
    "def create_vector(field, sent):\n",
    "    vector = [field.vocab.stoi[elem] for elem in sent]\n",
    "    return torch.tensor(vector, dtype=torch.long, device=device)"
   ]
  },
  {
   "cell_type": "code",
   "execution_count": 0,
   "metadata": {
    "colab": {},
    "colab_type": "code",
    "id": "K02gTQnBBKbO"
   },
   "outputs": [],
   "source": [
    "from tqdm import tqdm_notebook\n",
    "\n",
    "EMBEDDING_DIM = 32\n",
    "HIDDEN_DIM = 32\n",
    "INPUT_DIM = len(SRC.vocab)\n",
    "OUTPUT_DIM = len(TAG.vocab)\n",
    "\n",
    "model = PosTagger(EMBEDDING_DIM, HIDDEN_DIM, INPUT_DIM, OUTPUT_DIM).to(device)\n",
    "loss_function = nn.NLLLoss()\n",
    "optimizer = optim.SGD(model.parameters(), lr=0.1)"
   ]
  },
  {
   "cell_type": "code",
   "execution_count": 0,
   "metadata": {
    "colab": {},
    "colab_type": "code",
    "id": "MIvzyGwXUx2d"
   },
   "outputs": [],
   "source": [
    "def accuracy_score(test_data, model):\n",
    "    true_pred = 0.0\n",
    "    all_pred = 0.0\n",
    "\n",
    "    for sent in test_data:\n",
    "        words, tags = sent\n",
    "        with torch.no_grad():\n",
    "            inputs = create_vector(SRC, words)\n",
    "            outputs = create_vector(TAG, tags).cpu().numpy()\n",
    "            tag_scores = model(inputs)\n",
    "            predict_tags = torch.max(tag_scores, dim=1)[1].cpu().numpy()\n",
    "\n",
    "        true_pred += np.sum(outputs == predict_tags)\n",
    "        all_pred += len(words)\n",
    "        #print(np.sum(outputs == predict_tags), len(words))\n",
    "    return round(true_pred / all_pred * 100, 3)\n"
   ]
  },
  {
   "cell_type": "code",
   "execution_count": 75,
   "metadata": {
    "colab": {
     "base_uri": "https://localhost:8080/",
     "height": 34
    },
    "colab_type": "code",
    "id": "SkzCpwvaWUYP",
    "outputId": "8292f5d8-aaa7-47d6-a6f9-9507b1a6b018"
   },
   "outputs": [
    {
     "data": {
      "text/plain": [
       "2409"
      ]
     },
     "execution_count": 75,
     "metadata": {
      "tags": []
     },
     "output_type": "execute_result"
    }
   ],
   "source": [
    "len(valid_data)"
   ]
  },
  {
   "cell_type": "code",
   "execution_count": 82,
   "metadata": {
    "colab": {
     "base_uri": "https://localhost:8080/",
     "height": 374,
     "referenced_widgets": [
      "52765f73d7df4261a38044232a89e079",
      "ab4cef919dcc41688e3213b60885e912",
      "569f4c0c1e1f4c7290012a6dfe1de93e",
      "579e0146e9224e259997a64b9ac46f22",
      "28dce965754d4fd08ce7ed8019be0fe2",
      "0626296f1d814fa893bae865f42a98da",
      "504b0ba7204b4621a4bcf8ea15fc09e4",
      "e2fe9da112874b50b6ec8edef79a4f22",
      "03593e17be1d4cf890ee043894ebbd4b",
      "92c3d4f9dbf9466aa0c2657be18e8f37",
      "7a41a06777ed4b68b559f57126f9a613",
      "a750f9927b5e41bcb848fc2dbb8e0e39",
      "28f48562126b4c3b836f701e07967a92",
      "90ff11a35f9e453ca416265d9485a6e2",
      "10589347b2724eb9a675ae607f1819f3",
      "0c0b396925d1487f8e2fd34f494a4bbc",
      "b56c249a7a5f455593e5d5ae6c2bd68a",
      "8ccbe01180af4df5939f4b7fb1361cac",
      "de4806b008794a4394adc624c880a9bf",
      "cf1fca828cfe4a76baa7050aa06d0cd8",
      "73fecbbfc7fd4be7b5daf4dc7fcc0816",
      "6f4bc3927f384e969de19b4328dfb3cf",
      "efd30b9799294ff9a5893b1a5ed58369",
      "30bca3d113704628b8d1c182506da8e2"
     ]
    },
    "colab_type": "code",
    "id": "Qv3BvmARFQcR",
    "outputId": "8e7a4891-bd31-4813-f9c3-d030cbe668a1"
   },
   "outputs": [
    {
     "data": {
      "application/vnd.jupyter.widget-view+json": {
       "model_id": "52765f73d7df4261a38044232a89e079",
       "version_major": 2,
       "version_minor": 0
      },
      "text/plain": [
       "HBox(children=(IntProgress(value=0, max=43353), HTML(value='')))"
      ]
     },
     "metadata": {
      "tags": []
     },
     "output_type": "display_data"
    },
    {
     "name": "stdout",
     "output_type": "stream",
     "text": [
      "Num of epoch=0, Valid Score=7.785\n",
      "Num of epoch=0, Valid Score=68.486\n",
      "Num of epoch=0, Valid Score=72.032\n",
      "Num of epoch=0, Valid Score=74.713\n",
      "Num of epoch=0, Valid Score=76.319\n"
     ]
    },
    {
     "data": {
      "application/vnd.jupyter.widget-view+json": {
       "model_id": "03593e17be1d4cf890ee043894ebbd4b",
       "version_major": 2,
       "version_minor": 0
      },
      "text/plain": [
       "HBox(children=(IntProgress(value=0, max=43353), HTML(value='')))"
      ]
     },
     "metadata": {
      "tags": []
     },
     "output_type": "display_data"
    },
    {
     "name": "stdout",
     "output_type": "stream",
     "text": [
      "Num of epoch=1, Valid Score=77.133\n",
      "Num of epoch=1, Valid Score=78.24\n",
      "Num of epoch=1, Valid Score=79.623\n",
      "Num of epoch=1, Valid Score=80.39\n",
      "Num of epoch=1, Valid Score=81.215\n"
     ]
    },
    {
     "data": {
      "application/vnd.jupyter.widget-view+json": {
       "model_id": "b56c249a7a5f455593e5d5ae6c2bd68a",
       "version_major": 2,
       "version_minor": 0
      },
      "text/plain": [
       "HBox(children=(IntProgress(value=0, max=43353), HTML(value='')))"
      ]
     },
     "metadata": {
      "tags": []
     },
     "output_type": "display_data"
    },
    {
     "name": "stdout",
     "output_type": "stream",
     "text": [
      "Num of epoch=2, Valid Score=81.678\n",
      "Num of epoch=2, Valid Score=82.133\n",
      "Num of epoch=2, Valid Score=82.743\n",
      "Num of epoch=2, Valid Score=83.155\n",
      "Num of epoch=2, Valid Score=83.696\n"
     ]
    }
   ],
   "source": [
    "for epoch in range(3):\n",
    "    for i in tqdm_notebook(range(len(train_data))):\n",
    "\n",
    "        sentence, tags = train_data[i]\n",
    "        model.zero_grad()\n",
    "\n",
    "        sentence = create_vector(SRC, sentence)\n",
    "        targets = create_vector(TAG, tags)\n",
    "        #print(targets)\n",
    "        #print(sentence)\n",
    "\n",
    "        #break\n",
    "        tag_scores = model(sentence)\n",
    "\n",
    "        loss = loss_function(tag_scores, targets)\n",
    "        loss.backward()\n",
    "        optimizer.step()\n",
    "    \n",
    "        if i % 10000 == 0:\n",
    "            print(f'Num of epoch={epoch}, Valid Score={accuracy_score(valid_data, model)}')\n",
    "    #break"
   ]
  },
  {
   "cell_type": "code",
   "execution_count": 83,
   "metadata": {
    "colab": {
     "base_uri": "https://localhost:8080/",
     "height": 34
    },
    "colab_type": "code",
    "id": "75Mb-4liJLnr",
    "outputId": "a73f178c-9645-4d70-ea10-81c48f389685"
   },
   "outputs": [
    {
     "data": {
      "text/plain": [
       "84.328"
      ]
     },
     "execution_count": 83,
     "metadata": {
      "tags": []
     },
     "output_type": "execute_result"
    }
   ],
   "source": [
    "accuracy_score(test_data, model)"
   ]
  }
 ],
 "metadata": {
  "accelerator": "GPU",
  "colab": {
   "collapsed_sections": [],
   "name": "Morphology 4.ipynb",
   "provenance": [],
   "toc_visible": true
  },
  "kernelspec": {
   "display_name": "Python 3",
   "language": "python",
   "name": "python3"
  },
  "language_info": {
   "codemirror_mode": {
    "name": "ipython",
    "version": 3
   },
   "file_extension": ".py",
   "mimetype": "text/x-python",
   "name": "python",
   "nbconvert_exporter": "python",
   "pygments_lexer": "ipython3",
   "version": "3.7.4"
  },
  "widgets": {
   "application/vnd.jupyter.widget-state+json": {
    "03593e17be1d4cf890ee043894ebbd4b": {
     "model_module": "@jupyter-widgets/controls",
     "model_name": "HBoxModel",
     "state": {
      "_dom_classes": [],
      "_model_module": "@jupyter-widgets/controls",
      "_model_module_version": "1.5.0",
      "_model_name": "HBoxModel",
      "_view_count": null,
      "_view_module": "@jupyter-widgets/controls",
      "_view_module_version": "1.5.0",
      "_view_name": "HBoxView",
      "box_style": "",
      "children": [
       "IPY_MODEL_7a41a06777ed4b68b559f57126f9a613",
       "IPY_MODEL_a750f9927b5e41bcb848fc2dbb8e0e39"
      ],
      "layout": "IPY_MODEL_92c3d4f9dbf9466aa0c2657be18e8f37"
     }
    },
    "0626296f1d814fa893bae865f42a98da": {
     "model_module": "@jupyter-widgets/base",
     "model_name": "LayoutModel",
     "state": {
      "_model_module": "@jupyter-widgets/base",
      "_model_module_version": "1.2.0",
      "_model_name": "LayoutModel",
      "_view_count": null,
      "_view_module": "@jupyter-widgets/base",
      "_view_module_version": "1.2.0",
      "_view_name": "LayoutView",
      "align_content": null,
      "align_items": null,
      "align_self": null,
      "border": null,
      "bottom": null,
      "display": null,
      "flex": null,
      "flex_flow": null,
      "grid_area": null,
      "grid_auto_columns": null,
      "grid_auto_flow": null,
      "grid_auto_rows": null,
      "grid_column": null,
      "grid_gap": null,
      "grid_row": null,
      "grid_template_areas": null,
      "grid_template_columns": null,
      "grid_template_rows": null,
      "height": null,
      "justify_content": null,
      "justify_items": null,
      "left": null,
      "margin": null,
      "max_height": null,
      "max_width": null,
      "min_height": null,
      "min_width": null,
      "object_fit": null,
      "object_position": null,
      "order": null,
      "overflow": null,
      "overflow_x": null,
      "overflow_y": null,
      "padding": null,
      "right": null,
      "top": null,
      "visibility": null,
      "width": null
     }
    },
    "0c0b396925d1487f8e2fd34f494a4bbc": {
     "model_module": "@jupyter-widgets/base",
     "model_name": "LayoutModel",
     "state": {
      "_model_module": "@jupyter-widgets/base",
      "_model_module_version": "1.2.0",
      "_model_name": "LayoutModel",
      "_view_count": null,
      "_view_module": "@jupyter-widgets/base",
      "_view_module_version": "1.2.0",
      "_view_name": "LayoutView",
      "align_content": null,
      "align_items": null,
      "align_self": null,
      "border": null,
      "bottom": null,
      "display": null,
      "flex": null,
      "flex_flow": null,
      "grid_area": null,
      "grid_auto_columns": null,
      "grid_auto_flow": null,
      "grid_auto_rows": null,
      "grid_column": null,
      "grid_gap": null,
      "grid_row": null,
      "grid_template_areas": null,
      "grid_template_columns": null,
      "grid_template_rows": null,
      "height": null,
      "justify_content": null,
      "justify_items": null,
      "left": null,
      "margin": null,
      "max_height": null,
      "max_width": null,
      "min_height": null,
      "min_width": null,
      "object_fit": null,
      "object_position": null,
      "order": null,
      "overflow": null,
      "overflow_x": null,
      "overflow_y": null,
      "padding": null,
      "right": null,
      "top": null,
      "visibility": null,
      "width": null
     }
    },
    "10589347b2724eb9a675ae607f1819f3": {
     "model_module": "@jupyter-widgets/controls",
     "model_name": "DescriptionStyleModel",
     "state": {
      "_model_module": "@jupyter-widgets/controls",
      "_model_module_version": "1.5.0",
      "_model_name": "DescriptionStyleModel",
      "_view_count": null,
      "_view_module": "@jupyter-widgets/base",
      "_view_module_version": "1.2.0",
      "_view_name": "StyleView",
      "description_width": ""
     }
    },
    "28dce965754d4fd08ce7ed8019be0fe2": {
     "model_module": "@jupyter-widgets/controls",
     "model_name": "ProgressStyleModel",
     "state": {
      "_model_module": "@jupyter-widgets/controls",
      "_model_module_version": "1.5.0",
      "_model_name": "ProgressStyleModel",
      "_view_count": null,
      "_view_module": "@jupyter-widgets/base",
      "_view_module_version": "1.2.0",
      "_view_name": "StyleView",
      "bar_color": null,
      "description_width": ""
     }
    },
    "28f48562126b4c3b836f701e07967a92": {
     "model_module": "@jupyter-widgets/controls",
     "model_name": "ProgressStyleModel",
     "state": {
      "_model_module": "@jupyter-widgets/controls",
      "_model_module_version": "1.5.0",
      "_model_name": "ProgressStyleModel",
      "_view_count": null,
      "_view_module": "@jupyter-widgets/base",
      "_view_module_version": "1.2.0",
      "_view_name": "StyleView",
      "bar_color": null,
      "description_width": ""
     }
    },
    "30bca3d113704628b8d1c182506da8e2": {
     "model_module": "@jupyter-widgets/base",
     "model_name": "LayoutModel",
     "state": {
      "_model_module": "@jupyter-widgets/base",
      "_model_module_version": "1.2.0",
      "_model_name": "LayoutModel",
      "_view_count": null,
      "_view_module": "@jupyter-widgets/base",
      "_view_module_version": "1.2.0",
      "_view_name": "LayoutView",
      "align_content": null,
      "align_items": null,
      "align_self": null,
      "border": null,
      "bottom": null,
      "display": null,
      "flex": null,
      "flex_flow": null,
      "grid_area": null,
      "grid_auto_columns": null,
      "grid_auto_flow": null,
      "grid_auto_rows": null,
      "grid_column": null,
      "grid_gap": null,
      "grid_row": null,
      "grid_template_areas": null,
      "grid_template_columns": null,
      "grid_template_rows": null,
      "height": null,
      "justify_content": null,
      "justify_items": null,
      "left": null,
      "margin": null,
      "max_height": null,
      "max_width": null,
      "min_height": null,
      "min_width": null,
      "object_fit": null,
      "object_position": null,
      "order": null,
      "overflow": null,
      "overflow_x": null,
      "overflow_y": null,
      "padding": null,
      "right": null,
      "top": null,
      "visibility": null,
      "width": null
     }
    },
    "504b0ba7204b4621a4bcf8ea15fc09e4": {
     "model_module": "@jupyter-widgets/controls",
     "model_name": "DescriptionStyleModel",
     "state": {
      "_model_module": "@jupyter-widgets/controls",
      "_model_module_version": "1.5.0",
      "_model_name": "DescriptionStyleModel",
      "_view_count": null,
      "_view_module": "@jupyter-widgets/base",
      "_view_module_version": "1.2.0",
      "_view_name": "StyleView",
      "description_width": ""
     }
    },
    "52765f73d7df4261a38044232a89e079": {
     "model_module": "@jupyter-widgets/controls",
     "model_name": "HBoxModel",
     "state": {
      "_dom_classes": [],
      "_model_module": "@jupyter-widgets/controls",
      "_model_module_version": "1.5.0",
      "_model_name": "HBoxModel",
      "_view_count": null,
      "_view_module": "@jupyter-widgets/controls",
      "_view_module_version": "1.5.0",
      "_view_name": "HBoxView",
      "box_style": "",
      "children": [
       "IPY_MODEL_569f4c0c1e1f4c7290012a6dfe1de93e",
       "IPY_MODEL_579e0146e9224e259997a64b9ac46f22"
      ],
      "layout": "IPY_MODEL_ab4cef919dcc41688e3213b60885e912"
     }
    },
    "569f4c0c1e1f4c7290012a6dfe1de93e": {
     "model_module": "@jupyter-widgets/controls",
     "model_name": "IntProgressModel",
     "state": {
      "_dom_classes": [],
      "_model_module": "@jupyter-widgets/controls",
      "_model_module_version": "1.5.0",
      "_model_name": "IntProgressModel",
      "_view_count": null,
      "_view_module": "@jupyter-widgets/controls",
      "_view_module_version": "1.5.0",
      "_view_name": "ProgressView",
      "bar_style": "success",
      "description": "",
      "description_tooltip": null,
      "layout": "IPY_MODEL_0626296f1d814fa893bae865f42a98da",
      "max": 43353,
      "min": 0,
      "orientation": "horizontal",
      "style": "IPY_MODEL_28dce965754d4fd08ce7ed8019be0fe2",
      "value": 43353
     }
    },
    "579e0146e9224e259997a64b9ac46f22": {
     "model_module": "@jupyter-widgets/controls",
     "model_name": "HTMLModel",
     "state": {
      "_dom_classes": [],
      "_model_module": "@jupyter-widgets/controls",
      "_model_module_version": "1.5.0",
      "_model_name": "HTMLModel",
      "_view_count": null,
      "_view_module": "@jupyter-widgets/controls",
      "_view_module_version": "1.5.0",
      "_view_name": "HTMLView",
      "description": "",
      "description_tooltip": null,
      "layout": "IPY_MODEL_e2fe9da112874b50b6ec8edef79a4f22",
      "placeholder": "​",
      "style": "IPY_MODEL_504b0ba7204b4621a4bcf8ea15fc09e4",
      "value": "100% 43353/43353 [01:58&lt;00:00, 364.73it/s]"
     }
    },
    "6f4bc3927f384e969de19b4328dfb3cf": {
     "model_module": "@jupyter-widgets/base",
     "model_name": "LayoutModel",
     "state": {
      "_model_module": "@jupyter-widgets/base",
      "_model_module_version": "1.2.0",
      "_model_name": "LayoutModel",
      "_view_count": null,
      "_view_module": "@jupyter-widgets/base",
      "_view_module_version": "1.2.0",
      "_view_name": "LayoutView",
      "align_content": null,
      "align_items": null,
      "align_self": null,
      "border": null,
      "bottom": null,
      "display": null,
      "flex": null,
      "flex_flow": null,
      "grid_area": null,
      "grid_auto_columns": null,
      "grid_auto_flow": null,
      "grid_auto_rows": null,
      "grid_column": null,
      "grid_gap": null,
      "grid_row": null,
      "grid_template_areas": null,
      "grid_template_columns": null,
      "grid_template_rows": null,
      "height": null,
      "justify_content": null,
      "justify_items": null,
      "left": null,
      "margin": null,
      "max_height": null,
      "max_width": null,
      "min_height": null,
      "min_width": null,
      "object_fit": null,
      "object_position": null,
      "order": null,
      "overflow": null,
      "overflow_x": null,
      "overflow_y": null,
      "padding": null,
      "right": null,
      "top": null,
      "visibility": null,
      "width": null
     }
    },
    "73fecbbfc7fd4be7b5daf4dc7fcc0816": {
     "model_module": "@jupyter-widgets/controls",
     "model_name": "ProgressStyleModel",
     "state": {
      "_model_module": "@jupyter-widgets/controls",
      "_model_module_version": "1.5.0",
      "_model_name": "ProgressStyleModel",
      "_view_count": null,
      "_view_module": "@jupyter-widgets/base",
      "_view_module_version": "1.2.0",
      "_view_name": "StyleView",
      "bar_color": null,
      "description_width": ""
     }
    },
    "7a41a06777ed4b68b559f57126f9a613": {
     "model_module": "@jupyter-widgets/controls",
     "model_name": "IntProgressModel",
     "state": {
      "_dom_classes": [],
      "_model_module": "@jupyter-widgets/controls",
      "_model_module_version": "1.5.0",
      "_model_name": "IntProgressModel",
      "_view_count": null,
      "_view_module": "@jupyter-widgets/controls",
      "_view_module_version": "1.5.0",
      "_view_name": "ProgressView",
      "bar_style": "success",
      "description": "",
      "description_tooltip": null,
      "layout": "IPY_MODEL_90ff11a35f9e453ca416265d9485a6e2",
      "max": 43353,
      "min": 0,
      "orientation": "horizontal",
      "style": "IPY_MODEL_28f48562126b4c3b836f701e07967a92",
      "value": 43353
     }
    },
    "8ccbe01180af4df5939f4b7fb1361cac": {
     "model_module": "@jupyter-widgets/base",
     "model_name": "LayoutModel",
     "state": {
      "_model_module": "@jupyter-widgets/base",
      "_model_module_version": "1.2.0",
      "_model_name": "LayoutModel",
      "_view_count": null,
      "_view_module": "@jupyter-widgets/base",
      "_view_module_version": "1.2.0",
      "_view_name": "LayoutView",
      "align_content": null,
      "align_items": null,
      "align_self": null,
      "border": null,
      "bottom": null,
      "display": null,
      "flex": null,
      "flex_flow": null,
      "grid_area": null,
      "grid_auto_columns": null,
      "grid_auto_flow": null,
      "grid_auto_rows": null,
      "grid_column": null,
      "grid_gap": null,
      "grid_row": null,
      "grid_template_areas": null,
      "grid_template_columns": null,
      "grid_template_rows": null,
      "height": null,
      "justify_content": null,
      "justify_items": null,
      "left": null,
      "margin": null,
      "max_height": null,
      "max_width": null,
      "min_height": null,
      "min_width": null,
      "object_fit": null,
      "object_position": null,
      "order": null,
      "overflow": null,
      "overflow_x": null,
      "overflow_y": null,
      "padding": null,
      "right": null,
      "top": null,
      "visibility": null,
      "width": null
     }
    },
    "90ff11a35f9e453ca416265d9485a6e2": {
     "model_module": "@jupyter-widgets/base",
     "model_name": "LayoutModel",
     "state": {
      "_model_module": "@jupyter-widgets/base",
      "_model_module_version": "1.2.0",
      "_model_name": "LayoutModel",
      "_view_count": null,
      "_view_module": "@jupyter-widgets/base",
      "_view_module_version": "1.2.0",
      "_view_name": "LayoutView",
      "align_content": null,
      "align_items": null,
      "align_self": null,
      "border": null,
      "bottom": null,
      "display": null,
      "flex": null,
      "flex_flow": null,
      "grid_area": null,
      "grid_auto_columns": null,
      "grid_auto_flow": null,
      "grid_auto_rows": null,
      "grid_column": null,
      "grid_gap": null,
      "grid_row": null,
      "grid_template_areas": null,
      "grid_template_columns": null,
      "grid_template_rows": null,
      "height": null,
      "justify_content": null,
      "justify_items": null,
      "left": null,
      "margin": null,
      "max_height": null,
      "max_width": null,
      "min_height": null,
      "min_width": null,
      "object_fit": null,
      "object_position": null,
      "order": null,
      "overflow": null,
      "overflow_x": null,
      "overflow_y": null,
      "padding": null,
      "right": null,
      "top": null,
      "visibility": null,
      "width": null
     }
    },
    "92c3d4f9dbf9466aa0c2657be18e8f37": {
     "model_module": "@jupyter-widgets/base",
     "model_name": "LayoutModel",
     "state": {
      "_model_module": "@jupyter-widgets/base",
      "_model_module_version": "1.2.0",
      "_model_name": "LayoutModel",
      "_view_count": null,
      "_view_module": "@jupyter-widgets/base",
      "_view_module_version": "1.2.0",
      "_view_name": "LayoutView",
      "align_content": null,
      "align_items": null,
      "align_self": null,
      "border": null,
      "bottom": null,
      "display": null,
      "flex": null,
      "flex_flow": null,
      "grid_area": null,
      "grid_auto_columns": null,
      "grid_auto_flow": null,
      "grid_auto_rows": null,
      "grid_column": null,
      "grid_gap": null,
      "grid_row": null,
      "grid_template_areas": null,
      "grid_template_columns": null,
      "grid_template_rows": null,
      "height": null,
      "justify_content": null,
      "justify_items": null,
      "left": null,
      "margin": null,
      "max_height": null,
      "max_width": null,
      "min_height": null,
      "min_width": null,
      "object_fit": null,
      "object_position": null,
      "order": null,
      "overflow": null,
      "overflow_x": null,
      "overflow_y": null,
      "padding": null,
      "right": null,
      "top": null,
      "visibility": null,
      "width": null
     }
    },
    "a750f9927b5e41bcb848fc2dbb8e0e39": {
     "model_module": "@jupyter-widgets/controls",
     "model_name": "HTMLModel",
     "state": {
      "_dom_classes": [],
      "_model_module": "@jupyter-widgets/controls",
      "_model_module_version": "1.5.0",
      "_model_name": "HTMLModel",
      "_view_count": null,
      "_view_module": "@jupyter-widgets/controls",
      "_view_module_version": "1.5.0",
      "_view_name": "HTMLView",
      "description": "",
      "description_tooltip": null,
      "layout": "IPY_MODEL_0c0b396925d1487f8e2fd34f494a4bbc",
      "placeholder": "​",
      "style": "IPY_MODEL_10589347b2724eb9a675ae607f1819f3",
      "value": "100% 43353/43353 [01:58&lt;00:00, 364.53it/s]"
     }
    },
    "ab4cef919dcc41688e3213b60885e912": {
     "model_module": "@jupyter-widgets/base",
     "model_name": "LayoutModel",
     "state": {
      "_model_module": "@jupyter-widgets/base",
      "_model_module_version": "1.2.0",
      "_model_name": "LayoutModel",
      "_view_count": null,
      "_view_module": "@jupyter-widgets/base",
      "_view_module_version": "1.2.0",
      "_view_name": "LayoutView",
      "align_content": null,
      "align_items": null,
      "align_self": null,
      "border": null,
      "bottom": null,
      "display": null,
      "flex": null,
      "flex_flow": null,
      "grid_area": null,
      "grid_auto_columns": null,
      "grid_auto_flow": null,
      "grid_auto_rows": null,
      "grid_column": null,
      "grid_gap": null,
      "grid_row": null,
      "grid_template_areas": null,
      "grid_template_columns": null,
      "grid_template_rows": null,
      "height": null,
      "justify_content": null,
      "justify_items": null,
      "left": null,
      "margin": null,
      "max_height": null,
      "max_width": null,
      "min_height": null,
      "min_width": null,
      "object_fit": null,
      "object_position": null,
      "order": null,
      "overflow": null,
      "overflow_x": null,
      "overflow_y": null,
      "padding": null,
      "right": null,
      "top": null,
      "visibility": null,
      "width": null
     }
    },
    "b56c249a7a5f455593e5d5ae6c2bd68a": {
     "model_module": "@jupyter-widgets/controls",
     "model_name": "HBoxModel",
     "state": {
      "_dom_classes": [],
      "_model_module": "@jupyter-widgets/controls",
      "_model_module_version": "1.5.0",
      "_model_name": "HBoxModel",
      "_view_count": null,
      "_view_module": "@jupyter-widgets/controls",
      "_view_module_version": "1.5.0",
      "_view_name": "HBoxView",
      "box_style": "",
      "children": [
       "IPY_MODEL_de4806b008794a4394adc624c880a9bf",
       "IPY_MODEL_cf1fca828cfe4a76baa7050aa06d0cd8"
      ],
      "layout": "IPY_MODEL_8ccbe01180af4df5939f4b7fb1361cac"
     }
    },
    "cf1fca828cfe4a76baa7050aa06d0cd8": {
     "model_module": "@jupyter-widgets/controls",
     "model_name": "HTMLModel",
     "state": {
      "_dom_classes": [],
      "_model_module": "@jupyter-widgets/controls",
      "_model_module_version": "1.5.0",
      "_model_name": "HTMLModel",
      "_view_count": null,
      "_view_module": "@jupyter-widgets/controls",
      "_view_module_version": "1.5.0",
      "_view_name": "HTMLView",
      "description": "",
      "description_tooltip": null,
      "layout": "IPY_MODEL_30bca3d113704628b8d1c182506da8e2",
      "placeholder": "​",
      "style": "IPY_MODEL_efd30b9799294ff9a5893b1a5ed58369",
      "value": "100% 43353/43353 [01:58&lt;00:00, 364.58it/s]"
     }
    },
    "de4806b008794a4394adc624c880a9bf": {
     "model_module": "@jupyter-widgets/controls",
     "model_name": "IntProgressModel",
     "state": {
      "_dom_classes": [],
      "_model_module": "@jupyter-widgets/controls",
      "_model_module_version": "1.5.0",
      "_model_name": "IntProgressModel",
      "_view_count": null,
      "_view_module": "@jupyter-widgets/controls",
      "_view_module_version": "1.5.0",
      "_view_name": "ProgressView",
      "bar_style": "success",
      "description": "",
      "description_tooltip": null,
      "layout": "IPY_MODEL_6f4bc3927f384e969de19b4328dfb3cf",
      "max": 43353,
      "min": 0,
      "orientation": "horizontal",
      "style": "IPY_MODEL_73fecbbfc7fd4be7b5daf4dc7fcc0816",
      "value": 43353
     }
    },
    "e2fe9da112874b50b6ec8edef79a4f22": {
     "model_module": "@jupyter-widgets/base",
     "model_name": "LayoutModel",
     "state": {
      "_model_module": "@jupyter-widgets/base",
      "_model_module_version": "1.2.0",
      "_model_name": "LayoutModel",
      "_view_count": null,
      "_view_module": "@jupyter-widgets/base",
      "_view_module_version": "1.2.0",
      "_view_name": "LayoutView",
      "align_content": null,
      "align_items": null,
      "align_self": null,
      "border": null,
      "bottom": null,
      "display": null,
      "flex": null,
      "flex_flow": null,
      "grid_area": null,
      "grid_auto_columns": null,
      "grid_auto_flow": null,
      "grid_auto_rows": null,
      "grid_column": null,
      "grid_gap": null,
      "grid_row": null,
      "grid_template_areas": null,
      "grid_template_columns": null,
      "grid_template_rows": null,
      "height": null,
      "justify_content": null,
      "justify_items": null,
      "left": null,
      "margin": null,
      "max_height": null,
      "max_width": null,
      "min_height": null,
      "min_width": null,
      "object_fit": null,
      "object_position": null,
      "order": null,
      "overflow": null,
      "overflow_x": null,
      "overflow_y": null,
      "padding": null,
      "right": null,
      "top": null,
      "visibility": null,
      "width": null
     }
    },
    "efd30b9799294ff9a5893b1a5ed58369": {
     "model_module": "@jupyter-widgets/controls",
     "model_name": "DescriptionStyleModel",
     "state": {
      "_model_module": "@jupyter-widgets/controls",
      "_model_module_version": "1.5.0",
      "_model_name": "DescriptionStyleModel",
      "_view_count": null,
      "_view_module": "@jupyter-widgets/base",
      "_view_module_version": "1.2.0",
      "_view_name": "StyleView",
      "description_width": ""
     }
    }
   }
  }
 },
 "nbformat": 4,
 "nbformat_minor": 1
}
