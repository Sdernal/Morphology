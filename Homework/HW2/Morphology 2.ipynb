{
 "cells": [
  {
   "cell_type": "markdown",
   "metadata": {},
   "source": [
    "# Морфология 2\n",
    "В данном ноутбуке находится задание на триграммы и словарь. В качестве текста будем использовать томик войны и мира: https://goo.gl/qcVTLE \n",
    "\n",
    "Для начала напомним некоторые полезные инструменты на питоне"
   ]
  },
  {
   "cell_type": "markdown",
   "metadata": {},
   "source": [
    "## 1. Инструменты"
   ]
  },
  {
   "cell_type": "markdown",
   "metadata": {},
   "source": [
    "### 1.1. Регулярные выражения\n",
    "Исчерпывающий пост https://habr.com/ru/post/349860/"
   ]
  },
  {
   "cell_type": "code",
   "execution_count": 1,
   "metadata": {},
   "outputs": [
    {
     "name": "stdout",
     "output_type": "stream",
     "text": [
      "Находим числа в строке:  ['49', '432']\n",
      "Простенький токенизатор:  ['How', 'to', 'split', 'text']\n",
      "Еще один токенизатор:  ['How', 'to', 'split', 'text', 'Again']\n"
     ]
    }
   ],
   "source": [
    "import re\n",
    "\n",
    "# С помощью рег. выражения можно искать, заменять и сентезировать строки по шаблонам\n",
    "# Парочка простых примеров\n",
    "numbers = re.findall(r'\\d+', r'There is some numbers: 49 and 432')\n",
    "print('Находим числа в строке: ', numbers)\n",
    "\n",
    "print('Простенький токенизатор: ', re.sub('[,\\.?!]',' ','How, to? split. text!').split())\n",
    "\n",
    "print('Еще один токенизатор: ', re.split(r'\\W+', 'How, to? split. text! Again'))\n",
    "\n",
    "# в качестве тренировки придумайте свой токенизатор в случае, когда из текста нужно получить только русские слова."
   ]
  },
  {
   "cell_type": "markdown",
   "metadata": {},
   "source": [
    "### 1.2. Чтение файлов\n",
    "Чтобы не мучится самим с кодировками, приведем способ чтения файла корпуса."
   ]
  },
  {
   "cell_type": "code",
   "execution_count": 2,
   "metadata": {},
   "outputs": [],
   "source": [
    "text_file_path = 'wp.txt'"
   ]
  },
  {
   "cell_type": "code",
   "execution_count": 3,
   "metadata": {},
   "outputs": [
    {
     "name": "stdout",
     "output_type": "stream",
     "text": [
      "['лев', 'николаевич', 'толстой', 'война', 'и', 'мир', 'том', 'часть', 'первая', 'е', 'поместья', 'мой', 'верный', 'раб', 'ну', 'что', 'князь', 'генуа', 'и', 'лукка', 'стали', 'не', 'больше', 'как', 'поместьями', 'фамилии', 'бонапарте', 'нет', 'я', 'вас', 'предупреждаю', 'если', 'вы', 'мне', 'не', 'скажете', 'что', 'у', 'нас', 'война', 'если', 'вы', 'еще', 'позволите', 'себе', 'защищать', 'все', 'гадости', 'все', 'ужасы', 'этого', 'антихриста', 'право', 'я', 'верю', 'что', 'он', 'антихрист', 'я', 'вас', 'больше', 'не', 'знаю', 'вы', 'уж', 'не', 'друг', 'мой', 'вы', 'уж', 'не', 'мой', 'верный', 'раб', 'как', 'вы', 'говорите', 'ну', 'здравствуйте', 'здравствуйте', 'я', 'вижу', 'что', 'я', 'вас', 'пугаю', 'садитесь', 'и', 'рассказывайте', 'так', 'говорила', 'в', 'июле', 'года', 'известная', 'анна', 'павловна', 'шерер', 'фрейлина', 'и']\n"
     ]
    }
   ],
   "source": [
    "import io\n",
    "import re\n",
    "wordlilist = None\n",
    "with io.open(text_file_path, \"r\") as text_file:\n",
    "    text = text_file.read()\n",
    "    wordlist = re.sub('[^А-я]',' ',text).lower().split()\n",
    "print(wordlist[0:100])\n",
    "    # wordlist = Здесь заиспользуем токенизатор. Также приведем все слова к нижнему регистру."
   ]
  },
  {
   "cell_type": "markdown",
   "metadata": {},
   "source": [
    "### 1.3. ООП\n",
    "В питоне можно создавать свои классы, скорее всего нам понадобится класс для хранения бора"
   ]
  },
  {
   "cell_type": "code",
   "execution_count": 4,
   "metadata": {},
   "outputs": [],
   "source": [
    "class Node:\n",
    "    def __init__(self):\n",
    "        '''\n",
    "        Simple constructor without params\n",
    "        '''\n",
    "        pass\n",
    "    \n",
    "    def method(self, par):\n",
    "        '''\n",
    "        Simple method with one param\n",
    "        '''\n",
    "        pass\n",
    "    \n",
    "# все данные хранятся в self, поэтому он и передается первым аргументом во все методы"
   ]
  },
  {
   "cell_type": "markdown",
   "metadata": {},
   "source": [
    "### 1.4. pyplot\n",
    "Довольно часто приходится построить какие-нибудт графики и гистограммы для изучения данных, с которыми придется работать. Для этого в питоне есть удобнейший модуль для этого - pyplot. Туториал: https://matplotlib.org/3.1.1/tutorials/introductory/pyplot.html"
   ]
  },
  {
   "cell_type": "code",
   "execution_count": 5,
   "metadata": {},
   "outputs": [],
   "source": [
    "#!pip install matplotlib # Установка модуля\n",
    "import matplotlib.pyplot as plt\n",
    "# команда чтобы картинки рисовались прямо в ноутбуке\n",
    "%matplotlib inline "
   ]
  },
  {
   "cell_type": "code",
   "execution_count": 6,
   "metadata": {},
   "outputs": [
    {
     "data": {
      "text/plain": [
       "[<matplotlib.lines.Line2D at 0x7f393fe0e0d0>]"
      ]
     },
     "execution_count": 6,
     "metadata": {},
     "output_type": "execute_result"
    },
    {
     "data": {
      "image/png": "[encoded data removed]",
      "text/plain": [
       "<Figure size 432x288 with 1 Axes>"
      ]
     },
     "metadata": {
      "needs_background": "light"
     },
     "output_type": "display_data"
    }
   ],
   "source": [
    "# Посмотрим на график функции x^2\n",
    "data = [i * i for i in range(100)]\n",
    "plt.plot(data)"
   ]
  },
  {
   "cell_type": "code",
   "execution_count": 7,
   "metadata": {},
   "outputs": [
    {
     "data": {
      "text/plain": [
       "(array([32., 13., 10.,  8.,  8.,  6.,  6.,  6.,  5.,  6.]),\n",
       " array([   0. ,  980.1, 1960.2, 2940.3, 3920.4, 4900.5, 5880.6, 6860.7,\n",
       "        7840.8, 8820.9, 9801. ]),\n",
       " <a list of 10 Patch objects>)"
      ]
     },
     "execution_count": 7,
     "metadata": {},
     "output_type": "execute_result"
    },
    {
     "data": {
      "image/png": "[encoded data removed]",
      "text/plain": [
       "<Figure size 432x288 with 1 Axes>"
      ]
     },
     "metadata": {
      "needs_background": "light"
     },
     "output_type": "display_data"
    }
   ],
   "source": [
    "# и распределение по значениям\n",
    "plt.hist(data)"
   ]
  },
  {
   "cell_type": "markdown",
   "metadata": {},
   "source": [
    "Также полезная команда для подсчета времения выполнения в ячейке"
   ]
  },
  {
   "cell_type": "code",
   "execution_count": 8,
   "metadata": {},
   "outputs": [
    {
     "name": "stdout",
     "output_type": "stream",
     "text": [
      "CPU times: user 12 s, sys: 0 ns, total: 12 s\n",
      "Wall time: 12 s\n"
     ]
    }
   ],
   "source": [
    "%%time\n",
    "res = 0\n",
    "for i in range(int(1e8)):\n",
    "    res += 1"
   ]
  },
  {
   "cell_type": "markdown",
   "metadata": {},
   "source": [
    "## 2. Задание\n",
    "Собственно теперь нам потребуется написать подсчет триграмм и бор для словаря, чтобы реализовать простенькую систему исправления ошибок."
   ]
  },
  {
   "cell_type": "markdown",
   "metadata": {},
   "source": [
    "### 2.1. Триграммы\n",
    "Для начала получим словарь триграмма - её кол-во в тексте, не забывая о начале и конце слова.\n",
    "\n",
    "Далее можно построить гистограмму на кол-во вхождений триграмм, и посмотреть самые частые и какая частота у каких-нибудь заведомо странных, например: 'чгк', 'шкя' и подобные. Из полученных данных придумать эвристику, как считать слово с опечаткой. Проверить эвристику по словарю."
   ]
  },
  {
   "cell_type": "code",
   "execution_count": 9,
   "metadata": {},
   "outputs": [],
   "source": [
    "from nltk import ngrams\n",
    "from nltk import FreqDist"
   ]
  },
  {
   "cell_type": "code",
   "execution_count": 10,
   "metadata": {},
   "outputs": [],
   "source": [
    "def corpus_trigrams(word_list):\n",
    "    '''returns trigrams count dictionary'''\n",
    "    a = []\n",
    "    for i in range(len(word_list)):\n",
    "        a.extend(list(ngrams('##' + word_list[i] + '##', 3)))\n",
    "    return FreqDist(a)\n",
    "\n",
    "def is_error(word, threshold=100):\n",
    "    '''is the word with mistake'''\n",
    "    d = corpus_trigrams(wordlist)\n",
    "    for i in list(ngrams('##' + word.lower() + '##', 3)):\n",
    "        if (d[i] < threshold):\n",
    "            return True#'Слово \"{}\" скорее всего ошибочное'.format(word)\n",
    "    return False#'Слово \"{}\" скорее всего верное'.format(word)"
   ]
  },
  {
   "cell_type": "code",
   "execution_count": 11,
   "metadata": {},
   "outputs": [
    {
     "data": {
      "text/plain": [
       "[<matplotlib.lines.Line2D at 0x7f393bea78d0>]"
      ]
     },
     "execution_count": 11,
     "metadata": {},
     "output_type": "execute_result"
    },
    {
     "data": {
      "image/png": "[encoded data removed]",
      "text/plain": [
       "<Figure size 432x288 with 1 Axes>"
      ]
     },
     "metadata": {
      "needs_background": "light"
     },
     "output_type": "display_data"
    }
   ],
   "source": [
    "q = corpus_trigrams(wordlist)\n",
    "qw = list(q.values())\n",
    "qw.sort(reverse=True)\n",
    "plt.plot(qw)"
   ]
  },
  {
   "cell_type": "code",
   "execution_count": 12,
   "metadata": {},
   "outputs": [
    {
     "data": {
      "text/plain": [
       "False"
      ]
     },
     "execution_count": 12,
     "metadata": {},
     "output_type": "execute_result"
    }
   ],
   "source": [
    "is_error('сталь')"
   ]
  },
  {
   "cell_type": "code",
   "execution_count": 13,
   "metadata": {},
   "outputs": [
    {
     "data": {
      "text/plain": [
       "True"
      ]
     },
     "execution_count": 13,
     "metadata": {},
     "output_type": "execute_result"
    }
   ],
   "source": [
    "is_error('стальк')"
   ]
  },
  {
   "cell_type": "markdown",
   "metadata": {},
   "source": [
    "### 2.2. Бор\n",
    "Далее построим бор, с помощью которого будем искать исправления опечатки в слове. Пока только в случае замены и удаления в конце (Если есть желание, то можно и для всех случаев). Также сравнить по времени с поиском в случае замены в исходном слове последних двух символов и поиске в словаре."
   ]
  },
  {
   "cell_type": "code",
   "execution_count": 14,
   "metadata": {},
   "outputs": [],
   "source": [
    "class Node:\n",
    "    def __init__(self):\n",
    "        super(Node, self).__init__()\n",
    "        self.childrens = dict() # char to Node\n",
    "        self.is_end_word = False\n",
    "        self.parent = None\n",
    "        self.parent_char = None\n",
    "    \n",
    "    def __repr__(self):\n",
    "        return 'Bor({})'.format(self.childrens.keys())\n",
    "    \n",
    "    def add_word_to_bor(self, word):\n",
    "        node = self\n",
    "        for char in word:\n",
    "            if char not in node.childrens.keys():\n",
    "                new_node = Node()\n",
    "                new_node.parent = node\n",
    "                new_node.parent_char = char\n",
    "                node.childrens[char] = new_node\n",
    "            node = node.childrens[char]\n",
    "        node.is_end_word = True\n",
    "        \n",
    "    def word_in_bor(self, word):\n",
    "        node = self\n",
    "        for char in word:\n",
    "            if char in node.childrens.keys():\n",
    "                node = node.childrens[char]\n",
    "            else:\n",
    "                return False\n",
    "        return node.is_end_word"
   ]
  },
  {
   "cell_type": "code",
   "execution_count": 15,
   "metadata": {},
   "outputs": [],
   "source": [
    "bor = Node()"
   ]
  },
  {
   "cell_type": "code",
   "execution_count": 16,
   "metadata": {},
   "outputs": [
    {
     "data": {
      "text/plain": [
       "Bor(dict_keys(['л', 'н', 'т', 'в', 'и', 'м', 'ч', 'п', 'е', 'р', 'к', 'г', 'с', 'б', 'ф', 'я', 'у', 'з', 'э', 'а', 'о', 'д', 'ш', 'ж', 'х', 'ц', 'щ', 'ю', 'ы', 'ъ', 'ь', 'й']))"
      ]
     },
     "execution_count": 16,
     "metadata": {},
     "output_type": "execute_result"
    }
   ],
   "source": [
    "bor = Node()\n",
    "for word in wordlist:\n",
    "    bor.add_word_to_bor(word)\n",
    "bor"
   ]
  },
  {
   "cell_type": "code",
   "execution_count": 17,
   "metadata": {},
   "outputs": [
    {
     "data": {
      "text/plain": [
       "{'л': Bor(dict_keys(['е', 'у', 'а', 'и', 'ы', 'ю', 'о', 'ь', 'б', 'г', 'ж', 'я', 'ш'])),\n",
       " 'н': Bor(dict_keys(['и', 'у', 'е', 'а', 'о', 'ы', 'р', 'э', 'я', 'ю'])),\n",
       " 'т': Bor(dict_keys(['о', 'а', 'е', 'и', 'я', 'у', 'р', 'ы', 'в', 'щ', 'ь', 'к', 'ю'])),\n",
       " 'в': Bor(dict_keys(['о', 'е', 'а', 'ы', 'с', 'и', 'р', 'д', 'м', 'з', 'п', 'н', 'л', 'т', 'х', 'в', 'к', 'ч', 'б', 'ъ', 'я', 'у', 'ь', 'г'])),\n",
       " 'и': Bor(dict_keys(['ю', 'з', 'м', 'л', 'н', 'г', 'с', 'щ', 'х', 'п', 'д', 'е', 'к', 'т', 'р', 'в', 'б', 'ш'])),\n",
       " 'м': Bor(dict_keys(['и', 'о', 'н', 'а', 'е', 'у', 'ы', 'р', 'я', 'с', 'г', 'л', 'ю'])),\n",
       " 'ч': Bor(dict_keys(['а', 'т', 'и', 'у', 'е', 'р', 'л', 'о', 'ь'])),\n",
       " 'п': Bor(dict_keys(['е', 'о', 'р', 'у', 'а', 'л', 'и', 'я', 'ь', 'ы', 'т', 'ч', 'г', 'ш'])),\n",
       " 'е': Bor(dict_keys(['с', 'щ', 'е', 'й', 'ж', 'в', 'м', 'г', 'р', 'х', 'з', 'к', 'д', 'л', 'ю', 'ф', 'б'])),\n",
       " 'р': Bor(dict_keys(['а', 'е', 'у', 'о', 'т', 'и', 'я', 'в', 'ю', 'э', 'ы', 'ж', 'с', 'р'])),\n",
       " 'к': Bor(dict_keys(['н', 'а', 'р', 'о', 'с', 'т', 'у', 'л', 'и', 'в', 'е', 'г', 'х'])),\n",
       " 'г': Bor(dict_keys(['е', 'а', 'о', 'р', 'и', 'л', 'у', 'д', 'в', 'м', 'н'])),\n",
       " 'с': Bor(dict_keys(['т', 'к', 'е', 'а', 'л', 'м', 'в', 'о', 'и', 'п', 'ж', 'д', 'у', 'ы', 'ч', 'р', 'н', 'ю', 'х', 'ц', 'г', 'б', 'ф', 'ъ', 'з', 'с'])),\n",
       " 'б': Bor(dict_keys(['о', 'ы', 'е', 'у', 'а', 'л', 'р', 'и', 'э', 'ю', 'г', 'ь'])),\n",
       " 'ф': Bor(dict_keys(['а', 'р', 'е', 'у', 'о', 'и', 'ы', 'л'])),\n",
       " 'я': Bor(dict_keys(['з', 'в', 'с', 'к', 'ф', 'р', 'н', 'х', 'щ', 'д', 'б', 'м', 'ю'])),\n",
       " 'у': Bor(dict_keys(['ж', 'п', 'т', 'с', 'ч', 'л', 'б', 'м', 'г', 'в', 'д', 'ш', 'й', 'з', 'к', 'е', 'н', 'х', 'р', 'щ', 'ц'])),\n",
       " 'з': Bor(dict_keys(['а', 'н', 'д', 'в', 'л', 'и', 'о', 'у', 'е', 'р', 'м', 'ь', 'я'])),\n",
       " 'э': Bor(dict_keys(['т', 'н', 'м', 'л', 'г', 'к', 'й', 'д', 'п', 'р', 'с', 'ц', 'ш', 'х'])),\n",
       " 'а': Bor(dict_keys(['н', 'к', 'х', 'в', 'л', 'б', 'д', 'ф', 'р', 'п', 'й', 'г', 'т', 'з', 'м', 'ч', 'у', 'ж', 'а'])),\n",
       " 'о': Bor(dict_keys(['н', 'ч', 'т', 'с', 'ж', 'б', 'д', 'п', 'к', 'г', 'з', 'ц', 'р', 'ф', 'ш', 'х', 'л', 'в', 'м', 'й', 'о', 'щ'])),\n",
       " 'д': Bor(dict_keys(['р', 'н', 'е', 'у', 'в', 'и', 'а', 'о', 'л', 'я', 'м', 'ы', 'ю', 'г', 'ь'])),\n",
       " 'ш': Bor(dict_keys(['е', 'и', 'л', 'у', 'а', 'о', 'п', 'т', 'в', 'к', 'н', 'м', 'р'])),\n",
       " 'ж': Bor(dict_keys(['е', 'и', 'а', 'д', 'о', 'ю', 'м', 'г', 'у', 'н'])),\n",
       " 'х': Bor(dict_keys(['о', 'а', 'и', 'у', 'р', 'л', 'в', 'м'])),\n",
       " 'ц': Bor(dict_keys(['е', 'в', 'а', 'у', 'ы', 'и', 'н'])),\n",
       " 'щ': Bor(dict_keys(['е', 'у', 'и'])),\n",
       " 'ю': Bor(dict_keys(['н', 'б', 'л', 'ж'])),\n",
       " 'ы': Bor(dict_keys(['с'])),\n",
       " 'ъ': Bor(dict_keys([])),\n",
       " 'ь': Bor(dict_keys([])),\n",
       " 'й': Bor(dict_keys(['о']))}"
      ]
     },
     "execution_count": 17,
     "metadata": {},
     "output_type": "execute_result"
    }
   ],
   "source": [
    "bor.childrens"
   ]
  },
  {
   "cell_type": "code",
   "execution_count": 18,
   "metadata": {},
   "outputs": [
    {
     "data": {
      "text/plain": [
       "(True, False, True)"
      ]
     },
     "execution_count": 18,
     "metadata": {},
     "output_type": "execute_result"
    }
   ],
   "source": [
    "bor.word_in_bor('николай'), bor.word_in_bor('никонлай'), bor.word_in_bor('йорк')"
   ]
  },
  {
   "cell_type": "code",
   "execution_count": 19,
   "metadata": {},
   "outputs": [
    {
     "data": {
      "text/plain": [
       "Bor(dict_keys([]))"
      ]
     },
     "execution_count": 19,
     "metadata": {},
     "output_type": "execute_result"
    }
   ],
   "source": [
    "bor.childrens['й'].childrens['о'].childrens['р'].childrens['к']"
   ]
  },
  {
   "cell_type": "code",
   "execution_count": 20,
   "metadata": {},
   "outputs": [
    {
     "data": {
      "text/plain": [
       "True"
      ]
     },
     "execution_count": 20,
     "metadata": {},
     "output_type": "execute_result"
    }
   ],
   "source": [
    "bor.word_in_bor('йорк')"
   ]
  },
  {
   "cell_type": "code",
   "execution_count": 21,
   "metadata": {},
   "outputs": [],
   "source": [
    "def liv_dist(a, b):\n",
    "    n, m = len(a), len(b)\n",
    "    if n > m:\n",
    "        a, b = b, a\n",
    "        n, m = m, n\n",
    "    current_row = range(n + 1)\n",
    "    for i in range(1, m + 1):\n",
    "        previous_row, current_row = current_row, [i] + [0] * n\n",
    "        for j in range(1, n + 1):\n",
    "            add, delete, change = previous_row[j] + 1, current_row[j - 1] + 1, previous_row[j - 1]\n",
    "            if a[j - 1] != b[i - 1]:\n",
    "                change += 1\n",
    "            current_row[j] = min(add, delete, change)\n",
    "    return current_row[n]"
   ]
  },
  {
   "cell_type": "code",
   "execution_count": 22,
   "metadata": {},
   "outputs": [
    {
     "data": {
      "text/plain": [
       "1"
      ]
     },
     "execution_count": 22,
     "metadata": {},
     "output_type": "execute_result"
    }
   ],
   "source": [
    "liv_dist('привет','привед')"
   ]
  },
  {
   "cell_type": "code",
   "execution_count": 23,
   "metadata": {},
   "outputs": [
    {
     "data": {
      "text/plain": [
       "6"
      ]
     },
     "execution_count": 23,
     "metadata": {},
     "output_type": "execute_result"
    }
   ],
   "source": [
    "liv_dist('абвгд','123абв123')"
   ]
  }
 ],
 "metadata": {
  "kernelspec": {
   "display_name": "Python 3",
   "language": "python",
   "name": "python3"
  },
  "language_info": {
   "codemirror_mode": {
    "name": "ipython",
    "version": 3
   },
   "file_extension": ".py",
   "mimetype": "text/x-python",
   "name": "python",
   "nbconvert_exporter": "python",
   "pygments_lexer": "ipython3",
   "version": "3.7.4"
  }
 },
 "nbformat": 4,
 "nbformat_minor": 2
}
