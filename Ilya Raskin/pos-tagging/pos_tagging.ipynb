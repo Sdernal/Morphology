{
  "nbformat": 4,
  "nbformat_minor": 0,
  "metadata": {
    "kernelspec": {
      "display_name": "Python 3",
      "language": "python",
      "name": "python3"
    },
    "language_info": {
      "codemirror_mode": {
        "name": "ipython",
        "version": 3
      },
      "file_extension": ".py",
      "mimetype": "text/x-python",
      "name": "python",
      "nbconvert_exporter": "python",
      "pygments_lexer": "ipython3",
      "version": "3.7.5"
    },
    "colab": {
      "name": "pos_allennlp.ipynb",
      "provenance": [],
      "collapsed_sections": [],
      "toc_visible": true
    },
    "accelerator": "GPU"
  },
  "cells": [
    {
      "cell_type": "markdown",
      "metadata": {
        "id": "0k8zdYf-kO12"
      },
      "source": [
        "Да, это ноутбук с лекции. Далее в нём будут изменения, но незначительные."
      ]
    },
    {
      "cell_type": "code",
      "metadata": {
        "id": "P4Vb8mR9kO14",
        "colab": {
          "base_uri": "https://localhost:8080/"
        },
        "outputId": "2fc37ad5-106b-4f1f-bb7a-aea78cc03964"
      },
      "source": [
        "import torch\n",
        "from src_allennlp.model import SimpleTagger\n",
        "from src_allennlp.reader import RuPosReader\n",
        "from allennlp.data.vocabulary import Vocabulary\n",
        "from allennlp.common import Params\n",
        "from allennlp.modules.text_field_embedders import BasicTextFieldEmbedder\n",
        "from allennlp.modules.token_embedders import Embedding, TokenCharactersEncoder\n",
        "from allennlp.modules.seq2seq_encoders import PytorchSeq2SeqWrapper\n",
        "from allennlp.modules.seq2vec_encoders import PytorchSeq2VecWrapper\n",
        "from allennlp.data.iterators import BucketIterator\n",
        "from allennlp.training.trainer import Trainer"
      ],
      "execution_count": 10,
      "outputs": [
        {
          "output_type": "stream",
          "text": [
            "/usr/local/lib/python3.6/dist-packages/requests/__init__.py:91: RequestsDependencyWarning: urllib3 (1.26.2) or chardet (3.0.4) doesn't match a supported version!\n",
            "  RequestsDependencyWarning)\n"
          ],
          "name": "stderr"
        }
      ]
    },
    {
      "cell_type": "markdown",
      "metadata": {
        "id": "G32T9EWRkO18"
      },
      "source": [
        "В ридер добавлены символьные эмбеддинги.</br>\n",
        "Модель теперь выглядит так:</br>\n",
        "Embedding -> Highway -> BiLSTM -> FeedForward -> Linear -> CRF</br>\n",
        "Вообще, в задачах теггинга BiLSTM+CRF - это самая классика."
      ]
    },
    {
      "cell_type": "code",
      "metadata": {
        "id": "UWZlBEsMkO19",
        "colab": {
          "base_uri": "https://localhost:8080/"
        },
        "outputId": "ae3a57dc-3fc7-4321-fed5-880487c32c20"
      },
      "source": [
        "reader = RuPosReader()\n",
        "dataset = reader.read('data/train.csv')\n",
        "vocab = Vocabulary.from_instances(dataset, pretrained_files={'tokens':'data/cc.ru.300.vec'}, \n",
        "                                  only_include_pretrained_words=False)"
      ],
      "execution_count": 11,
      "outputs": [
        {
          "output_type": "stream",
          "text": [
            "/usr/local/lib/python3.6/dist-packages/allennlp/data/token_indexers/token_characters_indexer.py:56: UserWarning: You are using the default value (0) of `min_padding_length`, which can cause some subtle bugs (more info see https://github.com/allenai/allennlp/issues/1954). Strongly recommend to set a value, usually the maximum size of the convolutional layer size when using CnnEncoder.\n",
            "  UserWarning)\n",
            "48171it [00:04, 10988.71it/s]\n",
            "100%|██████████| 48171/48171 [00:05<00:00, 8116.21it/s]\n",
            "100%|██████████| 2000000/2000000 [00:33<00:00, 58904.49it/s] \n"
          ],
          "name": "stderr"
        }
      ]
    },
    {
      "cell_type": "markdown",
      "metadata": {
        "id": "P8hdlW6OHn2y"
      },
      "source": [
        "А вот и эмбеддинги (пословные + символьные):"
      ]
    },
    {
      "cell_type": "code",
      "metadata": {
        "id": "yHBpJ4o7kO2C",
        "colab": {
          "base_uri": "https://localhost:8080/"
        },
        "outputId": "d6f2c3cb-d3ab-4fe6-e913-a69c97ebd47c"
      },
      "source": [
        "word_emb = 300\n",
        "char_emb = 20\n",
        "char_dim = 50\n",
        "hidden_dim = 300\n",
        "\n",
        "charemb = Embedding(vocab.get_vocab_size('token_characters'), char_emb)\n",
        "charrnn = PytorchSeq2VecWrapper(torch.nn.LSTM(char_emb, char_dim, batch_first=True, bidirectional=True))\n",
        "charlstm = TokenCharactersEncoder(charemb, charrnn)\n",
        "params = Params({\"pretrained_file\": 'data/cc.ru.300.vec', \"embedding_dim\": word_emb, \"trainable\": False})\n",
        "embedder = BasicTextFieldEmbedder({\"tokens\": Embedding.from_params(vocab, params),\n",
        "                                   \"chars\": charlstm})\n",
        "encoder = PytorchSeq2SeqWrapper(torch.nn.LSTM(embedder.get_output_dim(), hidden_dim, batch_first=True, bidirectional=True, num_layers=2))\n",
        "model = SimpleTagger(vocab, embedder, encoder)"
      ],
      "execution_count": 12,
      "outputs": [
        {
          "output_type": "stream",
          "text": [
            "100%|██████████| 2000000/2000000 [00:26<00:00, 76863.23it/s] \n"
          ],
          "name": "stderr"
        }
      ]
    },
    {
      "cell_type": "code",
      "metadata": {
        "id": "tIcQVQX3kO2H"
      },
      "source": [
        "data_size = len(dataset)\n",
        "\n",
        "train_dataset = dataset[:int(data_size * 0.96)]\n",
        "val_dataset = dataset[int(data_size * 0.96):int(data_size * 0.99)]\n",
        "test_dataset = dataset[int(data_size * 0.99):]"
      ],
      "execution_count": 15,
      "outputs": []
    },
    {
      "cell_type": "code",
      "metadata": {
        "colab": {
          "base_uri": "https://localhost:8080/"
        },
        "id": "I2JNlR02KKke",
        "outputId": "2774facd-95f6-40da-faaf-30405661fea2"
      },
      "source": [
        "print(len(train_dataset))\n",
        "print(len(val_dataset))\n",
        "print(len(test_dataset))"
      ],
      "execution_count": 16,
      "outputs": [
        {
          "output_type": "stream",
          "text": [
            "46244\n",
            "1445\n",
            "482\n"
          ],
          "name": "stdout"
        }
      ]
    },
    {
      "cell_type": "markdown",
      "metadata": {
        "id": "P2Hs99mHIYvz"
      },
      "source": [
        "Дальше вообще ничего не трогаю. Только тестирую, не на валидационной выборке, а на отдельной тестовой."
      ]
    },
    {
      "cell_type": "markdown",
      "metadata": {
        "id": "NwLVf2ZykO2K"
      },
      "source": [
        "Распиливаем датасет, слайсы здесь работают нормально"
      ]
    },
    {
      "cell_type": "code",
      "metadata": {
        "id": "kfdqruKlkO2L"
      },
      "source": [
        "device = torch.device('cuda')\n",
        "model.to(device)\n",
        "optimizer = torch.optim.Adam(model.parameters())\n",
        "iterator = BucketIterator(batch_size=256, sorting_keys=[(\"tokens\", \"num_tokens\")], biggest_batch_first=True)\n",
        "iterator.index_with(vocab)\n",
        "trainer = Trainer(model=model,\n",
        "                  optimizer=optimizer,\n",
        "                  iterator=iterator,\n",
        "                  train_dataset=train_dataset,\n",
        "                  validation_dataset=val_dataset,\n",
        "                  patience=5,\n",
        "                  num_epochs=20,\n",
        "                  cuda_device=0,\n",
        "                  validation_metric=\"+fscore\")"
      ],
      "execution_count": 17,
      "outputs": []
    },
    {
      "cell_type": "markdown",
      "metadata": {
        "id": "xEtTzBURkO2N"
      },
      "source": [
        "Переносим модель на видеокарту, задаём оптимизатор, итератор с индексированием по словарю и сам тренер. У тренера есть куча удобных параметров, например, сколько эпох учить, через сколько эпох остановиться, если таргетная метрика перестаёт расти на валидации (`patience`) и собственно сама таргетная метрика, по которой будет выбираться лучшая эпоха"
      ]
    },
    {
      "cell_type": "code",
      "metadata": {
        "id": "_PIzzBo2kO2O",
        "colab": {
          "base_uri": "https://localhost:8080/"
        },
        "outputId": "904de0ee-28b9-4b8f-c408-fd3fb516bf5c"
      },
      "source": [
        "trainer.train()"
      ],
      "execution_count": 18,
      "outputs": [
        {
          "output_type": "stream",
          "text": [
            "accuracy: 0.6325, precision: 0.6325, recall: 0.6325, fscore: 0.6325, loss: 5162.2751 ||: 100%|██████████| 181/181 [00:35<00:00,  5.17it/s]\n",
            "accuracy: 0.8877, precision: 0.8877, recall: 0.8877, fscore: 0.8877, loss: 1407.4273 ||: 100%|██████████| 6/6 [00:00<00:00,  6.97it/s]\n",
            "accuracy: 0.9294, precision: 0.9294, recall: 0.9294, fscore: 0.9294, loss: 999.1220 ||: 100%|██████████| 181/181 [00:25<00:00,  7.21it/s] \n",
            "accuracy: 0.9573, precision: 0.9573, recall: 0.9573, fscore: 0.9573, loss: 558.9244 ||: 100%|██████████| 6/6 [00:00<00:00, 10.30it/s]\n",
            "accuracy: 0.9635, precision: 0.9635, recall: 0.9635, fscore: 0.9635, loss: 522.0363 ||: 100%|██████████| 181/181 [00:25<00:00,  7.17it/s]\n",
            "accuracy: 0.9727, precision: 0.9727, recall: 0.9727, fscore: 0.9727, loss: 360.7397 ||: 100%|██████████| 6/6 [00:00<00:00, 11.07it/s]\n",
            "accuracy: 0.9730, precision: 0.9730, recall: 0.9730, fscore: 0.9730, loss: 378.4503 ||: 100%|██████████| 181/181 [00:25<00:00,  7.08it/s]\n",
            "accuracy: 0.9765, precision: 0.9765, recall: 0.9765, fscore: 0.9765, loss: 303.0199 ||: 100%|██████████| 6/6 [00:00<00:00, 11.40it/s]\n",
            "accuracy: 0.9770, precision: 0.9770, recall: 0.9770, fscore: 0.9770, loss: 314.3675 ||: 100%|██████████| 181/181 [00:26<00:00,  6.96it/s]\n",
            "accuracy: 0.9784, precision: 0.9784, recall: 0.9784, fscore: 0.9784, loss: 277.6690 ||: 100%|██████████| 6/6 [00:00<00:00, 11.01it/s]\n",
            "accuracy: 0.9792, precision: 0.9792, recall: 0.9792, fscore: 0.9792, loss: 279.1489 ||: 100%|██████████| 181/181 [00:24<00:00,  7.24it/s]\n",
            "accuracy: 0.9811, precision: 0.9811, recall: 0.9811, fscore: 0.9811, loss: 240.8942 ||: 100%|██████████| 6/6 [00:00<00:00, 10.89it/s]\n",
            "accuracy: 0.9813, precision: 0.9813, recall: 0.9813, fscore: 0.9813, loss: 247.1837 ||: 100%|██████████| 181/181 [00:25<00:00,  7.20it/s]\n",
            "accuracy: 0.9829, precision: 0.9829, recall: 0.9829, fscore: 0.9829, loss: 213.0824 ||: 100%|██████████| 6/6 [00:00<00:00, 11.24it/s]\n",
            "accuracy: 0.9831, precision: 0.9831, recall: 0.9831, fscore: 0.9831, loss: 221.0790 ||: 100%|██████████| 181/181 [00:25<00:00,  7.08it/s]\n",
            "accuracy: 0.9822, precision: 0.9822, recall: 0.9822, fscore: 0.9822, loss: 219.5733 ||: 100%|██████████| 6/6 [00:00<00:00, 11.39it/s]\n",
            "accuracy: 0.9839, precision: 0.9839, recall: 0.9839, fscore: 0.9839, loss: 206.1702 ||: 100%|██████████| 181/181 [00:24<00:00,  7.24it/s]\n",
            "accuracy: 0.9835, precision: 0.9835, recall: 0.9835, fscore: 0.9835, loss: 192.4454 ||: 100%|██████████| 6/6 [00:00<00:00, 10.37it/s]\n",
            "accuracy: 0.9853, precision: 0.9853, recall: 0.9853, fscore: 0.9853, loss: 187.0858 ||: 100%|██████████| 181/181 [00:25<00:00,  7.10it/s]\n",
            "accuracy: 0.9839, precision: 0.9839, recall: 0.9839, fscore: 0.9839, loss: 190.1105 ||: 100%|██████████| 6/6 [00:00<00:00, 11.37it/s]\n",
            "accuracy: 0.9868, precision: 0.9868, recall: 0.9868, fscore: 0.9868, loss: 166.9478 ||: 100%|██████████| 181/181 [00:25<00:00,  6.97it/s]\n",
            "accuracy: 0.9857, precision: 0.9857, recall: 0.9857, fscore: 0.9857, loss: 176.5199 ||: 100%|██████████| 6/6 [00:00<00:00, 10.37it/s]\n",
            "accuracy: 0.9879, precision: 0.9879, recall: 0.9879, fscore: 0.9879, loss: 150.6977 ||: 100%|██████████| 181/181 [00:25<00:00,  7.08it/s]\n",
            "accuracy: 0.9852, precision: 0.9852, recall: 0.9852, fscore: 0.9852, loss: 178.4279 ||: 100%|██████████| 6/6 [00:00<00:00, 11.93it/s]\n",
            "accuracy: 0.9889, precision: 0.9889, recall: 0.9889, fscore: 0.9889, loss: 139.4218 ||: 100%|██████████| 181/181 [00:25<00:00,  7.20it/s]\n",
            "accuracy: 0.9857, precision: 0.9857, recall: 0.9857, fscore: 0.9857, loss: 185.1831 ||: 100%|██████████| 6/6 [00:00<00:00, 11.27it/s]\n",
            "accuracy: 0.9900, precision: 0.9900, recall: 0.9900, fscore: 0.9900, loss: 122.9264 ||: 100%|██████████| 181/181 [00:25<00:00,  7.10it/s]\n",
            "accuracy: 0.9862, precision: 0.9862, recall: 0.9862, fscore: 0.9862, loss: 171.6423 ||: 100%|██████████| 6/6 [00:00<00:00, 10.54it/s]\n",
            "accuracy: 0.9913, precision: 0.9913, recall: 0.9913, fscore: 0.9913, loss: 107.4131 ||: 100%|██████████| 181/181 [00:25<00:00,  7.18it/s]\n",
            "accuracy: 0.9859, precision: 0.9859, recall: 0.9859, fscore: 0.9859, loss: 175.0226 ||: 100%|██████████| 6/6 [00:00<00:00, 11.67it/s]\n",
            "accuracy: 0.9926, precision: 0.9926, recall: 0.9926, fscore: 0.9926, loss: 90.6772 ||: 100%|██████████| 181/181 [00:24<00:00,  7.36it/s]\n",
            "accuracy: 0.9870, precision: 0.9870, recall: 0.9870, fscore: 0.9870, loss: 174.8851 ||: 100%|██████████| 6/6 [00:00<00:00, 11.99it/s]\n",
            "accuracy: 0.9935, precision: 0.9935, recall: 0.9935, fscore: 0.9935, loss: 79.4659 ||: 100%|██████████| 181/181 [00:25<00:00,  7.10it/s]\n",
            "accuracy: 0.9870, precision: 0.9870, recall: 0.9870, fscore: 0.9870, loss: 187.0971 ||: 100%|██████████| 6/6 [00:00<00:00, 10.83it/s]\n",
            "accuracy: 0.9945, precision: 0.9945, recall: 0.9945, fscore: 0.9945, loss: 68.5243 ||: 100%|██████████| 181/181 [00:24<00:00,  7.34it/s]\n",
            "accuracy: 0.9872, precision: 0.9872, recall: 0.9872, fscore: 0.9872, loss: 182.6574 ||: 100%|██████████| 6/6 [00:00<00:00, 10.61it/s]\n",
            "accuracy: 0.9956, precision: 0.9956, recall: 0.9956, fscore: 0.9956, loss: 54.2982 ||: 100%|██████████| 181/181 [00:25<00:00,  7.23it/s]\n",
            "accuracy: 0.9867, precision: 0.9867, recall: 0.9867, fscore: 0.9867, loss: 205.1146 ||: 100%|██████████| 6/6 [00:00<00:00, 10.95it/s]\n",
            "accuracy: 0.9965, precision: 0.9965, recall: 0.9965, fscore: 0.9965, loss: 43.8260 ||: 100%|██████████| 181/181 [00:24<00:00,  7.35it/s]\n",
            "accuracy: 0.9868, precision: 0.9868, recall: 0.9868, fscore: 0.9868, loss: 218.8618 ||: 100%|██████████| 6/6 [00:00<00:00, 11.31it/s]\n"
          ],
          "name": "stderr"
        },
        {
          "output_type": "execute_result",
          "data": {
            "text/plain": [
              "{'best_epoch': 17,\n",
              " 'best_validation_accuracy': 0.9872463081418306,\n",
              " 'best_validation_fscore': 0.9872463345527649,\n",
              " 'best_validation_loss': 182.6574452718099,\n",
              " 'best_validation_precision': 0.9872463345527649,\n",
              " 'best_validation_recall': 0.9872463345527649,\n",
              " 'epoch': 19,\n",
              " 'peak_cpu_memory_MB': 4537.096,\n",
              " 'peak_gpu_0_memory_MB': 3085,\n",
              " 'training_accuracy': 0.9964818344405639,\n",
              " 'training_cpu_memory_MB': 4537.096,\n",
              " 'training_duration': '0:08:48.473534',\n",
              " 'training_epochs': 19,\n",
              " 'training_fscore': 0.9964818358421326,\n",
              " 'training_gpu_0_memory_MB': 3085,\n",
              " 'training_loss': 43.82599611440416,\n",
              " 'training_precision': 0.9964818358421326,\n",
              " 'training_recall': 0.9964818358421326,\n",
              " 'training_start_epoch': 0,\n",
              " 'validation_accuracy': 0.9867724867724867,\n",
              " 'validation_fscore': 0.9867724776268005,\n",
              " 'validation_loss': 218.86179733276367,\n",
              " 'validation_precision': 0.9867724776268005,\n",
              " 'validation_recall': 0.9867724776268005}"
            ]
          },
          "metadata": {
            "tags": []
          },
          "execution_count": 18
        }
      ]
    },
    {
      "cell_type": "code",
      "metadata": {
        "colab": {
          "base_uri": "https://localhost:8080/"
        },
        "id": "0U54xYMRNkuG",
        "outputId": "d858f73b-b43e-459d-c8f8-e419457c8e6f"
      },
      "source": [
        "model.eval()\n",
        "with torch.no_grad():\n",
        "    model.forward_on_instances(test_dataset)\n",
        "    print(model.get_metrics())"
      ],
      "execution_count": 38,
      "outputs": [
        {
          "output_type": "stream",
          "text": [
            "{'accuracy': 0.9845385160122747, 'precision': 0.9845384955406189, 'recall': 0.9845384955406189, 'fscore': 0.9845384955406189}\n"
          ],
          "name": "stdout"
        }
      ]
    },
    {
      "cell_type": "code",
      "metadata": {
        "id": "11HPTUh4kO2X",
        "colab": {
          "base_uri": "https://localhost:8080/"
        },
        "outputId": "22da0481-703d-4e49-d73b-8c42c56b33e0"
      },
      "source": [
        "model.eval()\n",
        "with torch.no_grad():\n",
        "    labels =  model.forward_on_instance(test_dataset[1])['labels']\n",
        "\n",
        "for token, label in zip(test_dataset[1]['tokens'].tokens,labels):\n",
        "    print(token, label)"
      ],
      "execution_count": 22,
      "outputs": [
        {
          "output_type": "stream",
          "text": [
            "Излишне ADJ\n",
            "говорить VERB\n",
            "о ADP\n",
            "том PRON\n",
            ", PUNCT\n",
            "что SCONJ\n",
            ", PUNCT\n",
            "оказавшись VERB\n",
            "снова ADV\n",
            "в ADP\n",
            "камере NOUN\n",
            ", PUNCT\n",
            "Шура PROPN\n",
            "мысленно ADV\n",
            "уже ADV\n",
            "прощалась VERB\n",
            "с ADP\n",
            "жизнью NOUN\n",
            ". PUNCT\n"
          ],
          "name": "stdout"
        }
      ]
    }
  ]
}