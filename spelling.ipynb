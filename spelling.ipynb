{
 "cells": [
  {
   "cell_type": "markdown",
   "metadata": {},
   "source": [
    "# Морфология 2\n",
    "В данном ноутбуке находится задание на триграммы и словарь. В качестве текста будем использовать томик войны и мира: https://goo.gl/qcVTLE \n",
    "\n",
    "Для начала напомним некоторые полезные инструменты на питоне"
   ]
  },
  {
   "cell_type": "markdown",
   "metadata": {},
   "source": [
    "## 1. Инструменты"
   ]
  },
  {
   "cell_type": "markdown",
   "metadata": {},
   "source": [
    "### 1.1. Регулярные выражения\n",
    "Исчерпывающий пост https://habr.com/ru/post/349860/"
   ]
  },
  {
   "cell_type": "code",
   "execution_count": 6,
   "metadata": {},
   "outputs": [
    {
     "name": "stdout",
     "output_type": "stream",
     "text": [
      "Находим числа в строке:  ['49', '432']\n",
      "Простенький токенизатор:  ['How', 'to', 'split', 'text']\n",
      "Еще один токенизатор:  ['How', 'to', 'split', 'text', 'Again']\n",
      "Кирилл\n"
     ]
    }
   ],
   "source": [
    "import re\n",
    "\n",
    "# С помощью рег. выражения можно искать, заменять и сентезировать строки по шаблонам\n",
    "# Парочка простых примеров\n",
    "numbers = re.findall(r'\\d+', r'There is some numbers: 49 and 432')\n",
    "print(u'Находим числа в строке: ', numbers)\n",
    "\n",
    "print(u'Простенький токенизатор: ', re.sub('[,\\.?!]',' ','How, to? split. text!').split())\n",
    "\n",
    "print(u'Еще один токенизатор: ', re.split(r'\\W+', 'How, to? split. text! Again'))\n",
    "\n",
    "print(re.sub('[a-z,\\.?!]', ' ', 'How do you do, Кирилл?', flags=re.IGNORECASE).split()[0])\n",
    "# в качестве тренировки придумайте свой токенизатор в случае, когда из текста нужно получить только русские слова."
   ]
  },
  {
   "cell_type": "markdown",
   "metadata": {},
   "source": [
    "### 1.2. Чтение файлов\n",
    "Чтобы не мучится самим с кодировками, приведем способ чтения файла корпуса."
   ]
  },
  {
   "cell_type": "markdown",
   "metadata": {},
   "source": [
    "Чтобы далее работать только со словами русского языка отфильтруем латинские буквы."
   ]
  },
  {
   "cell_type": "code",
   "execution_count": 99,
   "metadata": {},
   "outputs": [],
   "source": [
    "import io\n",
    "import re\n",
    "wordlilist = None\n",
    "text_file_path = \"wp.txt\"\n",
    "with io.open(text_file_path, \"r\", encoding='utf-8') as text_file:\n",
    "    text = text_file.read()\n",
    "    s_only_letters = re.sub(r'[^\\w\\s]', ' ', text)\n",
    "    s_only_rus_letters = re.sub('[a-zA-Z0-9]', ' ', s_only_letters)\n",
    "    wordlist = [i.lower() for i in s_only_rus_letters.split()]"
   ]
  },
  {
   "cell_type": "markdown",
   "metadata": {},
   "source": [
    "### 1.3. ООП\n",
    "В питоне можно создавать свои классы, скорее всего нам понадобится класс для хранения бора"
   ]
  },
  {
   "cell_type": "code",
   "execution_count": 8,
   "metadata": {},
   "outputs": [],
   "source": [
    "class Node:\n",
    "    def __init__(self):\n",
    "        '''\n",
    "        Simple constructor without params\n",
    "        '''\n",
    "        pass\n",
    "    \n",
    "    def method(self, par):\n",
    "        '''\n",
    "        Simple method with one param\n",
    "        '''\n",
    "        pass\n",
    "    \n",
    "# все данные хранятся в self, поэтому он и передается первым аргументом во все методы"
   ]
  },
  {
   "cell_type": "markdown",
   "metadata": {},
   "source": [
    "### 1.4. pyplot\n",
    "Довольно часто приходится построить какие-нибудт графики и гистограммы для изучения данных, с которыми придется работать. Для этого в питоне есть удобнейший модуль для этого - pyplot. Туториал: https://matplotlib.org/3.1.1/tutorials/introductory/pyplot.html"
   ]
  },
  {
   "cell_type": "code",
   "execution_count": 9,
   "metadata": {},
   "outputs": [],
   "source": [
    "#!pip install matplotlib # Установка модуля\n",
    "import matplotlib.pyplot as plt\n",
    "# команда чтобы картинки рисовались прямо в ноутбуке\n",
    "%matplotlib inline "
   ]
  },
  {
   "cell_type": "code",
   "execution_count": 10,
   "metadata": {},
   "outputs": [
    {
     "data": {
      "text/plain": [
       "[<matplotlib.lines.Line2D at 0x7f6830f7b240>]"
      ]
     },
     "execution_count": 10,
     "metadata": {},
     "output_type": "execute_result"
    },
    {
     "data": {
      "image/png": "[encoded data removed]",
      "text/plain": [
       "<Figure size 432x288 with 1 Axes>"
      ]
     },
     "metadata": {
      "needs_background": "light"
     },
     "output_type": "display_data"
    }
   ],
   "source": [
    "# Посмотрим на график функции x^2\n",
    "data = [i * i for i in range(100)]\n",
    "plt.plot(data)"
   ]
  },
  {
   "cell_type": "code",
   "execution_count": 11,
   "metadata": {},
   "outputs": [
    {
     "data": {
      "text/plain": [
       "(array([32., 13., 10.,  8.,  8.,  6.,  6.,  6.,  5.,  6.]),\n",
       " array([   0. ,  980.1, 1960.2, 2940.3, 3920.4, 4900.5, 5880.6, 6860.7,\n",
       "        7840.8, 8820.9, 9801. ]),\n",
       " <a list of 10 Patch objects>)"
      ]
     },
     "execution_count": 11,
     "metadata": {},
     "output_type": "execute_result"
    },
    {
     "data": {
      "image/png": "[encoded data removed]",
      "text/plain": [
       "<Figure size 432x288 with 1 Axes>"
      ]
     },
     "metadata": {
      "needs_background": "light"
     },
     "output_type": "display_data"
    }
   ],
   "source": [
    "# и распределение по значениям\n",
    "plt.hist(data)"
   ]
  },
  {
   "cell_type": "markdown",
   "metadata": {},
   "source": [
    "Также полезная команда для подсчета времения выполнеия в ячейке"
   ]
  },
  {
   "cell_type": "code",
   "execution_count": null,
   "metadata": {},
   "outputs": [],
   "source": [
    "%%time\n",
    "res = 0\n",
    "for i in range(int(1e8)):\n",
    "    res += 1"
   ]
  },
  {
   "cell_type": "markdown",
   "metadata": {},
   "source": [
    "## 2. Задание\n",
    "Собственно теперь нам потребуется написать подсчет триграмм и бор для словаря, чтобы реализовать простенькую систему исправления ошибок."
   ]
  },
  {
   "cell_type": "markdown",
   "metadata": {},
   "source": [
    "### 2.1. Триграммы\n",
    "Для начала получим словарь триграмма - её кол-во в тексте, не забывая о начале и конце слова.\n",
    "\n",
    "Далее можно построить гистограмму на кол-во вхождений триграмм, и посмотреть самые частые и какая частота у каких-нибудь заведомо странных, например: 'чгк', 'шкя' и подобные. Из полученных данных придумать эвристику, как считать слово с опечаткой. Проверить эвристику по словарю."
   ]
  },
  {
   "cell_type": "code",
   "execution_count": 106,
   "metadata": {},
   "outputs": [],
   "source": [
    "def split_to_trigrams(word):\n",
    "    res = []\n",
    "    if len(word) == 0:\n",
    "        return res\n",
    "    word = \"##\" + word + \"##\"\n",
    "    for ind, i in enumerate(word[:-2]):\n",
    "        key = word[ind:ind+3]\n",
    "        res.append(key)\n",
    "    return res\n",
    "\n",
    "def corpus_trigrams(word_list):\n",
    "    corpus = {}\n",
    "    for word in word_list:\n",
    "        trigrams = split_to_trigrams(word)\n",
    "        for trigram in trigrams:\n",
    "            if trigram not in corpus:\n",
    "                corpus[trigram] = 0\n",
    "            corpus[trigram] += 1\n",
    "    return corpus"
   ]
  },
  {
   "cell_type": "markdown",
   "metadata": {},
   "source": [
    "Построим функию распределения количества триграмм и выберем такое $N$, что суммарное количество триграм, которых встретилось меньше чем $N$ по отдельности, меньше 5% от всего количества триграм."
   ]
  },
  {
   "cell_type": "code",
   "execution_count": 145,
   "metadata": {},
   "outputs": [
    {
     "name": "stdout",
     "output_type": "stream",
     "text": [
      "Number of trigrams 6224\n"
     ]
    },
    {
     "data": {
      "image/png": "[encoded data removed]",
      "text/plain": [
       "<Figure size 432x288 with 1 Axes>"
      ]
     },
     "metadata": {
      "needs_background": "light"
     },
     "output_type": "display_data"
    }
   ],
   "source": [
    "corpus = corpus_trigrams(wordlist)\n",
    "print(u\"Number of trigrams\", len(corpus.keys()))\n",
    "data = [corpus[i] for i in corpus]\n",
    "data.sort()\n",
    "alpha_threshold = 0.001\n",
    "s = float(sum(data))\n",
    "data_ = []\n",
    "S = 0\n",
    "for ind, i in enumerate(data):\n",
    "    S += i\n",
    "    data_.append(S/s)\n",
    "    if S / s <= alpha_threshold:\n",
    "        N_threshold = data[ind]\n",
    "_ = plt.plot(data_)\n",
    "plt.yscale(\"log\")"
   ]
  },
  {
   "cell_type": "markdown",
   "metadata": {},
   "source": [
    "Отнесем к \"ошибочным\" гистограммам все слишком редко встречающиеся. В качестве порога, мы выбрали 5%. Как можно увидеть ниже, мы отфильтруем все триграммы, встречающиеся меньше 19 раз."
   ]
  },
  {
   "cell_type": "code",
   "execution_count": 146,
   "metadata": {},
   "outputs": [
    {
     "data": {
      "text/plain": [
       "1"
      ]
     },
     "execution_count": 146,
     "metadata": {},
     "output_type": "execute_result"
    }
   ],
   "source": [
    "N_threshold"
   ]
  },
  {
   "cell_type": "code",
   "execution_count": 147,
   "metadata": {},
   "outputs": [],
   "source": [
    "corpus = [i for i in corpus if corpus[i] > N_threshold]"
   ]
  },
  {
   "cell_type": "code",
   "execution_count": 148,
   "metadata": {},
   "outputs": [],
   "source": [
    "def is_error(word, corpus, return_trigram=True):\n",
    "    '''is the word with mistake'''\n",
    "    trigrams = split_to_trigrams(word)\n",
    "    for i in trigrams:\n",
    "        if i not in corpus:\n",
    "            if return_trigram:\n",
    "                return True, i\n",
    "            else:\n",
    "                return True\n",
    "    if return_trigram:\n",
    "        return False, \"\"\n",
    "    else:\n",
    "        return False"
   ]
  },
  {
   "cell_type": "code",
   "execution_count": 164,
   "metadata": {},
   "outputs": [
    {
     "name": "stdout",
     "output_type": "stream",
     "text": [
      "Word: привет \t\t is_error: (False, '')\n",
      "Word: приает \t\t is_error: (True, 'иае')\n",
      "Word: рекомендация \t\t is_error: (True, 'дац')\n",
      "Word: жизнь \t\t is_error: (False, '')\n",
      "Word: жизнб \t\t is_error: (True, 'знб')\n"
     ]
    }
   ],
   "source": [
    "words = [\"привет\", \"приает\", \"рекомендация\", \"жизнь\", \"жизнб\"]\n",
    "for word in words:\n",
    "    error = is_error(word, corpus)\n",
    "    print(\"Word: %s \\t\\t is_error:\" % word, error)"
   ]
  },
  {
   "cell_type": "markdown",
   "metadata": {},
   "source": [
    "### 2.2. Бор\n",
    "Далее построим бор, с помощью которого будем искать исправления опечатки в слове. Пока только в случае замены и удаления в конце (Если есть желание, то можно и для всех случаев). Также сравнить по времени с поиском в случае замены в исходном слове последних двух символов и поиске в словаре."
   ]
  },
  {
   "cell_type": "code",
   "execution_count": 244,
   "metadata": {},
   "outputs": [],
   "source": [
    "def reconstruct(node):\n",
    "    s = node.letter\n",
    "    while node.prev is not None:\n",
    "        s = node.prev.letter + s\n",
    "        node = node.prev\n",
    "    return s"
   ]
  },
  {
   "cell_type": "code",
   "execution_count": 315,
   "metadata": {},
   "outputs": [],
   "source": [
    "class Node:\n",
    "    def __init__(self, letter):\n",
    "        self.letter = letter\n",
    "        self.is_red = False\n",
    "        self.children = []\n",
    "        self.prev = None\n",
    "    \n",
    "    def add_child(self, child):\n",
    "        self.children.append(child)\n",
    "        child.prev = self\n",
    "    \n",
    "    def find_word_branch(self, word):\n",
    "        \"\"\"\n",
    "            The additional method for adding word into tree\n",
    "        \"\"\"\n",
    "        ind = 0\n",
    "        parent = self\n",
    "        while ind < len(word):\n",
    "            cur_child = None\n",
    "            for child in parent.children:\n",
    "                if child.letter == word[ind]:\n",
    "                    cur_child = child\n",
    "                    break\n",
    "            if cur_child is None:\n",
    "                return parent, ind\n",
    "            parent = cur_child\n",
    "            ind += 1\n",
    "        return parent, None\n",
    "    \n",
    "    def find_nearest_word(self, word, num_errors=0):\n",
    "        ind = 0\n",
    "        parent = self\n",
    "        # Each variant is (current node, current index of letter in word,\n",
    "        # number of made errors\n",
    "        possible_variants = [(parent, 0, 0)]\n",
    "        final_variants = []\n",
    "        while len(possible_variants) > 0:\n",
    "            new_possible_variant = []\n",
    "            while len(possible_variants) > 0:\n",
    "                variant = possible_variants.pop()\n",
    "                if variant[2] < num_errors:\n",
    "                    # Additional Error in Word\n",
    "                    if variant[1] < len(word):\n",
    "                        new_variant = (variant[0], variant[1] + 1, variant[2] + 1)\n",
    "                        new_possible_variant.append(new_variant)\n",
    "                        for child in variant[0].children:\n",
    "                            # Skipped Error in word\n",
    "                            new_variant = (child, variant[1], variant[2] + 1)\n",
    "                            new_possible_variant.append(new_variant)\n",
    "                            add_error = word[variant[1]] != child.letter\n",
    "                            new_variant = (child, variant[1] + 1, variant[2] + int(add_error))\n",
    "                            new_possible_variant.append(new_variant)\n",
    "                if variant[2] == num_errors and variant[1] < len(word):\n",
    "                    for child in variant[0].children:\n",
    "                        add_error = word[variant[1]] != child.letter\n",
    "                        if add_error == 0:\n",
    "                            new_variant = (child, variant[1] + 1, variant[2])\n",
    "                            new_possible_variant.append(new_variant)\n",
    "            possible_variants = new_possible_variant\n",
    "            for variant in possible_variants:\n",
    "                if variant[0].is_red and variant[1] == len(word):\n",
    "                    final_variants.append(variant)\n",
    "        if len(final_variants) == 0:\n",
    "            return None\n",
    "        final_variants.sort(key=lambda x: x[-1])\n",
    "        opt = final_variants[0][0]\n",
    "        s = opt.letter\n",
    "        while opt.prev is not None:\n",
    "            s = opt.prev.letter + s\n",
    "            opt = opt.prev\n",
    "        return s"
   ]
  },
  {
   "cell_type": "code",
   "execution_count": 316,
   "metadata": {},
   "outputs": [],
   "source": [
    "root = Node(\"\")\n",
    "for word in wordlist:\n",
    "    child, ind = root.find_word_branch(word)\n",
    "    if ind is not None:\n",
    "        node = child\n",
    "        for i in word[ind:]:\n",
    "            node1 = Node(i)\n",
    "            node.add_child(node1)\n",
    "            node = node1\n",
    "        node.is_red = True"
   ]
  },
  {
   "cell_type": "code",
   "execution_count": 358,
   "metadata": {},
   "outputs": [],
   "source": [
    "from nltk.metrics import edit_distance\n",
    "def correct_word(word):\n",
    "    '''returns most similar word from dictionary'''\n",
    "    return root.find_nearest_word(word, 3)\n",
    "\n",
    "def correct_word_naive(word):\n",
    "    '''correct word using generation'''\n",
    "    min_value = None\n",
    "    correct = None\n",
    "    for candidate in wordlist:\n",
    "        cur_dist = edit_distance(candidate, word)\n",
    "        if min_value is None or cur_dist < min_value:\n",
    "            min_value = cur_dist\n",
    "            correct = candidate\n",
    "        if min_value == 0:\n",
    "            return correct\n",
    "    return correct"
   ]
  },
  {
   "cell_type": "code",
   "execution_count": 359,
   "metadata": {},
   "outputs": [
    {
     "name": "stdout",
     "output_type": "stream",
     "text": [
      "лев - лев\n",
      "лив - лев\n"
     ]
    }
   ],
   "source": [
    "print(\"лев -\", correct_word(\"лев\"))\n",
    "print(\"лив -\", correct_word(\"лив\"))"
   ]
  },
  {
   "cell_type": "markdown",
   "metadata": {},
   "source": [
    "### 2.3 Все вместе\n",
    "Теперь соберем поиск и исправление опечаток в одну систему, которая будет принимать текст и править его. Также замерим скорость по сравнению с \"менее наивным подходом\"."
   ]
  },
  {
   "cell_type": "code",
   "execution_count": 360,
   "metadata": {},
   "outputs": [],
   "source": [
    "def correct_mistakes(text):\n",
    "    '''returns corrected text'''\n",
    "    text.split()\n",
    "    correct_text = []\n",
    "    for word in text.split():\n",
    "        correct = correct_word(word)\n",
    "        if correct is None:\n",
    "             correct = word\n",
    "        correct_text.append(correct)\n",
    "    return \" \".join(correct_text)\n",
    "\n",
    "def correct_mistakes_naive(text):\n",
    "    '''returns corrected text using generation'''\n",
    "    text.split()\n",
    "    correct_text = []\n",
    "    for word in text.split():\n",
    "        correct = correct_word_naive(word)\n",
    "        if correct is None:\n",
    "             correct = word\n",
    "        correct_text.append(correct)\n",
    "    return \" \".join(correct_text)"
   ]
  },
  {
   "cell_type": "code",
   "execution_count": 361,
   "metadata": {},
   "outputs": [
    {
     "name": "stdout",
     "output_type": "stream",
     "text": [
      "Бор:  лев николаевич толстой написал книгу война и мир\n",
      "Naive:  лев николаевич толстой написал книгу война и мир\n"
     ]
    }
   ],
   "source": [
    "text = \"Лев Николаевч Толстов нвписл книгуу Война И Мир\"\n",
    "print(\"Бор: \", correct_mistakes(text.lower()))\n",
    "print(\"Naive: \",correct_mistakes_naive(text.lower()))"
   ]
  },
  {
   "cell_type": "markdown",
   "metadata": {},
   "source": [
    "Как мы видим выше, обе реализации работают корректно и исправляют опечатки (Толстов), пропуски (Николаевч) и дополнительные буквы (книгуу) и смесь ошибок (нвписл). Сравним эти реализации теперь по времени."
   ]
  },
  {
   "cell_type": "code",
   "execution_count": 362,
   "metadata": {},
   "outputs": [
    {
     "name": "stdout",
     "output_type": "stream",
     "text": [
      "CPU times: user 439 ms, sys: 0 ns, total: 439 ms\n",
      "Wall time: 438 ms\n"
     ]
    }
   ],
   "source": [
    "%%time\n",
    "_ = correct_mistakes(text.lower())"
   ]
  },
  {
   "cell_type": "code",
   "execution_count": 363,
   "metadata": {},
   "outputs": [
    {
     "name": "stdout",
     "output_type": "stream",
     "text": [
      "CPU times: user 13.9 s, sys: 0 ns, total: 13.9 s\n",
      "Wall time: 13.9 s\n"
     ]
    }
   ],
   "source": [
    "%%time\n",
    "_ = correct_mistakes_naive(text.lower())"
   ]
  },
  {
   "cell_type": "markdown",
   "metadata": {},
   "source": [
    "Как можно видеть выше, бор работает быстрее более чем в 30 раз, чем наивный подход!"
   ]
  },
  {
   "cell_type": "code",
   "execution_count": null,
   "metadata": {},
   "outputs": [],
   "source": []
  }
 ],
 "metadata": {
  "kernelspec": {
   "display_name": "Python 3",
   "language": "python",
   "name": "python3"
  },
  "language_info": {
   "codemirror_mode": {
    "name": "ipython",
    "version": 3
   },
   "file_extension": ".py",
   "mimetype": "text/x-python",
   "name": "python",
   "nbconvert_exporter": "python",
   "pygments_lexer": "ipython3",
   "version": "3.7.3"
  }
 },
 "nbformat": 4,
 "nbformat_minor": 4
}
