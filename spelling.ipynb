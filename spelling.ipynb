{
 "cells": [
  {
   "cell_type": "markdown",
   "metadata": {},
   "source": [
    "# Морфология 2\n",
    "В данном ноутбуке находится задание на триграммы и словарь. В качестве текста будем использовать томик войны и мира: https://goo.gl/qcVTLE \n",
    "\n",
    "Для начала напомним некоторые полезные инструменты на питоне"
   ]
  },
  {
   "cell_type": "markdown",
   "metadata": {},
   "source": [
    "## 1. Инструменты"
   ]
  },
  {
   "cell_type": "markdown",
   "metadata": {},
   "source": [
    "### 1.1. Регулярные выражения\n",
    "Исчерпывающий пост https://habr.com/ru/post/349860/"
   ]
  },
  {
   "cell_type": "code",
   "execution_count": 2,
   "metadata": {},
   "outputs": [
    {
     "name": "stdout",
     "output_type": "stream",
     "text": [
      "Находим числа в строке:  ['49', '432']\n",
      "Простенький токенизатор:  ['How', 'to', 'split', 'text']\n",
      "Еще один токенизатор:  ['How', 'to', 'split', 'text', 'Again']\n"
     ]
    }
   ],
   "source": [
    "import re\n",
    "\n",
    "# С помощью рег. выражения можно искать, заменять и сентезировать строки по шаблонам\n",
    "# Парочка простых примеров\n",
    "numbers = re.findall(r'\\d+', r'There is some numbers: 49 and 432')\n",
    "print('Находим числа в строке: ', numbers)\n",
    "\n",
    "print('Простенький токенизатор: ', re.sub('[,\\.?!]',' ','How, to? split. text!').split())\n",
    "\n",
    "print('Еще один токенизатор: ', re.split(r'\\W+', 'How, to? split. text! Again'))\n",
    "\n",
    "# в качестве тренировки придумайте свой токенизатор в случае, когда из текста нужно получить только русские слова."
   ]
  },
  {
   "cell_type": "code",
   "execution_count": 70,
   "metadata": {},
   "outputs": [
    {
     "name": "stdout",
     "output_type": "stream",
     "text": [
      "Еще один токенизатор:  ['Здравствуй,', 'дорогой', 'друг', 'поживаешь']\n"
     ]
    }
   ],
   "source": [
    "# для только русских слов \n",
    "print('Еще один токенизатор: ', re.findall(r'[а-я,А-Я,ёЁ]+', 'Здравствуй, дорогой  друг! How are you поживаешь?'))"
   ]
  },
  {
   "cell_type": "markdown",
   "metadata": {},
   "source": [
    "### 1.2. Чтение файлов\n",
    "Чтобы не мучится самим с кодировками, приведем способ чтения файла корпуса."
   ]
  },
  {
   "cell_type": "code",
   "execution_count": 4,
   "metadata": {},
   "outputs": [
    {
     "name": "stdout",
     "output_type": "stream",
     "text": [
      "111091\n",
      "['лев', 'николаевич', 'толстой', 'война', 'и', 'мир', 'том', '1', 'часть', 'первая']\n"
     ]
    }
   ],
   "source": [
    "import io\n",
    "\n",
    "text_file_path = 'war_and_peace.txt'\n",
    "wordlist = None\n",
    "\n",
    "with io.open(text_file_path, \"r\", errors='ignore') as text_file:\n",
    "    text = text_file.read()\n",
    "    wordlist = re.split(r'\\W+', text.lower())\n",
    "    # wordlist = Здесь заиспользуем токенизатор. Также приведем все слова к нижнему регистру.\n",
    "print(len(wordlist))\n",
    "print(wordlist[:10])"
   ]
  },
  {
   "cell_type": "markdown",
   "metadata": {},
   "source": [
    "### 1.3. ООП\n",
    "В питоне можно создавать свои классы, скорее всего нам понадобится класс для хранения бора"
   ]
  },
  {
   "cell_type": "code",
   "execution_count": 48,
   "metadata": {},
   "outputs": [],
   "source": [
    "class Node:\n",
    "    def __init__(self):\n",
    "        '''\n",
    "        Simple constructor without params\n",
    "        '''\n",
    "        self.to = dict()\n",
    "        self.count = 0\n",
    "    \n",
    "    \n",
    "class Trie:\n",
    "    def __init__(self):\n",
    "        self.nodes = [Node()]\n",
    "        \n",
    "    def add_word(self, word):\n",
    "        v = 0\n",
    "        \n",
    "        for c in word:\n",
    "            if c not in self.nodes[v].to:\n",
    "                self.nodes[v].to = len(self.nodes)\n",
    "                self.nodes.append(Node())\n",
    "            v = self.nodes[v].to[c]\n",
    "    \n",
    "    def get_node(self, word):\n",
    "        v = 0\n",
    "        \n",
    "        for c in word:\n",
    "            if c not in self.nodes[v].to:\n",
    "                return -1\n",
    "            v = self.nodes[v].to[c]\n",
    "        self.nodes[v].count += 1\n",
    "            \n",
    "    def get_best_continuation(self, v, steps=2):\n",
    "        if steps == 0:\n",
    "            return \"\", self.nodes[v].count\n",
    "        \n",
    "        best_count = self.node[v].count\n",
    "        best_chars = \"\"\n",
    "        \n",
    "        for c, to in self.nodes[v].to:\n",
    "            cur_count, cur_chars = self.get_best_continuation(to, steps-1)\n",
    "            if cur_count > best_count:\n",
    "                best_count = cur_count\n",
    "                best_chars = c + cur_chars\n",
    "        return best_count, best_chars\n",
    "        \n",
    "    \n",
    "# все данные хранятся в self, поэтому он и передается первым аргументом во все методы"
   ]
  },
  {
   "cell_type": "markdown",
   "metadata": {},
   "source": [
    "### 1.4. pyplot\n",
    "Довольно часто приходится построить какие-нибудт графики и гистограммы для изучения данных, с которыми придется работать. Для этого в питоне есть удобнейший модуль для этого - pyplot. Туториал: https://matplotlib.org/3.1.1/tutorials/introductory/pyplot.html"
   ]
  },
  {
   "cell_type": "code",
   "execution_count": 6,
   "metadata": {},
   "outputs": [],
   "source": [
    "#!pip install matplotlib # Установка модуля\n",
    "import matplotlib.pyplot as plt\n",
    "# команда чтобы картинки рисовались прямо в ноутбуке\n",
    "%matplotlib inline "
   ]
  },
  {
   "cell_type": "code",
   "execution_count": 7,
   "metadata": {},
   "outputs": [
    {
     "data": {
      "text/plain": [
       "[<matplotlib.lines.Line2D at 0x7f103780dd90>]"
      ]
     },
     "execution_count": 7,
     "metadata": {},
     "output_type": "execute_result"
    },
    {
     "data": {
      "image/png": "[encoded data removed]",
      "text/plain": [
       "<Figure size 432x288 with 1 Axes>"
      ]
     },
     "metadata": {
      "needs_background": "light"
     },
     "output_type": "display_data"
    }
   ],
   "source": [
    "# Посмотрим на график функции x^2\n",
    "data = [i * i for i in range(100)]\n",
    "plt.plot(data)"
   ]
  },
  {
   "cell_type": "code",
   "execution_count": 8,
   "metadata": {},
   "outputs": [
    {
     "data": {
      "text/plain": [
       "(array([32., 13., 10.,  8.,  8.,  6.,  6.,  6.,  5.,  6.]),\n",
       " array([   0. ,  980.1, 1960.2, 2940.3, 3920.4, 4900.5, 5880.6, 6860.7,\n",
       "        7840.8, 8820.9, 9801. ]),\n",
       " <a list of 10 Patch objects>)"
      ]
     },
     "execution_count": 8,
     "metadata": {},
     "output_type": "execute_result"
    },
    {
     "data": {
      "image/png": "[encoded data removed]",
      "text/plain": [
       "<Figure size 432x288 with 1 Axes>"
      ]
     },
     "metadata": {
      "needs_background": "light"
     },
     "output_type": "display_data"
    }
   ],
   "source": [
    "# и распределение по значениям\n",
    "plt.hist(data)"
   ]
  },
  {
   "cell_type": "markdown",
   "metadata": {},
   "source": [
    "Также полезная команда для подсчета времения выполнеия в ячейке"
   ]
  },
  {
   "cell_type": "code",
   "execution_count": 9,
   "metadata": {},
   "outputs": [
    {
     "name": "stdout",
     "output_type": "stream",
     "text": [
      "CPU times: user 6.93 s, sys: 1.13 ms, total: 6.93 s\n",
      "Wall time: 6.93 s\n"
     ]
    }
   ],
   "source": [
    "%%time\n",
    "res = 0\n",
    "for i in range(int(1e8)):\n",
    "    res += 1"
   ]
  },
  {
   "cell_type": "markdown",
   "metadata": {},
   "source": [
    "## 2. Задание\n",
    "Собственно теперь нам потребуется написать подсчет триграмм и бор для словаря, чтобы реализовать простенькую систему исправления ошибок."
   ]
  },
  {
   "cell_type": "markdown",
   "metadata": {},
   "source": [
    "### 2.1. Триграммы\n",
    "Для начала получим словарь триграмма - её кол-во в тексте, не забывая о начале и конце слова.\n",
    "\n",
    "Далее можно построить гистограмму на кол-во вхождений триграмм, и посмотреть самые частые и какая частота у каких-нибудь заведомо странных, например: 'чгк', 'шкя' и подобные. Из полученных данных придумать эвристику, как считать слово с опечаткой. Проверить эвристику по словарю."
   ]
  },
  {
   "cell_type": "code",
   "execution_count": 57,
   "metadata": {},
   "outputs": [],
   "source": [
    "from collections import Counter\n",
    "\n",
    "def word_trigrams(word):\n",
    "    result = []\n",
    "    \n",
    "    for char_id in range(len(word)):\n",
    "        if char_id < 2:\n",
    "            result.append('#' * (2-char_id) + word[:char_id+1])\n",
    "        else:\n",
    "            result.append(word[char_id-2:char_id+1])\n",
    "    if len(word) > 1:\n",
    "        result.append('#' + word[-2:])    \n",
    "    if len(word):\n",
    "        result.append('##' + word[-1])\n",
    "    return result\n",
    "\n",
    "def corpus_trigrams(word_list):\n",
    "    '''returns trigrams count dictionary'''\n",
    "    \n",
    "    counter = Counter()\n",
    "    for word in word_list:\n",
    "        for trigram in word_trigrams(word):\n",
    "            counter[trigram] += 1\n",
    "    return counter"
   ]
  },
  {
   "cell_type": "markdown",
   "metadata": {},
   "source": [
    "Посмотрим на распределение частот триграм и вероятности наиболее странных из них."
   ]
  },
  {
   "cell_type": "code",
   "execution_count": 58,
   "metadata": {},
   "outputs": [],
   "source": [
    "trigram_dict = corpus_trigrams(wordlist)"
   ]
  },
  {
   "cell_type": "code",
   "execution_count": 59,
   "metadata": {},
   "outputs": [
    {
     "data": {
      "text/plain": [
       "[('##о', 21455),\n",
       " ('##и', 18237),\n",
       " ('##в', 13538),\n",
       " ('##а', 12571),\n",
       " ('##е', 12514),\n",
       " ('##н', 12320),\n",
       " ('##с', 11837),\n",
       " ('##к', 10231),\n",
       " ('##п', 9830),\n",
       " ('##м', 8373)]"
      ]
     },
     "execution_count": 59,
     "metadata": {},
     "output_type": "execute_result"
    }
   ],
   "source": [
    "trigram_dict.most_common(10)"
   ]
  },
  {
   "cell_type": "code",
   "execution_count": 60,
   "metadata": {},
   "outputs": [
    {
     "data": {
      "text/plain": [
       "(array([7.268e+03, 3.840e+02, 1.120e+02, 6.100e+01, 3.000e+01, 2.400e+01,\n",
       "        2.000e+01, 1.500e+01, 6.000e+00, 8.000e+00]),\n",
       " array([1.0000e+00, 1.9740e+02, 3.9380e+02, 5.9020e+02, 7.8660e+02,\n",
       "        9.8300e+02, 1.1794e+03, 1.3758e+03, 1.5722e+03, 1.7686e+03,\n",
       "        1.9650e+03]),\n",
       " <a list of 10 Patch objects>)"
      ]
     },
     "execution_count": 60,
     "metadata": {},
     "output_type": "execute_result"
    },
    {
     "data": {
      "image/png": "[encoded data removed]",
      "text/plain": [
       "<Figure size 432x288 with 1 Axes>"
      ]
     },
     "metadata": {
      "needs_background": "light"
     },
     "output_type": "display_data"
    }
   ],
   "source": [
    "plt.hist([x for x in trigram_dict.values() if x <= 2000], bins=10)"
   ]
  },
  {
   "cell_type": "markdown",
   "metadata": {},
   "source": [
    "Идея: считать, что слова, содержащие хотя бы одну очень редкую триграмму, написаны с ошибкой. "
   ]
  },
  {
   "cell_type": "code",
   "execution_count": 61,
   "metadata": {},
   "outputs": [
    {
     "name": "stdout",
     "output_type": "stream",
     "text": [
      "Доля триграмм, встречающихся <= 1 раз\n",
      "0.17210235825388862\n",
      "Доля триграмм, встречающихся <= 5 раз\n",
      "0.39877069744104365\n",
      "Доля триграмм, встречающихся <= 10 раз\n",
      "0.5163070747616658\n"
     ]
    }
   ],
   "source": [
    "for threshold in [1, 5, 10]:\n",
    "    print(f'Доля триграмм, встречающихся <= {threshold} раз')\n",
    "    print(len([trigram for trigram, count in trigram_dict.items() if count <= threshold]) / len(trigram_dict))"
   ]
  },
  {
   "cell_type": "markdown",
   "metadata": {},
   "source": [
    "Можно увидеть, что очень редких триграмм (встречающихся менее 1 раза) около 19%. Значит, будем считать, что написано с ошибкой только в случае, если какая-то из его триграмм встречается в тексте <= 1 раза."
   ]
  },
  {
   "cell_type": "code",
   "execution_count": 62,
   "metadata": {},
   "outputs": [
    {
     "name": "stdout",
     "output_type": "stream",
     "text": [
      "0\n",
      "0\n",
      "8\n",
      "0\n",
      "3\n",
      "0\n"
     ]
    }
   ],
   "source": [
    "print(trigram_dict['чгк'])\n",
    "print(trigram_dict['шкя'])\n",
    "print(trigram_dict['съе'])\n",
    "print(trigram_dict['еее'])\n",
    "print(trigram_dict['лол'])\n",
    "print(trigram_dict['кек'])"
   ]
  },
  {
   "cell_type": "code",
   "execution_count": 63,
   "metadata": {},
   "outputs": [],
   "source": [
    "def is_error(word):\n",
    "    '''is the word with mistake'''\n",
    "    trigrams = word_trigrams(word)\n",
    "    print(trigrams)\n",
    "    return any(trigram_dict[trigram] <= 1 for trigram in trigrams)"
   ]
  },
  {
   "cell_type": "code",
   "execution_count": 64,
   "metadata": {},
   "outputs": [
    {
     "name": "stdout",
     "output_type": "stream",
     "text": [
      "['##п', '#пр', 'при', 'рив', 'иве', 'вет', '#ет', '##т']\n",
      "False\n",
      "['##л', '#ло', 'лол', '#ол', '##л']\n",
      "False\n",
      "['##к', '#ке', 'кек', '#ек', '##к']\n",
      "True\n"
     ]
    }
   ],
   "source": [
    "print(is_error('привет'))\n",
    "print(is_error('лол'))\n",
    "print(is_error('кек'))"
   ]
  },
  {
   "cell_type": "markdown",
   "metadata": {},
   "source": [
    "### 2.2. Бор\n",
    "Далее построим бор, с помощью которого будем искать исправления опечатки в слове. Пока только в случае замены и удаления в конце (Если есть желание, то можно и для всех случаев). Также сравнить по времени с поиском в случае замены в исходном слове последних двух символов и поиске в словаре."
   ]
  },
  {
   "cell_type": "code",
   "execution_count": null,
   "metadata": {},
   "outputs": [],
   "source": [
    "def correct_word(word):\n",
    "    '''returns most similar word from dictionary'''\n",
    "    if len(word) <= 1:\n",
    "        for ch in range('а', 'я'+1):\n",
    "            if ch in all_word_dict:\n",
    "                return ch\n",
    "    for ch1 in range('а', 'я'+1):\n",
    "        for ch2 in range('а', 'я'+1):\n",
    "            new_word = word[:-2] + ch1 + ch2\n",
    "            if new_word in all_word_dict:\n",
    "                return new_word\n",
    "    \n",
    "def correct_word_naive(word):\n",
    "    '''correct word using generation'''\n",
    "    return trie.get_best_continuation(trie.get_node(word[:-2]))"
   ]
  },
  {
   "cell_type": "markdown",
   "metadata": {},
   "source": [
    "### 2.3 Все вместе\n",
    "Теперь соберем поиск и исправление опечаток в одну систему, которая будет принимать текст и править его. Также замерим скорость по сравнению с \"менее наивным подходом\"."
   ]
  },
  {
   "cell_type": "code",
   "execution_count": null,
   "metadata": {},
   "outputs": [],
   "source": [
    "def correct_mistakes(text):\n",
    "    '''returns corrected text'''\n",
    "    return ' '.join([for word in text.split() correct_word(word) if is_error(word) else word])\n",
    "\n",
    "def correct_mistakes_naive(text):\n",
    "    '''returns corrected text using generation'''\n",
    "    return ' '.join([for word in text.split() correct_word_naive(word) if is_error(word) else word])"
   ]
  }
 ],
 "metadata": {
  "kernelspec": {
   "display_name": "Python 3",
   "language": "python",
   "name": "python3"
  },
  "language_info": {
   "codemirror_mode": {
    "name": "ipython",
    "version": 3
   },
   "file_extension": ".py",
   "mimetype": "text/x-python",
   "name": "python",
   "nbconvert_exporter": "python",
   "pygments_lexer": "ipython3",
   "version": "3.8.3"
  }
 },
 "nbformat": 4,
 "nbformat_minor": 4
}
