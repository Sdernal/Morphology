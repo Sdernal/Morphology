{
 "cells": [
  {
   "cell_type": "markdown",
   "metadata": {},
   "source": [
    "# Морфология 2\n",
    "В данном ноутбуке находится задание на триграммы и словарь. В качестве текста будем использовать томик войны и мира: https://goo.gl/qcVTLE \n",
    "\n",
    "Для начала напомним некоторые полезные инструменты на питоне"
   ]
  },
  {
   "cell_type": "markdown",
   "metadata": {},
   "source": [
    "## 1. Инструменты"
   ]
  },
  {
   "cell_type": "markdown",
   "metadata": {},
   "source": [
    "### 1.1. Регулярные выражения\n",
    "Исчерпывающий пост https://habr.com/ru/post/349860/"
   ]
  },
  {
   "cell_type": "code",
   "execution_count": 12,
   "metadata": {},
   "outputs": [
    {
     "name": "stdout",
     "output_type": "stream",
     "text": [
      "Находим числа в строке:  ['49', '432']\n",
      "Простенький токенизатор:  ['How', 'to', 'split', 'text']\n",
      "Еще один токенизатор:  ['How', 'to', 'split', 'text', 'Again']\n",
      "Русский токенизатор:  ['Простенький', 'токенизатор']\n"
     ]
    }
   ],
   "source": [
    "import re\n",
    "\n",
    "# С помощью рег. выражения можно искать, заменять и сентезировать строки по шаблонам\n",
    "# Парочка простых примеров\n",
    "numbers = re.findall(r'\\d+', r'There is some numbers: 49 and 432')\n",
    "print(u'Находим числа в строке: ', numbers)\n",
    "\n",
    "print(u'Простенький токенизатор: ', re.sub('[,\\.?!]',' ','How, to? split. text!').split())\n",
    "\n",
    "print(u'Еще один токенизатор: ', re.split(r'\\W+', 'How, to? split. text! Again'))\n",
    "\n",
    "# в качестве тренировки придумайте свой токенизатор в случае, когда из текста нужно получить только русские слова.\n",
    "print(u'Русский токенизатор: ', re.findall(r'[а-яА-я]+', 'Простенький токенизатор Again'))"
   ]
  },
  {
   "cell_type": "markdown",
   "metadata": {},
   "source": [
    "### 1.2. Чтение файлов\n",
    "Чтобы не мучится самим с кодировками, приведем способ чтения файла корпуса."
   ]
  },
  {
   "cell_type": "code",
   "execution_count": 18,
   "metadata": {},
   "outputs": [],
   "source": [
    "import io\n",
    "wordlilist = None\n",
    "text_file_path = 'wp.txt'\n",
    "with io.open(text_file_path, \"r\", encoding='utf-8') as text_file:\n",
    "    text = text_file.read()\n",
    "    wordlist = re.findall(r'[а-я]+', text.lower())\n",
    "    # wordlist = Здесь заиспользуем токенизатор. Также приведем все слова к нижнему регистру."
   ]
  },
  {
   "cell_type": "markdown",
   "metadata": {},
   "source": [
    "### 1.3. ООП\n",
    "В питоне можно создавать свои классы, скорее всего нам понадобится класс для хранения бора"
   ]
  },
  {
   "cell_type": "code",
   "execution_count": 72,
   "metadata": {},
   "outputs": [],
   "source": [
    "def add_key(w, key):\n",
    "    if w is not None:\n",
    "        for i in range(len(w)):          \n",
    "            w[i] = key + w[i]\n",
    "    return w\n",
    "\n",
    "def updatewd(w, d, mw, md, key):\n",
    "    if w is not None:\n",
    "        if d > md:\n",
    "            mw = add_key(w, key)\n",
    "            md = d\n",
    "        elif d == md:\n",
    "            if mw is not None:\n",
    "                mw.extend(add_key(w, key))\n",
    "            else:\n",
    "                mw = add_key(w, key)\n",
    "    return mw, md\n",
    "\n",
    "class Node():\n",
    "    def __init__(self):\n",
    "        self.moves = {}\n",
    "        self.fin = False\n",
    "        \n",
    "    def get(Node, symb):\n",
    "        return self.moves.get(symb, None)\n",
    "    \n",
    "    def push(self, word):\n",
    "        if len(word) == 0:\n",
    "            self.fin = True\n",
    "            return\n",
    "        s = word[0]\n",
    "        if not s in self.moves:\n",
    "            self.moves[s] = Node()\n",
    "        self.moves[s].push(word[1:])\n",
    "        \n",
    "    def find(self, word, dist):\n",
    "        if len(word) == 0:\n",
    "            if self.fin:\n",
    "                return [\"\"], dist\n",
    "            if dist > 0:\n",
    "                md = 0\n",
    "                mw = None\n",
    "                for key in self.moves:\n",
    "                    w, d = self.moves[key].find(word, dist-1)\n",
    "                    mw, md = updatewd(w, d, mw, md, key)\n",
    "                        \n",
    "                return mw, md\n",
    "            return None, 0\n",
    "        \n",
    "        md = 0\n",
    "        mw = None\n",
    "        for key in self.moves:\n",
    "            if key == word[0]:\n",
    "                w, d = self.moves[key].find(word[1:], dist)\n",
    "                mw, md = updatewd(w, d, mw, md, key)\n",
    "            elif dist > 0:\n",
    "                #insert\n",
    "                w, d = self.moves[key].find(word, dist-1)\n",
    "                mw, md = updatewd(w, d, mw, md, key)\n",
    "                #change\n",
    "                w, d = self.moves[key].find(word[1:], dist-1)\n",
    "                mw, md = updatewd(w, d, mw, md, key)\n",
    "        #skip \n",
    "        if dist > 0:\n",
    "            w, d = self.find(word[1:], dist-1)\n",
    "            mw, md = updatewd(w, d, mw, md, \"\")\n",
    "        #ab->ba = skip(a)-b-insert(a)\n",
    "\n",
    "        return mw, md\n",
    "    \n",
    "# все данные хранятся в self, поэтому он и передается первым аргументом во все методы"
   ]
  },
  {
   "cell_type": "markdown",
   "metadata": {},
   "source": [
    "### 1.4. pyplot\n",
    "Довольно часто приходится построить какие-нибудт графики и гистограммы для изучения данных, с которыми придется работать. Для этого в питоне есть удобнейший модуль для этого - pyplot. Туториал: https://matplotlib.org/3.1.1/tutorials/introductory/pyplot.html"
   ]
  },
  {
   "cell_type": "code",
   "execution_count": 22,
   "metadata": {},
   "outputs": [],
   "source": [
    "#!pip install matplotlib # Установка модуля\n",
    "import matplotlib.pyplot as plt\n",
    "# команда чтобы картинки рисовались прямо в ноутбуке\n",
    "%matplotlib inline "
   ]
  },
  {
   "cell_type": "code",
   "execution_count": 23,
   "metadata": {},
   "outputs": [
    {
     "data": {
      "text/plain": [
       "[<matplotlib.lines.Line2D at 0x1b2d9f83448>]"
      ]
     },
     "execution_count": 23,
     "metadata": {},
     "output_type": "execute_result"
    },
    {
     "data": {
      "image/png": "[encoded data removed]",
      "text/plain": [
       "<Figure size 432x288 with 1 Axes>"
      ]
     },
     "metadata": {
      "needs_background": "light"
     },
     "output_type": "display_data"
    }
   ],
   "source": [
    "# Посмотрим на график функции x^2\n",
    "data = [i * i for i in range(100)]\n",
    "plt.plot(data)"
   ]
  },
  {
   "cell_type": "code",
   "execution_count": 24,
   "metadata": {},
   "outputs": [
    {
     "data": {
      "text/plain": [
       "(array([32., 13., 10.,  8.,  8.,  6.,  6.,  6.,  5.,  6.]),\n",
       " array([   0. ,  980.1, 1960.2, 2940.3, 3920.4, 4900.5, 5880.6, 6860.7,\n",
       "        7840.8, 8820.9, 9801. ]),\n",
       " <a list of 10 Patch objects>)"
      ]
     },
     "execution_count": 24,
     "metadata": {},
     "output_type": "execute_result"
    },
    {
     "data": {
      "image/png": "[encoded data removed]",
      "text/plain": [
       "<Figure size 432x288 with 1 Axes>"
      ]
     },
     "metadata": {
      "needs_background": "light"
     },
     "output_type": "display_data"
    }
   ],
   "source": [
    "# и распределение по значениям\n",
    "plt.hist(data)"
   ]
  },
  {
   "cell_type": "markdown",
   "metadata": {},
   "source": [
    "Также полезная команда для подсчета времения выполнеия в ячейке"
   ]
  },
  {
   "cell_type": "code",
   "execution_count": 25,
   "metadata": {},
   "outputs": [
    {
     "name": "stdout",
     "output_type": "stream",
     "text": [
      "Wall time: 7.85 s\n"
     ]
    }
   ],
   "source": [
    "%%time\n",
    "res = 0\n",
    "for i in range(int(1e8)):\n",
    "    res += 1"
   ]
  },
  {
   "cell_type": "markdown",
   "metadata": {},
   "source": [
    "## 2. Задание\n",
    "Собственно теперь нам потребуется написать подсчет триграмм и бор для словаря, чтобы реализовать простенькую систему исправления ошибок."
   ]
  },
  {
   "cell_type": "markdown",
   "metadata": {},
   "source": [
    "### 2.1. Триграммы\n",
    "Для начала получим словарь триграмма - её кол-во в тексте, не забывая о начале и конце слова.\n",
    "\n",
    "Далее можно построить гистограмму на кол-во вхождений триграмм, и посмотреть самые частые и какая частота у каких-нибудь заведомо странных, например: 'чгк', 'шкя' и подобные. Из полученных данных придумать эвристику, как считать слово с опечаткой. Проверить эвристику по словарю."
   ]
  },
  {
   "cell_type": "code",
   "execution_count": 64,
   "metadata": {},
   "outputs": [],
   "source": [
    "from collections import defaultdict\n",
    "\n",
    "def corpus_trigrams(word_list):\n",
    "    k = 3\n",
    "    ngramms = defaultdict(float)\n",
    "    \n",
    "    for word in word_list:\n",
    "        word = '##' + word + \"##\"\n",
    "        if len(word) == k + 4:\n",
    "            ngramms[word] += 1\n",
    "        for j in range(len(word) - k + 1):\n",
    "            ngramms[word[j:k+j]] += 1\n",
    "\n",
    "    total = sum(list(ngramms.values()))\n",
    "    for j in ngramms.keys():\n",
    "        ngramms[j] /= total\n",
    "    return ngramms\n",
    "\n",
    "def is_error(word, vocab, limit):\n",
    "    k = 3\n",
    "    word = '##' + word + \"##\"\n",
    "    if len(word) == k + 4 and word in vocab:\n",
    "        return False\n",
    "    for i in range(len(word) - k - 1):\n",
    "        if vocab.get(word[i:i+k], 0) + vocab.get(word[i+1:i+k+1], 0) + \\\n",
    "                vocab.get(word[i+2:i+k+2], 0) < limit:\n",
    "            return True\n",
    "    return False\n",
    "\n",
    "vocab = corpus_trigrams(wordlist)"
   ]
  },
  {
   "cell_type": "code",
   "execution_count": 65,
   "metadata": {},
   "outputs": [
    {
     "name": "stdout",
     "output_type": "stream",
     "text": [
      "Corpus size: 104374, euristic errors: 1065\n",
      "Содержит ли ошибку слово нибо : False\n",
      "Содержит ли ошибку слово собака : False\n",
      "Содержит ли ошибку слово карава : False\n",
      "Содержит ли ошибку слово едрво : False\n"
     ]
    }
   ],
   "source": [
    "limit = 5e-5\n",
    "errors = sum([is_error(word, vocab, limit) for word in wordlist])\n",
    "print(\"Corpus size: {0}, euristic errors: {1}\".format(len(wordlist), errors))\n",
    "print(\"Содержит ли ошибку слово {0} : {1}\".format(\"нибо\", is_error(\"нибо\", vocab, limit)))\n",
    "print(\"Содержит ли ошибку слово {0} : {1}\".format(\"собака\", is_error(\"собака\", vocab, limit)))\n",
    "print(\"Содержит ли ошибку слово {0} : {1}\".format(\"карава\", is_error(\"карава\", vocab, limit)))\n",
    "print(\"Содержит ли ошибку слово {0} : {1}\".format(\"едрво\", is_error(\"едрво\", vocab, limit)))"
   ]
  },
  {
   "cell_type": "code",
   "execution_count": 66,
   "metadata": {},
   "outputs": [
    {
     "name": "stdout",
     "output_type": "stream",
     "text": [
      "Corpus size: 104374, euristic errors: 3196\n",
      "Содержит ли ошибку слово нибо : False\n",
      "Содержит ли ошибку слово собака : False\n",
      "Содержит ли ошибку слово карава : False\n",
      "Содержит ли ошибку слово едрво : True\n"
     ]
    }
   ],
   "source": [
    "limit = 1e-4\n",
    "errors = sum([is_error(word, vocab, limit) for word in wordlist])\n",
    "print(\"Corpus size: {0}, euristic errors: {1}\".format(len(wordlist), errors))\n",
    "print(\"Содержит ли ошибку слово {0} : {1}\".format(\"нибо\", is_error(\"нибо\", vocab, limit)))\n",
    "print(\"Содержит ли ошибку слово {0} : {1}\".format(\"собака\", is_error(\"собака\", vocab, limit)))\n",
    "print(\"Содержит ли ошибку слово {0} : {1}\".format(\"карава\", is_error(\"карава\", vocab, limit)))\n",
    "print(\"Содержит ли ошибку слово {0} : {1}\".format(\"едрво\", is_error(\"едрво\", vocab, limit)))"
   ]
  },
  {
   "cell_type": "code",
   "execution_count": 67,
   "metadata": {},
   "outputs": [
    {
     "name": "stdout",
     "output_type": "stream",
     "text": [
      "Corpus size: 104374, euristic errors: 8724\n",
      "Содержит ли ошибку слово нибо : True\n",
      "Содержит ли ошибку слово собака : False\n",
      "Содержит ли ошибку слово карава : False\n",
      "Содержит ли ошибку слово едрво : True\n"
     ]
    }
   ],
   "source": [
    "limit = 2e-4\n",
    "errors = sum([is_error(word, vocab, limit) for word in wordlist])\n",
    "print(\"Corpus size: {0}, euristic errors: {1}\".format(len(wordlist), errors))\n",
    "print(\"Содержит ли ошибку слово {0} : {1}\".format(\"нибо\", is_error(\"нибо\", vocab, limit)))\n",
    "print(\"Содержит ли ошибку слово {0} : {1}\".format(\"собака\", is_error(\"собака\", vocab, limit)))\n",
    "print(\"Содержит ли ошибку слово {0} : {1}\".format(\"карава\", is_error(\"карава\", vocab, limit)))\n",
    "print(\"Содержит ли ошибку слово {0} : {1}\".format(\"едрво\", is_error(\"едрво\", vocab, limit)))"
   ]
  },
  {
   "cell_type": "code",
   "execution_count": 68,
   "metadata": {},
   "outputs": [
    {
     "name": "stdout",
     "output_type": "stream",
     "text": [
      "Corpus size: 104374, euristic errors: 24492\n",
      "Содержит ли ошибку слово нибо : True\n",
      "Содержит ли ошибку слово собака : True\n",
      "Содержит ли ошибку слово карава : False\n",
      "Содержит ли ошибку слово едрво : True\n"
     ]
    }
   ],
   "source": [
    "limit = 5e-4\n",
    "errors = sum([is_error(word, vocab, limit) for word in wordlist])\n",
    "print(\"Corpus size: {0}, euristic errors: {1}\".format(len(wordlist), errors))\n",
    "print(\"Содержит ли ошибку слово {0} : {1}\".format(\"нибо\", is_error(\"нибо\", vocab, limit)))\n",
    "print(\"Содержит ли ошибку слово {0} : {1}\".format(\"собака\", is_error(\"собака\", vocab, limit)))\n",
    "print(\"Содержит ли ошибку слово {0} : {1}\".format(\"карава\", is_error(\"карава\", vocab, limit)))\n",
    "print(\"Содержит ли ошибку слово {0} : {1}\".format(\"едрво\", is_error(\"едрво\", vocab, limit)))"
   ]
  },
  {
   "cell_type": "markdown",
   "metadata": {},
   "source": [
    "### 2.2. Бор\n",
    "Далее построим бор, с помощью которого будем искать исправления опечатки в слове. Пока только в случае замены и удаления в конце (Если есть желание, то можно и для всех случаев). Также сравнить по времени с поиском в случае замены в исходном слове последних двух символов и поиске в словаре."
   ]
  },
  {
   "cell_type": "code",
   "execution_count": 110,
   "metadata": {},
   "outputs": [],
   "source": [
    "def build_bor(wordlist):\n",
    "    bor = Node()\n",
    "    for word in wordlist:\n",
    "        bor.push(word)\n",
    "    return bor\n",
    "\n",
    "\n",
    "def correct_word(bor, word):\n",
    "    '''returns most similar word from dictionary'''\n",
    "    res = bor.find(word, len(word)//3)[0]\n",
    "    if res:\n",
    "        return res[0]\n",
    "    else:\n",
    "        return word\n",
    "\n",
    "def char_range(c1, c2):\n",
    "    \"\"\"Generates the characters from `c1` to `c2`, inclusive.\"\"\"\n",
    "    for c in range(ord(c1), ord(c2)+1):\n",
    "        yield chr(c)\n",
    "\n",
    "def correct_word_naive(word_dict, word):\n",
    "    '''correct word using generation'''\n",
    "    if len(word) < 2 or word in word_dict:\n",
    "        return word\n",
    "    pref = word[-2:]\n",
    "    candidates = []\n",
    "    for f in char_range('a', 'я'):\n",
    "        for s in char_range('a', 'я'):\n",
    "            candidate = pref + f + s\n",
    "            if candidate in word_dict:\n",
    "                if f == word[-2] or s == word[-1]:\n",
    "                    return candidate\n",
    "                candidates.append(candidate)\n",
    "    if candidates:\n",
    "        return candidates[0]\n",
    "    else:\n",
    "        return word\n",
    "    \n",
    "bor = build_bor(wordlist)"
   ]
  },
  {
   "cell_type": "code",
   "execution_count": 92,
   "metadata": {},
   "outputs": [],
   "source": [
    "word_dict = set(wordlist[:100])"
   ]
  },
  {
   "cell_type": "code",
   "execution_count": 80,
   "metadata": {},
   "outputs": [
    {
     "name": "stdout",
     "output_type": "stream",
     "text": [
      "небо\n",
      "лошадь\n",
      "зарево\n"
     ]
    }
   ],
   "source": [
    "print(correct_word(bor, \"ебо\"))\n",
    "print(correct_word(bor, \"лашадь\"))\n",
    "print(correct_word(bor, \"едрево\"))"
   ]
  },
  {
   "cell_type": "code",
   "execution_count": 86,
   "metadata": {},
   "outputs": [
    {
     "name": "stdout",
     "output_type": "stream",
     "text": [
      "Wall time: 7.98 s\n"
     ]
    }
   ],
   "source": [
    "%%time\n",
    "for word in wordlist[:100]:\n",
    "    correct_word(bor, word) "
   ]
  },
  {
   "cell_type": "code",
   "execution_count": 91,
   "metadata": {},
   "outputs": [
    {
     "data": {
      "text/plain": [
       "'рамл'"
      ]
     },
     "execution_count": 91,
     "metadata": {},
     "output_type": "execute_result"
    }
   ],
   "source": [
    "correct_word_naive(st, \"рамл\")"
   ]
  },
  {
   "cell_type": "code",
   "execution_count": 95,
   "metadata": {},
   "outputs": [
    {
     "name": "stdout",
     "output_type": "stream",
     "text": [
      "Wall time: 1min 28s\n"
     ]
    }
   ],
   "source": [
    "%%time\n",
    "res = [correct_word_naive(word_dict, word + 'a') for word in wordlist[:100]]"
   ]
  },
  {
   "cell_type": "markdown",
   "metadata": {},
   "source": [
    "### 2.3 Все вместе\n",
    "Теперь соберем поиск и исправление опечаток в одну систему, которая будет принимать текст и править его. Также замерим скорость по сравнению с \"менее наивным подходом\"."
   ]
  },
  {
   "cell_type": "code",
   "execution_count": 118,
   "metadata": {},
   "outputs": [],
   "source": [
    "def correct_mistakes(bor, vocab, text):\n",
    "    tokens = re.findall(r'[а-я]+', text.lower())\n",
    "    res = []\n",
    "    for word in tokens:\n",
    "        if is_error(word, vocab, 1e-3):\n",
    "            res.append(correct_word(bor, word))\n",
    "        else:\n",
    "            res.append(word)\n",
    "    return ' '.join(res)\n",
    "\n",
    "def correct_mistakes_naive(word_dict, text):\n",
    "    '''returns corrected text using generation'''\n",
    "    tokens = re.findall(r'[а-я]+', text.lower())\n",
    "    res = []\n",
    "    for word in tokens:\n",
    "        res.append(correct_word_naive(word_dict, word))\n",
    "    return ' '.join(res)"
   ]
  },
  {
   "cell_type": "code",
   "execution_count": 119,
   "metadata": {},
   "outputs": [],
   "source": [
    "sample = '''лев николаевич талстой война и мип том чусть пегвая е паместья мой верный рап ну что князь генуа и лука стали не\n",
    "бальше как паместьяни фамили бонапарте нет я вас предупреждааю если вы мне ни скажете что у нас вайна если вы еще позволете \n",
    "себе зашишать все гадасты все ужаси этого антихриста права я верю что он антехрест я вас больше не знаю вы уж не друх мой вы \n",
    "уш не мой верный раб как вы говориде ну здравствуйде здравствуйте я вижу что я вас пугаю садитесь и расказывайте так гаворила\n",
    "в июле года известная анна павловна шерер фрейлина и'''"
   ]
  },
  {
   "cell_type": "code",
   "execution_count": 120,
   "metadata": {},
   "outputs": [
    {
     "name": "stdout",
     "output_type": "stream",
     "text": [
      "Wall time: 2.89 s\n"
     ]
    },
    {
     "data": {
      "text/plain": [
       "'лев николаевич толстой война и мир том часть первая е поместья мой верный нап ну что князь генуа и лукка стали не больше как поместьями фамилии бонапарте нет я вас предупреждаю если вы мне ни скажете что у нас война если вы еще позволите себе защищать все гадости все ужасы этого антихриста права я верю что он антихрист я вас больше не знаю вы уж не друг мой вы уш не мой верный раб как вы говорите ну здравствуйте здравствуйте я вижу что я вас пугаю садитесь и рассказывайте так говорила в июле года известная анна павловна шерер фрейлина и'"
      ]
     },
     "execution_count": 120,
     "metadata": {},
     "output_type": "execute_result"
    }
   ],
   "source": [
    "%%time\n",
    "correct_mistakes(bor, vocab, sample) "
   ]
  },
  {
   "cell_type": "code",
   "execution_count": 107,
   "metadata": {},
   "outputs": [
    {
     "name": "stdout",
     "output_type": "stream",
     "text": [
      "Wall time: 20.9 s\n"
     ]
    },
    {
     "data": {
      "text/plain": [
       "'лев николаевич талстой война и мип том чусть пегвая е паместья мой верный рап ну что князь генуа и лука стали не бальше как паместьяни фамили бонапарте нет я вас предупреждааю если вы мне ни скажете что у нас вайна если вы еще позволете себе зашишать все гадасты все ужаси этого антихриста права я верю что он антехрест я вас больше не знаю вы уж не друх мой вы уш не мой верный раб как вы говориде ну здравствуйде здравствуйте я вижу что я вас пугаю садитесь и расказывайте так гаворила в июле года известная анна павловна шерер фрейлина и'"
      ]
     },
     "execution_count": 107,
     "metadata": {},
     "output_type": "execute_result"
    }
   ],
   "source": [
    "%%time\n",
    "correct_mistakes_naive(word_dict, sample) "
   ]
  },
  {
   "cell_type": "code",
   "execution_count": null,
   "metadata": {},
   "outputs": [],
   "source": []
  }
 ],
 "metadata": {
  "kernelspec": {
   "display_name": "Python 3",
   "language": "python",
   "name": "python3"
  },
  "language_info": {
   "codemirror_mode": {
    "name": "ipython",
    "version": 3
   },
   "file_extension": ".py",
   "mimetype": "text/x-python",
   "name": "python",
   "nbconvert_exporter": "python",
   "pygments_lexer": "ipython3",
   "version": "3.7.4"
  }
 },
 "nbformat": 4,
 "nbformat_minor": 2
}
