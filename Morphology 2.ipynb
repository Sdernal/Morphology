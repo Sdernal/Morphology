{
 "cells": [
  {
   "cell_type": "markdown",
   "metadata": {},
   "source": [
    "# Морфология 2\n",
    "В данном ноутбуке находится задание на триграммы и словарь. В качестве текста будем использовать томик войны и мира: https://goo.gl/qcVTLE \n",
    "\n",
    "Для начала напомним некоторые полезные инструменты на питоне"
   ]
  },
  {
   "cell_type": "markdown",
   "metadata": {},
   "source": [
    "## 1. Инструменты"
   ]
  },
  {
   "cell_type": "markdown",
   "metadata": {},
   "source": [
    "### 1.1. Регулярные выражения\n",
    "Исчерпывающий пост https://habr.com/ru/post/349860/"
   ]
  },
  {
   "cell_type": "code",
   "execution_count": 1,
   "metadata": {},
   "outputs": [
    {
     "name": "stdout",
     "output_type": "stream",
     "text": [
      "Находим числа в строке:  ['49', '432']\n",
      "Простенький токенизатор:  ['How', 'to', 'split', 'text']\n",
      "Еще один токенизатор:  ['How', 'to', 'split', 'text', 'Again']\n",
      "Токенизатор для русских слов:  ['Работает', 'ли', 'ёж']\n"
     ]
    }
   ],
   "source": [
    "import re\n",
    "\n",
    "# С помощью рег. выражения можно искать, заменять и сентезировать строки по шаблонам\n",
    "# Парочка простых примеров\n",
    "numbers = re.findall(r'\\d+', r'There is some numbers: 49 and 432')\n",
    "print (u'Находим числа в строке: ', numbers)\n",
    "\n",
    "print (u'Простенький токенизатор: ', re.sub('[,\\.?!]',' ','How, to? split. text!').split())\n",
    "\n",
    "print (u'Еще один токенизатор: ', re.split(r'\\W+', 'How, to? split. text! Again'))\n",
    "\n",
    "# в качестве тренировки придумайте свой токенизатор в случае, когда из текста нужно получить только русские слова.\n",
    "print (u'Токенизатор для русских слов: ', re.sub('[^а-яА-Яё]', ' ', 'How, to? split. text! Работает Again ли ёж?').split())"
   ]
  },
  {
   "cell_type": "markdown",
   "metadata": {},
   "source": [
    "### 1.2. Чтение файлов\n",
    "Чтобы не мучится самим с кодировками, приведем способ чтения файла корпуса."
   ]
  },
  {
   "cell_type": "code",
   "execution_count": 2,
   "metadata": {},
   "outputs": [],
   "source": [
    "import io\n",
    "wordlist = None\n",
    "text_file_path = './wp.txt'\n",
    "with io.open(text_file_path, \"r\") as text_file:\n",
    "    text = text_file.read()\n",
    "    #Здесь заиспользуем токенизатор. Также приведем все слова к нижнему регистру.\n",
    "    wordlist = re.sub('[^а-яА-Яё]', ' ', text.lower()).split()"
   ]
  },
  {
   "cell_type": "markdown",
   "metadata": {},
   "source": [
    "### 1.3. ООП\n",
    "В питоне можно создавать свои классы, скорее всего нам понадобится класс для хранения бора"
   ]
  },
  {
   "cell_type": "code",
   "execution_count": 3,
   "metadata": {},
   "outputs": [],
   "source": [
    "class Node:\n",
    "    def __init__(self):\n",
    "        '''\n",
    "        Simple constructor without params\n",
    "        '''\n",
    "        pass\n",
    "    \n",
    "    def method(self, par):\n",
    "        '''\n",
    "        Simple method with one param\n",
    "        '''\n",
    "        pass\n",
    "    \n",
    "# все данные хранятся в self, поэтому он и передается первым аргументом во все методы"
   ]
  },
  {
   "cell_type": "markdown",
   "metadata": {},
   "source": [
    "### 1.4. pyplot\n",
    "Довольно часто приходится построить какие-нибудт графики и гистограммы для изучения данных, с которыми придется работать. Для этого в питоне есть удобнейший модуль для этого - pyplot. Туториал: https://matplotlib.org/3.1.1/tutorials/introductory/pyplot.html"
   ]
  },
  {
   "cell_type": "code",
   "execution_count": 4,
   "metadata": {},
   "outputs": [],
   "source": [
    "#!pip install matplotlib # Установка модуля\n",
    "import matplotlib.pyplot as plt\n",
    "# команда чтобы картинки рисовались прямо в ноутбуке\n",
    "%matplotlib inline "
   ]
  },
  {
   "cell_type": "code",
   "execution_count": 5,
   "metadata": {},
   "outputs": [
    {
     "data": {
      "text/plain": [
       "[<matplotlib.lines.Line2D at 0x121ca09e8>]"
      ]
     },
     "execution_count": 5,
     "metadata": {},
     "output_type": "execute_result"
    },
    {
     "data": {
      "image/png": "[encoded data removed]",
      "text/plain": [
       "<Figure size 432x288 with 1 Axes>"
      ]
     },
     "metadata": {
      "needs_background": "light"
     },
     "output_type": "display_data"
    }
   ],
   "source": [
    "# Посмотрим на график функции x^2\n",
    "data = [i * i for i in range(100)]\n",
    "plt.plot(data)"
   ]
  },
  {
   "cell_type": "code",
   "execution_count": 6,
   "metadata": {},
   "outputs": [
    {
     "data": {
      "text/plain": [
       "(array([32., 13., 10.,  8.,  8.,  6.,  6.,  6.,  5.,  6.]),\n",
       " array([   0. ,  980.1, 1960.2, 2940.3, 3920.4, 4900.5, 5880.6, 6860.7,\n",
       "        7840.8, 8820.9, 9801. ]),\n",
       " <a list of 10 Patch objects>)"
      ]
     },
     "execution_count": 6,
     "metadata": {},
     "output_type": "execute_result"
    },
    {
     "data": {
      "image/png": "[encoded data removed]",
      "text/plain": [
       "<Figure size 432x288 with 1 Axes>"
      ]
     },
     "metadata": {
      "needs_background": "light"
     },
     "output_type": "display_data"
    }
   ],
   "source": [
    "# и распределение по значениям\n",
    "plt.hist(data)"
   ]
  },
  {
   "cell_type": "markdown",
   "metadata": {},
   "source": [
    "Также полезная команда для подсчета времения выполнеия в ячейке"
   ]
  },
  {
   "cell_type": "code",
   "execution_count": 7,
   "metadata": {},
   "outputs": [
    {
     "name": "stdout",
     "output_type": "stream",
     "text": [
      "CPU times: user 10.2 s, sys: 25.4 ms, total: 10.3 s\n",
      "Wall time: 10.3 s\n"
     ]
    }
   ],
   "source": [
    "%%time\n",
    "res = 0\n",
    "for i in range(int(1e8)):\n",
    "    res += 1"
   ]
  },
  {
   "cell_type": "markdown",
   "metadata": {},
   "source": [
    "## 2. Задание\n",
    "Собственно теперь нам потребуется написать подсчет триграмм и бор для словаря, чтобы реализовать простенькую систему исправления ошибок."
   ]
  },
  {
   "cell_type": "markdown",
   "metadata": {},
   "source": [
    "### 2.1. Триграммы\n",
    "Для начала получим словарь триграмма - её кол-во в тексте, не забывая о начале и конце слова.\n",
    "\n",
    "Далее можно построить гистограмму на кол-во вхождений триграмм, и посмотреть самые частые и какая частота у каких-нибудь заведомо странных, например: 'чгк', 'шкя' и подобные. Из полученных данных придумать эвристику, как считать слово с опечаткой. Проверить эвристику по словарю."
   ]
  },
  {
   "cell_type": "code",
   "execution_count": 37,
   "metadata": {},
   "outputs": [],
   "source": [
    "from nltk import ngrams\n",
    "from collections import Counter\n",
    "\n",
    "n_grams = 3\n",
    "\n",
    "def corpus_trigrams(word_list):\n",
    "    '''returns trigrams count dictionary'''\n",
    "    trigrams_counter = Counter()\n",
    "    for word in word_list:\n",
    "        word_trigrams = get_word_ngrams(word)\n",
    "        for trigram in word_trigrams:\n",
    "            trigrams_counter[trigram] += 1\n",
    "    return trigrams_counter\n",
    "\n",
    "def frequency_trigrams(word_list):\n",
    "    '''returns trigrams frequency dictionary'''\n",
    "    trigrams_dict = corpus_trigrams(word_list)\n",
    "    trigrams_count = sum(trigrams_dict.values())\n",
    "    return {trigram : (count / trigrams_count) for trigram, count in trigrams_dict.most_common()}\n",
    "\n",
    "\n",
    "\n",
    "def is_error(word, trigrams_dict, bound):\n",
    "    '''is the word with mistake'''\n",
    "    for trigram in get_word_ngrams(word):\n",
    "        if not trigram in trigrams_dict.keys() or trigrams_dict[trigram] < bound:\n",
    "            return True\n",
    "    return False\n",
    "\n",
    "def get_word_ngrams(word):\n",
    "    word = '##' + word + '##'\n",
    "    word_trigrams = ngrams(word, n_grams)\n",
    "    return [''.join(trigram) for trigram in word_trigrams]"
   ]
  },
  {
   "cell_type": "code",
   "execution_count": 38,
   "metadata": {},
   "outputs": [
    {
     "name": "stdout",
     "output_type": "stream",
     "text": [
      "чгк: 0 ; шкя: 0\n"
     ]
    }
   ],
   "source": [
    "trigrams_dict = corpus_trigrams(wordlist)\n",
    "print('чгк:',trigrams_dict.get('чгк', 0), '; шкя:', trigrams_dict.get('шкя', 0))"
   ]
  },
  {
   "cell_type": "code",
   "execution_count": 39,
   "metadata": {
    "scrolled": true
   },
   "outputs": [
    {
     "name": "stdout",
     "output_type": "stream",
     "text": [
      "False\n",
      "True\n",
      "\n",
      "False\n",
      "False\n",
      "\n",
      "False\n",
      "False\n",
      "True\n",
      "True\n",
      "\n",
      "False\n",
      "False\n"
     ]
    }
   ],
   "source": [
    "# trigrams_frequency = frequency_trigrams(wordlist)\n",
    "print(is_error(\"корова\", trigrams_dict, 100))\n",
    "print(is_error(\"карова\", trigrams_dict, 100))\n",
    "print('')\n",
    "print(is_error(\"корова\", trigrams_dict, 100))\n",
    "print(is_error(\"корава\", trigrams_dict, 100))\n",
    "print('')\n",
    "print(is_error(\"стол\", trigrams_dict, 10))\n",
    "print(is_error(\"стул\", trigrams_dict, 10))\n",
    "print(is_error(\"столб\", trigrams_dict, 10))\n",
    "print(is_error(\"стобл\", trigrams_dict, 10))\n",
    "print('')\n",
    "print(is_error(\"молоко\", trigrams_dict, 30))\n",
    "print(is_error(\"молако\", trigrams_dict, 30))"
   ]
  },
  {
   "cell_type": "markdown",
   "metadata": {},
   "source": [
    "### 2.2. Бор\n",
    "Далее построим бор, с помощью которого будем искать исправления опечатки в слове. Пока только в случае замены и удаления в конце (Если есть желание, то можно и для всех случаев). Также сравнить по времени с поиском в случае замены в исходном слове последних двух символов и поиске в словаре."
   ]
  },
  {
   "cell_type": "code",
   "execution_count": 108,
   "metadata": {},
   "outputs": [],
   "source": [
    "class BorNode:\n",
    "    def __init__(self, char=''):\n",
    "        self.char = char\n",
    "        self.children = {}\n",
    "        self.is_end_char = False\n",
    "    \n",
    "    def add_word(self, word):\n",
    "        if len(word) == 0:\n",
    "            self.is_end_char = True\n",
    "            return\n",
    "        char = word[0]\n",
    "        next_node = self.children.get(char, None)\n",
    "        if next_node == None:\n",
    "            next_node = BorNode(char)\n",
    "            self.children[char] = next_node\n",
    "        next_node.add_word(word[1:])\n",
    "        \n",
    "        \n",
    "    def get_similar_words(self, word, mistakes_count = 0):\n",
    "        if mistakes_count == 3:\n",
    "            return []\n",
    "        result_words = []\n",
    "        if len(word) == 0:\n",
    "            if self.is_end_char:\n",
    "                return [[self.char, mistakes_count]]\n",
    "            for node in self.children.values():\n",
    "                similar_words = node.get_similar_words('', mistakes_count + 1)\n",
    "                result_words.extend(similar_words)\n",
    "        else:\n",
    "            if self.is_end_char and len(self.children) == 0:\n",
    "                return [[self.char, mistakes_count + len(word)]]\n",
    "            char = word[0]\n",
    "            for node in self.children.values():\n",
    "                similar_words = []\n",
    "                if node.char == char:\n",
    "                    similar_words = node.get_similar_words(word[1:], mistakes_count)\n",
    "                else:\n",
    "                    similar_words = node.get_similar_words(word[1:], mistakes_count + 1)\n",
    "                result_words.extend(similar_words)\n",
    "        \n",
    "        if result_words == []:\n",
    "            return []\n",
    "        for i in range(len(result_words)):\n",
    "            result_words[i][0] = self.char + result_words[i][0]\n",
    "        return result_words\n",
    "    \n",
    "    def __str__(self):\n",
    "        return self.char + ': ' + ','.join(self.children.keys())\n",
    "        \n",
    "        \n",
    "def build_bor_tree(word_list):\n",
    "    bor = BorNode()\n",
    "    for word in word_list:\n",
    "        bor.add_word(word)\n",
    "    return bor"
   ]
  },
  {
   "cell_type": "code",
   "execution_count": 109,
   "metadata": {},
   "outputs": [],
   "source": [
    "bor_test = build_bor_tree(['кот', 'кит', 'кошка'])"
   ]
  },
  {
   "cell_type": "code",
   "execution_count": 110,
   "metadata": {},
   "outputs": [
    {
     "name": "stdout",
     "output_type": "stream",
     "text": [
      ": к\n",
      "к: о,и\n",
      "о: т,ш\n",
      "и: т\n",
      "т: \n",
      "ш: к\n",
      "т: \n",
      "к: а\n",
      "а: \n"
     ]
    }
   ],
   "source": [
    "nodes = []\n",
    "nodes.append(bor_test)\n",
    "while len(nodes) != 0:\n",
    "    node = nodes[0]\n",
    "    print(node)\n",
    "    nodes.remove(node)\n",
    "    for child in node.children.values():\n",
    "        nodes.append(child)"
   ]
  },
  {
   "cell_type": "code",
   "execution_count": 111,
   "metadata": {},
   "outputs": [],
   "source": [
    "bor = build_bor_tree(wordlist)"
   ]
  },
  {
   "cell_type": "code",
   "execution_count": 115,
   "metadata": {},
   "outputs": [],
   "source": [
    "def correct_word(word):\n",
    "    '''returns most similar word from dictionary'''\n",
    "    similar_words = bor.get_similar_words(word)\n",
    "    return sorted(similar_words, key=lambda item:item[1])[0][0]\n",
    "    \n",
    "def correct_word_naive(word):\n",
    "    '''correct word using generation'''\n",
    "    # сгенерировать все слова, которые можно получить из word. Найти минимальное\n",
    "    if word in wordlist:\n",
    "        return word\n",
    "    letters = list(word) + ['', '']\n",
    "    similar_words = []\n",
    "    for pos1 in range(len(word) + 2):\n",
    "        for pos2 in range(pos1, len(word) + 2):\n",
    "            for i in range(ord('а'), ord('я')):\n",
    "                for j in range(ord('а'), ord('я')):\n",
    "                    char1 = chr(i)\n",
    "                    char2 = chr(j)\n",
    "                    current_letters = letters\n",
    "                    current_letters[pos1] = char1\n",
    "                    current_letters[pos2] = char2\n",
    "                    generated_word = ''.join(current_letters)\n",
    "                    if generated_word in wordlist:\n",
    "                        mistakes_count = int(char1 != letters[pos1]) + int(char2 != letters[pos2])\n",
    "                        similar_words.append([generated_word, mistakes_count])\n",
    "    if similar_words == []:\n",
    "        return word\n",
    "    else:\n",
    "        return sorted(similar_words, key=lambda item:item[1])[0][0]"
   ]
  },
  {
   "cell_type": "code",
   "execution_count": 116,
   "metadata": {
    "scrolled": false
   },
   "outputs": [
    {
     "data": {
      "text/plain": [
       "'лев'"
      ]
     },
     "execution_count": 116,
     "metadata": {},
     "output_type": "execute_result"
    }
   ],
   "source": [
    "correct_word('лив')"
   ]
  },
  {
   "cell_type": "code",
   "execution_count": 130,
   "metadata": {},
   "outputs": [
    {
     "data": {
      "text/plain": [
       "'жив'"
      ]
     },
     "execution_count": 130,
     "metadata": {},
     "output_type": "execute_result"
    }
   ],
   "source": [
    "correct_word_naive('лив')"
   ]
  },
  {
   "cell_type": "code",
   "execution_count": 142,
   "metadata": {},
   "outputs": [],
   "source": [
    "import numpy\n",
    "\n",
    "wordlist_sample = numpy.random.choice(wordlist, size=20)\n",
    "wordlist_with_errors = []\n",
    "for word in wordlist_sample:\n",
    "    if len(word) < 2:\n",
    "        continue\n",
    "    number_of_mistakes = numpy.random.choice(range(3), size=1)[0]\n",
    "    chars = numpy.random.choice(range(ord('а'), ord('я')), size=number_of_mistakes, replace=True)\n",
    "    positions = numpy.random.choice(range(len(word) + 2), size=number_of_mistakes)\n",
    "    letters = list(word) + ['','']\n",
    "    for i in range(number_of_mistakes):\n",
    "        letters[positions[i]] = chr(chars[i])\n",
    "    wordlist_with_errors.append(''.join(letters))"
   ]
  },
  {
   "cell_type": "code",
   "execution_count": 143,
   "metadata": {},
   "outputs": [
    {
     "name": "stdout",
     "output_type": "stream",
     "text": [
      "['андрейэ', 'да', 'государь', 'перестать', 'вольтеросском', 'аудрейз', 'переменило', 'егйв', 'улыбкой', 'таки', 'головойр', 'ротн', 'князюм', 'ыости', 'чегоп', 'нещ', 'сделать', 'чио', 'так']\n"
     ]
    }
   ],
   "source": [
    "print(wordlist_with_errors)"
   ]
  },
  {
   "cell_type": "code",
   "execution_count": 144,
   "metadata": {},
   "outputs": [
    {
     "name": "stdout",
     "output_type": "stream",
     "text": [
      "CPU times: user 46.1 ms, sys: 1.39 ms, total: 47.5 ms\n",
      "Wall time: 46.6 ms\n"
     ]
    }
   ],
   "source": [
    "%%time\n",
    "for word in wordlist_with_errors:\n",
    "    correct_word(word)"
   ]
  },
  {
   "cell_type": "code",
   "execution_count": 145,
   "metadata": {},
   "outputs": [
    {
     "name": "stdout",
     "output_type": "stream",
     "text": [
      "CPU times: user 7min 41s, sys: 2.06 s, total: 7min 43s\n",
      "Wall time: 7min 45s\n"
     ]
    }
   ],
   "source": [
    "%%time\n",
    "for word in wordlist_with_errors:\n",
    "    correct_word_naive(word)"
   ]
  },
  {
   "cell_type": "markdown",
   "metadata": {},
   "source": [
    "### 2.3 Все вместе\n",
    "Теперь соберем поиск и исправление опечаток в одну систему, которая будет принимать текст и править его. Также замерим скорость по сравнению с \"менее наивным подходом\"."
   ]
  },
  {
   "cell_type": "code",
   "execution_count": 146,
   "metadata": {},
   "outputs": [],
   "source": [
    "def correct_mistakes(text):\n",
    "    '''returns corrected text'''\n",
    "    words = re.sub('[^а-яА-Яё]', ' ', text.lower()).split()\n",
    "    corrected_words = []\n",
    "    for word in words:\n",
    "        if is_error(word, trigrams_dict, 300):\n",
    "            corrected_words.append(correct_word(word))\n",
    "        else:\n",
    "            corrected_words.append(word)\n",
    "    return ' '.join(corrected_words)\n",
    "\n",
    "\n",
    "def correct_mistakes_naive(text):\n",
    "    '''returns corrected text using generation'''\n",
    "    words = re.sub('[^а-яА-Яё]', ' ', text.lower()).split()\n",
    "    corrected_words = []\n",
    "    for word in words:\n",
    "        if is_error(word, trigrams_dict, 300):\n",
    "            corrected_words.append(correct_word_naive(word))\n",
    "        else:\n",
    "            corrected_words.append(word)\n",
    "    return ' '.join(corrected_words)"
   ]
  },
  {
   "cell_type": "code",
   "execution_count": 147,
   "metadata": {},
   "outputs": [],
   "source": [
    "text_with_errors = '''– Ах, не говорити мни пго Австрию! Я ничево не понимйю, может бить, но Афстрия \n",
    "никогда не хатила и не хотит вайны. Она придает нас. Россия одна должна быть спосительнецей Ефропы. \n",
    "Наш блогадетель знаит свое высокае призванее и будит верен ем. Во адно, ва што я верю. \n",
    "Нашему добраму и чудномю государу предстаит величайшия роль в мере, и он так добродетелин и харош, что Бох \n",
    "не остави ево, и он исполнет свае призванее задавитб гедру революции, каторая тепер ище ужасние в леце этово \n",
    "убийци и зладея.'''"
   ]
  },
  {
   "cell_type": "code",
   "execution_count": 148,
   "metadata": {},
   "outputs": [
    {
     "name": "stdout",
     "output_type": "stream",
     "text": [
      "CPU times: user 160 ms, sys: 2.9 ms, total: 163 ms\n",
      "Wall time: 162 ms\n"
     ]
    },
    {
     "data": {
      "text/plain": [
       "'ах не говорите мои про австрию я ничего не понимаю может бить но австрия никогда не данила и не хотите тайны она придает нас россия одна должна быть спасительницей европы наш благодетель знают свое высокое призвание и будут верен ем во одно ва что я верю нашему доброму и чудному государю предстоит величайшая роль в мере и он так добродетелен и хорош что бог не оставит его и он исполнит свое призвание задавить гидру революции которая теперь ищет ужаснее в лице этово убийцы и злодея'"
      ]
     },
     "execution_count": 148,
     "metadata": {},
     "output_type": "execute_result"
    }
   ],
   "source": [
    "%%time\n",
    "correct_mistakes(text_with_errors)"
   ]
  },
  {
   "cell_type": "code",
   "execution_count": 149,
   "metadata": {},
   "outputs": [
    {
     "ename": "KeyboardInterrupt",
     "evalue": "",
     "output_type": "error",
     "traceback": [
      "\u001b[0;31m---------------------------------------------------------------------------\u001b[0m",
      "\u001b[0;31mKeyboardInterrupt\u001b[0m                         Traceback (most recent call last)",
      "\u001b[0;32m<timed eval>\u001b[0m in \u001b[0;36m<module>\u001b[0;34m\u001b[0m\n",
      "\u001b[0;32m<ipython-input-146-530dc1628dd4>\u001b[0m in \u001b[0;36mcorrect_mistakes_naive\u001b[0;34m(text)\u001b[0m\n\u001b[1;32m     17\u001b[0m     \u001b[0;32mfor\u001b[0m \u001b[0mword\u001b[0m \u001b[0;32min\u001b[0m \u001b[0mwords\u001b[0m\u001b[0;34m:\u001b[0m\u001b[0;34m\u001b[0m\u001b[0;34m\u001b[0m\u001b[0m\n\u001b[1;32m     18\u001b[0m         \u001b[0;32mif\u001b[0m \u001b[0mis_error\u001b[0m\u001b[0;34m(\u001b[0m\u001b[0mword\u001b[0m\u001b[0;34m,\u001b[0m \u001b[0mtrigrams_dict\u001b[0m\u001b[0;34m,\u001b[0m \u001b[0;36m300\u001b[0m\u001b[0;34m)\u001b[0m\u001b[0;34m:\u001b[0m\u001b[0;34m\u001b[0m\u001b[0;34m\u001b[0m\u001b[0m\n\u001b[0;32m---> 19\u001b[0;31m             \u001b[0mcorrected_words\u001b[0m\u001b[0;34m.\u001b[0m\u001b[0mappend\u001b[0m\u001b[0;34m(\u001b[0m\u001b[0mcorrect_word_naive\u001b[0m\u001b[0;34m(\u001b[0m\u001b[0mword\u001b[0m\u001b[0;34m)\u001b[0m\u001b[0;34m)\u001b[0m\u001b[0;34m\u001b[0m\u001b[0;34m\u001b[0m\u001b[0m\n\u001b[0m\u001b[1;32m     20\u001b[0m         \u001b[0;32melse\u001b[0m\u001b[0;34m:\u001b[0m\u001b[0;34m\u001b[0m\u001b[0;34m\u001b[0m\u001b[0m\n\u001b[1;32m     21\u001b[0m             \u001b[0mcorrected_words\u001b[0m\u001b[0;34m.\u001b[0m\u001b[0mappend\u001b[0m\u001b[0;34m(\u001b[0m\u001b[0mword\u001b[0m\u001b[0;34m)\u001b[0m\u001b[0;34m\u001b[0m\u001b[0;34m\u001b[0m\u001b[0m\n",
      "\u001b[0;32m<ipython-input-115-acf498b00bf2>\u001b[0m in \u001b[0;36mcorrect_word_naive\u001b[0;34m(word)\u001b[0m\n\u001b[1;32m     21\u001b[0m                     \u001b[0mcurrent_letters\u001b[0m\u001b[0;34m[\u001b[0m\u001b[0mpos2\u001b[0m\u001b[0;34m]\u001b[0m \u001b[0;34m=\u001b[0m \u001b[0mchar2\u001b[0m\u001b[0;34m\u001b[0m\u001b[0;34m\u001b[0m\u001b[0m\n\u001b[1;32m     22\u001b[0m                     \u001b[0mgenerated_word\u001b[0m \u001b[0;34m=\u001b[0m \u001b[0;34m''\u001b[0m\u001b[0;34m.\u001b[0m\u001b[0mjoin\u001b[0m\u001b[0;34m(\u001b[0m\u001b[0mcurrent_letters\u001b[0m\u001b[0;34m)\u001b[0m\u001b[0;34m\u001b[0m\u001b[0;34m\u001b[0m\u001b[0m\n\u001b[0;32m---> 23\u001b[0;31m                     \u001b[0;32mif\u001b[0m \u001b[0mgenerated_word\u001b[0m \u001b[0;32min\u001b[0m \u001b[0mwordlist\u001b[0m\u001b[0;34m:\u001b[0m\u001b[0;34m\u001b[0m\u001b[0;34m\u001b[0m\u001b[0m\n\u001b[0m\u001b[1;32m     24\u001b[0m                         \u001b[0mmistakes_count\u001b[0m \u001b[0;34m=\u001b[0m \u001b[0mint\u001b[0m\u001b[0;34m(\u001b[0m\u001b[0mchar1\u001b[0m \u001b[0;34m!=\u001b[0m \u001b[0mletters\u001b[0m\u001b[0;34m[\u001b[0m\u001b[0mpos1\u001b[0m\u001b[0;34m]\u001b[0m\u001b[0;34m)\u001b[0m \u001b[0;34m+\u001b[0m \u001b[0mint\u001b[0m\u001b[0;34m(\u001b[0m\u001b[0mchar2\u001b[0m \u001b[0;34m!=\u001b[0m \u001b[0mletters\u001b[0m\u001b[0;34m[\u001b[0m\u001b[0mpos2\u001b[0m\u001b[0;34m]\u001b[0m\u001b[0;34m)\u001b[0m\u001b[0;34m\u001b[0m\u001b[0;34m\u001b[0m\u001b[0m\n\u001b[1;32m     25\u001b[0m                         \u001b[0msimilar_words\u001b[0m\u001b[0;34m.\u001b[0m\u001b[0mappend\u001b[0m\u001b[0;34m(\u001b[0m\u001b[0;34m[\u001b[0m\u001b[0mgenerated_word\u001b[0m\u001b[0;34m,\u001b[0m \u001b[0mmistakes_count\u001b[0m\u001b[0;34m]\u001b[0m\u001b[0;34m)\u001b[0m\u001b[0;34m\u001b[0m\u001b[0;34m\u001b[0m\u001b[0m\n",
      "\u001b[0;31mKeyboardInterrupt\u001b[0m: "
     ]
    }
   ],
   "source": [
    "%%time\n",
    "correct_mistakes_naive(text_with_errors)"
   ]
  },
  {
   "cell_type": "code",
   "execution_count": null,
   "metadata": {},
   "outputs": [],
   "source": []
  }
 ],
 "metadata": {
  "kernelspec": {
   "display_name": "Python 3",
   "language": "python",
   "name": "python3"
  },
  "language_info": {
   "codemirror_mode": {
    "name": "ipython",
    "version": 3
   },
   "file_extension": ".py",
   "mimetype": "text/x-python",
   "name": "python",
   "nbconvert_exporter": "python",
   "pygments_lexer": "ipython3",
   "version": "3.7.3"
  }
 },
 "nbformat": 4,
 "nbformat_minor": 2
}
