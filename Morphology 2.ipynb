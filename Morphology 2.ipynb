{
 "cells": [
  {
   "cell_type": "markdown",
   "metadata": {},
   "source": [
    "# Морфология 2\n",
    "В данном ноутбуке находится задание на триграммы и словарь. В качестве текста будем использовать томик войны и мира: https://goo.gl/qcVTLE \n",
    "\n",
    "Для начала напомним некоторые полезные инструменты на питоне"
   ]
  },
  {
   "cell_type": "markdown",
   "metadata": {},
   "source": [
    "## 1. Инструменты"
   ]
  },
  {
   "cell_type": "markdown",
   "metadata": {},
   "source": [
    "### 1.1. Регулярные выражения\n",
    "Исчерпывающий пост https://habr.com/ru/post/349860/"
   ]
  },
  {
   "cell_type": "code",
   "execution_count": 1,
   "metadata": {},
   "outputs": [
    {
     "name": "stdout",
     "output_type": "stream",
     "text": [
      "Находим числа в строке:  ['49', '432']\n",
      "Простенький токенизатор:  ['How', 'to', 'split', 'text']\n",
      "Еще один токенизатор:  ['How', 'to', 'split', 'text', 'Again']\n"
     ]
    }
   ],
   "source": [
    "import re\n",
    "\n",
    "# С помощью рег. выражения можно искать, заменять и сентезировать строки по шаблонам\n",
    "# Парочка простых примеров\n",
    "numbers = re.findall(r'\\d+', r'There is some numbers: 49 and 432')\n",
    "print (u'Находим числа в строке: ', numbers)\n",
    "\n",
    "print  (u'Простенький токенизатор: ', re.sub('[,\\.?!]',' ','How, to? split. text!').split())\n",
    "\n",
    "print (u'Еще один токенизатор: ', re.split(r'\\W+', 'How, to? split. text! Again'))\n",
    "\n",
    "# в качестве тренировки придумайте свой токенизатор в случае, когда из текста нужно получить только русские слова."
   ]
  },
  {
   "cell_type": "markdown",
   "metadata": {},
   "source": [
    "### 1.2. Чтение файлов\n",
    "Чтобы не мучится самим с кодировками, приведем способ чтения файла корпуса."
   ]
  },
  {
   "cell_type": "code",
   "execution_count": 2,
   "metadata": {},
   "outputs": [],
   "source": [
    "import io\n",
    "wordlilist = None\n",
    "\n",
    "with open('wp.txt', \"r\") as text_file:\n",
    "    text = text_file.read()\n",
    "    # wordlist = Здесь заиспользуем токенизатор. Также приведем все слова к нижнему регистру.\n"
   ]
  },
  {
   "cell_type": "markdown",
   "metadata": {},
   "source": [
    "### 1.3. ООП\n",
    "В питоне можно создавать свои классы, скорее всего нам понадобится класс для хранения бора"
   ]
  },
  {
   "cell_type": "code",
   "execution_count": 38,
   "metadata": {},
   "outputs": [],
   "source": [
    "class Node:\n",
    "    def __init__(self, name):\n",
    "        self.name = name\n",
    "        self.counts = 1\n",
    "        self.nodes = []\n",
    "        \n",
    "    def find_node(self, name):\n",
    "        if len(self.nodes) == 0:\n",
    "            return None\n",
    "        \n",
    "        for node in self.nodes:\n",
    "            if node.name == name:\n",
    "                return node\n",
    "            \n",
    "        return None\n",
    "    \n",
    "    def append(self, node):\n",
    "        self.nodes.append(node)\n",
    "        self.count()\n",
    "        return self.nodes\n",
    "    \n",
    "    def count(self):\n",
    "        self.counts += 1\n",
    "        \n",
    "    def get_most_probable_node(self, n=1):\n",
    "        sorted_nodes = sorted(self.nodes, key=lambda node: node.counts, reverse=True)\n",
    "        return sorted_nodes[:n]\n",
    "    \n",
    "def build_bor(tokens):\n",
    "    firstNode = Node('#')\n",
    "    \n",
    "    for token in tqdm.tqdm_notebook(tokens):\n",
    "        token = token.lower()\n",
    "        token = token+\"#\"\n",
    "        root = firstNode\n",
    "        \n",
    "    for c in token:\n",
    "        node = root.find_node(c)\n",
    "            \n",
    "        if node is not None:\n",
    "            node.count()\n",
    "            root = node\n",
    "        else:\n",
    "            newNode = Node(c)\n",
    "            root.append(newNode)\n",
    "            root = newNode\n",
    "\n",
    "    return firstNode\n",
    "    \n",
    "# все данные хранятся в self, поэтому он и передается первым аргументом во все методы"
   ]
  },
  {
   "cell_type": "markdown",
   "metadata": {},
   "source": [
    "### 1.4. pyplot\n",
    "Довольно часто приходится построить какие-нибудт графики и гистограммы для изучения данных, с которыми придется работать. Для этого в питоне есть удобнейший модуль для этого - pyplot. Туториал: https://matplotlib.org/3.1.1/tutorials/introductory/pyplot.html"
   ]
  },
  {
   "cell_type": "code",
   "execution_count": 4,
   "metadata": {},
   "outputs": [],
   "source": [
    "#!pip install matplotlib # Установка модуля\n",
    "import matplotlib.pyplot as plt\n",
    "# команда чтобы картинки рисовались прямо в ноутбуке\n",
    "%matplotlib inline "
   ]
  },
  {
   "cell_type": "code",
   "execution_count": 5,
   "metadata": {},
   "outputs": [
    {
     "data": {
      "text/plain": [
       "[<matplotlib.lines.Line2D at 0x7fc5b2de66a0>]"
      ]
     },
     "execution_count": 5,
     "metadata": {},
     "output_type": "execute_result"
    },
    {
     "data": {
      "image/png": "[encoded data removed]",
      "text/plain": [
       "<Figure size 432x288 with 1 Axes>"
      ]
     },
     "metadata": {
      "needs_background": "light"
     },
     "output_type": "display_data"
    }
   ],
   "source": [
    "# Посмотрим на график функции x^2\n",
    "data = [i * i for i in range(100)]\n",
    "plt.plot(data)"
   ]
  },
  {
   "cell_type": "code",
   "execution_count": 6,
   "metadata": {},
   "outputs": [
    {
     "data": {
      "text/plain": [
       "(array([32., 13., 10.,  8.,  8.,  6.,  6.,  6.,  5.,  6.]),\n",
       " array([   0. ,  980.1, 1960.2, 2940.3, 3920.4, 4900.5, 5880.6, 6860.7,\n",
       "        7840.8, 8820.9, 9801. ]),\n",
       " <a list of 10 Patch objects>)"
      ]
     },
     "execution_count": 6,
     "metadata": {},
     "output_type": "execute_result"
    },
    {
     "data": {
      "image/png": "[encoded data removed]",
      "text/plain": [
       "<Figure size 432x288 with 1 Axes>"
      ]
     },
     "metadata": {
      "needs_background": "light"
     },
     "output_type": "display_data"
    }
   ],
   "source": [
    "# и распределение по значениям\n",
    "plt.hist(data)"
   ]
  },
  {
   "cell_type": "markdown",
   "metadata": {},
   "source": [
    "Также полезная команда для подсчета времения выполнеия в ячейке"
   ]
  },
  {
   "cell_type": "code",
   "execution_count": 7,
   "metadata": {},
   "outputs": [
    {
     "name": "stdout",
     "output_type": "stream",
     "text": [
      "CPU times: user 6.63 s, sys: 0 ns, total: 6.63 s\n",
      "Wall time: 6.62 s\n"
     ]
    }
   ],
   "source": [
    "%%time\n",
    "res = 0\n",
    "for i in range(int(1e8)):\n",
    "    res += 1"
   ]
  },
  {
   "cell_type": "markdown",
   "metadata": {},
   "source": [
    "## 2. Задание\n",
    "Собственно теперь нам потребуется написать подсчет триграмм и бор для словаря, чтобы реализовать простенькую систему исправления ошибок."
   ]
  },
  {
   "cell_type": "markdown",
   "metadata": {},
   "source": [
    "### 2.1. Триграммы\n",
    "Для начала получим словарь триграмма - её кол-во в тексте, не забывая о начале и конце слова.\n",
    "\n",
    "Далее можно построить гистограмму на кол-во вхождений триграмм, и посмотреть самые частые и какая частота у каких-нибудь заведомо странных, например: 'чгк', 'шкя' и подобные. Из полученных данных придумать эвристику, как считать слово с опечаткой. Проверить эвристику по словарю."
   ]
  },
  {
   "cell_type": "code",
   "execution_count": 8,
   "metadata": {},
   "outputs": [],
   "source": [
    "import collections"
   ]
  },
  {
   "cell_type": "code",
   "execution_count": 9,
   "metadata": {},
   "outputs": [],
   "source": [
    "def tokenize(text):\n",
    "    return re.findall(r'[а-яА-Я]+', text)"
   ]
  },
  {
   "cell_type": "code",
   "execution_count": 60,
   "metadata": {},
   "outputs": [],
   "source": [
    "def corpus_trigrams(word_list):\n",
    "    '''returns trigrams count dictionary'''\n",
    "    trigrams = []\n",
    "\n",
    "    for word in word_list:\n",
    "        for i in range(len(word) - 2):\n",
    "            trigrams.append(word[i:i+3].lower())\n",
    "            \n",
    "    dictionary = collections.Counter(trigrams)\n",
    "    total = sum(list(dictionary.values()))\n",
    "    for key in dictionary.keys():\n",
    "        dictionary[key] = dictionary[key]/total\n",
    "        \n",
    "    return dictionary\n",
    "\n",
    "def is_error(word, dictionary):\n",
    "    '''is the word with mistake'''\n",
    "    \n",
    "    eps = 1e-10\n",
    "    \n",
    "    if word in dictionary:\n",
    "        return False\n",
    "    \n",
    "    mean_prob = 0\n",
    "    \n",
    "    for i in range(len(word) - 2):\n",
    "        ngram = word[i:i+3]\n",
    "        mean_prob += dictionary.get(word[i:i+3], 0)\n",
    "    if mean_prob < 0.005:\n",
    "        return True\n",
    "    return False\n"
   ]
  },
  {
   "cell_type": "code",
   "execution_count": 11,
   "metadata": {},
   "outputs": [],
   "source": [
    "token_text = [s.lower() for s in tokenize(text)]\n",
    "counter = corpus_trigrams(token_text)"
   ]
  },
  {
   "cell_type": "code",
   "execution_count": 12,
   "metadata": {},
   "outputs": [],
   "source": [
    "counter.get(\"корова\")"
   ]
  },
  {
   "cell_type": "code",
   "execution_count": 13,
   "metadata": {},
   "outputs": [
    {
     "name": "stdout",
     "output_type": "stream",
     "text": [
      "0.00434418108375886\n",
      "True\n",
      "0.0076975840256078044\n",
      "False\n"
     ]
    }
   ],
   "source": [
    "word = \"карова\"\n",
    "print(is_error(word, counter))\n",
    "word = \"корова\"\n",
    "print(is_error(word, counter))"
   ]
  },
  {
   "cell_type": "markdown",
   "metadata": {},
   "source": [
    "### 2.2. Бор\n",
    "Далее построим бор, с помощью которого будем искать исправления опечатки в слове. Пока только в случае замены и удаления в конце (Если есть желание, то можно и для всех случаев). Также сравнить по времени с поиском в случае замены в исходном слове последних двух символов и поиске в словаре."
   ]
  },
  {
   "cell_type": "code",
   "execution_count": 14,
   "metadata": {},
   "outputs": [],
   "source": [
    "import Levenshtein"
   ]
  },
  {
   "cell_type": "code",
   "execution_count": 42,
   "metadata": {},
   "outputs": [],
   "source": [
    "def correct_word(word, dictionary):\n",
    "    '''returns most similar word from dictionary'''\n",
    "    max_similarity = 0\n",
    "    most_similar_word = None\n",
    "    \n",
    "    for word_d in dictionary:\n",
    "        similarity = Levenshtein.ratio(word, word_d)\n",
    "        if similarity > max_similarity:\n",
    "            most_similar_word = word_d\n",
    "            max_similarity = similarity\n",
    "            \n",
    "    return most_similar_word\n",
    "    \n",
    "def correct_word_naive(word, bor, dictionary):\n",
    "    '''correct word using generation'''\n",
    "    if word in dictionary:\n",
    "        return word\n",
    "            \n",
    "    similarity = 0\n",
    "    node = bor\n",
    "    prefix = \"\"\n",
    "    \n",
    "    for s in word:\n",
    "        new_node = node.find_node(s)\n",
    "        if new_node is not None:\n",
    "            similarity += 1\n",
    "            prefix += s\n",
    "            node = new_node\n",
    "        else:\n",
    "            break\n",
    "            \n",
    "    suffix = \"\"\n",
    "    \n",
    "    while True:\n",
    "        node = node.get_most_probable_node()[0]\n",
    "        if node.name != \"#\":\n",
    "            suffix += node.name\n",
    "        else:\n",
    "            break\n",
    "    \n",
    "    return prefix + suffix\n"
   ]
  },
  {
   "cell_type": "code",
   "execution_count": 16,
   "metadata": {},
   "outputs": [
    {
     "data": {
      "text/plain": [
       "'дверь'"
      ]
     },
     "execution_count": 16,
     "metadata": {},
     "output_type": "execute_result"
    }
   ],
   "source": [
    "correct_word(\"двирь\", token_text)"
   ]
  },
  {
   "cell_type": "code",
   "execution_count": 17,
   "metadata": {},
   "outputs": [],
   "source": [
    "import tqdm"
   ]
  },
  {
   "cell_type": "code",
   "execution_count": 18,
   "metadata": {},
   "outputs": [
    {
     "name": "stderr",
     "output_type": "stream",
     "text": [
      "/home/daria/Documents/ABBYY/env/lib/python3.6/site-packages/ipykernel_launcher.py:32: TqdmDeprecationWarning: This function will be removed in tqdm==5.0.0\n",
      "Please use `tqdm.notebook.tqdm` instead of `tqdm.tqdm_notebook`\n"
     ]
    },
    {
     "data": {
      "application/vnd.jupyter.widget-view+json": {
       "model_id": "5b707ccbfa144f9f98119c76498cdd63",
       "version_major": 2,
       "version_minor": 0
      },
      "text/plain": [
       "HBox(children=(FloatProgress(value=0.0, max=104374.0), HTML(value='')))"
      ]
     },
     "metadata": {},
     "output_type": "display_data"
    },
    {
     "name": "stdout",
     "output_type": "stream",
     "text": [
      "\n"
     ]
    }
   ],
   "source": [
    "num_tokens = None\n",
    "\n",
    "bor = build_bor(token_text[:num_tokens])"
   ]
  },
  {
   "cell_type": "code",
   "execution_count": 19,
   "metadata": {},
   "outputs": [
    {
     "data": {
      "text/plain": [
       "'дверь'"
      ]
     },
     "execution_count": 19,
     "metadata": {},
     "output_type": "execute_result"
    }
   ],
   "source": [
    "correct_word_naive(\"дверь\", bor, token_text)"
   ]
  },
  {
   "cell_type": "code",
   "execution_count": 45,
   "metadata": {},
   "outputs": [
    {
     "data": {
      "text/plain": [
       "'жителей'"
      ]
     },
     "execution_count": 45,
     "metadata": {},
     "output_type": "execute_result"
    }
   ],
   "source": [
    "correct_word_naive(\"жетелей\", bor, token_text)"
   ]
  },
  {
   "cell_type": "markdown",
   "metadata": {},
   "source": [
    "### 2.3 Все вместе\n",
    "Теперь соберем поиск и исправление опечаток в одну систему, которая будет принимать текст и править его. Также замерим скорость по сравнению с \"менее наивным подходом\"."
   ]
  },
  {
   "cell_type": "code",
   "execution_count": 70,
   "metadata": {},
   "outputs": [],
   "source": [
    "def correct_mistakes(text, dictionary):\n",
    "    '''returns corrected text'''\n",
    "    token_text = tokenize(text)\n",
    "    corrected_text = []\n",
    "    \n",
    "    for word in token_text:\n",
    "        counter = corpus_trigrams(dictionary)\n",
    "        if is_error(word, counter):\n",
    "            word = correct_word(word, dictionary)\n",
    "        corrected_text.append(word)\n",
    "        \n",
    "    return \" \".join(corrected_text)\n",
    "\n",
    "def correct_mistakes_naive(text, bor, dictionary):\n",
    "    '''returns corrected text using generation'''\n",
    "    token_text = tokenize(text)\n",
    "    corrected_text = []\n",
    "    \n",
    "    for word in token_text:\n",
    "        counter = corpus_trigrams(dictionary)\n",
    "        if is_error(word, counter):\n",
    "            word = correct_word_naive(word, bor, dictionary)\n",
    "        corrected_text.append(word)\n",
    "        \n",
    "    return \" \".join(corrected_text)"
   ]
  },
  {
   "cell_type": "code",
   "execution_count": 73,
   "metadata": {},
   "outputs": [
    {
     "name": "stdout",
     "output_type": "stream",
     "text": [
      "CPU times: user 547 ms, sys: 0 ns, total: 547 ms\n",
      "Wall time: 546 ms\n"
     ]
    },
    {
     "data": {
      "text/plain": [
       "'дверь закрыл на ночь'"
      ]
     },
     "execution_count": 73,
     "metadata": {},
     "output_type": "execute_result"
    }
   ],
   "source": [
    "%%time\n",
    "sample_text = \"двирь закрыл на нычь\"\n",
    "correct_mistakes(sample_text, token_text)"
   ]
  },
  {
   "cell_type": "code",
   "execution_count": 65,
   "metadata": {},
   "outputs": [
    {
     "name": "stderr",
     "output_type": "stream",
     "text": [
      "/home/daria/Documents/ABBYY/env/lib/python3.6/site-packages/ipykernel_launcher.py:32: TqdmDeprecationWarning: This function will be removed in tqdm==5.0.0\n",
      "Please use `tqdm.notebook.tqdm` instead of `tqdm.tqdm_notebook`\n"
     ]
    },
    {
     "data": {
      "application/vnd.jupyter.widget-view+json": {
       "model_id": "7b794f3f806548128c0c2d82a22923fd",
       "version_major": 2,
       "version_minor": 0
      },
      "text/plain": [
       "HBox(children=(FloatProgress(value=0.0, max=104374.0), HTML(value='')))"
      ]
     },
     "metadata": {},
     "output_type": "display_data"
    },
    {
     "name": "stdout",
     "output_type": "stream",
     "text": [
      "\n"
     ]
    }
   ],
   "source": [
    "prefix_tree = build_bor(token_text)"
   ]
  },
  {
   "cell_type": "code",
   "execution_count": 72,
   "metadata": {},
   "outputs": [
    {
     "name": "stdout",
     "output_type": "stream",
     "text": [
      "CPU times: user 494 ms, sys: 0 ns, total: 494 ms\n",
      "Wall time: 492 ms\n"
     ]
    },
    {
     "data": {
      "text/plain": [
       "'жителей закрыл на жителей'"
      ]
     },
     "execution_count": 72,
     "metadata": {},
     "output_type": "execute_result"
    }
   ],
   "source": [
    "%%time\n",
    "sample_text = \"двирь закрыл на нычь\"\n",
    "correct_mistakes_naive(sample_text, prefix_tree, token_text)"
   ]
  }
 ],
 "metadata": {
  "kernelspec": {
   "display_name": "abbyy",
   "language": "python",
   "name": "abbyy"
  },
  "language_info": {
   "codemirror_mode": {
    "name": "ipython",
    "version": 3
   },
   "file_extension": ".py",
   "mimetype": "text/x-python",
   "name": "python",
   "nbconvert_exporter": "python",
   "pygments_lexer": "ipython3",
   "version": "3.6.9"
  }
 },
 "nbformat": 4,
 "nbformat_minor": 2
}
