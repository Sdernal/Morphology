{
 "cells": [
  {
   "cell_type": "markdown",
   "metadata": {},
   "source": [
    "# Морфология 1\n",
    "\n",
    "Здесь мы познакомимся с двумя мофрологическими анализоторами: pymorphy и mystem."
   ]
  },
  {
   "cell_type": "code",
   "execution_count": 1,
   "metadata": {},
   "outputs": [],
   "source": [
    "sample_text = u'Гло́кая ку́здра ште́ко будлану́ла бо́кра и курдя́чит бокрёнка'"
   ]
  },
  {
   "cell_type": "markdown",
   "metadata": {},
   "source": [
    "### 1. MyStem"
   ]
  },
  {
   "cell_type": "code",
   "execution_count": 2,
   "metadata": {},
   "outputs": [
    {
     "name": "stdout",
     "output_type": "stream",
     "text": [
      "Collecting pymystem3\n",
      "  Downloading pymystem3-0.2.0-py3-none-any.whl (10 kB)\n",
      "Requirement already satisfied: requests in c:\\users\\marie\\anaconda3\\lib\\site-packages (from pymystem3) (2.24.0)\n",
      "Requirement already satisfied: idna<3,>=2.5 in c:\\users\\marie\\anaconda3\\lib\\site-packages (from requests->pymystem3) (2.10)\n",
      "Requirement already satisfied: certifi>=2017.4.17 in c:\\users\\marie\\anaconda3\\lib\\site-packages (from requests->pymystem3) (2020.12.5)\n",
      "Requirement already satisfied: chardet<4,>=3.0.2 in c:\\users\\marie\\anaconda3\\lib\\site-packages (from requests->pymystem3) (3.0.4)\n",
      "Requirement already satisfied: urllib3!=1.25.0,!=1.25.1,<1.26,>=1.21.1 in c:\\users\\marie\\anaconda3\\lib\\site-packages (from requests->pymystem3) (1.25.11)\n",
      "Installing collected packages: pymystem3\n",
      "Successfully installed pymystem3-0.2.0\n"
     ]
    }
   ],
   "source": [
    "# поставим модуль если он еще не стоит\n",
    "!pip install pymystem3"
   ]
  },
  {
   "cell_type": "code",
   "execution_count": 2,
   "metadata": {},
   "outputs": [],
   "source": [
    "from pymystem3 import Mystem\n",
    "# инициализация собственно инициализатора\n",
    "mystem_analyzer = Mystem(entire_input=False, disambiguation=False)\n",
    "# entire_output - сохранение всего входа (напр. пробелов)\n",
    "# disambiguation - снятие омонимии"
   ]
  },
  {
   "cell_type": "markdown",
   "metadata": {},
   "source": [
    "Две основные функции Mystem:\n",
    "- Проводить мофрологический анализ\n",
    "- Приводить начальные формы для слов в тексте"
   ]
  },
  {
   "cell_type": "code",
   "execution_count": 3,
   "metadata": {},
   "outputs": [],
   "source": [
    "mystem_result = mystem_analyzer.analyze(sample_text)\n",
    "mystem_lemmas = mystem_analyzer.lemmatize(sample_text)"
   ]
  },
  {
   "cell_type": "code",
   "execution_count": 4,
   "metadata": {},
   "outputs": [
    {
     "name": "stdout",
     "output_type": "stream",
     "text": [
      "Гло́кая ку́здра ште́ко будлану́ла бо́кра и курдя́чит бокрёнка\n",
      "глокая\n",
      "куздра\n",
      "штеко\n",
      "будлануть\n",
      "бокра\n",
      "и\n",
      "курдячить\n",
      "бокренка\n"
     ]
    }
   ],
   "source": [
    "# Посмотрим, что у нас получилось при лемматизации \n",
    "# (да, чтобы вывести юникодные строки на втором питоне приходится так извращаться)\n",
    "print (sample_text)\n",
    "for word in mystem_lemmas:    \n",
    "    print (word)"
   ]
  },
  {
   "cell_type": "code",
   "execution_count": 5,
   "metadata": {},
   "outputs": [
    {
     "name": "stdout",
     "output_type": "stream",
     "text": [
      "Гло́кая\n",
      "\t {'lex': 'глокая', 'wt': 0.3605448292, 'qual': 'bastard', 'gr': 'S,ед,жен,неод=им'}\n",
      "\t {'lex': 'глокать', 'wt': 0.3605448292, 'qual': 'bastard', 'gr': 'V,несов=непрош,деепр,пе'}\n",
      "\t {'lex': 'глокая', 'wt': 0.1038369108, 'qual': 'bastard', 'gr': 'S,жен,од=им,ед'}\n",
      "\t {'lex': 'глокай', 'wt': 0.09304979929, 'qual': 'bastard', 'gr': 'S,муж,неод=род,ед'}\n",
      "\t {'lex': 'глокать', 'wt': 0.03306575604, 'qual': 'bastard', 'gr': 'V,несов,нп=непрош,деепр'}\n",
      "\t {'lex': 'глокий', 'wt': 0.01624943977, 'qual': 'bastard', 'gr': 'A=им,ед,полн,жен'}\n",
      "\t {'lex': 'глокать', 'wt': 0.01512198266, 'qual': 'bastard', 'gr': 'V,несов,пе=непрош,деепр'}\n",
      "\t {'lex': 'глокий', 'wt': 0.01077529943, 'qual': 'bastard', 'gr': 'A=им,ед,полн,жен'}\n",
      "\t {'lex': 'глокать', 'wt': 0.006811153662, 'qual': 'bastard', 'gr': 'V,нп=непрош,деепр,несов'}\n",
      "ку́здра\n",
      "\t {'lex': 'куздра', 'wt': 0.6292693823, 'qual': 'bastard', 'gr': 'S,ед,жен,неод=им'}\n",
      "\t {'lex': 'куздра', 'wt': 0.3707306177, 'qual': 'bastard', 'gr': 'S,гео,жен,неод=им,ед'}\n",
      "ште́ко\n",
      "\t {'lex': 'штеко', 'wt': 0.3217673592, 'qual': 'bastard', 'gr': 'S,имя,мж,од=(пр,мн|пр,ед|вин,мн|вин,ед|дат,мн|дат,ед|род,мн|род,ед|твор,мн|твор,ед|им,мн|им,ед)'}\n",
      "\t {'lex': 'штеко', 'wt': 0.2574119755, 'qual': 'bastard', 'gr': 'ADV='}\n",
      "\t {'lex': 'штеко', 'wt': 0.1608460987, 'qual': 'bastard', 'gr': 'S,сред,неод=(пр,мн|пр,ед|вин,мн|вин,ед|дат,мн|дат,ед|род,мн|род,ед|твор,мн|твор,ед|им,мн|им,ед)'}\n",
      "\t {'lex': 'штеко', 'wt': 0.08253134141, 'qual': 'bastard', 'gr': 'S,сред,неод=(вин,ед|им,ед)'}\n",
      "\t {'lex': 'штеко', 'wt': 0.07936870775, 'qual': 'bastard', 'gr': 'S,ед,сред,неод=(вин|им)'}\n",
      "\t {'lex': 'штеко', 'wt': 0.03215211714, 'qual': 'bastard', 'gr': 'S,имя,муж,од=(пр,мн|пр,ед|вин,мн|вин,ед|дат,мн|дат,ед|род,мн|род,ед|твор,мн|твор,ед|им,мн|им,ед)'}\n",
      "\t {'lex': 'штеко', 'wt': 0.03210293606, 'qual': 'bastard', 'gr': 'S,фам,мж,од=(пр,мн|пр,ед|вин,мн|вин,ед|дат,мн|дат,ед|род,мн|род,ед|твор,мн|твор,ед|им,мн|им,ед)'}\n",
      "\t {'lex': 'штеко', 'wt': 0.03208609722, 'qual': 'bastard', 'gr': 'S,гео,ед,муж,неод=(пр|вин|дат|род|твор|им)'}\n",
      "\t {'lex': 'штекий', 'wt': 0.001720046713, 'qual': 'bastard', 'gr': 'A=ед,кр,сред'}\n",
      "\t {'lex': 'штекий', 'wt': 1.332032949e-05, 'qual': 'bastard', 'gr': 'A=ед,кр,сред'}\n",
      "\t {'lex': 'штеко', 'wt': 0, 'qual': 'bastard', 'gr': 'S,имя,ед,муж,од=им'}\n",
      "будлану́ла\n",
      "\t {'lex': 'будлануть', 'wt': 0.2884335962, 'qual': 'bastard', 'gr': 'V,обсц,сов=прош,ед,изъяв,жен'}\n",
      "\t {'lex': 'будлануть', 'wt': 0.2884335962, 'qual': 'bastard', 'gr': 'V,разг,обсц,сов=прош,ед,изъяв,жен'}\n",
      "\t {'lex': 'будланула', 'wt': 0.09985378522, 'qual': 'bastard', 'gr': 'S,имя,жен,од=им,ед'}\n",
      "\t {'lex': 'будлануть', 'wt': 0.05695153583, 'qual': 'bastard', 'gr': 'V,сов,пе=прош,ед,изъяв,жен'}\n",
      "\t {'lex': 'будлануть', 'wt': 0.05212627477, 'qual': 'bastard', 'gr': 'V,сов,пе=прош,ед,изъяв,жен'}\n",
      "\t {'lex': 'будлануть', 'wt': 0.04770114448, 'qual': 'bastard', 'gr': 'V,сов,нп=прош,ед,изъяв,жен'}\n",
      "\t {'lex': 'будлануть', 'wt': 0.04683850382, 'qual': 'bastard', 'gr': 'V,сов,пе=прош,ед,изъяв,жен'}\n",
      "\t {'lex': 'будланула', 'wt': 0.04299689435, 'qual': 'bastard', 'gr': 'S,жен,неод=им,ед'}\n",
      "\t {'lex': 'будланул', 'wt': 0.03753661836, 'qual': 'bastard', 'gr': 'S,муж,од=(вин,ед|род,ед)'}\n",
      "\t {'lex': 'будлануть', 'wt': 0.02766311711, 'qual': 'bastard', 'gr': 'V,сов,нп=прош,ед,изъяв,жен'}\n",
      "\t {'lex': 'будланывать', 'wt': 0.01146493374, 'qual': 'bastard', 'gr': 'V,пе=прош,ед,изъяв,жен,сов'}\n",
      "бо́кра\n",
      "\t {'lex': 'бокра', 'wt': 0.8898982327, 'qual': 'bastard', 'gr': 'S,ед,жен,неод=им'}\n",
      "\t {'lex': 'бокрый', 'wt': 0.1101017673, 'qual': 'bastard', 'gr': 'A=ед,кр,жен'}\n",
      "и\n",
      "\t {'lex': 'и', 'wt': 0.9999770357, 'gr': 'CONJ='}\n",
      "\t {'lex': 'и', 'wt': 1.020511514e-05, 'gr': 'INTJ='}\n",
      "\t {'lex': 'и', 'wt': 6.379604644e-06, 'gr': 'S,сокр=(пр,мн|пр,ед|вин,мн|вин,ед|дат,мн|дат,ед|род,мн|род,ед|твор,мн|твор,ед|им,мн|им,ед)'}\n",
      "\t {'lex': 'и', 'wt': 6.37957056e-06, 'gr': 'PART='}\n",
      "курдя́чит\n",
      "\t {'lex': 'курдячить', 'wt': 0.5, 'qual': 'bastard', 'gr': 'V,обсц,сов,пе=непрош,ед,изъяв,3-л'}\n",
      "\t {'lex': 'курдячить', 'wt': 0.5, 'qual': 'bastard', 'gr': 'V,обсц,несов,пе=непрош,ед,изъяв,3-л'}\n",
      "бокрёнка\n",
      "\t {'lex': 'бокренка', 'wt': 0.2200160995, 'qual': 'bastard', 'gr': 'S,имя,жен,од=им,ед'}\n",
      "\t {'lex': 'бокренок', 'wt': 0.165166425, 'qual': 'bastard', 'gr': 'S,муж,неод=род,ед'}\n",
      "\t {'lex': 'бокренка', 'wt': 0.1392542771, 'qual': 'bastard', 'gr': 'S,жен,од=им,ед'}\n",
      "\t {'lex': 'бокренка', 'wt': 0.1240808471, 'qual': 'bastard', 'gr': 'S,жен,неод=им,ед'}\n",
      "\t {'lex': 'бокренок', 'wt': 0.1205990358, 'qual': 'bastard', 'gr': 'S,муж,неод=род,ед'}\n",
      "\t {'lex': 'бокренок', 'wt': 0.09129371203, 'qual': 'bastard', 'gr': 'S,муж,од=(вин,ед|род,ед)'}\n",
      "\t {'lex': 'бокренка', 'wt': 0.07074299558, 'qual': 'bastard', 'gr': 'S,имя,мж,од=им,ед'}\n",
      "\t {'lex': 'бокренк', 'wt': 0.06884660791, 'qual': 'bastard', 'gr': 'S,имя,муж,од=(вин,ед|род,ед)'}\n"
     ]
    }
   ],
   "source": [
    "# Ну и результат морфологического анализа\n",
    "# выведены всевозможные разборы, чтобы оценить масшатбы\n",
    "for word in mystem_result:\n",
    "    print (word['text'])\n",
    "    for res in word['analysis']:\n",
    "        print ('\\t', repr(res))"
   ]
  },
  {
   "cell_type": "markdown",
   "metadata": {},
   "source": [
    "Создадим теперь анализатор со снятием омонимии"
   ]
  },
  {
   "cell_type": "code",
   "execution_count": 6,
   "metadata": {},
   "outputs": [],
   "source": [
    "mystem_analyzer2 = Mystem(entire_input=False, disambiguation=True)"
   ]
  },
  {
   "cell_type": "code",
   "execution_count": 7,
   "metadata": {},
   "outputs": [],
   "source": [
    "mystem_result2 = mystem_analyzer2.analyze(sample_text)\n",
    "mystem_lemmas2 = mystem_analyzer2.lemmatize(sample_text)"
   ]
  },
  {
   "cell_type": "code",
   "execution_count": 8,
   "metadata": {},
   "outputs": [
    {
     "name": "stdout",
     "output_type": "stream",
     "text": [
      "Гло́кая ку́здра ште́ко будлану́ла бо́кра и курдя́чит бокрёнка\n",
      "глокая глокай\n",
      "куздра куздра\n",
      "штеко штеко\n",
      "будлануть будланул\n",
      "бокра бокра\n",
      "и и\n",
      "курдячить курдячить\n",
      "бокренка бокренок\n"
     ]
    }
   ],
   "source": [
    "print (sample_text)\n",
    "for (word, word2) in zip(mystem_lemmas, mystem_lemmas2):    \n",
    "    print (word, word2)"
   ]
  },
  {
   "cell_type": "code",
   "execution_count": 9,
   "metadata": {},
   "outputs": [
    {
     "name": "stdout",
     "output_type": "stream",
     "text": [
      "Гло́кая\n",
      "\t {'lex': 'глокай', 'wt': 0.09304979929, 'qual': 'bastard', 'gr': 'S,муж,неод=род,ед'}\n",
      "ку́здра\n",
      "\t {'lex': 'куздра', 'wt': 0.6292693823, 'qual': 'bastard', 'gr': 'S,ед,жен,неод=им'}\n",
      "ште́ко\n",
      "\t {'lex': 'штеко', 'wt': 0.2574119755, 'qual': 'bastard', 'gr': 'ADV='}\n",
      "будлану́ла\n",
      "\t {'lex': 'будланул', 'wt': 0.03753661836, 'qual': 'bastard', 'gr': 'S,муж,од=(вин,ед|род,ед)'}\n",
      "бо́кра\n",
      "\t {'lex': 'бокра', 'wt': 0.8898982327, 'qual': 'bastard', 'gr': 'S,ед,жен,неод=им'}\n",
      "и\n",
      "\t {'lex': 'и', 'wt': 0.9999770357, 'gr': 'CONJ='}\n",
      "курдя́чит\n",
      "\t {'lex': 'курдячить', 'wt': 0.5, 'qual': 'bastard', 'gr': 'V,обсц,сов,пе=непрош,ед,изъяв,3-л'}\n",
      "бокрёнка\n",
      "\t {'lex': 'бокренок', 'wt': 0.165166425, 'qual': 'bastard', 'gr': 'S,муж,неод=род,ед'}\n"
     ]
    }
   ],
   "source": [
    "for word in mystem_result2:\n",
    "    print (word['text'])\n",
    "    for res in word['analysis']:\n",
    "        print ('\\t', repr(res))"
   ]
  },
  {
   "cell_type": "markdown",
   "metadata": {},
   "source": [
    "Проблемы MyStem"
   ]
  },
  {
   "cell_type": "code",
   "execution_count": 10,
   "metadata": {},
   "outputs": [
    {
     "name": "stdout",
     "output_type": "stream",
     "text": [
      "александра\n",
      "иванов\n",
      "пойти\n",
      "в\n",
      "кино\n",
      "александра\n",
      "иванов\n",
      "видеть\n",
      "в\n",
      "кино\n",
      "с\n",
      "кто-то\n",
      "воробей\n",
      "сегодня\n",
      "вставать\n",
      "не\n",
      "с\n",
      "тот\n",
      "нога\n"
     ]
    }
   ],
   "source": [
    "disambiguations = [ 'Александра Иванова пошла в кино',\n",
    "                    'Александра Иванова видели в кино с кем-то',\n",
    "                    'Воробьев сегодня встал не с той ноги']\n",
    "\n",
    "disambiguation_results = []\n",
    "for dis in disambiguations:\n",
    "    disambiguation_results.append(mystem_analyzer2.lemmatize(dis))\n",
    "    \n",
    "for res in disambiguation_results:\n",
    "    for word in res:\n",
    "        print (word)\n",
    "    print"
   ]
  },
  {
   "cell_type": "code",
   "execution_count": 11,
   "metadata": {},
   "outputs": [],
   "source": [
    "test_string = 'Ночь, улица, фонарь, аптека, бессмысленный и тусклый свет. Живи еще хоть четверть века — всё будет так. Исхода нет. Умрешь — начнешь опять сначала И повторится всё, как встарь: Ночь, ледяная рябь канала, Аптека, улица, фонарь. '"
   ]
  },
  {
   "cell_type": "code",
   "execution_count": 12,
   "metadata": {},
   "outputs": [],
   "source": [
    "test_lemmas = mystem_analyzer2.lemmatize(test_string)"
   ]
  },
  {
   "cell_type": "code",
   "execution_count": 16,
   "metadata": {},
   "outputs": [
    {
     "data": {
      "text/plain": [
       "{'ночь': 2,\n",
       " 'улица': 2,\n",
       " 'фонарь': 2,\n",
       " 'аптека': 2,\n",
       " 'бессмысленный': 1,\n",
       " 'и': 2,\n",
       " 'тусклый': 1,\n",
       " 'свет': 1,\n",
       " 'жить': 1,\n",
       " 'еще': 1,\n",
       " 'хоть': 1,\n",
       " 'четверть': 1,\n",
       " 'век': 1,\n",
       " 'все': 2,\n",
       " 'быть': 1,\n",
       " 'так': 1,\n",
       " 'исход': 1,\n",
       " 'нет': 1,\n",
       " 'умирать': 1,\n",
       " 'начинать': 1,\n",
       " 'опять': 1,\n",
       " 'сначала': 1,\n",
       " 'повторяться': 1,\n",
       " 'как': 1,\n",
       " 'встарь': 1,\n",
       " 'ледяной': 1,\n",
       " 'рябь': 1,\n",
       " 'канал': 1}"
      ]
     },
     "execution_count": 16,
     "metadata": {},
     "output_type": "execute_result"
    }
   ],
   "source": [
    "from collections import Counter\n",
    "dict(Counter(test_lemmas))"
   ]
  },
  {
   "cell_type": "markdown",
   "metadata": {},
   "source": [
    "#### Задание\n",
    "Для того, чтобы наиграться с MyStem, предлагается написать метод, который находит топ n лексем."
   ]
  },
  {
   "cell_type": "code",
   "execution_count": 17,
   "metadata": {},
   "outputs": [],
   "source": [
    "from collections import Counter"
   ]
  },
  {
   "cell_type": "code",
   "execution_count": 18,
   "metadata": {},
   "outputs": [],
   "source": [
    "def get_top_words(text, n):\n",
    "    '''\n",
    "    :param text: input text in russian\n",
    "    :param n: number of most common words\n",
    "    :return: list of most common lexemas\n",
    "    '''\n",
    "    lemmas_arr = mystem_analyzer2.lemmatize(text)\n",
    "    lem_count_dict = dict(Counter(lemmas_arr))\n",
    "    lem_count_dict_sorted = dict(sorted(lem_count_dict.items(), key=lambda item: item[1]))\n",
    "    result = list(lem_count_dict_sorted.keys())[::-1][:n+1]\n",
    "    return result"
   ]
  },
  {
   "cell_type": "code",
   "execution_count": 19,
   "metadata": {},
   "outputs": [],
   "source": [
    "test_string = 'Ночь, улица, фонарь, аптека, бессмысленный и тусклый свет. Живи еще хоть четверть века — всё будет так. Исхода нет. Умрешь — начнешь опять сначала И повторится всё, как встарь: Ночь, ледяная рябь канала, Аптека, улица, фонарь. '"
   ]
  },
  {
   "cell_type": "code",
   "execution_count": 20,
   "metadata": {},
   "outputs": [
    {
     "data": {
      "text/plain": [
       "['все', 'и', 'аптека', 'фонарь', 'улица', 'ночь', 'канал']"
      ]
     },
     "execution_count": 20,
     "metadata": {},
     "output_type": "execute_result"
    }
   ],
   "source": [
    "get_top_words(test_string, 6)"
   ]
  },
  {
   "cell_type": "markdown",
   "metadata": {},
   "source": [
    "### 2. Pymorphy"
   ]
  },
  {
   "cell_type": "code",
   "execution_count": 44,
   "metadata": {},
   "outputs": [
    {
     "name": "stdout",
     "output_type": "stream",
     "text": [
      "Collecting pymorphy2\n",
      "  Downloading pymorphy2-0.9.1-py3-none-any.whl (55 kB)\n",
      "Collecting pymorphy2-dicts-ru<3.0,>=2.4\n",
      "  Downloading pymorphy2_dicts_ru-2.4.417127.4579844-py2.py3-none-any.whl (8.2 MB)\n",
      "Collecting docopt>=0.6\n",
      "  Downloading docopt-0.6.2.tar.gz (25 kB)\n",
      "Collecting dawg-python>=0.7.1\n",
      "  Downloading DAWG_Python-0.7.2-py2.py3-none-any.whl (11 kB)\n",
      "Building wheels for collected packages: docopt\n",
      "  Building wheel for docopt (setup.py): started\n",
      "  Building wheel for docopt (setup.py): finished with status 'done'\n",
      "  Created wheel for docopt: filename=docopt-0.6.2-py2.py3-none-any.whl size=13709 sha256=5227219345db0444415f5507e9ad160b1e4e8b9f8a4f3a0ef6e8accc0f76d308\n",
      "  Stored in directory: c:\\users\\marie\\appdata\\local\\pip\\cache\\wheels\\72\\b0\\3f\\1d95f96ff986c7dfffe46ce2be4062f38ebd04b506c77c81b9\n",
      "Successfully built docopt\n",
      "Installing collected packages: pymorphy2-dicts-ru, docopt, dawg-python, pymorphy2\n",
      "Successfully installed dawg-python-0.7.2 docopt-0.6.2 pymorphy2-0.9.1 pymorphy2-dicts-ru-2.4.417127.4579844\n",
      "Requirement already up-to-date: pymorphy2-dicts-ru in c:\\users\\marie\\anaconda3\\lib\\site-packages (2.4.417127.4579844)\n"
     ]
    }
   ],
   "source": [
    "# установка модуля и словарей\n",
    "!pip install pymorphy2\n",
    "!pip install -U pymorphy2-dicts-ru"
   ]
  },
  {
   "cell_type": "code",
   "execution_count": 21,
   "metadata": {},
   "outputs": [],
   "source": [
    "# создание анализатора\n",
    "import pymorphy2\n",
    "morph = pymorphy2.MorphAnalyzer()"
   ]
  },
  {
   "cell_type": "code",
   "execution_count": 22,
   "metadata": {},
   "outputs": [],
   "source": [
    "# sample_text = u'Глокая куздра штеко будланула бокра и кудрячит бокренка'\n",
    "# в отличие от mystem работает пословно\n",
    "pymorphy_results = map(lambda x: morph.parse(x), sample_text.split())"
   ]
  },
  {
   "cell_type": "code",
   "execution_count": 23,
   "metadata": {},
   "outputs": [
    {
     "name": "stdout",
     "output_type": "stream",
     "text": [
      "гло́кая\n",
      "\t гло́кай NOUN,anim,masc,Name sing,gent 0.3333421575115817\n",
      "\t гло́кай NOUN,anim,masc,Name sing,accs 0.3333421575115817\n",
      "\t гло́кий ADJF femn,sing,nomn 0.30877564526803436\n",
      "\t гло́кий NOUN,anim,femn,Sgtm,Surn sing,nomn 0.021045665122435473\n",
      "\t гло́кать GRND,impf,intr pres 0.0034943745863666442\n",
      "ку́здра\n",
      "\t ку́здра NOUN,inan,femn,Sgtm,Fixd,Abbr,Geox sing,nomn 0.15000000000000002\n",
      "\t ку́здра NOUN,inan,femn,Sgtm,Fixd,Abbr,Geox sing,gent 0.15000000000000002\n",
      "\t ку́здра NOUN,inan,femn,Sgtm,Fixd,Abbr,Geox sing,datv 0.15000000000000002\n",
      "\t ку́здра NOUN,inan,femn,Sgtm,Fixd,Abbr,Geox sing,accs 0.15000000000000002\n",
      "\t ку́здра NOUN,inan,femn,Sgtm,Fixd,Abbr,Geox sing,ablt 0.15000000000000002\n",
      "\t ку́здра NOUN,inan,femn,Sgtm,Fixd,Abbr,Geox sing,loct 0.15000000000000002\n",
      "\t ку́здра NOUN,inan,femn,Sgtm sing,nomn 0.05\n",
      "\t ку́здра NOUN,inan,femn,Sgtm,Geox sing,nomn 0.05\n",
      "ште́ко\n",
      "\t ште́ко NOUN,anim,ms-f,Fixd,Surn sing,nomn 0.0798025503907856\n",
      "\t ште́ко NOUN,anim,ms-f,Fixd,Surn sing,gent 0.0798025503907856\n",
      "\t ште́ко NOUN,anim,ms-f,Fixd,Surn sing,datv 0.0798025503907856\n",
      "\t ште́ко NOUN,anim,ms-f,Fixd,Surn sing,accs 0.0798025503907856\n",
      "\t ште́ко NOUN,anim,ms-f,Fixd,Surn sing,ablt 0.0798025503907856\n",
      "\t ште́ко NOUN,anim,ms-f,Fixd,Surn sing,loct 0.0798025503907856\n",
      "\t ште́ко NOUN,anim,ms-f,Fixd,Surn plur,nomn 0.0798025503907856\n",
      "\t ште́ко NOUN,anim,ms-f,Fixd,Surn plur,gent 0.0798025503907856\n",
      "\t ште́ко NOUN,anim,ms-f,Fixd,Surn plur,datv 0.0798025503907856\n",
      "\t ште́ко NOUN,anim,ms-f,Fixd,Surn plur,accs 0.0798025503907856\n",
      "\t ште́ко NOUN,anim,ms-f,Fixd,Surn plur,ablt 0.0798025503907856\n",
      "\t ште́ко NOUN,anim,ms-f,Fixd,Surn plur,loct 0.0798025503907856\n",
      "\t ште́ко ADVB 0.021527492115727385\n",
      "\t ште́кий ADJS neut,sing 0.007678595913890023\n",
      "\t ште́ко ADJF,Fixd,Subx,Qual masc,sing,nomn 0.0005484711367064303\n",
      "\t ште́ко ADJF,Fixd,Subx,Qual masc,sing,gent 0.0005484711367064303\n",
      "\t ште́ко ADJF,Fixd,Subx,Qual masc,sing,datv 0.0005484711367064303\n",
      "\t ште́ко ADJF,Fixd,Subx,Qual masc,sing,accs 0.0005484711367064303\n",
      "\t ште́ко ADJF,Fixd,Subx,Qual masc,sing,ablt 0.0005484711367064303\n",
      "\t ште́ко ADJF,Fixd,Subx,Qual masc,sing,loct 0.0005484711367064303\n",
      "\t ште́ко ADJF,Fixd,Subx,Qual femn,sing,nomn 0.0005484711367064303\n",
      "\t ште́ко ADJF,Fixd,Subx,Qual femn,sing,gent 0.0005484711367064303\n",
      "\t ште́ко ADJF,Fixd,Subx,Qual femn,sing,datv 0.0005484711367064303\n",
      "\t ште́ко ADJF,Fixd,Subx,Qual femn,sing,accs 0.0005484711367064303\n",
      "\t ште́ко ADJF,Fixd,Subx,Qual femn,sing,ablt 0.0005484711367064303\n",
      "\t ште́ко ADJF,Fixd,Subx,Qual femn,sing,loct 0.0005484711367064303\n",
      "\t ште́ко ADJF,Fixd,Subx,Qual neut,sing,nomn 0.0005484711367064303\n",
      "\t ште́ко ADJF,Fixd,Subx,Qual neut,sing,gent 0.0005484711367064303\n",
      "\t ште́ко ADJF,Fixd,Subx,Qual neut,sing,datv 0.0005484711367064303\n",
      "\t ште́ко ADJF,Fixd,Subx,Qual neut,sing,accs 0.0005484711367064303\n",
      "\t ште́ко ADJF,Fixd,Subx,Qual neut,sing,ablt 0.0005484711367064303\n",
      "\t ште́ко ADJF,Fixd,Subx,Qual neut,sing,loct 0.0005484711367064303\n",
      "\t ште́ко ADJF,Fixd,Subx,Qual plur,nomn 0.0005484711367064303\n",
      "\t ште́ко ADJF,Fixd,Subx,Qual plur,gent 0.0005484711367064303\n",
      "\t ште́ко ADJF,Fixd,Subx,Qual plur,datv 0.0005484711367064303\n",
      "\t ште́ко ADJF,Fixd,Subx,Qual plur,accs 0.0005484711367064303\n",
      "\t ште́ко ADJF,Fixd,Subx,Qual plur,ablt 0.0005484711367064303\n",
      "\t ште́ко ADJF,Fixd,Subx,Qual plur,loct 0.0005484711367064303\n",
      "будлану́ла\n",
      "\t будлану́ть VERB,impf,tran femn,sing,past,indc 0.8463337230666443\n",
      "\t будлану́л NOUN,inan,masc sing,gent 0.11725405044262568\n",
      "\t будлану́лый ADJS femn,sing 0.03490896943377317\n",
      "\t будлану́ла ADVB 0.0015032570569567395\n",
      "бо́кра\n",
      "\t бо́кр NOUN,inan,masc sing,gent 0.45454545454545453\n",
      "\t бо́кра NOUN,inan,femn sing,nomn 0.45454545454545453\n",
      "\t бо́крый ADJS,Qual femn,sing 0.0909090909090909\n",
      "и\n",
      "\t и CONJ 0.998263\n",
      "\t и PRCL 0.000306\n",
      "\t и INTJ 0.000204\n",
      "\t и NOUN,anim,masc,Fixd,Abbr sing,nomn 0.000102\n",
      "\t и NOUN,anim,masc,Fixd,Abbr sing,gent 0.000102\n",
      "\t и NOUN,anim,masc,Fixd,Abbr sing,datv 0.000102\n",
      "\t и NOUN,anim,masc,Fixd,Abbr sing,accs 0.000102\n",
      "\t и NOUN,anim,masc,Fixd,Abbr sing,ablt 0.000102\n",
      "\t и NOUN,anim,masc,Fixd,Abbr sing,loct 0.000102\n",
      "\t и NOUN,anim,masc,Fixd,Abbr plur,nomn 0.000102\n",
      "\t и NOUN,anim,masc,Fixd,Abbr plur,gent 0.000102\n",
      "\t и NOUN,anim,masc,Fixd,Abbr plur,datv 0.000102\n",
      "\t и NOUN,anim,masc,Fixd,Abbr plur,accs 0.000102\n",
      "\t и NOUN,anim,masc,Fixd,Abbr plur,ablt 0.000102\n",
      "\t и NOUN,anim,masc,Fixd,Abbr plur,loct 0.000102\n",
      "курдя́чит\n",
      "\t курдя́чить VERB,perf,tran sing,3per,futr,indc 0.9407407407407409\n",
      "\t курдя́читый ADJS,Qual masc,sing 0.0074074074074074086\n",
      "\t курдя́чит NOUN,anim,femn,Sgtm,Fixd,Name sing,nomn 0.0074074074074074086\n",
      "\t курдя́чит NOUN,anim,femn,Sgtm,Fixd,Name sing,gent 0.0074074074074074086\n",
      "\t курдя́чит NOUN,anim,femn,Sgtm,Fixd,Name sing,datv 0.0074074074074074086\n",
      "\t курдя́чит NOUN,anim,femn,Sgtm,Fixd,Name sing,accs 0.0074074074074074086\n",
      "\t курдя́чит NOUN,anim,femn,Sgtm,Fixd,Name sing,ablt 0.0074074074074074086\n",
      "\t курдя́чит NOUN,anim,femn,Sgtm,Fixd,Name sing,loct 0.0074074074074074086\n",
      "\t курдя́читый ADJS masc,sing 0.0074074074074074086\n",
      "бокрёнка\n",
      "\t бокрёнок NOUN,anim,masc sing,gent 0.49999999999999994\n",
      "\t бокрёнок NOUN,anim,masc sing,accs 0.49999999999999994\n"
     ]
    }
   ],
   "source": [
    "# собираем результаты и выводим \n",
    "for word_result in pymorphy_results:\n",
    "    print (word_result[0].word)\n",
    "    for res in word_result:\n",
    "#         print repr(res).decode('unicode_escape')\n",
    "        print ('\\t', res.normal_form, res.tag, res.score)"
   ]
  },
  {
   "cell_type": "markdown",
   "metadata": {},
   "source": [
    "В отличие от mystem можно получать лексему и склонять слова"
   ]
  },
  {
   "cell_type": "code",
   "execution_count": 24,
   "metadata": {},
   "outputs": [
    {
     "name": "stdout",
     "output_type": "stream",
     "text": [
      "градус NOUN,inan,masc sing,nomn\n",
      "градуса NOUN,inan,masc sing,gent\n",
      "градусу NOUN,inan,masc sing,datv\n",
      "градус NOUN,inan,masc sing,accs\n",
      "градусом NOUN,inan,masc sing,ablt\n",
      "градусе NOUN,inan,masc sing,loct\n",
      "градусы NOUN,inan,masc plur,nomn\n",
      "градусов NOUN,inan,masc plur,gent\n",
      "градусам NOUN,inan,masc plur,datv\n",
      "градусы NOUN,inan,masc plur,accs\n",
      "градусами NOUN,inan,masc plur,ablt\n",
      "градусах NOUN,inan,masc plur,loct\n"
     ]
    }
   ],
   "source": [
    "bokr = morph.parse(u'градус')[0]\n",
    "for form in bokr.lexeme:\n",
    "    print (form.word, form.tag)"
   ]
  },
  {
   "cell_type": "code",
   "execution_count": 25,
   "metadata": {},
   "outputs": [
    {
     "name": "stdout",
     "output_type": "stream",
     "text": [
      "градусе\n",
      "градус\n",
      "градуса\n",
      "градусов\n"
     ]
    }
   ],
   "source": [
    "print (bokr.inflect({'loct'}).word)\n",
    "print (bokr.make_agree_with_number(1).word)\n",
    "print (bokr.make_agree_with_number(2).word)\n",
    "print (bokr.make_agree_with_number(5).word)"
   ]
  },
  {
   "cell_type": "markdown",
   "metadata": {},
   "source": [
    "#### Задание \n",
    "С помощью pymorphy на тексте получить:\n",
    "- Распределение по частям речи\n",
    "- Для части речи вывести топ n лексем"
   ]
  },
  {
   "cell_type": "code",
   "execution_count": 83,
   "metadata": {},
   "outputs": [],
   "source": [
    "test_string = 'Ночь, улица, фонарь, аптека, бессмысленный и тусклый свет. Живи еще хоть четверть века — всё будет так. Исхода нет. Умрешь — начнешь опять сначала И повторится всё, как встарь: Ночь, ледяная рябь канала, Аптека, улица, фонарь. '"
   ]
  },
  {
   "cell_type": "code",
   "execution_count": 84,
   "metadata": {},
   "outputs": [],
   "source": [
    "import re"
   ]
  },
  {
   "cell_type": "code",
   "execution_count": 85,
   "metadata": {},
   "outputs": [],
   "source": [
    "test_str_proc = re.sub(r'[^\\w\\s]','',test_string)\n",
    "pymorphy_test = map(lambda x: morph.parse(x), test_str_proc.split())"
   ]
  },
  {
   "cell_type": "code",
   "execution_count": 86,
   "metadata": {},
   "outputs": [],
   "source": [
    "norm_forms_arr = []\n",
    "for word_result in pymorphy_test:\n",
    "    norm_forms_arr.append([word_result[0].normal_form, word_result[0].tag.POS])"
   ]
  },
  {
   "cell_type": "code",
   "execution_count": 110,
   "metadata": {},
   "outputs": [
    {
     "data": {
      "text/plain": [
       "0.11764705882352941"
      ]
     },
     "execution_count": 110,
     "metadata": {},
     "output_type": "execute_result"
    }
   ],
   "source": [
    "4/len(norm_forms_arr)"
   ]
  },
  {
   "cell_type": "code",
   "execution_count": 107,
   "metadata": {},
   "outputs": [],
   "source": [
    "def get_pos_distribution(text, lexemas=None):\n",
    "    '''\n",
    "    :param: text: input text in russian\n",
    "    :param: lexemas: list of interested pos, if None - all are interesting \n",
    "    :return: dict of pos - probability\n",
    "    '''\n",
    "    morph = pymorphy2.MorphAnalyzer()\n",
    "    str_proc = re.sub(r'[^\\w\\s]','',text)\n",
    "    pymorphy_test = map(lambda x: morph.parse(x), str_proc.split())\n",
    "    \n",
    "    \n",
    "    pos_arr = []\n",
    "    for word_result in pymorphy_test:\n",
    "        pos_arr.append(word_result[0].tag.POS)\n",
    "            \n",
    "    pos_arr_count = dict(Counter(pos_arr))\n",
    "    #print(pos_arr, pos_arr_count, len(pos_arr))\n",
    "    res = {key: pos_arr_count[key] / len(pos_arr) for key in pos_arr_count.keys()} \n",
    "    \n",
    "    if lexemas==None:\n",
    "        return res\n",
    "    else:\n",
    "        result_lex = {}\n",
    "        for lex in lexemas:\n",
    "            #print(lex, res[lex])\n",
    "            result_lex[lex]=res[lex]\n",
    "    \n",
    "        return result_lex\n"
   ]
  },
  {
   "cell_type": "code",
   "execution_count": 108,
   "metadata": {},
   "outputs": [
    {
     "data": {
      "text/plain": [
       "{'NOUN': 0.4117647058823529, 'ADVB': 0.11764705882352941}"
      ]
     },
     "execution_count": 108,
     "metadata": {},
     "output_type": "execute_result"
    }
   ],
   "source": [
    "get_pos_distribution(test_string, ['NOUN', 'ADVB'])"
   ]
  },
  {
   "cell_type": "code",
   "execution_count": 114,
   "metadata": {},
   "outputs": [],
   "source": [
    "def get_top_pos_words(text, pos, n):\n",
    "    '''\n",
    "    :param text: input text in russian\n",
    "    :param pos: part of speech \n",
    "    :param n: number of most common words\n",
    "    :return: list of most common lexemas with selected pos\n",
    "    '''\n",
    "    morph = pymorphy2.MorphAnalyzer()\n",
    "    str_proc = re.sub(r'[^\\w\\s]','',text)\n",
    "    pymorphy_test = map(lambda x: morph.parse(x), str_proc.split())\n",
    "    \n",
    "    \n",
    "    norm_forms_arr = []\n",
    "    for word_result in pymorphy_test:\n",
    "        norm_forms_arr.append([word_result[0].normal_form, word_result[0].tag.POS])\n",
    "    \n",
    "    words_sel_pos = []\n",
    "    for i in range(len(norm_forms_arr)):\n",
    "        if pos in norm_forms_arr[i]:\n",
    "            words_sel_pos.append(norm_forms_arr[i][0])\n",
    "    \n",
    "    lem_count_dict = dict(Counter(words_sel_pos))\n",
    "    lem_count_dict_sorted = dict(sorted(lem_count_dict.items(), key=lambda item: item[1]))\n",
    "    result = list(lem_count_dict_sorted.keys())[::-1][:n+1]\n",
    "    return result\n",
    "    "
   ]
  },
  {
   "cell_type": "code",
   "execution_count": 115,
   "metadata": {},
   "outputs": [
    {
     "data": {
      "text/plain": [
       "['аптека', 'фонарь', 'улица', 'ночь', 'канал', 'рябь']"
      ]
     },
     "execution_count": 115,
     "metadata": {},
     "output_type": "execute_result"
    }
   ],
   "source": [
    "get_top_pos_words(test_string, 'NOUN', 5)"
   ]
  },
  {
   "cell_type": "code",
   "execution_count": null,
   "metadata": {},
   "outputs": [],
   "source": []
  }
 ],
 "metadata": {
  "kernelspec": {
   "display_name": "Python 3",
   "language": "python",
   "name": "python3"
  },
  "language_info": {
   "codemirror_mode": {
    "name": "ipython",
    "version": 3
   },
   "file_extension": ".py",
   "mimetype": "text/x-python",
   "name": "python",
   "nbconvert_exporter": "python",
   "pygments_lexer": "ipython3",
   "version": "3.7.6"
  }
 },
 "nbformat": 4,
 "nbformat_minor": 4
}
