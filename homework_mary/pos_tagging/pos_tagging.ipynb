{
 "cells": [
  {
   "cell_type": "code",
   "execution_count": 1,
   "metadata": {},
   "outputs": [],
   "source": [
    "import itertools\n",
    "\n",
    "import torch\n",
    "import torch.optim as optim\n",
    "from allennlp.data.dataset_readers.conll2003 import Conll2003DatasetReader\n",
    "from allennlp.data.iterators import BasicIterator\n",
    "from allennlp.data.token_indexers import SingleIdTokenIndexer\n",
    "from allennlp.data.token_indexers import TokenCharactersIndexer\n",
    "from allennlp.data.token_indexers.elmo_indexer import ELMoTokenCharactersIndexer\n",
    "from allennlp.data.tokenizers.word_tokenizer import WordTokenizer\n",
    "from allennlp.data.vocabulary import Vocabulary\n",
    "from allennlp.nn.activations import Activation\n",
    "from allennlp.models.simple_tagger import SimpleTagger\n",
    "from allennlp.modules.attention import LinearAttention, BilinearAttention, DotProductAttention\n",
    "from allennlp.modules.seq2seq_encoders import PytorchSeq2SeqWrapper, StackedSelfAttentionEncoder\n",
    "from allennlp.modules.text_field_embedders import BasicTextFieldEmbedder\n",
    "from allennlp.modules.token_embedders import Embedding, ElmoTokenEmbedder\n",
    "from allennlp.modules.seq2vec_encoders import CnnEncoder\n",
    "from allennlp.modules.token_embedders.token_characters_encoder import TokenCharactersEncoder\n",
    "from allennlp.predictors import SimpleSeq2SeqPredictor\n",
    "from allennlp.training.trainer import Trainer\n",
    "from allennlp.nn.activations import Activation\n",
    "\n",
    "from tqdm import tqdm as tqdm\n",
    "from allennlp.data import DatasetReader\n",
    "from allennlp.models.archival import load_archive\n",
    "\n",
    "from allennlp.models.archival import archive_model\n",
    "\n",
    "import os"
   ]
  },
  {
   "cell_type": "code",
   "execution_count": null,
   "metadata": {},
   "outputs": [],
   "source": [
    "CUDA_DEVICE = 0\n",
    "\n",
    "reader = Conll2003DatasetReader(\n",
    "    tag_label='pos',\n",
    "    token_indexers={\n",
    "        \"tokens\": SingleIdTokenIndexer(lowercase_tokens=True),\n",
    "        \"token_characters\": TokenCharactersIndexer(),\n",
    "        \"elmo\" : ELMoTokenCharactersIndexer()\n",
    "    }\n",
    ")\n",
    "\n",
    "train_dataset = reader.read('data/train.pos')\n",
    "validation_dataset = reader.read('data/dev.pos')\n",
    "test_dataset = reader.read('data/test.pos')\n",
    "\n",
    "vocab = Vocabulary.from_instances(train_dataset + validation_dataset)"
   ]
  },
  {
   "cell_type": "code",
   "execution_count": 3,
   "metadata": {},
   "outputs": [
    {
     "data": {
      "text/plain": [
       "17968"
      ]
     },
     "execution_count": 3,
     "metadata": {},
     "output_type": "execute_result"
    }
   ],
   "source": [
    "vocab.get_vocab_size('tokens')"
   ]
  },
  {
   "cell_type": "code",
   "execution_count": 4,
   "metadata": {},
   "outputs": [],
   "source": [
    "options_file = ('https://allennlp.s3.amazonaws.com/models/elmo/2x4096_512_2048cnn_2xhighway/elmo_2x4096_512_2048cnn_2xhighway_options.json')\n",
    "weight_file = ('https://allennlp.s3.amazonaws.com/models/elmo/2x4096_512_2048cnn_2xhighway/elmo_2x4096_512_2048cnn_2xhighway_weights.hdf5')\n",
    "\n",
    "elmo_embedder = ElmoTokenEmbedder(options_file, weight_file)\n",
    "token_embedding = Embedding(num_embeddings=vocab.get_vocab_size('tokens'),\n",
    "                            pretrained_file=\"https://allennlp.s3.amazonaws.com/datasets/glove/glove.6B.50d.txt.gz\", \n",
    "                            embedding_dim=50, \n",
    "                            trainable=True)\n",
    "\n",
    "char_embedder = Embedding(num_embeddings=vocab.get_vocab_size('token_characters'), embedding_dim=16)\n",
    "char_cnn_encoder = CnnEncoder(16, 128, (3,), conv_layer_activation=Activation.by_name(\"relu\")())\n",
    "char_embedding = TokenCharactersEncoder(char_embedder, char_cnn_encoder)\n",
    "\n",
    "# Pass in the ElmoTokenEmbedder instance instead\n",
    "word_embeddings = BasicTextFieldEmbedder({\"tokens\": token_embedding ,\"elmo\": elmo_embedder, \"token_characters\": char_embedding})"
   ]
  },
  {
   "cell_type": "code",
   "execution_count": 5,
   "metadata": {},
   "outputs": [],
   "source": [
    "global_encoder = PytorchSeq2SeqWrapper(torch.nn.LSTM(1202, 200, 2, dropout=0.5, bidirectional=True, batch_first=True))"
   ]
  },
  {
   "cell_type": "code",
   "execution_count": 6,
   "metadata": {},
   "outputs": [],
   "source": [
    "model = SimpleTagger(\n",
    "    vocab = vocab,\n",
    "    text_field_embedder=word_embeddings,\n",
    "    encoder=global_encoder\n",
    ")"
   ]
  },
  {
   "cell_type": "code",
   "execution_count": 7,
   "metadata": {},
   "outputs": [
    {
     "data": {
      "text/plain": [
       "SimpleTagger(\n",
       "  (text_field_embedder): BasicTextFieldEmbedder(\n",
       "    (token_embedder_tokens): Embedding()\n",
       "    (token_embedder_elmo): ElmoTokenEmbedder(\n",
       "      (_elmo): Elmo(\n",
       "        (_elmo_lstm): _ElmoBiLm(\n",
       "          (_token_embedder): _ElmoCharacterEncoder(\n",
       "            (char_conv_0): Conv1d(16, 32, kernel_size=(1,), stride=(1,))\n",
       "            (char_conv_1): Conv1d(16, 32, kernel_size=(2,), stride=(1,))\n",
       "            (char_conv_2): Conv1d(16, 64, kernel_size=(3,), stride=(1,))\n",
       "            (char_conv_3): Conv1d(16, 128, kernel_size=(4,), stride=(1,))\n",
       "            (char_conv_4): Conv1d(16, 256, kernel_size=(5,), stride=(1,))\n",
       "            (char_conv_5): Conv1d(16, 512, kernel_size=(6,), stride=(1,))\n",
       "            (char_conv_6): Conv1d(16, 1024, kernel_size=(7,), stride=(1,))\n",
       "            (_highways): Highway(\n",
       "              (_layers): ModuleList(\n",
       "                (0): Linear(in_features=2048, out_features=4096, bias=True)\n",
       "                (1): Linear(in_features=2048, out_features=4096, bias=True)\n",
       "              )\n",
       "            )\n",
       "            (_projection): Linear(in_features=2048, out_features=512, bias=True)\n",
       "          )\n",
       "          (_elmo_lstm): ElmoLstm(\n",
       "            (forward_layer_0): LstmCellWithProjection(\n",
       "              (input_linearity): Linear(in_features=512, out_features=16384, bias=False)\n",
       "              (state_linearity): Linear(in_features=512, out_features=16384, bias=True)\n",
       "              (state_projection): Linear(in_features=4096, out_features=512, bias=False)\n",
       "            )\n",
       "            (backward_layer_0): LstmCellWithProjection(\n",
       "              (input_linearity): Linear(in_features=512, out_features=16384, bias=False)\n",
       "              (state_linearity): Linear(in_features=512, out_features=16384, bias=True)\n",
       "              (state_projection): Linear(in_features=4096, out_features=512, bias=False)\n",
       "            )\n",
       "            (forward_layer_1): LstmCellWithProjection(\n",
       "              (input_linearity): Linear(in_features=512, out_features=16384, bias=False)\n",
       "              (state_linearity): Linear(in_features=512, out_features=16384, bias=True)\n",
       "              (state_projection): Linear(in_features=4096, out_features=512, bias=False)\n",
       "            )\n",
       "            (backward_layer_1): LstmCellWithProjection(\n",
       "              (input_linearity): Linear(in_features=512, out_features=16384, bias=False)\n",
       "              (state_linearity): Linear(in_features=512, out_features=16384, bias=True)\n",
       "              (state_projection): Linear(in_features=4096, out_features=512, bias=False)\n",
       "            )\n",
       "          )\n",
       "        )\n",
       "        (_dropout): Dropout(p=0.5, inplace=False)\n",
       "        (scalar_mix_0): ScalarMix(\n",
       "          (scalar_parameters): ParameterList(\n",
       "              (0): Parameter containing: [torch.cuda.FloatTensor of size 1 (GPU 0)]\n",
       "              (1): Parameter containing: [torch.cuda.FloatTensor of size 1 (GPU 0)]\n",
       "              (2): Parameter containing: [torch.cuda.FloatTensor of size 1 (GPU 0)]\n",
       "          )\n",
       "        )\n",
       "      )\n",
       "    )\n",
       "    (token_embedder_token_characters): TokenCharactersEncoder(\n",
       "      (_embedding): TimeDistributed(\n",
       "        (_module): Embedding()\n",
       "      )\n",
       "      (_encoder): TimeDistributed(\n",
       "        (_module): CnnEncoder(\n",
       "          (_activation): ReLU()\n",
       "          (conv_layer_0): Conv1d(16, 128, kernel_size=(3,), stride=(1,))\n",
       "        )\n",
       "      )\n",
       "    )\n",
       "  )\n",
       "  (encoder): PytorchSeq2SeqWrapper(\n",
       "    (_module): LSTM(1202, 200, num_layers=2, batch_first=True, dropout=0.5, bidirectional=True)\n",
       "  )\n",
       "  (tag_projection_layer): TimeDistributed(\n",
       "    (_module): Linear(in_features=400, out_features=17, bias=True)\n",
       "  )\n",
       ")"
      ]
     },
     "execution_count": 7,
     "metadata": {},
     "output_type": "execute_result"
    }
   ],
   "source": [
    "model.to(device=CUDA_DEVICE)"
   ]
  },
  {
   "cell_type": "code",
   "execution_count": 8,
   "metadata": {},
   "outputs": [],
   "source": [
    "optimizer = optim.Adam(model.parameters(), lr=0.001)\n",
    "iterator = BasicIterator(batch_size=32)\n",
    "\n",
    "iterator.index_with(vocab)"
   ]
  },
  {
   "cell_type": "code",
   "execution_count": 9,
   "metadata": {},
   "outputs": [
    {
     "name": "stderr",
     "output_type": "stream",
     "text": [
      "You provided a validation dataset but patience was set to None, meaning that early stopping is disabled\n",
      "accuracy: 0.9369, accuracy3: 0.9905, loss: 0.2313 ||: 100%|██████████████████████████████████████████████████████████████████████████████████████████████████████████████████████████| 392/392 [02:27<00:00,  2.65it/s]\n",
      "accuracy: 0.9549, accuracy3: 0.9951, loss: 0.1791 ||: 100%|████████████████████████████████████████████████████████████████████████████████████████████████████████████████████████████| 63/63 [00:12<00:00,  4.91it/s]\n",
      "accuracy: 0.9648, accuracy3: 0.9969, loss: 0.1157 ||: 100%|██████████████████████████████████████████████████████████████████████████████████████████████████████████████████████████| 392/392 [02:30<00:00,  2.61it/s]\n",
      "accuracy: 0.9580, accuracy3: 0.9965, loss: 0.1645 ||: 100%|████████████████████████████████████████████████████████████████████████████████████████████████████████████████████████████| 63/63 [00:13<00:00,  4.83it/s]\n",
      "accuracy: 0.9746, accuracy3: 0.9981, loss: 0.0757 ||: 100%|██████████████████████████████████████████████████████████████████████████████████████████████████████████████████████████| 392/392 [02:35<00:00,  2.52it/s]\n",
      "accuracy: 0.9610, accuracy3: 0.9963, loss: 0.1628 ||: 100%|████████████████████████████████████████████████████████████████████████████████████████████████████████████████████████████| 63/63 [00:13<00:00,  4.77it/s]\n",
      "accuracy: 0.9798, accuracy3: 0.9987, loss: 0.0560 ||: 100%|██████████████████████████████████████████████████████████████████████████████████████████████████████████████████████████| 392/392 [02:32<00:00,  2.57it/s]\n",
      "accuracy: 0.9613, accuracy3: 0.9959, loss: 0.1742 ||: 100%|████████████████████████████████████████████████████████████████████████████████████████████████████████████████████████████| 63/63 [00:13<00:00,  4.81it/s]\n",
      "accuracy: 0.9832, accuracy3: 0.9992, loss: 0.0426 ||: 100%|██████████████████████████████████████████████████████████████████████████████████████████████████████████████████████████| 392/392 [02:17<00:00,  2.84it/s]\n",
      "accuracy: 0.9629, accuracy3: 0.9963, loss: 0.1786 ||: 100%|████████████████████████████████████████████████████████████████████████████████████████████████████████████████████████████| 63/63 [00:12<00:00,  4.94it/s]\n",
      "accuracy: 0.9862, accuracy3: 0.9994, loss: 0.0341 ||: 100%|██████████████████████████████████████████████████████████████████████████████████████████████████████████████████████████| 392/392 [02:17<00:00,  2.85it/s]\n",
      "accuracy: 0.9623, accuracy3: 0.9965, loss: 0.1860 ||: 100%|████████████████████████████████████████████████████████████████████████████████████████████████████████████████████████████| 63/63 [00:12<00:00,  5.04it/s]\n",
      "accuracy: 0.9878, accuracy3: 0.9997, loss: 0.0286 ||: 100%|██████████████████████████████████████████████████████████████████████████████████████████████████████████████████████████| 392/392 [02:19<00:00,  2.80it/s]\n",
      "accuracy: 0.9623, accuracy3: 0.9964, loss: 0.2011 ||: 100%|████████████████████████████████████████████████████████████████████████████████████████████████████████████████████████████| 63/63 [00:12<00:00,  4.91it/s]\n",
      "accuracy: 0.9898, accuracy3: 0.9997, loss: 0.0230 ||: 100%|██████████████████████████████████████████████████████████████████████████████████████████████████████████████████████████| 392/392 [02:23<00:00,  2.73it/s]\n",
      "accuracy: 0.9604, accuracy3: 0.9967, loss: 0.2137 ||: 100%|████████████████████████████████████████████████████████████████████████████████████████████████████████████████████████████| 63/63 [00:13<00:00,  4.83it/s]\n",
      "accuracy: 0.9911, accuracy3: 0.9998, loss: 0.0203 ||: 100%|██████████████████████████████████████████████████████████████████████████████████████████████████████████████████████████| 392/392 [02:22<00:00,  2.75it/s]\n",
      "accuracy: 0.9606, accuracy3: 0.9961, loss: 0.2331 ||: 100%|████████████████████████████████████████████████████████████████████████████████████████████████████████████████████████████| 63/63 [00:12<00:00,  4.87it/s]\n"
     ]
    },
    {
     "data": {
      "text/plain": [
       "{'best_epoch': 3,\n",
       " 'peak_cpu_memory_MB': 0,\n",
       " 'peak_gpu_0_memory_MB': 7899,\n",
       " 'training_duration': '0:23:50.881127',\n",
       " 'training_start_epoch': 1,\n",
       " 'training_epochs': 8,\n",
       " 'epoch': 9,\n",
       " 'training_accuracy': 0.9911439980059333,\n",
       " 'training_accuracy3': 0.999784953593963,\n",
       " 'training_loss': 0.02030466815898651,\n",
       " 'training_cpu_memory_MB': 0.0,\n",
       " 'training_gpu_0_memory_MB': 7790,\n",
       " 'validation_accuracy': 0.9605566600397615,\n",
       " 'validation_accuracy3': 0.99610337972167,\n",
       " 'validation_loss': 0.23313352734678322,\n",
       " 'best_validation_accuracy': 0.9609940357852883,\n",
       " 'best_validation_accuracy3': 0.9963021868787276,\n",
       " 'best_validation_loss': 0.1627850676221507}"
      ]
     },
     "execution_count": 9,
     "metadata": {},
     "output_type": "execute_result"
    }
   ],
   "source": [
    "trainer = Trainer(model=model,\n",
    "                  optimizer=optimizer,\n",
    "                  iterator=iterator,\n",
    "                  train_dataset=train_dataset,\n",
    "                  validation_dataset=validation_dataset,\n",
    "                  num_epochs=10,\n",
    "                  model_save_interval=5,\n",
    "                  num_serialized_models_to_keep=3,\n",
    "                  serialization_dir='log',\n",
    "                  cuda_device=CUDA_DEVICE)\n",
    "\n",
    "trainer.train()"
   ]
  },
  {
   "cell_type": "code",
   "execution_count": null,
   "metadata": {},
   "outputs": [],
   "source": [
    "!wsl cp simple_tagger_pos.json log/config.json\n",
    "vocab.save_to_files(os.path.join(\"log\", \"vocabulary\"))\n",
    "archive_model(\"log\")"
   ]
  },
  {
   "cell_type": "code",
   "execution_count": null,
   "metadata": {},
   "outputs": [],
   "source": [
    "mymodel = load_archive('log/model.tar.gz', 0)"
   ]
  },
  {
   "cell_type": "code",
   "execution_count": null,
   "metadata": {},
   "outputs": [],
   "source": [
    "mymodel.model.eval()\n",
    "dataset_reader_params = mymodel.config[\"dataset_reader\"]\n",
    "dataset_reader = DatasetReader.from_params(dataset_reader_params)"
   ]
  },
  {
   "cell_type": "code",
   "execution_count": 19,
   "metadata": {},
   "outputs": [
    {
     "name": "stderr",
     "output_type": "stream",
     "text": [
      "1it [00:00, ?it/s]\n"
     ]
    },
    {
     "data": {
      "text/plain": [
       "{'logits': array([[-5.4476541e-01, -2.3911664e+00, -1.8559260e+00,  1.5307439e+01,\n",
       "         -6.1277914e+00,  2.4244719e+00,  3.9000884e-01, -2.7262022e+00,\n",
       "          4.5130742e-01,  3.5875578e+00, -1.2541283e+00,  1.4740413e-01,\n",
       "         -8.0464646e-02,  6.1601615e-01,  7.1576577e-01,  9.2166936e-01,\n",
       "         -6.5594444e+00],\n",
       "        [ 1.5166509e+00, -4.3368793e+00,  1.4236359e+01, -2.3689458e+00,\n",
       "          9.0023530e-01,  4.3981639e-01, -3.1461663e+00,  2.8808618e+00,\n",
       "          3.6919122e+00, -5.1226094e-04, -3.6571250e+00, -2.3723128e+00,\n",
       "         -3.7944725e+00, -6.3167974e-02, -6.2558693e-01, -3.0446333e-01,\n",
       "         -7.1437802e+00],\n",
       "        [ 1.1854206e+01, -4.3794072e-01, -1.5564039e+00,  5.7527445e-02,\n",
       "         -4.2922239e+00, -2.8847775e+00,  2.9597430e+00, -4.6049258e-01,\n",
       "         -2.7570608e+00,  7.2745398e-02, -2.4443436e+00, -5.4268966e+00,\n",
       "         -1.5672175e+00, -4.1237864e+00, -2.5658522e+00, -1.2483094e+00,\n",
       "         -2.7547548e+00],\n",
       "        [-1.5941940e-01,  1.5526590e+00,  6.2780027e+00,  3.9081526e-01,\n",
       "         -1.6210569e+00, -1.7206330e+00, -3.6086893e+00, -3.5748513e+00,\n",
       "          1.3093304e+01,  2.0973492e+00, -4.5118693e-01,  2.2388778e+00,\n",
       "         -4.1283536e+00, -2.7845666e+00,  3.0363178e-01, -2.4044023e+00,\n",
       "         -2.3523679e+00],\n",
       "        [ 3.4391117e+00, -3.2996233e+00,  1.5234766e+00, -4.0304809e+00,\n",
       "         -1.0034870e+00, -9.9329066e-01, -4.7991458e-01,  1.2992061e+01,\n",
       "         -5.4683485e+00,  4.2139416e+00, -3.7914219e+00, -3.6876776e+00,\n",
       "         -1.3824972e+00, -6.7637191e+00,  7.3110640e-01,  6.4193755e-01,\n",
       "         -4.6189556e+00],\n",
       "        [ 2.0258179e+00,  1.4212782e+01, -3.4840796e+00, -3.3333375e+00,\n",
       "         -9.6154845e-01, -3.8687763e+00, -2.1033239e+00, -9.5470858e-01,\n",
       "         -7.9809171e-01,  5.2666843e-01,  3.8684335e-01, -2.3008609e+00,\n",
       "         -3.7786043e+00, -7.0748657e-01, -9.9435031e-01, -1.7159979e+00,\n",
       "          3.9697683e+00]], dtype=float32),\n",
       " 'class_probabilities': array([[1.30457565e-07, 2.05867519e-08, 3.51592568e-08, 9.99986529e-01,\n",
       "         4.90672725e-10, 2.54092947e-06, 3.32228325e-07, 1.47259405e-08,\n",
       "         3.53230490e-07, 8.13044790e-06, 6.41795737e-08, 2.60660073e-07,\n",
       "         2.07545199e-07, 4.16476468e-07, 4.60162425e-07, 5.65371181e-07,\n",
       "         3.18660182e-10],\n",
       "        [2.99144654e-06, 8.58469917e-09, 9.99953985e-01, 6.14310309e-08,\n",
       "         1.61500986e-06, 1.01910257e-06, 2.82387571e-08, 1.17044274e-05,\n",
       "         2.63381262e-05, 6.56123518e-07, 1.69409820e-08, 6.12245756e-08,\n",
       "         1.47669184e-08, 6.16275202e-07, 3.51171479e-07, 4.84151428e-07,\n",
       "         5.18446397e-10],\n",
       "        [9.99830842e-01, 4.58685554e-06, 1.49889956e-06, 7.52825190e-06,\n",
       "         9.71897833e-08, 3.97070380e-07, 1.37123061e-04, 4.48457240e-06,\n",
       "         4.51163402e-07, 7.64369088e-06, 6.16801344e-07, 3.12491899e-08,\n",
       "         1.48277832e-06, 1.15019731e-07, 5.46229046e-07, 2.03974764e-06,\n",
       "         4.52204972e-07],\n",
       "        [1.75353796e-06, 9.71541249e-06, 1.09559984e-03, 3.04003879e-06,\n",
       "         4.06568830e-07, 3.68034733e-07, 5.57078721e-08, 5.76250727e-08,\n",
       "         9.98848319e-01, 1.67500912e-05, 1.30979072e-06, 1.92966763e-05,\n",
       "         3.31305792e-08, 1.27007084e-07, 2.78622133e-06, 1.85751162e-07,\n",
       "         1.95672513e-07],\n",
       "        [7.09739761e-05, 8.40434851e-08, 1.04507944e-05, 4.04665741e-08,\n",
       "         8.35032154e-07, 8.43589419e-07, 1.40957297e-06, 9.99751627e-01,\n",
       "         9.60811786e-09, 1.54029331e-04, 5.13947391e-08, 5.70129473e-08,\n",
       "         5.71611736e-07, 2.63066902e-09, 4.73181217e-06, 4.32814340e-06,\n",
       "         2.24659775e-08],\n",
       "        [5.09623396e-06, 9.99955297e-01, 2.06220285e-08, 2.39771527e-08,\n",
       "         2.56952291e-07, 1.40365257e-08, 8.20325567e-08, 2.58716057e-07,\n",
       "         3.02580474e-07, 1.13809119e-06, 9.89582304e-07, 6.73281022e-08,\n",
       "         1.53610440e-08, 3.31276368e-07, 2.48660569e-07, 1.20836873e-07,\n",
       "         3.56038072e-05]], dtype=float32),\n",
       " 'loss': 12.732998,\n",
       " 'words': ['I', 'think', 'football', 'is', 'great', '!'],\n",
       " 'tags': ['PRON', 'VERB', 'NOUN', 'AUX', 'ADJ', 'PUNCT']}"
      ]
     },
     "execution_count": 19,
     "metadata": {},
     "output_type": "execute_result"
    }
   ],
   "source": [
    "exmpl = dataset_reader.read(\"exmpl.txt\")\n",
    "mymodel.model.forward_on_instance(exmpl[0])"
   ]
  },
  {
   "cell_type": "code",
   "execution_count": null,
   "metadata": {},
   "outputs": [],
   "source": []
  }
 ],
 "metadata": {
  "kernelspec": {
   "display_name": "Python 3",
   "language": "python",
   "name": "python3"
  },
  "language_info": {
   "codemirror_mode": {
    "name": "ipython",
    "version": 3
   },
   "file_extension": ".py",
   "mimetype": "text/x-python",
   "name": "python",
   "nbconvert_exporter": "python",
   "pygments_lexer": "ipython3",
   "version": "3.7.6"
  }
 },
 "nbformat": 4,
 "nbformat_minor": 4
}
